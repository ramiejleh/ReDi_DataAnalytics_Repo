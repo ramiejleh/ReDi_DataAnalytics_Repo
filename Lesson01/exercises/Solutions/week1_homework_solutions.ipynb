{
 "cells": [
  {
   "cell_type": "markdown",
   "id": "f7ad96d1",
   "metadata": {},
   "source": [
    "# Exercises week 1"
   ]
  },
  {
   "cell_type": "markdown",
   "id": "9c791acb",
   "metadata": {},
   "source": [
    "## Beginner exercises"
   ]
  },
  {
   "cell_type": "markdown",
   "id": "a098c1d8",
   "metadata": {},
   "source": [
    "**Ex 1**: In the cell below, write a short text that demonstrates that you can\n",
    "* Create a section with a heading\n",
    "* Write words in bold and italics\n",
    "* Establish a [hyperlink](https://en.wikipedia.org/wiki/Hyperlink)"
   ]
  },
  {
   "cell_type": "markdown",
   "id": "07f1bc82",
   "metadata": {},
   "source": [
    "**Ex 2** Calculate the remainder of the division of 18 by 7. "
   ]
  },
  {
   "cell_type": "code",
   "execution_count": 1,
   "id": "bf4d0629",
   "metadata": {},
   "outputs": [
    {
     "data": {
      "text/plain": [
       "4"
      ]
     },
     "execution_count": 1,
     "metadata": {},
     "output_type": "execute_result"
    }
   ],
   "source": [
    "18 % 7 "
   ]
  },
  {
   "cell_type": "markdown",
   "id": "e276a6be",
   "metadata": {},
   "source": [
    "**Ex 3** Calcuate 3 to the power of 4; i.e. $3^4$"
   ]
  },
  {
   "cell_type": "code",
   "execution_count": 2,
   "id": "75b43ad6",
   "metadata": {},
   "outputs": [
    {
     "data": {
      "text/plain": [
       "81"
      ]
     },
     "execution_count": 2,
     "metadata": {},
     "output_type": "execute_result"
    }
   ],
   "source": [
    "3 ** 4"
   ]
  },
  {
   "cell_type": "markdown",
   "id": "10fceb35",
   "metadata": {},
   "source": [
    "**Ex 4** Calculate the square root of 49"
   ]
  },
  {
   "cell_type": "code",
   "execution_count": 3,
   "id": "b530863a",
   "metadata": {},
   "outputs": [
    {
     "data": {
      "text/plain": [
       "7.0"
      ]
     },
     "execution_count": 3,
     "metadata": {},
     "output_type": "execute_result"
    }
   ],
   "source": [
    "49 ** 0.5"
   ]
  },
  {
   "cell_type": "markdown",
   "id": "dc7db4fd",
   "metadata": {},
   "source": [
    "**Ex 5** Convert the following string to a float and round it to the nearest 3 digits after the decimal"
   ]
  },
  {
   "cell_type": "code",
   "execution_count": 4,
   "id": "6f4917ab",
   "metadata": {},
   "outputs": [
    {
     "data": {
      "text/plain": [
       "3.142"
      ]
     },
     "execution_count": 4,
     "metadata": {},
     "output_type": "execute_result"
    }
   ],
   "source": [
    "pi = \"3.14159265\"\n",
    "round(float(pi), 3)"
   ]
  },
  {
   "cell_type": "markdown",
   "id": "599f14ed",
   "metadata": {},
   "source": [
    "**Ex 6** **Convert** the variable number=4.9 to an integer"
   ]
  },
  {
   "cell_type": "code",
   "execution_count": 5,
   "id": "8b79308b",
   "metadata": {},
   "outputs": [],
   "source": [
    "number = 4.9\n",
    "int1 = int(number) "
   ]
  },
  {
   "cell_type": "markdown",
   "id": "cd093deb",
   "metadata": {},
   "source": [
    "**Ex 7** Now round number=4.9 to the **nearest** integer. What is the difference between the converted number of the previous exercise and this exercise?"
   ]
  },
  {
   "cell_type": "code",
   "execution_count": 6,
   "id": "8afc7e9a",
   "metadata": {},
   "outputs": [
    {
     "name": "stdout",
     "output_type": "stream",
     "text": [
      "4 5\n"
     ]
    }
   ],
   "source": [
    "int2 = round(number)\n",
    "print(int1, int2)"
   ]
  },
  {
   "cell_type": "markdown",
   "id": "114f82d0",
   "metadata": {},
   "source": [
    "**Ex 8** Calculate the length of the following list (i.e. how many names are in the list) and print each of its values separated by a newline. The output of the print statement(s) should look like this: \\\n",
    "\\\n",
    "Miriam \\\n",
    "Tim \\\n",
    "Jing \\\n",
    "..."
   ]
  },
  {
   "cell_type": "code",
   "execution_count": 7,
   "id": "7e1edbf6",
   "metadata": {},
   "outputs": [],
   "source": [
    "names = [\"Miriam\", \"Tim\", \"Jing\", \"Carlos\", \"Ruben\", \"Ashley\"]"
   ]
  },
  {
   "cell_type": "code",
   "execution_count": 8,
   "id": "d7a18ecc",
   "metadata": {},
   "outputs": [
    {
     "name": "stdout",
     "output_type": "stream",
     "text": [
      "Miriam\n",
      "Tim\n",
      "Jing\n",
      "Carlos\n",
      "Ruben\n",
      "Ashley\n",
      "Miriam\n",
      "Tim\n",
      "Jing\n",
      "Carlos\n",
      "Ruben\n",
      "Ashley\n"
     ]
    }
   ],
   "source": [
    "n_names = len(names)\n",
    "for name in names:\n",
    "    print(name)\n",
    "    \n",
    "# alternative with inline loop\n",
    "_ = [print(name) for name in names]"
   ]
  },
  {
   "cell_type": "markdown",
   "id": "1c7c26ee",
   "metadata": {},
   "source": [
    "**Ex 9** Add a list with the following new names to the previous list \\\n",
    "new_names = [\"Pablo\", \"Lise\"]"
   ]
  },
  {
   "cell_type": "code",
   "execution_count": 9,
   "id": "a180c7fe",
   "metadata": {},
   "outputs": [],
   "source": [
    "new_names = [\"Pablo\", \"Lise\"]\n",
    "updated_names = names + new_names"
   ]
  },
  {
   "cell_type": "markdown",
   "id": "329654db",
   "metadata": {},
   "source": [
    "**Ex 10** Print the second and second to last name of the newly created list. The output should be Tim and Pablo"
   ]
  },
  {
   "cell_type": "code",
   "execution_count": 10,
   "id": "68cb22e4",
   "metadata": {},
   "outputs": [
    {
     "name": "stdout",
     "output_type": "stream",
     "text": [
      "Tim Pablo\n"
     ]
    }
   ],
   "source": [
    "print(updated_names[1], updated_names[-2])\n",
    "\n",
    "# alternative with inline loop\n",
    "_ = [updated_names[idx] for idx in [1, -2]]"
   ]
  },
  {
   "cell_type": "markdown",
   "id": "5e1c5bd0",
   "metadata": {},
   "source": [
    "**Ex 11** Calculate the sum and the average of the value in the following list"
   ]
  },
  {
   "cell_type": "code",
   "execution_count": 11,
   "id": "de7351d9",
   "metadata": {},
   "outputs": [],
   "source": [
    "age = [11, 22, 33, 44, 22, 55]"
   ]
  },
  {
   "cell_type": "code",
   "execution_count": 12,
   "id": "60286810",
   "metadata": {},
   "outputs": [
    {
     "data": {
      "text/plain": [
       "(187, 31.166666666666668)"
      ]
     },
     "execution_count": 12,
     "metadata": {},
     "output_type": "execute_result"
    }
   ],
   "source": [
    "_sum = sum(age)\n",
    "average = _sum / len(age)\n",
    "_sum, average"
   ]
  },
  {
   "cell_type": "markdown",
   "id": "b1934fbd",
   "metadata": {},
   "source": [
    "**Ex 12** Sort the age list in an ascending (increasing) order and get the count of the number 22 within the list (i.e; calculate how often the number 22 appears in the age list"
   ]
  },
  {
   "cell_type": "code",
   "execution_count": 13,
   "id": "180a6b2a",
   "metadata": {},
   "outputs": [
    {
     "data": {
      "text/plain": [
       "2"
      ]
     },
     "execution_count": 13,
     "metadata": {},
     "output_type": "execute_result"
    }
   ],
   "source": [
    "age.sort()\n",
    "age.count(22)"
   ]
  },
  {
   "cell_type": "markdown",
   "id": "6cd8339c",
   "metadata": {},
   "source": [
    "**Ex 13** Write a function to calculate the sum of three given numbers, if the values are equal then return three times of their sum."
   ]
  },
  {
   "cell_type": "code",
   "execution_count": 14,
   "id": "50f639ed",
   "metadata": {},
   "outputs": [
    {
     "name": "stdout",
     "output_type": "stream",
     "text": [
      "4\n",
      "9\n"
     ]
    }
   ],
   "source": [
    "def sum_of_3(n1, n2, n3):\n",
    "    _sum = sum([n1, n2, n3])\n",
    "    if n1 == n2 == n3:\n",
    "        return _sum * 3\n",
    "    else:\n",
    "        return _sum\n",
    "    \n",
    "print(sum_of_3(1, 1, 2))\n",
    "print(sum_of_3(1, 1, 1))"
   ]
  },
  {
   "cell_type": "markdown",
   "id": "f90d95c1",
   "metadata": {},
   "source": [
    "**Ex 14** Write a function to check if a value is within the following list. The output should look like this:\\\n",
    "Miriam was found in the list\\\n",
    "Peter was not found in the list"
   ]
  },
  {
   "cell_type": "code",
   "execution_count": 15,
   "id": "80d90eb6",
   "metadata": {},
   "outputs": [],
   "source": [
    "names = [\"Miriam\", \"Tim\", \"Jing\", \"Carlos\", \"Ruben\", \"Ashley\"]"
   ]
  },
  {
   "cell_type": "code",
   "execution_count": 16,
   "id": "91369785",
   "metadata": {},
   "outputs": [
    {
     "name": "stdout",
     "output_type": "stream",
     "text": [
      "Miriam was found in the list\n",
      "Peter was not found in the list\n",
      "Miriam was found in the list\n",
      "Peter was not found in the list\n"
     ]
    }
   ],
   "source": [
    "def find_name(name, names):\n",
    "    if name in names:\n",
    "        print(f\"{name} was found in the list\")\n",
    "    else:\n",
    "        print(f\"{name} was not found in the list\")\n",
    "\n",
    "find_name(\"Miriam\", names)\n",
    "find_name(\"Peter\", names)\n",
    "\n",
    "# or like this\n",
    "_ = [find_name(name, names) for name in [\"Miriam\", \"Peter\"]]        \n"
   ]
  },
  {
   "cell_type": "markdown",
   "id": "4688b692",
   "metadata": {},
   "source": [
    "**Ex 15** Write a function that will accept the base and height of a triangle and compute the area. The area of a triangle is calculate as Area= 0.5 * height * base"
   ]
  },
  {
   "cell_type": "code",
   "execution_count": 17,
   "id": "03f3376d",
   "metadata": {},
   "outputs": [],
   "source": [
    "def triangle_area(base, height):\n",
    "    return 0.5 * base * height"
   ]
  },
  {
   "cell_type": "markdown",
   "id": "8f45fd05",
   "metadata": {},
   "source": [
    "## Intermediate exercises"
   ]
  },
  {
   "cell_type": "markdown",
   "id": "dc8e91c8",
   "metadata": {},
   "source": [
    "**Ex1** Print **only** the strings within the following list. Use the isinstance function to compare the type of a variable against its expected type"
   ]
  },
  {
   "cell_type": "code",
   "execution_count": 18,
   "id": "44979c7e",
   "metadata": {},
   "outputs": [],
   "source": [
    "students = [\"Miriam\", 22, \"Tim\", 25, \"Jing\", 28, \"Carlos\"]"
   ]
  },
  {
   "cell_type": "code",
   "execution_count": 19,
   "id": "dafc7f7e",
   "metadata": {},
   "outputs": [
    {
     "name": "stdout",
     "output_type": "stream",
     "text": [
      "Miriam\n",
      "Tim\n",
      "Jing\n",
      "Carlos\n",
      "Miriam\n",
      "Tim\n",
      "Jing\n",
      "Carlos\n"
     ]
    }
   ],
   "source": [
    "for val in students:\n",
    "    if isinstance(val, str):\n",
    "        print(val)\n",
    "\n",
    "# or the inline variant        \n",
    "_ = [print(val) for val in students if isinstance(val, str)]"
   ]
  },
  {
   "cell_type": "markdown",
   "id": "d853493e",
   "metadata": {},
   "source": [
    "**Ex 2** For the following two lists, print the student name followed by their age. HINT: use the zip function"
   ]
  },
  {
   "cell_type": "code",
   "execution_count": 20,
   "id": "97110b41",
   "metadata": {},
   "outputs": [],
   "source": [
    "names = [\"Miriam\", \"Tim\", \"Jing\", \"Carlos\", \"Ruben\", \"Ashley\"]\n",
    "ages =  [25, 22, 24, 33, 22, 21, 20]"
   ]
  },
  {
   "cell_type": "code",
   "execution_count": 21,
   "id": "cf43ed91",
   "metadata": {},
   "outputs": [
    {
     "name": "stdout",
     "output_type": "stream",
     "text": [
      "Miriam 25\n",
      "Tim 22\n",
      "Jing 24\n",
      "Carlos 33\n",
      "Ruben 22\n",
      "Ashley 21\n"
     ]
    }
   ],
   "source": [
    "for name, age in zip(names, ages):\n",
    "    print(name, age)"
   ]
  },
  {
   "cell_type": "markdown",
   "id": "272c3bc0",
   "metadata": {},
   "source": [
    "**Ex 3** Create a dictionary which keys are the names of the students and the corresponding values are their age. The dictionary should look like this \\\n",
    "{'Miriam': 25, 'Tim': 22, 'Jing': 24, 'Carlos': 33, 'Ruben': 22, 'Ashley': 21}"
   ]
  },
  {
   "cell_type": "code",
   "execution_count": 22,
   "id": "df7a0952",
   "metadata": {},
   "outputs": [],
   "source": [
    "students = {name:ages[i] for i, name in enumerate(names)}\n",
    "\n",
    "# more elegant solution\n",
    "students = dict(zip(names, ages))"
   ]
  },
  {
   "cell_type": "markdown",
   "id": "9f038e01",
   "metadata": {},
   "source": [
    "**Ex 4** Create a nested dictionary to assign to each student their age and grade. The output should look like this \\\n",
    "{'Miriam': {'age': 25, 'grade': 12},\n",
    " 'Tim': {'age': 22, 'grade': 12},\n",
    " 'Jing': {'age': 24, 'grade': 12},\n",
    " 'Carlos': {'age': 33, 'grade': 10},\n",
    " 'Ruben': {'age': 22, 'grade': 7},\n",
    " 'Ashley': {'age': 21, 'grade': 10}}"
   ]
  },
  {
   "cell_type": "code",
   "execution_count": 23,
   "id": "4f2b10be",
   "metadata": {},
   "outputs": [],
   "source": [
    "grades = [12, 12, 12, 10, 7, 10]"
   ]
  },
  {
   "cell_type": "code",
   "execution_count": 24,
   "id": "e345926e",
   "metadata": {},
   "outputs": [],
   "source": [
    "students = {name:{\"age\":age, \"grade\":grade} for name, age, grade in zip(names, ages, grades)}"
   ]
  },
  {
   "cell_type": "markdown",
   "id": "fbf9d75a",
   "metadata": {},
   "source": [
    "**Ex 5** Miriam decided to drop out of the class. Remove her entry in the students dictionary."
   ]
  },
  {
   "cell_type": "code",
   "execution_count": 25,
   "id": "c77c1f48",
   "metadata": {},
   "outputs": [],
   "source": [
    "_ = students.pop(\"Miriam\")"
   ]
  },
  {
   "cell_type": "markdown",
   "id": "794e3071",
   "metadata": {},
   "source": [
    "**Ex 6** First, generate a sequence of numbers from 1 to 20. Then print **only** the numbers for which the remainder is 0 when being divided by 6. E.g. 12 because 12/6 = 2. The output should be 6, 12 and 18"
   ]
  },
  {
   "cell_type": "code",
   "execution_count": 26,
   "id": "277fc282",
   "metadata": {},
   "outputs": [
    {
     "name": "stdout",
     "output_type": "stream",
     "text": [
      "6\n",
      "12\n",
      "18\n"
     ]
    }
   ],
   "source": [
    "numbers = range(1, 21)\n",
    "_ = [print(number) for number in numbers if number % 6 == 0]"
   ]
  },
  {
   "cell_type": "markdown",
   "id": "f77ff6d9",
   "metadata": {},
   "source": [
    "**Ex 7** Generate  \\\n",
    "\"The holidays will begin on: 25/11/1992\"  \\\n",
    "from the following tuple "
   ]
  },
  {
   "cell_type": "code",
   "execution_count": 27,
   "id": "9c9ce4d8",
   "metadata": {},
   "outputs": [],
   "source": [
    "date = (25, 11, 1992)"
   ]
  },
  {
   "cell_type": "code",
   "execution_count": 28,
   "id": "f66b39c8",
   "metadata": {},
   "outputs": [
    {
     "name": "stdout",
     "output_type": "stream",
     "text": [
      "The holidays will begin on: 25/11/1992\n",
      "The holidays will begin on: 25/11/1992\n",
      "The holidays will begin on: 25/11/1992\n"
     ]
    }
   ],
   "source": [
    "# recommended solution \n",
    "print(\"The holidays will begin on: {}/{}/{}\".format(*date))\n",
    "\n",
    "# this also works but requires to write (copy) more code\n",
    "print(\"The holidays will begin on: {}/{}/{}\".format(date[0], date[1], date[2]))\n",
    "\n",
    "# you could also use f-strings (but not recommended here)\n",
    "print(f\"The holidays will begin on: {date[0]}/{date[1]}/{date[2]}\")"
   ]
  },
  {
   "cell_type": "markdown",
   "id": "784e024c",
   "metadata": {},
   "source": [
    "**Ex 8** Write a function to find whether a given number is even or odd, print out an appropriate message."
   ]
  },
  {
   "cell_type": "code",
   "execution_count": 29,
   "id": "e970cbb1",
   "metadata": {},
   "outputs": [],
   "source": [
    "def even_or_odd(number):\n",
    "    if number % 2 == 0:\n",
    "        print(f\"{number} is even\")\n",
    "    else:\n",
    "        print(f\"{number} is odd\")        "
   ]
  },
  {
   "cell_type": "markdown",
   "id": "2429b273",
   "metadata": {},
   "source": [
    "**Ex 9** Make a program ask for a name, and then write a greeting using that name.\\\n",
    "HINT: use the input function to get the user input (e.g. name=input(\"Write your username\"))\n",
    "\n",
    "\\\n",
    "The output should look similar to this:\\\n",
    "Please type your username Adrian\\\n",
    "Hello Adrian."
   ]
  },
  {
   "cell_type": "code",
   "execution_count": null,
   "id": "e4f6ab07",
   "metadata": {},
   "outputs": [],
   "source": [
    "name = input(\"Please type your username\")\n",
    "print(f\"Hello {name}.\")"
   ]
  },
  {
   "cell_type": "markdown",
   "id": "54b2e8d2",
   "metadata": {},
   "source": [
    "**Ex 10** Ask for two numbers and ask what operation to perform on them (+, - , *, /) and display the numbers and the result. Again, use the input function.\\\n",
    "The output should look like this\n",
    "\n",
    "\\\n",
    "Please type two numbers and a mathematical operator to perform on them. All 3 inputs must be separated by a whitespace 1 1.5 +\\\n",
    "The result is: 2.5\n",
    "\n",
    "\n",
    "Please type two numbers and a mathematical operator to perform on them. All 3 inputs must be separated by a whitespace 2 2 *\\\n",
    "The result is: 4.0"
   ]
  },
  {
   "cell_type": "code",
   "execution_count": null,
   "id": "c2f1419a",
   "metadata": {},
   "outputs": [],
   "source": [
    "def math_operation(n1, n2, operator):\n",
    "    if operator == \"*\":\n",
    "        return n1 * n2\n",
    "    if operator == \"/\":\n",
    "        return n1 / n2\n",
    "    elif operator == \"+\":\n",
    "        return n1 + n2\n",
    "    elif operator == \"-\":\n",
    "        return n1 - n2\n",
    "    else:\n",
    "        print(f\"{operator} is not a valid operator\")\n",
    "        return None\n",
    "\n",
    "\n",
    "_input = input(\"Please type two numbers and a mathematical operator to perform on them. All 3 inputs must be separated by a whitespace\")\n",
    "number1, number2, operator = _input.split(\" \")\n",
    "number1, number2 = float(number1), float(number2) \n",
    "res = math_operation(number1, number2, operator)\n",
    "print(f\"The result is: {res}\")"
   ]
  },
  {
   "cell_type": "markdown",
   "id": "2c795c75",
   "metadata": {},
   "source": [
    "**Ex 11** Write a function to calculate the factorial (n!) (e.g. 4! = 4 * 3 * 2 * 1. Perform input control. For example, the input must be a positive integer. Thus, if the input is negative, the function should return an error message. The same applies for inputs with type float or str.\\\n",
    "\n",
    "The output should look like:\\\n",
    "1 = factorial(0)\\\n",
    "1 = factorial(1)\\\n",
    "6 = factorial(3)\\\n",
    "24 = factorial(4)"
   ]
  },
  {
   "cell_type": "code",
   "execution_count": null,
   "id": "eb71a817",
   "metadata": {},
   "outputs": [],
   "source": [
    "def factorial(n):\n",
    "    if isinstance(n, float) or isinstance(n, str):\n",
    "        raise TypeError(\"The input must be of type integer\")\n",
    "    if n < 0:\n",
    "        raise ValueError(\"The input must be positive\")\n",
    "    val = 1\n",
    "    for number in range(1, n + 1):\n",
    "        val *= number \n",
    "    return val"
   ]
  },
  {
   "cell_type": "markdown",
   "id": "672aa508",
   "metadata": {},
   "source": [
    "**Ex 12** Write a program (using functions!) that asks the user for a long string containing multiple words. Print back to the user the same string, except with the words in backwards order. For example, say I type the string:\n",
    "\n",
    "  My name is Michele\\\n",
    "Then I would see the string:\n",
    "\n",
    "  Michele is name My\\\n",
    "shown back to me."
   ]
  },
  {
   "cell_type": "code",
   "execution_count": null,
   "id": "ef3d6606",
   "metadata": {},
   "outputs": [],
   "source": [
    "def manipulate_input_string():\n",
    "    input_sentence = input(\"Write a long string\")\n",
    "    sentence = input_sentence.split(\" \")[::-1]\n",
    "    print(\" \".join(sentence))\n",
    "    \n",
    "manipulate_input_string()"
   ]
  },
  {
   "cell_type": "markdown",
   "id": "ad29d4f8",
   "metadata": {},
   "source": [
    "**Ex 13** Write a small function to check if a string is a Palindrome (https://en.wikipedia.org/wiki/Palindrome)\n",
    "\n",
    "The output could look like this:\n",
    "\n",
    "Tenet is a Palindrome\\\n",
    "China is not Palindrome"
   ]
  },
  {
   "cell_type": "code",
   "execution_count": null,
   "id": "e9b503ae",
   "metadata": {},
   "outputs": [],
   "source": [
    "def is_palindrome(string):\n",
    "    if string.lower() == string.lower()[::-1]:\n",
    "        print(f\"{string} is a Palindrome\")\n",
    "    else:\n",
    "        print(f\"{string} is not Palindrome\")\n",
    "        \n",
    "is_palindrome(\"Tenet\")\n",
    "is_palindrome(\"China\")"
   ]
  }
 ],
 "metadata": {
  "kernelspec": {
   "display_name": "Python 3 (ipykernel)",
   "language": "python",
   "name": "python3"
  },
  "language_info": {
   "codemirror_mode": {
    "name": "ipython",
    "version": 3
   },
   "file_extension": ".py",
   "mimetype": "text/x-python",
   "name": "python",
   "nbconvert_exporter": "python",
   "pygments_lexer": "ipython3",
   "version": "3.8.8"
  }
 },
 "nbformat": 4,
 "nbformat_minor": 5
}
