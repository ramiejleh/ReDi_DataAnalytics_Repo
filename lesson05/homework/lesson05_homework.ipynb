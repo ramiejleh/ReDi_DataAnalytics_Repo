{
 "cells": [
  {
   "cell_type": "markdown",
   "id": "ced84f55",
   "metadata": {},
   "source": [
    "# Lab experiment\n",
    "### You are a scientist who is working at Copenhagen University. Your research project is about identifying gases that reduce the global warming potential of greenhouse gases. In your most recent experiment you mixed two different gases. The chemical reaction made the temperature in the reaction tube vary over time, which was measured with 3 different thermometers. You're now back in your office and ready to analyse your data, which is available in a csv file\n",
    "\n",
    "### The exercise might seem like a lot, but don't worry. Most of the visualisation questions were already solved during the exercises session or you can find help in the lecture notebook. If you don't understand some questions or need help, please ask for help in the Slack channel or ping one of the teachers directly.\n",
    "\n",
    "### Hint: it might be a good idea to label each figure according to the equastions that you're solving. For example, a reasonable name for the figure in question c) could be figc. "
   ]
  },
  {
   "cell_type": "markdown",
   "id": "a75200fa",
   "metadata": {},
   "source": [
    "#### a) Import the dataset into a pandas DataFrame. Convert the time column into a pandas.Timestamp object. "
   ]
  },
  {
   "cell_type": "code",
   "execution_count": null,
   "id": "c9f7408f",
   "metadata": {},
   "outputs": [],
   "source": []
  },
  {
   "cell_type": "markdown",
   "id": "2fc7f0c2",
   "metadata": {},
   "source": [
    "#### b) Inspect the dataset. Are there any missing values? If yes, how many are missing? Can you say anything more about the missing values?"
   ]
  },
  {
   "cell_type": "code",
   "execution_count": null,
   "id": "68035743",
   "metadata": {},
   "outputs": [],
   "source": []
  },
  {
   "cell_type": "markdown",
   "id": "96631308",
   "metadata": {},
   "source": [
    "#### c) Now visualise each of the 3 temperature signals.\n",
    "- First, you want to create a figure with 3 different axes instances, one axis instance for each temperature signal\n",
    "- Then you visualize each signal. Do you use a scatter or line plot? Try to justify your choice with a couple of words\n",
    "- Because you want to discuss your experiment with your colleagues, you also want to make the figure pretty. Label each of the axes with information that you consider important"
   ]
  },
  {
   "cell_type": "code",
   "execution_count": null,
   "id": "1a473f85",
   "metadata": {},
   "outputs": [],
   "source": []
  },
  {
   "cell_type": "markdown",
   "id": "2e5feb36",
   "metadata": {},
   "source": [
    "#### d) Explain in your own words how the data looks like. Don't be too specific, try to \"explain\" the big picture in 2-3 sentences. HINT: don't focus only on the missing data"
   ]
  },
  {
   "cell_type": "code",
   "execution_count": null,
   "id": "96873e3d",
   "metadata": {},
   "outputs": [],
   "source": []
  },
  {
   "cell_type": "markdown",
   "id": "1d024f90",
   "metadata": {},
   "source": [
    "#### e) Now create one figure with one axis element to visualise the temperature of signal 1 and 2 in one coordinate system. Don't forget to label your x- and y-axis"
   ]
  },
  {
   "cell_type": "code",
   "execution_count": null,
   "id": "064992f2",
   "metadata": {},
   "outputs": [],
   "source": []
  },
  {
   "cell_type": "markdown",
   "id": "747cc6da",
   "metadata": {},
   "source": [
    "#### f) Describe in 1-2 sentences what you now see "
   ]
  },
  {
   "cell_type": "code",
   "execution_count": null,
   "id": "c4ecf8c0",
   "metadata": {},
   "outputs": [],
   "source": []
  },
  {
   "cell_type": "markdown",
   "id": "eceeab26",
   "metadata": {},
   "source": [
    "#### g) Create another figure to use a scatter plot to visualize temperature signal 1 and 2"
   ]
  },
  {
   "cell_type": "code",
   "execution_count": null,
   "id": "9fff5275",
   "metadata": {},
   "outputs": [],
   "source": []
  },
  {
   "cell_type": "markdown",
   "id": "89107075",
   "metadata": {},
   "source": [
    "#### h) There seems to be a pattern. Try to describe it in 1-2 sentences"
   ]
  },
  {
   "cell_type": "code",
   "execution_count": null,
   "id": "fe86b30e",
   "metadata": {},
   "outputs": [],
   "source": []
  },
  {
   "cell_type": "markdown",
   "id": "14bb1dbd",
   "metadata": {},
   "source": [
    "#### i) What do you see if you plot the temperature of signal 1 against the temperature of signal 3. Use again a scatter plot and try to describe what you see"
   ]
  },
  {
   "cell_type": "code",
   "execution_count": null,
   "id": "8b79f873",
   "metadata": {},
   "outputs": [],
   "source": []
  },
  {
   "cell_type": "markdown",
   "id": "92add8c7",
   "metadata": {},
   "source": [
    "#### j) Next week you'll have a meeting with the laboratory supervisor. You're not happy that your dataset contains some missing values. You think that it could be related sensor malfunction. Because you know that the laboratory supervisor doesn't like plain numbers, you try to come up with a nice visualisation that shows the percentage of missing values for each of the 3 temperature signals. If you need some inspiration have a look at https://matplotlib.org/stable/gallery/index.html"
   ]
  },
  {
   "cell_type": "code",
   "execution_count": null,
   "id": "bf919aa3",
   "metadata": {},
   "outputs": [],
   "source": []
  },
  {
   "cell_type": "markdown",
   "id": "24e346eb",
   "metadata": {},
   "source": [
    "#### k) The laboratory supervisor doesn't like looking at plots in jupyter notebooks. To improve the likelihood that she'll have a look to see if there's something wrong with the temperature sensors you'll plan to create a nice slide deck. For that you need to export your visualisation (figure) as a png/pdf file. Hint: have a look at https://matplotlib.org/stable/api/_as_gen/matplotlib.pyplot.savefig.html and save your figure as a png or pdf file. Make sure that you specify the path correctly and check if you're able to open the created file. Does the visualisation look good?"
   ]
  },
  {
   "cell_type": "code",
   "execution_count": null,
   "id": "5e3f633f",
   "metadata": {},
   "outputs": [],
   "source": []
  },
  {
   "cell_type": "markdown",
   "id": "aebc668f",
   "metadata": {},
   "source": [
    "#### Bonus question: what would you do about the missing values of temperature signal 3? Are there any reasonable approaches to fill in values for missing timestamps? "
   ]
  }
 ],
 "metadata": {
  "kernelspec": {
   "display_name": "Python 3",
   "language": "python",
   "name": "python3"
  },
  "language_info": {
   "codemirror_mode": {
    "name": "ipython",
    "version": 3
   },
   "file_extension": ".py",
   "mimetype": "text/x-python",
   "name": "python",
   "nbconvert_exporter": "python",
   "pygments_lexer": "ipython3",
   "version": "3.9.1"
  }
 },
 "nbformat": 4,
 "nbformat_minor": 5
}
