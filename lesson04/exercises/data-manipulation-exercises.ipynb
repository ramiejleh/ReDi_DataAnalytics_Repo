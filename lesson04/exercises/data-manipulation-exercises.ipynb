{
 "cells": [
  {
   "cell_type": "markdown",
   "metadata": {},
   "source": [
    "#### Time for an exercise session on the Data Manipulation. We will continue working with the wine dataset.\n",
    "\n",
    "Columns in the dataset:\n",
    "- \"country\": Country of which the wine was produced\n",
    "- \"description\": Description of the taste (qualitative)\n",
    "- \"designation\": Amount of points a profesisonal wine taster rated the wine\n",
    "- \"points\": Points rated by the wine taster (quantitative)\n",
    "- \"price\": Selling price of the wine\n",
    "- \"province\": Province of the country which the wine originates from\n",
    "- \"region_1\": One entry of which region the wine originates from\n",
    "- \"region_2\": Another entry of which region the wine originates from\n",
    "- \"taster_name\": Name of the professional wine taster who rated the wine\n",
    "- \"taster_twitter_handle\": Twitter username of the professional wine taster\n",
    "- \"title\": Competition of which the wine taster tasted the wine\n",
    "- \"variety\": Category of wine"
   ]
  },
  {
   "cell_type": "markdown",
   "metadata": {},
   "source": [
    "#### Start with loading the dataset from the data subfolder"
   ]
  },
  {
   "cell_type": "code",
   "execution_count": null,
   "metadata": {},
   "outputs": [],
   "source": []
  },
  {
   "cell_type": "markdown",
   "metadata": {},
   "source": [
    "#### Check if there are any wines from Italy which did not score more than 85 points."
   ]
  },
  {
   "cell_type": "code",
   "execution_count": null,
   "metadata": {},
   "outputs": [],
   "source": []
  },
  {
   "cell_type": "markdown",
   "metadata": {},
   "source": [
    "#### If there are some, which variety is most represented among them? Please do not copy the name that you \"see\" has the greatest representation, but rather extract it from the dataset. Remember: Copying enhances the change of a human mistake!"
   ]
  },
  {
   "cell_type": "code",
   "execution_count": null,
   "metadata": {},
   "outputs": [],
   "source": []
  },
  {
   "cell_type": "code",
   "execution_count": null,
   "metadata": {},
   "outputs": [],
   "source": []
  },
  {
   "cell_type": "markdown",
   "metadata": {},
   "source": [
    "#### Since this variety has been rated so poorly... \n",
    "- We reduce the price for all the Italian wines from this variety by 20%...\n",
    "- ... and create a new columns called \"sales_title\", adding: \"SALE \" in the beginning of each Title for these wines and \"NOT ON SALE\" to the remaining ones."
   ]
  },
  {
   "cell_type": "code",
   "execution_count": null,
   "metadata": {},
   "outputs": [],
   "source": []
  }
 ],
 "metadata": {
  "kernelspec": {
   "display_name": "Python 3",
   "language": "python",
   "name": "python3"
  },
  "language_info": {
   "codemirror_mode": {
    "name": "ipython",
    "version": 3
   },
   "file_extension": ".py",
   "mimetype": "text/x-python",
   "name": "python",
   "nbconvert_exporter": "python",
   "pygments_lexer": "ipython3",
   "version": "3.9.7"
  }
 },
 "nbformat": 4,
 "nbformat_minor": 4
}
