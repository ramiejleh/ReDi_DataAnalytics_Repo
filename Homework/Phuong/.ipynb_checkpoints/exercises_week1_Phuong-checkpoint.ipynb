{
 "cells": [
  {
   "cell_type": "markdown",
   "id": "cea0001e",
   "metadata": {},
   "source": [
    "# Exercises week 1"
   ]
  },
  {
   "cell_type": "markdown",
   "id": "8de6fb7f",
   "metadata": {},
   "source": [
    "## Beginner exercises"
   ]
  },
  {
   "cell_type": "markdown",
   "id": "9c7a32b0",
   "metadata": {},
   "source": [
    "**Ex 1**: In the cell below, write a short text that demonstrates that you can\n",
    "* Create a section with a heading\n",
    "* Write words in bold and italics\n",
    "* Establish a [hyperlink](https://en.wikipedia.org/wiki/Hyperlink)"
   ]
  },
  {
   "cell_type": "markdown",
   "id": "2a0debe2",
   "metadata": {},
   "source": [
    "## I did the exercise \n",
    "**Write** *words* ***in bold*** and italics\n",
    "Establish a hyperlink [hihi](http://gmail.com)"
   ]
  },
  {
   "cell_type": "code",
   "execution_count": 48,
   "id": "b57c4d15",
   "metadata": {},
   "outputs": [
    {
     "name": "stdout",
     "output_type": "stream",
     "text": [
      "hello world\n"
     ]
    }
   ],
   "source": [
    "print (\"hello world\")"
   ]
  },
  {
   "cell_type": "markdown",
   "id": "06327b1f",
   "metadata": {},
   "source": [
    "**Ex 2** Calculate the remainder of the division of 18 by 7. "
   ]
  },
  {
   "cell_type": "code",
   "execution_count": 49,
   "id": "571a933a",
   "metadata": {},
   "outputs": [
    {
     "data": {
      "text/plain": [
       "4"
      ]
     },
     "execution_count": 49,
     "metadata": {},
     "output_type": "execute_result"
    }
   ],
   "source": [
    "18 % 7"
   ]
  },
  {
   "cell_type": "markdown",
   "id": "f35548ca",
   "metadata": {},
   "source": [
    "**Ex 3** Calcuate 3 to the power of 4; i.e. $3^4$"
   ]
  },
  {
   "cell_type": "code",
   "execution_count": 50,
   "id": "878b3dd7",
   "metadata": {},
   "outputs": [
    {
     "data": {
      "text/plain": [
       "81"
      ]
     },
     "execution_count": 50,
     "metadata": {},
     "output_type": "execute_result"
    }
   ],
   "source": [
    "pow (3,4)"
   ]
  },
  {
   "cell_type": "code",
   "execution_count": 51,
   "id": "06e8881a",
   "metadata": {},
   "outputs": [
    {
     "data": {
      "text/plain": [
       "81"
      ]
     },
     "execution_count": 51,
     "metadata": {},
     "output_type": "execute_result"
    }
   ],
   "source": [
    "3**4"
   ]
  },
  {
   "cell_type": "markdown",
   "id": "f214288c",
   "metadata": {},
   "source": [
    "**Ex 4** Calculate the square root of 49"
   ]
  },
  {
   "cell_type": "code",
   "execution_count": 52,
   "id": "7f9d4c58",
   "metadata": {},
   "outputs": [
    {
     "data": {
      "text/plain": [
       "7.0"
      ]
     },
     "execution_count": 52,
     "metadata": {},
     "output_type": "execute_result"
    }
   ],
   "source": [
    "import math\n",
    "math.sqrt (49)"
   ]
  },
  {
   "cell_type": "code",
   "execution_count": 53,
   "id": "b7bfac02",
   "metadata": {},
   "outputs": [
    {
     "data": {
      "text/plain": [
       "7.0"
      ]
     },
     "execution_count": 53,
     "metadata": {},
     "output_type": "execute_result"
    }
   ],
   "source": [
    "49**0.5"
   ]
  },
  {
   "cell_type": "markdown",
   "id": "f5ad4f33",
   "metadata": {},
   "source": [
    "**Ex 5** Convert the following string to a float and round it to the nearest 3 digits after the decimal"
   ]
  },
  {
   "cell_type": "code",
   "execution_count": 54,
   "id": "629d068a",
   "metadata": {},
   "outputs": [
    {
     "data": {
      "text/plain": [
       "3.142"
      ]
     },
     "execution_count": 54,
     "metadata": {},
     "output_type": "execute_result"
    }
   ],
   "source": [
    "pi = \"3.14159265\"\n",
    "round(float(pi), 3)"
   ]
  },
  {
   "cell_type": "markdown",
   "id": "f044aec2",
   "metadata": {},
   "source": [
    "**Ex 6** **Convert** the variable number=4.9 to an integer"
   ]
  },
  {
   "cell_type": "code",
   "execution_count": 55,
   "id": "9d65e65d",
   "metadata": {},
   "outputs": [
    {
     "data": {
      "text/plain": [
       "4"
      ]
     },
     "execution_count": 55,
     "metadata": {},
     "output_type": "execute_result"
    }
   ],
   "source": [
    "int(4.9)"
   ]
  },
  {
   "cell_type": "markdown",
   "id": "46a181e0",
   "metadata": {},
   "source": [
    "**Ex 7** Now round number=4.9 to the **nearest** integer. What is the difference between the converted number of the previous exercise and this exercise?"
   ]
  },
  {
   "cell_type": "code",
   "execution_count": 56,
   "id": "d6897a03",
   "metadata": {},
   "outputs": [
    {
     "data": {
      "text/plain": [
       "5"
      ]
     },
     "execution_count": 56,
     "metadata": {},
     "output_type": "execute_result"
    }
   ],
   "source": [
    "round(4.9)"
   ]
  },
  {
   "cell_type": "markdown",
   "id": "b72332f6",
   "metadata": {},
   "source": [
    "**Ex 8** Calculate the length of the following list (i.e. how many names are in the list) and print each of its values separated by a newline. The output of the print statement(s) should look like this: \\\n",
    "\\\n",
    "Miriam \\\n",
    "Tim \\\n",
    "Jing \\\n",
    "..."
   ]
  },
  {
   "cell_type": "code",
   "execution_count": 2,
   "id": "b323da2f",
   "metadata": {},
   "outputs": [
    {
     "name": "stdout",
     "output_type": "stream",
     "text": [
      "Miriam\n",
      "Tim\n",
      "Jing\n",
      "Carlos\n",
      "Ruben\n",
      "Ashley\n",
      "6\n"
     ]
    }
   ],
   "source": [
    "names = [\"Miriam\", \"Tim\", \"Jing\", \"Carlos\", \"Ruben\", \"Ashley\"] \n",
    "count = 0\n",
    "for name in names:\n",
    "    print(name)\n",
    "    count = count + 1\n",
    "    \n",
    "print(count)"
   ]
  },
  {
   "cell_type": "code",
   "execution_count": 4,
   "id": "2e609fd7",
   "metadata": {},
   "outputs": [
    {
     "name": "stdout",
     "output_type": "stream",
     "text": [
      "Miriam\n",
      "Tim\n",
      "Jing\n",
      "Carlos\n",
      "Ruben\n",
      "Ashley\n"
     ]
    },
    {
     "data": {
      "text/plain": [
       "6"
      ]
     },
     "execution_count": 4,
     "metadata": {},
     "output_type": "execute_result"
    }
   ],
   "source": [
    "print(*names, sep=\"\\n\")\n",
    "len(names)"
   ]
  },
  {
   "cell_type": "code",
   "execution_count": 9,
   "id": "d053615c",
   "metadata": {},
   "outputs": [
    {
     "name": "stdout",
     "output_type": "stream",
     "text": [
      "Miriam\n",
      "Tim\n",
      "Jing\n",
      "Carlos\n",
      "Ruben\n",
      "Ashley\n"
     ]
    }
   ],
   "source": [
    "for n in range(len(names)):\n",
    "    print(names[n])"
   ]
  },
  {
   "cell_type": "code",
   "execution_count": 8,
   "id": "7f863180",
   "metadata": {},
   "outputs": [
    {
     "name": "stdout",
     "output_type": "stream",
     "text": [
      "Miriam\n",
      "Tim\n",
      "Jing\n",
      "Carlos\n",
      "Ruben\n",
      "Ashley\n"
     ]
    }
   ],
   "source": [
    "i = 0\n",
    "while i < len(names):\n",
    "    print(names[i])\n",
    "    i = i + 1"
   ]
  },
  {
   "cell_type": "markdown",
   "id": "f4dc0eba",
   "metadata": {},
   "source": [
    "**Ex 9** Add a list with the following new names to the previous list \\\n",
    "new_names = [\"Pablo\", \"Lise\"]"
   ]
  },
  {
   "cell_type": "code",
   "execution_count": 14,
   "id": "6a278348",
   "metadata": {},
   "outputs": [
    {
     "name": "stdout",
     "output_type": "stream",
     "text": [
      "['Miriam', 'Tim', 'Jing', 'Carlos', 'Ruben', 'Ashley', 'Pablo', 'Lise']\n"
     ]
    }
   ],
   "source": [
    "names = [\"Miriam\", \"Tim\", \"Jing\", \"Carlos\", \"Ruben\", \"Ashley\"] \n",
    "new_names = [\"Pablo\", \"Lise\"]\n",
    "\n",
    "for new_name in new_names:\n",
    "    #names.insert(len(names), new_name)\n",
    "    names.append(new_name)\n",
    "\n",
    "print(names)"
   ]
  },
  {
   "cell_type": "code",
   "execution_count": 20,
   "id": "daffd599",
   "metadata": {},
   "outputs": [
    {
     "name": "stdout",
     "output_type": "stream",
     "text": [
      "['Miriam', 'Tim', 'Jing', 'Carlos', 'Ruben', 'Ashley', 'Pablo', 'Lise']\n"
     ]
    }
   ],
   "source": [
    "names = [\"Miriam\", \"Tim\", \"Jing\", \"Carlos\", \"Ruben\", \"Ashley\"] \n",
    "new_names = [\"Pablo\", \"Lise\"]\n",
    "names.extend(new_names)\n",
    "print(names)"
   ]
  },
  {
   "cell_type": "markdown",
   "id": "e4a626b1",
   "metadata": {},
   "source": [
    "**Ex 10** Print the second and second to last name of the newly created list. The output should be Tim and Pablo"
   ]
  },
  {
   "cell_type": "code",
   "execution_count": 59,
   "id": "5df4210a",
   "metadata": {},
   "outputs": [
    {
     "name": "stdout",
     "output_type": "stream",
     "text": [
      "Tim\n",
      "Pablo\n"
     ]
    }
   ],
   "source": [
    "print(names[1])\n",
    "print(names[-2])"
   ]
  },
  {
   "cell_type": "markdown",
   "id": "e1536273",
   "metadata": {},
   "source": [
    "**Ex 11** Calculate the sum and the average of the value in the following list"
   ]
  },
  {
   "cell_type": "code",
   "execution_count": 30,
   "id": "f86764f6",
   "metadata": {},
   "outputs": [
    {
     "name": "stdout",
     "output_type": "stream",
     "text": [
      "187\n",
      "31.166666666666668\n"
     ]
    }
   ],
   "source": [
    "age = [11, 22, 33, 44, 22, 55]\n",
    "print(sum(age))\n",
    "print(sum(age)/len(age))"
   ]
  },
  {
   "cell_type": "code",
   "execution_count": 22,
   "id": "59ae0e54",
   "metadata": {},
   "outputs": [
    {
     "name": "stdout",
     "output_type": "stream",
     "text": [
      "187\n"
     ]
    }
   ],
   "source": [
    "sum_age = 0\n",
    "for an_age in age:\n",
    "    sum_age = sum_age + an_age\n",
    "    \n",
    "print(sum_age)"
   ]
  },
  {
   "cell_type": "markdown",
   "id": "281a7229",
   "metadata": {},
   "source": [
    "**Ex 12** Sort the age list in an ascending (increasing) order and get the count of the number 22 within the list (i.e; calculate how often the number 22 appears in the age list"
   ]
  },
  {
   "cell_type": "code",
   "execution_count": 32,
   "id": "ccff3e9f",
   "metadata": {},
   "outputs": [
    {
     "name": "stdout",
     "output_type": "stream",
     "text": [
      "[11, 22, 22, 33, 44, 55]\n",
      "2\n"
     ]
    }
   ],
   "source": [
    "age.sort()\n",
    "# sorted(age)\n",
    "print(age)\n",
    "print(age.count(22))"
   ]
  },
  {
   "cell_type": "code",
   "execution_count": 28,
   "id": "c2bfda00",
   "metadata": {},
   "outputs": [
    {
     "name": "stdout",
     "output_type": "stream",
     "text": [
      "2\n"
     ]
    }
   ],
   "source": [
    "count_22 = 0\n",
    "for an_age in age:\n",
    "    if an_age == 22:\n",
    "        count_22 = count_22 + 1\n",
    "    \n",
    "print(count_22)"
   ]
  },
  {
   "cell_type": "markdown",
   "id": "aa6357f7",
   "metadata": {},
   "source": [
    "**Ex 13** Write a function to calculate the sum of three given numbers, if the values are equal then return three times of their sum."
   ]
  },
  {
   "cell_type": "code",
   "execution_count": 62,
   "id": "669d8a97",
   "metadata": {
    "scrolled": false
   },
   "outputs": [
    {
     "name": "stdout",
     "output_type": "stream",
     "text": [
      "6\n",
      "9\n",
      "18\n",
      "31\n",
      "result 1: 6\n",
      "result 2: 9\n",
      "result 1 > result 2\n",
      "False\n"
     ]
    }
   ],
   "source": [
    "def sum_of_three(num_1, num_2, num_3):\n",
    "    if num_1 == num_2 == num_3:\n",
    "        sum_of_equal_values = 3*(num_1 + num_2 + num_3)\n",
    "        print(sum_of_equal_values)\n",
    "        return sum_of_equal_values\n",
    "    else:\n",
    "        sum_of_unequal_values = num_1 + num_2 + num_3\n",
    "        print(sum_of_unequal_values)\n",
    "        return sum_of_unequal_values\n",
    "        \n",
    "result = sum_of_three(1, 2, 3)\n",
    "result2 = sum_of_three(1, 1, 1)\n",
    "sum_of_three(2, 2, 2)\n",
    "sum_of_three(10, 11, 10)\n",
    "\n",
    "print(f\"result 1: {result}\")\n",
    "print(f\"result 2: {result2}\")\n",
    "print(f\"result 1 > result 2\")\n",
    "print(result > result2)"
   ]
  },
  {
   "cell_type": "markdown",
   "id": "083c56f2",
   "metadata": {},
   "source": [
    "**Ex 14** Write a function to check if a value is within the following list. The output should look like this:\\\n",
    "Miriam was found in the list\\\n",
    "Peter was not found in the list"
   ]
  },
  {
   "cell_type": "code",
   "execution_count": 63,
   "id": "90f94d20",
   "metadata": {},
   "outputs": [
    {
     "name": "stdout",
     "output_type": "stream",
     "text": [
      "Miriam was found in the list\n",
      "Peter was not found in the list\n"
     ]
    }
   ],
   "source": [
    "names = [\"Miriam\", \"Tim\", \"Jing\", \"Carlos\", \"Ruben\", \"Ashley\"]\n",
    "\n",
    "def value_check(name):\n",
    "    if name in names:\n",
    "        print(f\"{name} was found in the list\")\n",
    "    else:\n",
    "        print(f\"{name} was not found in the list\")\n",
    "        \n",
    "value_check(\"Miriam\")\n",
    "value_check(\"Peter\")"
   ]
  },
  {
   "cell_type": "markdown",
   "id": "c298f0d6",
   "metadata": {},
   "source": [
    "**Ex 15** Write a function that will accept the base and height of a triangle and compute the area. The area of a triangle is calculate as Area= 0.5 * height * base"
   ]
  },
  {
   "cell_type": "code",
   "execution_count": 44,
   "id": "0d4f6303",
   "metadata": {},
   "outputs": [
    {
     "name": "stdout",
     "output_type": "stream",
     "text": [
      "Input the base: 3\n",
      "Input the height: 4\n",
      "Area =  6.0\n"
     ]
    }
   ],
   "source": [
    "def calculate_area():\n",
    "    base = float(input(\"Input the base: \"))\n",
    "    height = float(input(\"Input the height: \"))\n",
    "    area = 0.5 * base * height\n",
    "    print(\"Area = \", area)\n",
    "\n",
    "calculate_area()"
   ]
  },
  {
   "cell_type": "markdown",
   "id": "0c12ff55",
   "metadata": {},
   "source": [
    "**Ex16** Write a function that chakes a name and if the name is longer than 5 letters, it will print name+ \",your name is too long\" otherwise print \"Hello\" + name+\"!\""
   ]
  },
  {
   "cell_type": "code",
   "execution_count": 39,
   "id": "6a5e64bd",
   "metadata": {},
   "outputs": [
    {
     "name": "stdout",
     "output_type": "stream",
     "text": [
      "Phuong, your name is too long\n",
      "Hello Anh!\n"
     ]
    }
   ],
   "source": [
    "def say_hello(person):\n",
    "    if len(person) > 5:\n",
    "        print(f\"{person}, your name is too long.\")\n",
    "    else:\n",
    "        print(f\"Hello {person}!\")\n",
    "\n",
    "say_hello(\"Phuong\")\n",
    "say_hello(\"Anh\")"
   ]
  },
  {
   "cell_type": "markdown",
   "id": "8bf072f4",
   "metadata": {},
   "source": [
    "## Intermediate exercises"
   ]
  },
  {
   "cell_type": "markdown",
   "id": "380790fa",
   "metadata": {},
   "source": [
    "**Ex1** Print **only** the strings within the following list. Use the isinstance function to compare the type of a variable against its expected type"
   ]
  },
  {
   "cell_type": "code",
   "execution_count": 1,
   "id": "0f3ccb26",
   "metadata": {},
   "outputs": [
    {
     "name": "stdout",
     "output_type": "stream",
     "text": [
      "Miriam\n",
      "Tim\n",
      "Jing\n",
      "Carlos\n",
      "True\n",
      "False\n",
      "True\n",
      "True\n"
     ]
    }
   ],
   "source": [
    "students = [\"Miriam\", 22, \"Tim\", 25, \"Jing\", 28, \"Carlos\"]\n",
    "\n",
    "for student in students:\n",
    "    if isinstance(student, str):\n",
    "        print(student)\n",
    "        \n",
    "print(True and True)\n",
    "print(True and False)\n",
    "print(True or True)\n",
    "print(True or False)"
   ]
  },
  {
   "cell_type": "markdown",
   "id": "4b99d2ed",
   "metadata": {},
   "source": [
    "**Ex 2** For the following two lists, print the student name followed by their age. HINT: use the zip function"
   ]
  },
  {
   "cell_type": "code",
   "execution_count": 2,
   "id": "e5fd5bd4",
   "metadata": {},
   "outputs": [
    {
     "name": "stdout",
     "output_type": "stream",
     "text": [
      "[('Miriam', 25), ('Tim', 22), ('Jing', 24), ('Carlos', 33), ('Ruben', 22), ('Ashley', 21)]\n",
      "Miriam, 25\n",
      "Tim, 22\n",
      "Jing, 24\n",
      "Carlos, 33\n",
      "Ruben, 22\n",
      "Ashley, 21\n"
     ]
    }
   ],
   "source": [
    "names = [\"Miriam\", \"Tim\", \"Jing\", \"Carlos\", \"Ruben\", \"Ashley\"]\n",
    "ages =  [25, 22, 24, 33, 22, 21, 20]\n",
    "\n",
    "student_zip = zip(names, ages)\n",
    "names_ages = list(student_zip)\n",
    "\n",
    "print(names_ages)\n",
    "\n",
    "for name_age in names_ages:\n",
    "    print(f\"{name_age[0]}, {name_age[1]}\")"
   ]
  },
  {
   "cell_type": "markdown",
   "id": "fcdb19c6",
   "metadata": {},
   "source": [
    "**Ex 3** Create a dictionary which keys are the names of the students and the corresponding values are their age. The dictionary should look like this \\\n",
    "{'Miriam': 25, 'Tim': 22, 'Jing': 24, 'Carlos': 33, 'Ruben': 22, 'Ashley': 21}"
   ]
  },
  {
   "cell_type": "code",
   "execution_count": 4,
   "id": "2ecdd8d4",
   "metadata": {},
   "outputs": [
    {
     "name": "stdout",
     "output_type": "stream",
     "text": [
      "{'Miriam': 25, 'Tim': 22, 'Jing': 24, 'Carlos': 33, 'Ruben': 22, 'Ashley': 21}\n"
     ]
    }
   ],
   "source": [
    "names = [\"Miriam\", \"Tim\", \"Jing\", \"Carlos\", \"Ruben\", \"Ashley\"]\n",
    "ages =  [25, 22, 24, 33, 22, 21, 20]\n",
    "student_zip = zip(names, ages)\n",
    "student_dict = dict(student_zip)\n",
    "print(student_dict)"
   ]
  },
  {
   "cell_type": "markdown",
   "id": "dc5c34eb",
   "metadata": {},
   "source": [
    "**Ex 4** Create a nested dictionary to assign to each student their age and grade. The output should look like this \\\n",
    "{'Miriam': {'age': 25, 'grade': 12},\n",
    " 'Tim': {'age': 22, 'grade': 12},\n",
    " 'Jing': {'age': 24, 'grade': 12},\n",
    " 'Carlos': {'age': 33, 'grade': 10},\n",
    " 'Ruben': {'age': 22, 'grade': 7},\n",
    " 'Ashley': {'age': 21, 'grade': 10}}"
   ]
  },
  {
   "cell_type": "code",
   "execution_count": 37,
   "id": "04dd84ca",
   "metadata": {},
   "outputs": [
    {
     "name": "stdout",
     "output_type": "stream",
     "text": [
      "{'Miriam': {'age': 25, 'grade': 12}, 'Tim': {'age': 22, 'grade': 12}, 'Jing': {'age': 24, 'grade': 12}, 'Carlos': {'age': 33, 'grade': 10}, 'Ruben': {'age': 22, 'grade': 7}, 'Ashley': {'age': 21, 'grade': 10}}\n"
     ]
    }
   ],
   "source": [
    "names = [\"Miriam\", \"Tim\", \"Jing\", \"Carlos\", \"Ruben\", \"Ashley\"]\n",
    "ages =  [25, 22, 24, 33, 22, 21, 20]\n",
    "grades = [12, 12, 12, 10, 7, 10]\n",
    "\n",
    "student_dict1 = {}\n",
    "\n",
    "for index, name in enumerate(names):\n",
    "    ages_grades_dict1 = {\"age\": ages[index], \"grade\": grades[index]}\n",
    "    student_dict1[name] = ages_grades_dict1\n",
    "\n",
    "print(student_dict1)\n"
   ]
  },
  {
   "cell_type": "code",
   "execution_count": 38,
   "id": "bb9e5ba3",
   "metadata": {},
   "outputs": [
    {
     "name": "stdout",
     "output_type": "stream",
     "text": [
      "{'Miriam': {'age': 25, 'grade': 12}, 'Tim': {'age': 22, 'grade': 12}, 'Jing': {'age': 24, 'grade': 12}, 'Carlos': {'age': 33, 'grade': 10}, 'Ruben': {'age': 22, 'grade': 7}, 'Ashley': {'age': 21, 'grade': 10}}\n"
     ]
    }
   ],
   "source": [
    "names = [\"Miriam\", \"Tim\", \"Jing\", \"Carlos\", \"Ruben\", \"Ashley\"]\n",
    "ages =  [25, 22, 24, 33, 22, 21, 20]\n",
    "grades = [12, 12, 12, 10, 7, 10]\n",
    "\n",
    "student_dict2 = {}\n",
    "for name, age, grade in zip(names, ages, grades):\n",
    "    ages_grades_dict2 = {\"age\": age, \"grade\": grade}\n",
    "    student_dict2[name] = ages_grades_dict2\n",
    "    \n",
    "print(student_dict2)"
   ]
  },
  {
   "cell_type": "markdown",
   "id": "aef2fb86",
   "metadata": {},
   "source": [
    "**Ex 5** Miriam decided to drop out of the class. Remove her entry in the students dictionary."
   ]
  },
  {
   "cell_type": "code",
   "execution_count": 44,
   "id": "25357fc5",
   "metadata": {},
   "outputs": [
    {
     "name": "stdout",
     "output_type": "stream",
     "text": [
      "{'Tim': {'age': 22, 'grade': 12}, 'Jing': {'age': 24, 'grade': 12}, 'Carlos': {'age': 33, 'grade': 10}, 'Ruben': {'age': 22, 'grade': 7}, 'Ashley': {'age': 21, 'grade': 10}}\n"
     ]
    }
   ],
   "source": [
    "names = [\"Miriam\", \"Tim\", \"Jing\", \"Carlos\", \"Ruben\", \"Ashley\"]\n",
    "ages =  [25, 22, 24, 33, 22, 21, 20]\n",
    "grades = [12, 12, 12, 10, 7, 10]\n",
    "\n",
    "student_dict2 = {}\n",
    "for name, age, grade in zip(names, ages, grades):\n",
    "    ages_grades_dict2 = {\"age\": age, \"grade\": grade}\n",
    "    student_dict2[name] = ages_grades_dict2\n",
    "    \n",
    "del student_dict2['Miriam']\n",
    "\n",
    "print (student_dict2)"
   ]
  },
  {
   "cell_type": "markdown",
   "id": "706b1cea",
   "metadata": {},
   "source": [
    "**Ex 6** First, generate a sequence of numbers from 1 to 20. Then print **only** the numbers for which the remainder is 0 when being divided by 6. E.g. 12 because 12/6 = 2. The output should be 6, 12 and 18"
   ]
  },
  {
   "cell_type": "code",
   "execution_count": 49,
   "id": "3b95bbe3",
   "metadata": {},
   "outputs": [
    {
     "name": "stdout",
     "output_type": "stream",
     "text": [
      "6\n",
      "12\n",
      "18\n"
     ]
    }
   ],
   "source": [
    "sequence = list(range(1,21))\n",
    "\n",
    "for number in sequence:\n",
    "    if number % 6 == 0:\n",
    "        print(number)"
   ]
  },
  {
   "cell_type": "markdown",
   "id": "e1a52ec7",
   "metadata": {},
   "source": [
    "**Ex 7** Generate  \\\n",
    "\"The holidays will begin on: 25/11/1992\"  \\\n",
    "from the following tuple "
   ]
  },
  {
   "cell_type": "code",
   "execution_count": 50,
   "id": "a5d00a14",
   "metadata": {},
   "outputs": [
    {
     "name": "stdout",
     "output_type": "stream",
     "text": [
      "The holidays will begin on: 25/11/1992\n"
     ]
    }
   ],
   "source": [
    "date = (25, 11, 1992)\n",
    "\n",
    "print(f\"The holidays will begin on: {date[0]}/{date[1]}/{date[2]}\")"
   ]
  },
  {
   "cell_type": "markdown",
   "id": "6ed8e31c",
   "metadata": {},
   "source": [
    "**Ex 8** Write a function to find whether a given number is even or odd, print out an appropriate message."
   ]
  },
  {
   "cell_type": "code",
   "execution_count": 41,
   "id": "f899c23b",
   "metadata": {},
   "outputs": [
    {
     "name": "stdout",
     "output_type": "stream",
     "text": [
      "10 is an even number.\n",
      "5 is an odd number.\n"
     ]
    }
   ],
   "source": [
    "def even_or_odd(number):\n",
    "    if number % 2 == 0:\n",
    "        print(f\"{number} is an even number.\")\n",
    "    else:\n",
    "        print(f\"{number} is an odd number.\")\n",
    "        \n",
    "even_or_odd(10)\n",
    "even_or_odd(5)"
   ]
  },
  {
   "cell_type": "markdown",
   "id": "550ffd8c",
   "metadata": {},
   "source": [
    "**Ex 9** Make a program ask for a name, and then write a greeting using that name.\\\n",
    "HINT: use the input function to get the user input (e.g. name=input(\"Write your username\"))\n",
    "\n",
    "\\\n",
    "The output should look similar to this:\\\n",
    "Please type your username Adrian\\\n",
    "Hello Adrian."
   ]
  },
  {
   "cell_type": "code",
   "execution_count": 6,
   "id": "01f6eaf1",
   "metadata": {},
   "outputs": [
    {
     "name": "stdout",
     "output_type": "stream",
     "text": [
      "Please type your username: Phuong\n",
      "Hello Phuong!\n"
     ]
    }
   ],
   "source": [
    "def type_username():\n",
    "    username = input(\"Please type your username: \")\n",
    "    print(f\"Hello {username}!\")\n",
    "    \n",
    "type_username()"
   ]
  },
  {
   "cell_type": "markdown",
   "id": "f2432417",
   "metadata": {},
   "source": [
    "**Ex 10** Ask for two numbers and ask what operation to perform on them (+, - , *, /) and display the numbers and the result. Again, use the input function.\\\n",
    "The output should look like this\n",
    "\n",
    "\\\n",
    "Please type two numbers and a mathematical operator to perform on them. All 3 inputs must be separated by a whitespace 1 1.5 +\\\n",
    "The result is: 2.5\n",
    "\n",
    "\n",
    "Please type two numbers and a mathematical operator to perform on them. All 3 inputs must be separated by a whitespace 2 2 *\\\n",
    "The result is: 4.0"
   ]
  },
  {
   "cell_type": "code",
   "execution_count": 43,
   "id": "85472cd4",
   "metadata": {},
   "outputs": [
    {
     "name": "stdout",
     "output_type": "stream",
     "text": [
      "Please type 2 numbers and a mathematical operator, separated by a whitespace: 3 4 *\n",
      "The result is: 12.0\n"
     ]
    }
   ],
   "source": [
    "from operator import add, sub, mul, truediv\n",
    "operator_dict = {'+': add, '-': sub, '*': mul, '/': truediv}\n",
    "\n",
    "num_1, num_2, opr = input(\"Please type 2 numbers and a mathematical operator, separated by a whitespace: \").split()\n",
    "\n",
    "result = operator_dict[opr](float(num_1), float(num_2))\n",
    "\n",
    "print(\"The result is: \" + str(result))\n"
   ]
  },
  {
   "cell_type": "code",
   "execution_count": 49,
   "id": "d2c7d020",
   "metadata": {},
   "outputs": [
    {
     "name": "stdout",
     "output_type": "stream",
     "text": [
      "Please type 2 numbers and a mathematical operator, separated by a whitespace: 2 3 +\n",
      "The result is: 5.0\n"
     ]
    }
   ],
   "source": [
    "str_num_1, str_num_2, opr = input(\"Please type 2 numbers and a mathematical operator, separated by a whitespace: \").split()\n",
    "num_1 = float(str_num_1)\n",
    "num_2 = float(str_num_2)\n",
    "\n",
    "if opr == '+':\n",
    "    result = num_1 + num_2\n",
    "elif opr == '-':\n",
    "    result = num_1 - num_2\n",
    "elif opr == '*':\n",
    "    result = num_1 * num_2\n",
    "elif opr == '/':\n",
    "    result = num_1 / num_2\n",
    "\n",
    "print(\"The result is: \" + str(result))"
   ]
  },
  {
   "cell_type": "markdown",
   "id": "2b26ca0e",
   "metadata": {},
   "source": [
    "**Ex 11** Write a function to calculate the factorial (n!) (e.g. 4! = 4 * 3 * 2 * 1. Perform input control. For example, the input must be a positive integer. Thus, if the input is negative, the function should return an error message. The same applies for inputs with type float or str.\\\n",
    "\n",
    "The output should look like:\\\n",
    "1 = factorial(0)\\\n",
    "1 = factorial(1)\\\n",
    "6 = factorial(3)\\\n",
    "24 = factorial(4)"
   ]
  },
  {
   "cell_type": "code",
   "execution_count": 93,
   "id": "b9d92360",
   "metadata": {},
   "outputs": [
    {
     "name": "stdout",
     "output_type": "stream",
     "text": [
      "Give me a number: 4\n",
      "factorial(4) = 24\n"
     ]
    },
    {
     "data": {
      "text/plain": [
       "24"
      ]
     },
     "execution_count": 93,
     "metadata": {},
     "output_type": "execute_result"
    }
   ],
   "source": [
    "def factorial():\n",
    "    your_input = input(\"Give me a number: \")\n",
    "    try:\n",
    "        num = int(your_input)\n",
    "    except:\n",
    "        print(\"I can't work with that. You need to give a positive integer.\")\n",
    "    else:\n",
    "        if num < 0:\n",
    "            print(\"I can't work with that. You need to give a positive integer.\")\n",
    "        elif num == 0:\n",
    "            print(\"factorial(0) = 1\")\n",
    "            return 1\n",
    "        else: \n",
    "            fac = 1\n",
    "            for n in range(1,num+1):\n",
    "                fac = fac * n\n",
    "            print(f\"factorial({num}) = {fac}\")\n",
    "            return fac\n",
    "\n",
    "factorial()"
   ]
  },
  {
   "cell_type": "code",
   "execution_count": 31,
   "id": "04d811f6",
   "metadata": {},
   "outputs": [
    {
     "name": "stdout",
     "output_type": "stream",
     "text": [
      "Give me a number: n\n",
      "I can't work with that. You need to give a positive integer.\n"
     ]
    }
   ],
   "source": [
    "def calculate_factorial(num):\n",
    "    if num in range(0,2):\n",
    "        return 1\n",
    "    else:\n",
    "        return calculate_factorial(num-1) * num\n",
    "        \n",
    "num = input(\"Give me a number: \")\n",
    "try:\n",
    "    num = int(num)\n",
    "except:\n",
    "    print(\"I can't work with that. You need to give a positive integer.\")\n",
    "else:\n",
    "    if num < 0:\n",
    "        print(\"I can't work with that. You need to give a positive integer.\")\n",
    "    else:\n",
    "        result = calculate_factorial(num) \n",
    "        print(f\"factorial({num}) = {result}\")\n",
    "        "
   ]
  },
  {
   "cell_type": "markdown",
   "id": "bc9c0ed2",
   "metadata": {},
   "source": [
    "**Ex 12** Write a program (using functions!) that asks the user for a long string containing multiple words. Print back to the user the same string, except with the words in backwards order. For example, say I type the string:\n",
    "\n",
    "  My name is Michele\\\n",
    "Then I would see the string:\n",
    "\n",
    "  Michele is name My\\\n",
    "shown back to me."
   ]
  },
  {
   "cell_type": "code",
   "execution_count": 46,
   "id": "7b60fded",
   "metadata": {},
   "outputs": [
    {
     "name": "stdout",
     "output_type": "stream",
     "text": [
      "Please write something non-sense: hihi haha hehe\n",
      "hehe haha hihi\n"
     ]
    }
   ],
   "source": [
    "def resort_string():\n",
    "    text = input(\"Please write something non-sense: \")\n",
    "    text_list = text.split()\n",
    "    text_list.reverse()\n",
    "    reversed_text = ' '.join(text_list)\n",
    "    print(reversed_text)\n",
    "\n",
    "resort_string()"
   ]
  },
  {
   "cell_type": "code",
   "execution_count": 50,
   "id": "e73d28fd",
   "metadata": {},
   "outputs": [
    {
     "name": "stdout",
     "output_type": "stream",
     "text": [
      "Please write something non-sense: hi ha he ho hu\n",
      "hu ho he ha hi \n"
     ]
    }
   ],
   "source": [
    "def resort_string2(text2):\n",
    "    text2_list = text2.split()\n",
    "    reversed_text2 = ''\n",
    "    for word in text2_list:\n",
    "        reversed_text2 = word + \" \" + reversed_text2\n",
    "    print(reversed_text2)\n",
    "    \n",
    "text2 = input(\"Please write something non-sense: \")\n",
    "resort_string2(text2)"
   ]
  },
  {
   "cell_type": "markdown",
   "id": "406d0415",
   "metadata": {},
   "source": [
    "**Ex 13** Write a small function to check if a string is a Palindrome (https://en.wikipedia.org/wiki/Palindrome)\n",
    "\n",
    "The output could look like this:\n",
    "\n",
    "Tenet is a Palindrome\\\n",
    "China is not Palindrome"
   ]
  },
  {
   "cell_type": "code",
   "execution_count": 67,
   "id": "d5276e91",
   "metadata": {},
   "outputs": [
    {
     "name": "stdout",
     "output_type": "stream",
     "text": [
      "Tenet is a Palindrome\n",
      "China is not a Palindrome\n"
     ]
    }
   ],
   "source": [
    "def palindrome_check(string):\n",
    "    string_list = list(string.lower())\n",
    "    reverse_string_list = list(reversed(string_list))\n",
    "    if string_list == reverse_string_list:\n",
    "        print(f\"{string} is a Palindrome\")\n",
    "    else:\n",
    "        print(f\"{string} is not a Palindrome\")\n",
    "        \n",
    "palindrome_check(\"Tenet\")\n",
    "palindrome_check(\"China\")"
   ]
  }
 ],
 "metadata": {
  "kernelspec": {
   "display_name": "Python 3 (ipykernel)",
   "language": "python",
   "name": "python3"
  },
  "language_info": {
   "codemirror_mode": {
    "name": "ipython",
    "version": 3
   },
   "file_extension": ".py",
   "mimetype": "text/x-python",
   "name": "python",
   "nbconvert_exporter": "python",
   "pygments_lexer": "ipython3",
   "version": "3.9.7"
  }
 },
 "nbformat": 4,
 "nbformat_minor": 5
}
