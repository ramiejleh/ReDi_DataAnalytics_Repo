{
 "cells": [
  {
   "cell_type": "code",
   "execution_count": 1,
   "id": "22bf9836",
   "metadata": {},
   "outputs": [],
   "source": [
    "import matplotlib.pyplot as plt\n",
    "import pandas as pd\n",
    "import numpy as np\n",
    "\n",
    "plt.rcParams[\"figure.figsize\"] = (16, 9)\n",
    "plt.close(\"all\")"
   ]
  },
  {
   "cell_type": "code",
   "execution_count": 2,
   "id": "2a309228",
   "metadata": {},
   "outputs": [
    {
     "data": {
      "text/html": [
       "<div>\n",
       "<style scoped>\n",
       "    .dataframe tbody tr th:only-of-type {\n",
       "        vertical-align: middle;\n",
       "    }\n",
       "\n",
       "    .dataframe tbody tr th {\n",
       "        vertical-align: top;\n",
       "    }\n",
       "\n",
       "    .dataframe thead th {\n",
       "        text-align: right;\n",
       "    }\n",
       "</style>\n",
       "<table border=\"1\" class=\"dataframe\">\n",
       "  <thead>\n",
       "    <tr style=\"text-align: right;\">\n",
       "      <th></th>\n",
       "      <th>timestamp</th>\n",
       "      <th>cnt</th>\n",
       "      <th>t1</th>\n",
       "      <th>t2</th>\n",
       "      <th>hum</th>\n",
       "      <th>wind_speed</th>\n",
       "      <th>weather_code</th>\n",
       "      <th>is_holiday</th>\n",
       "      <th>is_weekend</th>\n",
       "      <th>season</th>\n",
       "    </tr>\n",
       "  </thead>\n",
       "  <tbody>\n",
       "    <tr>\n",
       "      <th>0</th>\n",
       "      <td>2015-01-04 00:00:00</td>\n",
       "      <td>182</td>\n",
       "      <td>3.0</td>\n",
       "      <td>2.0</td>\n",
       "      <td>93.0</td>\n",
       "      <td>6.0</td>\n",
       "      <td>3.0</td>\n",
       "      <td>0.0</td>\n",
       "      <td>1.0</td>\n",
       "      <td>3.0</td>\n",
       "    </tr>\n",
       "    <tr>\n",
       "      <th>1</th>\n",
       "      <td>2015-01-04 01:00:00</td>\n",
       "      <td>138</td>\n",
       "      <td>3.0</td>\n",
       "      <td>2.5</td>\n",
       "      <td>93.0</td>\n",
       "      <td>5.0</td>\n",
       "      <td>1.0</td>\n",
       "      <td>0.0</td>\n",
       "      <td>1.0</td>\n",
       "      <td>3.0</td>\n",
       "    </tr>\n",
       "    <tr>\n",
       "      <th>2</th>\n",
       "      <td>2015-01-04 02:00:00</td>\n",
       "      <td>134</td>\n",
       "      <td>2.5</td>\n",
       "      <td>2.5</td>\n",
       "      <td>96.5</td>\n",
       "      <td>0.0</td>\n",
       "      <td>1.0</td>\n",
       "      <td>0.0</td>\n",
       "      <td>1.0</td>\n",
       "      <td>3.0</td>\n",
       "    </tr>\n",
       "    <tr>\n",
       "      <th>3</th>\n",
       "      <td>2015-01-04 03:00:00</td>\n",
       "      <td>72</td>\n",
       "      <td>2.0</td>\n",
       "      <td>2.0</td>\n",
       "      <td>100.0</td>\n",
       "      <td>0.0</td>\n",
       "      <td>1.0</td>\n",
       "      <td>0.0</td>\n",
       "      <td>1.0</td>\n",
       "      <td>3.0</td>\n",
       "    </tr>\n",
       "    <tr>\n",
       "      <th>4</th>\n",
       "      <td>2015-01-04 04:00:00</td>\n",
       "      <td>47</td>\n",
       "      <td>2.0</td>\n",
       "      <td>0.0</td>\n",
       "      <td>93.0</td>\n",
       "      <td>6.5</td>\n",
       "      <td>1.0</td>\n",
       "      <td>0.0</td>\n",
       "      <td>1.0</td>\n",
       "      <td>3.0</td>\n",
       "    </tr>\n",
       "  </tbody>\n",
       "</table>\n",
       "</div>"
      ],
      "text/plain": [
       "            timestamp  cnt   t1   t2    hum  wind_speed  weather_code  \\\n",
       "0 2015-01-04 00:00:00  182  3.0  2.0   93.0         6.0           3.0   \n",
       "1 2015-01-04 01:00:00  138  3.0  2.5   93.0         5.0           1.0   \n",
       "2 2015-01-04 02:00:00  134  2.5  2.5   96.5         0.0           1.0   \n",
       "3 2015-01-04 03:00:00   72  2.0  2.0  100.0         0.0           1.0   \n",
       "4 2015-01-04 04:00:00   47  2.0  0.0   93.0         6.5           1.0   \n",
       "\n",
       "   is_holiday  is_weekend  season  \n",
       "0         0.0         1.0     3.0  \n",
       "1         0.0         1.0     3.0  \n",
       "2         0.0         1.0     3.0  \n",
       "3         0.0         1.0     3.0  \n",
       "4         0.0         1.0     3.0  "
      ]
     },
     "execution_count": 2,
     "metadata": {},
     "output_type": "execute_result"
    }
   ],
   "source": [
    "bikes = pd.read_csv(\"../data/bikesharing/data.csv\")\n",
    "bikes[\"timestamp\"] = pd.to_datetime(bikes[\"timestamp\"],  format=\"%Y-%m-%d %H:%M:%S\")\n",
    "bikes.head()"
   ]
  },
  {
   "cell_type": "markdown",
   "id": "63efb470",
   "metadata": {},
   "source": [
    "Column description: \n",
    "\n",
    "- \"timestamp\" - timestamp field for grouping the data\n",
    "- \"cnt\" - the count of a new bike shares\n",
    "- \"t1\" - real temperature in C\n",
    "- \"t2\" - temperature in C \"feels like\"\n",
    "- \"hum\" - humidity in percentage\n",
    "- \"windspeed\" - wind speed in km/h\n",
    "- \"weathercode\" - category of the weather\n",
    "- \"isholiday\" - boolean field - 1 holiday / 0 non holiday\n",
    "- \"isweekend\" - boolean field - 1 if the day is weekend\n",
    "- \"season\" - category field meteorological seasons: 0-spring ; 1-summer; 2-fall; 3-winter."
   ]
  },
  {
   "cell_type": "markdown",
   "id": "a960b130",
   "metadata": {},
   "source": [
    "# Exercise 1) Scatter plot"
   ]
  },
  {
   "cell_type": "markdown",
   "id": "0c8c0807",
   "metadata": {},
   "source": [
    "a) create a figure with one axis instance. You can either use plt.figure() or use plt.subplots(). Get comfortable with both methods "
   ]
  },
  {
   "cell_type": "code",
   "execution_count": null,
   "id": "24c72c47",
   "metadata": {},
   "outputs": [],
   "source": []
  },
  {
   "cell_type": "markdown",
   "id": "3f5251c2",
   "metadata": {},
   "source": [
    "b) create a scatter plot where you plot the humidity (hum) vs the real temperature (t1) column. HINT: you can show the figure by calling the figure instance at the end of the cell"
   ]
  },
  {
   "cell_type": "code",
   "execution_count": null,
   "id": "5e821e94",
   "metadata": {},
   "outputs": [],
   "source": []
  },
  {
   "cell_type": "markdown",
   "id": "2e45a85d",
   "metadata": {},
   "source": [
    "c) label the x and y axis with their respective names. HINT: use the .set_xlabel(x_name) and .set_ylabel(x_name) label methods"
   ]
  },
  {
   "cell_type": "code",
   "execution_count": null,
   "id": "8df48049",
   "metadata": {},
   "outputs": [],
   "source": []
  },
  {
   "cell_type": "markdown",
   "id": "5781c383",
   "metadata": {},
   "source": [
    "d) give the axis instance a title. HINT: use .set_title(axis_title) "
   ]
  },
  {
   "cell_type": "code",
   "execution_count": null,
   "id": "897ca44b",
   "metadata": {},
   "outputs": [],
   "source": []
  },
  {
   "cell_type": "markdown",
   "id": "5af16b75",
   "metadata": {},
   "source": [
    "e) save your figure as a .png file. HINT: have a look at the matplotlib documentation (https://matplotlib.org/stable/api/_as_gen/matplotlib.pyplot.savefig.html)"
   ]
  },
  {
   "cell_type": "code",
   "execution_count": null,
   "id": "f924504e",
   "metadata": {},
   "outputs": [],
   "source": []
  },
  {
   "cell_type": "markdown",
   "id": "20be8132",
   "metadata": {},
   "source": [
    "# Exercise 2) Line plot"
   ]
  },
  {
   "cell_type": "markdown",
   "id": "1610cbf8",
   "metadata": {},
   "source": [
    "a) use a lineplot to visualize the count of new bike shares (cnt column) before April 2015. HINT: you need to subset the dataframe by using the timestamp column "
   ]
  },
  {
   "cell_type": "code",
   "execution_count": null,
   "id": "fcd69e4b",
   "metadata": {},
   "outputs": [],
   "source": []
  },
  {
   "cell_type": "markdown",
   "id": "172a6727",
   "metadata": {},
   "source": [
    "b) place a red marker on each point where the respective timestamp belongs to the weekend (is_weekend == 1)\n",
    "1. identify the rows where is_holiday == 1 (i.e. create a mask)\n",
    "2. use a scatter plot to visualize the points that are observed on the weekend. HINT: (x=timestamp, y=cnt) and for controlling the marker size and color see (https://matplotlib.org/stable/api/_as_gen/matplotlib.pyplot.scatter.html)"
   ]
  },
  {
   "cell_type": "code",
   "execution_count": null,
   "id": "f699c734",
   "metadata": {},
   "outputs": [],
   "source": []
  },
  {
   "cell_type": "markdown",
   "id": "51a97842",
   "metadata": {},
   "source": [
    "c) what happens if you use .plot(...) instead of .scatter(...) as in b). HINT: recreate the figure that you created in exercise 2a)"
   ]
  },
  {
   "cell_type": "code",
   "execution_count": null,
   "id": "ddab9539",
   "metadata": {},
   "outputs": [],
   "source": []
  }
 ],
 "metadata": {
  "kernelspec": {
   "display_name": "Python 3",
   "language": "python",
   "name": "python3"
  },
  "language_info": {
   "codemirror_mode": {
    "name": "ipython",
    "version": 3
   },
   "file_extension": ".py",
   "mimetype": "text/x-python",
   "name": "python",
   "nbconvert_exporter": "python",
   "pygments_lexer": "ipython3",
   "version": "3.9.1"
  }
 },
 "nbformat": 4,
 "nbformat_minor": 5
}
