{
 "cells": [
  {
   "cell_type": "markdown",
   "metadata": {},
   "source": [
    "#### Import pandas library using alias pd."
   ]
  },
  {
   "cell_type": "code",
   "execution_count": 1,
   "metadata": {},
   "outputs": [],
   "source": [
    "import pandas as pd"
   ]
  },
  {
   "cell_type": "markdown",
   "metadata": {},
   "source": [
    "#### Load file recipes.csv from the data subfolder and store it in a variable df. Use the first column as index."
   ]
  },
  {
   "cell_type": "code",
   "execution_count": 2,
   "metadata": {},
   "outputs": [
    {
     "data": {
      "text/html": [
       "<div>\n",
       "<style scoped>\n",
       "    .dataframe tbody tr th:only-of-type {\n",
       "        vertical-align: middle;\n",
       "    }\n",
       "\n",
       "    .dataframe tbody tr th {\n",
       "        vertical-align: top;\n",
       "    }\n",
       "\n",
       "    .dataframe thead th {\n",
       "        text-align: right;\n",
       "    }\n",
       "</style>\n",
       "<table border=\"1\" class=\"dataframe\">\n",
       "  <thead>\n",
       "    <tr style=\"text-align: right;\">\n",
       "      <th></th>\n",
       "      <th>vegetarian</th>\n",
       "      <th>glutenFree</th>\n",
       "      <th>dairyFree</th>\n",
       "      <th>veryHealthy</th>\n",
       "      <th>healthScore</th>\n",
       "      <th>aggregateLikes</th>\n",
       "      <th>id</th>\n",
       "      <th>title</th>\n",
       "      <th>pricePerServing</th>\n",
       "      <th>readyInMinutes</th>\n",
       "      <th>...</th>\n",
       "      <th>VitaminB3Amount</th>\n",
       "      <th>VitaminB3percentOfDailyNeed</th>\n",
       "      <th>VitaminB1Amount</th>\n",
       "      <th>VitaminB1percentOfDailyNeed</th>\n",
       "      <th>CalciumAmount</th>\n",
       "      <th>CalciumpercentOfDailyNeed</th>\n",
       "      <th>AlcoholAmount</th>\n",
       "      <th>AlcoholpercentOfDailyNeed</th>\n",
       "      <th>CaffeineAmount</th>\n",
       "      <th>CaffeinepercentOfDailyNeed</th>\n",
       "    </tr>\n",
       "  </thead>\n",
       "  <tbody>\n",
       "    <tr>\n",
       "      <th>0</th>\n",
       "      <td>True</td>\n",
       "      <td>True</td>\n",
       "      <td>True</td>\n",
       "      <td>False</td>\n",
       "      <td>1.0</td>\n",
       "      <td>3</td>\n",
       "      <td>633998</td>\n",
       "      <td>Banana Blueberry Pancakes</td>\n",
       "      <td>55.79</td>\n",
       "      <td>45</td>\n",
       "      <td>...</td>\n",
       "      <td>0.49</td>\n",
       "      <td>2.44</td>\n",
       "      <td>0.03</td>\n",
       "      <td>2.26</td>\n",
       "      <td>18.11</td>\n",
       "      <td>1.81</td>\n",
       "      <td>NaN</td>\n",
       "      <td>NaN</td>\n",
       "      <td>NaN</td>\n",
       "      <td>NaN</td>\n",
       "    </tr>\n",
       "    <tr>\n",
       "      <th>1</th>\n",
       "      <td>True</td>\n",
       "      <td>True</td>\n",
       "      <td>False</td>\n",
       "      <td>False</td>\n",
       "      <td>0.0</td>\n",
       "      <td>1</td>\n",
       "      <td>634426</td>\n",
       "      <td>Basil and Orange Confit Compound Butter</td>\n",
       "      <td>15.07</td>\n",
       "      <td>45</td>\n",
       "      <td>...</td>\n",
       "      <td>NaN</td>\n",
       "      <td>NaN</td>\n",
       "      <td>NaN</td>\n",
       "      <td>NaN</td>\n",
       "      <td>NaN</td>\n",
       "      <td>NaN</td>\n",
       "      <td>NaN</td>\n",
       "      <td>NaN</td>\n",
       "      <td>NaN</td>\n",
       "      <td>NaN</td>\n",
       "    </tr>\n",
       "    <tr>\n",
       "      <th>2</th>\n",
       "      <td>False</td>\n",
       "      <td>False</td>\n",
       "      <td>False</td>\n",
       "      <td>False</td>\n",
       "      <td>3.0</td>\n",
       "      <td>1</td>\n",
       "      <td>635085</td>\n",
       "      <td>Black Bottom Banana Bars</td>\n",
       "      <td>78.85</td>\n",
       "      <td>45</td>\n",
       "      <td>...</td>\n",
       "      <td>2.63</td>\n",
       "      <td>13.13</td>\n",
       "      <td>0.32</td>\n",
       "      <td>21.09</td>\n",
       "      <td>100.80</td>\n",
       "      <td>10.08</td>\n",
       "      <td>0.28</td>\n",
       "      <td>1.53</td>\n",
       "      <td>9.89</td>\n",
       "      <td>3.30</td>\n",
       "    </tr>\n",
       "    <tr>\n",
       "      <th>3</th>\n",
       "      <td>True</td>\n",
       "      <td>False</td>\n",
       "      <td>True</td>\n",
       "      <td>False</td>\n",
       "      <td>2.0</td>\n",
       "      <td>1</td>\n",
       "      <td>663229</td>\n",
       "      <td>The Best Raw Chocolate Chip Cookies</td>\n",
       "      <td>54.64</td>\n",
       "      <td>45</td>\n",
       "      <td>...</td>\n",
       "      <td>0.65</td>\n",
       "      <td>3.26</td>\n",
       "      <td>0.10</td>\n",
       "      <td>6.47</td>\n",
       "      <td>26.79</td>\n",
       "      <td>2.68</td>\n",
       "      <td>NaN</td>\n",
       "      <td>NaN</td>\n",
       "      <td>NaN</td>\n",
       "      <td>NaN</td>\n",
       "    </tr>\n",
       "    <tr>\n",
       "      <th>4</th>\n",
       "      <td>False</td>\n",
       "      <td>True</td>\n",
       "      <td>False</td>\n",
       "      <td>False</td>\n",
       "      <td>31.0</td>\n",
       "      <td>3</td>\n",
       "      <td>651437</td>\n",
       "      <td>Mediterranean Spinach Artichoke Dip</td>\n",
       "      <td>115.26</td>\n",
       "      <td>45</td>\n",
       "      <td>...</td>\n",
       "      <td>0.66</td>\n",
       "      <td>3.29</td>\n",
       "      <td>0.07</td>\n",
       "      <td>4.64</td>\n",
       "      <td>162.84</td>\n",
       "      <td>16.28</td>\n",
       "      <td>NaN</td>\n",
       "      <td>NaN</td>\n",
       "      <td>NaN</td>\n",
       "      <td>NaN</td>\n",
       "    </tr>\n",
       "    <tr>\n",
       "      <th>...</th>\n",
       "      <td>...</td>\n",
       "      <td>...</td>\n",
       "      <td>...</td>\n",
       "      <td>...</td>\n",
       "      <td>...</td>\n",
       "      <td>...</td>\n",
       "      <td>...</td>\n",
       "      <td>...</td>\n",
       "      <td>...</td>\n",
       "      <td>...</td>\n",
       "      <td>...</td>\n",
       "      <td>...</td>\n",
       "      <td>...</td>\n",
       "      <td>...</td>\n",
       "      <td>...</td>\n",
       "      <td>...</td>\n",
       "      <td>...</td>\n",
       "      <td>...</td>\n",
       "      <td>...</td>\n",
       "      <td>...</td>\n",
       "      <td>...</td>\n",
       "    </tr>\n",
       "    <tr>\n",
       "      <th>145</th>\n",
       "      <td>False</td>\n",
       "      <td>True</td>\n",
       "      <td>True</td>\n",
       "      <td>False</td>\n",
       "      <td>18.0</td>\n",
       "      <td>13</td>\n",
       "      <td>638315</td>\n",
       "      <td>Chicken Sausage, White Bean and Cabbage Soup</td>\n",
       "      <td>196.23</td>\n",
       "      <td>45</td>\n",
       "      <td>...</td>\n",
       "      <td>0.53</td>\n",
       "      <td>2.67</td>\n",
       "      <td>0.15</td>\n",
       "      <td>10.23</td>\n",
       "      <td>102.67</td>\n",
       "      <td>10.27</td>\n",
       "      <td>NaN</td>\n",
       "      <td>NaN</td>\n",
       "      <td>NaN</td>\n",
       "      <td>NaN</td>\n",
       "    </tr>\n",
       "    <tr>\n",
       "      <th>146</th>\n",
       "      <td>True</td>\n",
       "      <td>False</td>\n",
       "      <td>False</td>\n",
       "      <td>False</td>\n",
       "      <td>1.0</td>\n",
       "      <td>2</td>\n",
       "      <td>656248</td>\n",
       "      <td>Pinot Noir Brownies</td>\n",
       "      <td>65.76</td>\n",
       "      <td>45</td>\n",
       "      <td>...</td>\n",
       "      <td>0.21</td>\n",
       "      <td>1.07</td>\n",
       "      <td>0.03</td>\n",
       "      <td>1.68</td>\n",
       "      <td>19.82</td>\n",
       "      <td>1.98</td>\n",
       "      <td>2.48</td>\n",
       "      <td>13.76</td>\n",
       "      <td>10.69</td>\n",
       "      <td>3.56</td>\n",
       "    </tr>\n",
       "    <tr>\n",
       "      <th>147</th>\n",
       "      <td>True</td>\n",
       "      <td>True</td>\n",
       "      <td>True</td>\n",
       "      <td>True</td>\n",
       "      <td>93.0</td>\n",
       "      <td>2</td>\n",
       "      <td>637297</td>\n",
       "      <td>Cauliflower Chickpea Stew</td>\n",
       "      <td>139.28</td>\n",
       "      <td>45</td>\n",
       "      <td>...</td>\n",
       "      <td>4.77</td>\n",
       "      <td>23.83</td>\n",
       "      <td>0.45</td>\n",
       "      <td>29.70</td>\n",
       "      <td>141.16</td>\n",
       "      <td>14.12</td>\n",
       "      <td>NaN</td>\n",
       "      <td>NaN</td>\n",
       "      <td>NaN</td>\n",
       "      <td>NaN</td>\n",
       "    </tr>\n",
       "    <tr>\n",
       "      <th>148</th>\n",
       "      <td>True</td>\n",
       "      <td>True</td>\n",
       "      <td>False</td>\n",
       "      <td>False</td>\n",
       "      <td>5.0</td>\n",
       "      <td>1</td>\n",
       "      <td>659412</td>\n",
       "      <td>Sautéed Balsamic Green Beans With Cherry Tomatoes</td>\n",
       "      <td>101.81</td>\n",
       "      <td>45</td>\n",
       "      <td>...</td>\n",
       "      <td>1.15</td>\n",
       "      <td>5.73</td>\n",
       "      <td>0.12</td>\n",
       "      <td>7.85</td>\n",
       "      <td>55.64</td>\n",
       "      <td>5.56</td>\n",
       "      <td>NaN</td>\n",
       "      <td>NaN</td>\n",
       "      <td>NaN</td>\n",
       "      <td>NaN</td>\n",
       "    </tr>\n",
       "    <tr>\n",
       "      <th>149</th>\n",
       "      <td>True</td>\n",
       "      <td>True</td>\n",
       "      <td>True</td>\n",
       "      <td>True</td>\n",
       "      <td>100.0</td>\n",
       "      <td>4</td>\n",
       "      <td>647875</td>\n",
       "      <td>Indian-Style Dill and Turmeric Potato Salad</td>\n",
       "      <td>117.24</td>\n",
       "      <td>30</td>\n",
       "      <td>...</td>\n",
       "      <td>0.21</td>\n",
       "      <td>1.05</td>\n",
       "      <td>NaN</td>\n",
       "      <td>NaN</td>\n",
       "      <td>27.96</td>\n",
       "      <td>2.80</td>\n",
       "      <td>NaN</td>\n",
       "      <td>NaN</td>\n",
       "      <td>NaN</td>\n",
       "      <td>NaN</td>\n",
       "    </tr>\n",
       "  </tbody>\n",
       "</table>\n",
       "<p>150 rows × 78 columns</p>\n",
       "</div>"
      ],
      "text/plain": [
       "     vegetarian  glutenFree  dairyFree  veryHealthy  healthScore  \\\n",
       "0          True        True       True        False          1.0   \n",
       "1          True        True      False        False          0.0   \n",
       "2         False       False      False        False          3.0   \n",
       "3          True       False       True        False          2.0   \n",
       "4         False        True      False        False         31.0   \n",
       "..          ...         ...        ...          ...          ...   \n",
       "145       False        True       True        False         18.0   \n",
       "146        True       False      False        False          1.0   \n",
       "147        True        True       True         True         93.0   \n",
       "148        True        True      False        False          5.0   \n",
       "149        True        True       True         True        100.0   \n",
       "\n",
       "     aggregateLikes      id  \\\n",
       "0                 3  633998   \n",
       "1                 1  634426   \n",
       "2                 1  635085   \n",
       "3                 1  663229   \n",
       "4                 3  651437   \n",
       "..              ...     ...   \n",
       "145              13  638315   \n",
       "146               2  656248   \n",
       "147               2  637297   \n",
       "148               1  659412   \n",
       "149               4  647875   \n",
       "\n",
       "                                                 title  pricePerServing  \\\n",
       "0                            Banana Blueberry Pancakes            55.79   \n",
       "1              Basil and Orange Confit Compound Butter            15.07   \n",
       "2                             Black Bottom Banana Bars            78.85   \n",
       "3                  The Best Raw Chocolate Chip Cookies            54.64   \n",
       "4                  Mediterranean Spinach Artichoke Dip           115.26   \n",
       "..                                                 ...              ...   \n",
       "145       Chicken Sausage, White Bean and Cabbage Soup           196.23   \n",
       "146                                Pinot Noir Brownies            65.76   \n",
       "147                          Cauliflower Chickpea Stew           139.28   \n",
       "148  Sautéed Balsamic Green Beans With Cherry Tomatoes           101.81   \n",
       "149        Indian-Style Dill and Turmeric Potato Salad           117.24   \n",
       "\n",
       "     readyInMinutes  ...  VitaminB3Amount VitaminB3percentOfDailyNeed  \\\n",
       "0                45  ...             0.49                        2.44   \n",
       "1                45  ...              NaN                         NaN   \n",
       "2                45  ...             2.63                       13.13   \n",
       "3                45  ...             0.65                        3.26   \n",
       "4                45  ...             0.66                        3.29   \n",
       "..              ...  ...              ...                         ...   \n",
       "145              45  ...             0.53                        2.67   \n",
       "146              45  ...             0.21                        1.07   \n",
       "147              45  ...             4.77                       23.83   \n",
       "148              45  ...             1.15                        5.73   \n",
       "149              30  ...             0.21                        1.05   \n",
       "\n",
       "     VitaminB1Amount  VitaminB1percentOfDailyNeed  CalciumAmount  \\\n",
       "0               0.03                         2.26          18.11   \n",
       "1                NaN                          NaN            NaN   \n",
       "2               0.32                        21.09         100.80   \n",
       "3               0.10                         6.47          26.79   \n",
       "4               0.07                         4.64         162.84   \n",
       "..               ...                          ...            ...   \n",
       "145             0.15                        10.23         102.67   \n",
       "146             0.03                         1.68          19.82   \n",
       "147             0.45                        29.70         141.16   \n",
       "148             0.12                         7.85          55.64   \n",
       "149              NaN                          NaN          27.96   \n",
       "\n",
       "     CalciumpercentOfDailyNeed  AlcoholAmount  AlcoholpercentOfDailyNeed  \\\n",
       "0                         1.81            NaN                        NaN   \n",
       "1                          NaN            NaN                        NaN   \n",
       "2                        10.08           0.28                       1.53   \n",
       "3                         2.68            NaN                        NaN   \n",
       "4                        16.28            NaN                        NaN   \n",
       "..                         ...            ...                        ...   \n",
       "145                      10.27            NaN                        NaN   \n",
       "146                       1.98           2.48                      13.76   \n",
       "147                      14.12            NaN                        NaN   \n",
       "148                       5.56            NaN                        NaN   \n",
       "149                       2.80            NaN                        NaN   \n",
       "\n",
       "     CaffeineAmount  CaffeinepercentOfDailyNeed  \n",
       "0               NaN                         NaN  \n",
       "1               NaN                         NaN  \n",
       "2              9.89                        3.30  \n",
       "3               NaN                         NaN  \n",
       "4               NaN                         NaN  \n",
       "..              ...                         ...  \n",
       "145             NaN                         NaN  \n",
       "146           10.69                        3.56  \n",
       "147             NaN                         NaN  \n",
       "148             NaN                         NaN  \n",
       "149             NaN                         NaN  \n",
       "\n",
       "[150 rows x 78 columns]"
      ]
     },
     "execution_count": 2,
     "metadata": {},
     "output_type": "execute_result"
    }
   ],
   "source": [
    "df = pd.read_csv('data/recipes.csv', index_col=0)\n",
    "df"
   ]
  },
  {
   "cell_type": "markdown",
   "metadata": {},
   "source": [
    "#### Print the type of variable df."
   ]
  },
  {
   "cell_type": "code",
   "execution_count": 3,
   "metadata": {},
   "outputs": [
    {
     "name": "stdout",
     "output_type": "stream",
     "text": [
      "<class 'pandas.core.frame.DataFrame'>\n"
     ]
    }
   ],
   "source": [
    "print(type(df))"
   ]
  },
  {
   "cell_type": "markdown",
   "metadata": {},
   "source": [
    "#### Print the number of columns and number of rows of the df DataFrame."
   ]
  },
  {
   "cell_type": "code",
   "execution_count": null,
   "metadata": {},
   "outputs": [],
   "source": []
  },
  {
   "cell_type": "markdown",
   "metadata": {},
   "source": [
    "#### What are the names of the columns in df?"
   ]
  },
  {
   "cell_type": "code",
   "execution_count": null,
   "metadata": {},
   "outputs": [],
   "source": []
  },
  {
   "cell_type": "markdown",
   "metadata": {},
   "source": [
    "#### Rename column id to RecipeId. Drop column \"veryHealthy\"."
   ]
  },
  {
   "cell_type": "code",
   "execution_count": null,
   "metadata": {},
   "outputs": [],
   "source": []
  },
  {
   "cell_type": "markdown",
   "metadata": {},
   "source": [
    "#### Some questions to think of for yourself. Feel free to ask us if you are in doubt, we are open for a discussion! :)"
   ]
  },
  {
   "cell_type": "markdown",
   "metadata": {},
   "source": [
    "1. Are there any other columns in this dataset that you would consider a candidate for the index column? Why isn't is always a good idea to use a string as index?\n",
    "2. Take a closer look at arguments \"axis\" and \"inplace\" in functions drop(...) and rename(...). Maybe google for documentation if you are not sure what they mean.\n",
    "        What happens if you wanted to rename a column that is not there?\n",
    "        What happens if you set the argument inplace=True? "
   ]
  },
  {
   "cell_type": "code",
   "execution_count": null,
   "metadata": {},
   "outputs": [],
   "source": []
  },
  {
   "cell_type": "markdown",
   "metadata": {},
   "source": [
    "#### Import pandas library using alias pd."
   ]
  },
  {
   "cell_type": "code",
   "execution_count": null,
   "metadata": {},
   "outputs": [],
   "source": []
  },
  {
   "cell_type": "markdown",
   "metadata": {},
   "source": [
    "#### Load file recipes.csv from the data subfolder and store it in a variable df_ex1. Use the first column as index."
   ]
  },
  {
   "cell_type": "code",
   "execution_count": null,
   "metadata": {},
   "outputs": [],
   "source": []
  },
  {
   "cell_type": "markdown",
   "metadata": {},
   "source": [
    "#### See if the 34th recipe on the list is vegetarian (remember the 0-based indexing!). Please do this in 4 different ways. Be careful with how .iloc and .loc handle things."
   ]
  },
  {
   "cell_type": "code",
   "execution_count": null,
   "metadata": {},
   "outputs": [],
   "source": []
  },
  {
   "cell_type": "markdown",
   "metadata": {},
   "source": [
    "#### Choose columns with the following info and in the following order: title, price and if it is vegetarian"
   ]
  },
  {
   "cell_type": "code",
   "execution_count": null,
   "metadata": {},
   "outputs": [],
   "source": []
  },
  {
   "cell_type": "markdown",
   "metadata": {},
   "source": [
    "#### And now the same for recipes number from 24 to 29"
   ]
  },
  {
   "cell_type": "code",
   "execution_count": null,
   "metadata": {},
   "outputs": [],
   "source": []
  },
  {
   "cell_type": "markdown",
   "metadata": {},
   "source": [
    "#### Play with some slicing and accesing. Do you understand the result that you obtain from different trials? Please feel free to ask us about what you see! :)"
   ]
  },
  {
   "cell_type": "code",
   "execution_count": null,
   "metadata": {},
   "outputs": [],
   "source": []
  },
  {
   "cell_type": "markdown",
   "metadata": {},
   "source": [
    "#### Notice which slicing methods are inclusive and which of them are exclusive. Try to figure your favourite way of accesing / slicing and remember that sometimes some of them make more sense than the others. "
   ]
  },
  {
   "cell_type": "code",
   "execution_count": null,
   "metadata": {},
   "outputs": [],
   "source": []
  },
  {
   "cell_type": "markdown",
   "metadata": {},
   "source": [
    "### Class-exercise 2"
   ]
  },
  {
   "cell_type": "code",
   "execution_count": 1,
   "metadata": {},
   "outputs": [],
   "source": [
    "import numpy as np"
   ]
  },
  {
   "cell_type": "markdown",
   "metadata": {},
   "source": [
    "1. Create a 2-d and 3-d numpy integer array "
   ]
  },
  {
   "cell_type": "code",
   "execution_count": null,
   "metadata": {},
   "outputs": [],
   "source": []
  },
  {
   "cell_type": "markdown",
   "metadata": {},
   "source": [
    "2. Create a 2X2 integer array and show it's dimensions"
   ]
  },
  {
   "cell_type": "code",
   "execution_count": null,
   "metadata": {},
   "outputs": [],
   "source": []
  },
  {
   "cell_type": "markdown",
   "metadata": {},
   "source": [
    "3. Create a numpy array and  print the sum of third and fourth elements from the array "
   ]
  },
  {
   "cell_type": "code",
   "execution_count": null,
   "metadata": {},
   "outputs": [],
   "source": []
  },
  {
   "cell_type": "markdown",
   "metadata": {},
   "source": [
    "4. Slice the below array to get the the second item to the excluding fifth item\n",
    "\n",
    "arr = np.array([10, 15, 20, 25, 30, 35, 40])"
   ]
  },
  {
   "cell_type": "code",
   "execution_count": null,
   "metadata": {},
   "outputs": [],
   "source": []
  },
  {
   "cell_type": "markdown",
   "metadata": {},
   "source": [
    "5. Try example 4. using STEP method"
   ]
  },
  {
   "cell_type": "code",
   "execution_count": null,
   "metadata": {},
   "outputs": [],
   "source": []
  },
  {
   "cell_type": "markdown",
   "metadata": {},
   "source": [
    "6. Create a integer array and change data type from integer to boolean\n",
    "\n"
   ]
  },
  {
   "cell_type": "code",
   "execution_count": 2,
   "metadata": {},
   "outputs": [
    {
     "data": {
      "text/plain": [
       "array([False,  True, False,  True,  True,  True])"
      ]
     },
     "execution_count": 2,
     "metadata": {},
     "output_type": "execute_result"
    }
   ],
   "source": [
    "np.array([0,1,0,1,2,3],dtype=bool)"
   ]
  },
  {
   "cell_type": "markdown",
   "metadata": {},
   "source": [
    "7. Use NumPy syntax to check the shape of an array.\n",
    "\n",
    "arr = np.array([1, 2, 3, 4, 5])"
   ]
  },
  {
   "cell_type": "code",
   "execution_count": null,
   "metadata": {},
   "outputs": [],
   "source": []
  },
  {
   "cell_type": "markdown",
   "metadata": {},
   "source": [
    "8. Find the indexes where the values are even:\n",
    "\n",
    "arr = [16, 8, 3, 7, 15, 24]"
   ]
  },
  {
   "cell_type": "code",
   "execution_count": null,
   "metadata": {},
   "outputs": [],
   "source": []
  },
  {
   "cell_type": "markdown",
   "metadata": {},
   "source": [
    "9. Create a numpy array of 5 person names and sort the values alpbabetically"
   ]
  },
  {
   "cell_type": "code",
   "execution_count": null,
   "metadata": {},
   "outputs": [],
   "source": []
  },
  {
   "cell_type": "markdown",
   "metadata": {},
   "source": [
    "10. Use the correct NumPy method to return a sorted array.\n",
    "\n",
    "  arr = np.array([3, 2, 0, 1])"
   ]
  },
  {
   "cell_type": "code",
   "execution_count": null,
   "metadata": {},
   "outputs": [],
   "source": []
  }
 ],
 "metadata": {
  "kernelspec": {
   "display_name": "Python 3 (ipykernel)",
   "language": "python",
   "name": "python3"
  },
  "language_info": {
   "codemirror_mode": {
    "name": "ipython",
    "version": 3
   },
   "file_extension": ".py",
   "mimetype": "text/x-python",
   "name": "python",
   "nbconvert_exporter": "python",
   "pygments_lexer": "ipython3",
   "version": "3.9.7"
  }
 },
 "nbformat": 4,
 "nbformat_minor": 4
}
