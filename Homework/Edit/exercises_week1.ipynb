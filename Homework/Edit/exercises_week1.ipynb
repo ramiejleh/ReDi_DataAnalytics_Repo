{
 "cells": [
  {
   "cell_type": "markdown",
   "id": "cea0001e",
   "metadata": {},
   "source": [
    "# Exercises week 1"
   ]
  },
  {
   "cell_type": "markdown",
   "id": "8de6fb7f",
   "metadata": {},
   "source": [
    "## Beginner exercises"
   ]
  },
  {
   "cell_type": "markdown",
   "id": "9c7a32b0",
   "metadata": {},
   "source": [
    "**Ex 1**: In the cell below, write a short text that demonstrates that you can\n",
    "* Create a section with a heading\n",
    "* Write words in bold and italics\n",
    "* Establish a [hyperlink](https://en.wikipedia.org/wiki/Hyperlink)\n",
    "\n"
   ]
  },
  {
   "cell_type": "markdown",
   "id": "3d54b01a",
   "metadata": {},
   "source": [
    "# Heading1\n",
    "## Heading 2\n",
    "### Heading 3\n",
    "**Bold text**\n",
    "\n",
    "*Italics text*\n",
    "\n",
    "[link](https://mail.google.com/mail/u/0/#inbox])"
   ]
  },
  {
   "cell_type": "markdown",
   "id": "06327b1f",
   "metadata": {},
   "source": [
    "**Ex 2** Calculate the remainder of the division of 18 by 7. "
   ]
  },
  {
   "cell_type": "code",
   "execution_count": 1,
   "id": "571a933a",
   "metadata": {},
   "outputs": [
    {
     "data": {
      "text/plain": [
       "4"
      ]
     },
     "execution_count": 1,
     "metadata": {},
     "output_type": "execute_result"
    }
   ],
   "source": [
    "18%7"
   ]
  },
  {
   "cell_type": "markdown",
   "id": "f35548ca",
   "metadata": {},
   "source": [
    "**Ex 3** Calcuate 3 to the power of 4; i.e. $3^4$"
   ]
  },
  {
   "cell_type": "code",
   "execution_count": 1,
   "id": "878b3dd7",
   "metadata": {},
   "outputs": [
    {
     "data": {
      "text/plain": [
       "81"
      ]
     },
     "execution_count": 1,
     "metadata": {},
     "output_type": "execute_result"
    }
   ],
   "source": [
    "3**4"
   ]
  },
  {
   "cell_type": "markdown",
   "id": "f214288c",
   "metadata": {},
   "source": [
    "**Ex 4** Calculate the square root of 49"
   ]
  },
  {
   "cell_type": "code",
   "execution_count": 5,
   "id": "7f9d4c58",
   "metadata": {},
   "outputs": [
    {
     "name": "stdout",
     "output_type": "stream",
     "text": [
      "7.0\n"
     ]
    }
   ],
   "source": [
    "import math\n",
    "print(math.sqrt(49))"
   ]
  },
  {
   "cell_type": "markdown",
   "id": "f5ad4f33",
   "metadata": {},
   "source": [
    "**Ex 5** Convert the following string to a float and round it to the nearest 3 digits after the decimal"
   ]
  },
  {
   "cell_type": "code",
   "execution_count": 1,
   "id": "53117c2f",
   "metadata": {},
   "outputs": [
    {
     "name": "stdout",
     "output_type": "stream",
     "text": [
      "Float Value = 3.14159265\n"
     ]
    },
    {
     "data": {
      "text/plain": [
       "3.142"
      ]
     },
     "execution_count": 1,
     "metadata": {},
     "output_type": "execute_result"
    }
   ],
   "source": [
    "s = '3.14159265'\n",
    "f = float(s)\n",
    "\n",
    "print('Float Value =', f)\n",
    "round(f, 3)"
   ]
  },
  {
   "cell_type": "code",
   "execution_count": 148,
   "id": "629d068a",
   "metadata": {},
   "outputs": [],
   "source": [
    "pi = \"3.14159265\""
   ]
  },
  {
   "cell_type": "markdown",
   "id": "f044aec2",
   "metadata": {},
   "source": [
    "**Ex 6** **Convert** the variable number=4.9 to an integer"
   ]
  },
  {
   "cell_type": "code",
   "execution_count": 91,
   "id": "9d65e65d",
   "metadata": {},
   "outputs": [
    {
     "name": "stdout",
     "output_type": "stream",
     "text": [
      "4\n"
     ]
    }
   ],
   "source": [
    "# conversion from float to int\n",
    "  \n",
    "num = 4.9 \n",
    "  \n",
    "# conversion to int\n",
    "num = int(num)   \n",
    "print(num)"
   ]
  },
  {
   "cell_type": "markdown",
   "id": "46a181e0",
   "metadata": {},
   "source": [
    "**Ex 7** Now round number=4.9 to the **nearest** integer. What is the difference between the converted number of the previous exercise and this exercise?"
   ]
  },
  {
   "cell_type": "code",
   "execution_count": 2,
   "id": "d6897a03",
   "metadata": {},
   "outputs": [
    {
     "data": {
      "text/plain": [
       "5"
      ]
     },
     "execution_count": 2,
     "metadata": {},
     "output_type": "execute_result"
    }
   ],
   "source": [
    "# conversion from float to int\n",
    "  \n",
    "num = 4.9\n",
    "round(num)"
   ]
  },
  {
   "cell_type": "markdown",
   "id": "b72332f6",
   "metadata": {},
   "source": [
    "**Ex 8** Calculate the length of the following list (i.e. how many names are in the list) and print each of its values separated by a newline. The output of the print statement(s) should look like this: \\\n",
    "\\\n",
    "Miriam \\\n",
    "Tim \\\n",
    "Jing \\\n",
    "..."
   ]
  },
  {
   "cell_type": "code",
   "execution_count": 3,
   "id": "b323da2f",
   "metadata": {},
   "outputs": [
    {
     "name": "stdout",
     "output_type": "stream",
     "text": [
      "6\n",
      "Miriam-Tim-Jing-Carlos-Ruben-Ashley\n"
     ]
    }
   ],
   "source": [
    "names = [\"Miriam\", \"Tim\", \"Jing\", \"Carlos\", \"Ruben\", \"Ashley\"]\n",
    "print(len(names))\n",
    "print(*names, sep=\"-\")"
   ]
  },
  {
   "cell_type": "markdown",
   "id": "f4dc0eba",
   "metadata": {},
   "source": [
    "**Ex 9** Add a list with the following new names to the previous list \\\n",
    "new_names = [\"Pablo\", \"Lise\"]"
   ]
  },
  {
   "cell_type": "code",
   "execution_count": 4,
   "id": "6a278348",
   "metadata": {},
   "outputs": [
    {
     "name": "stdout",
     "output_type": "stream",
     "text": [
      "['Miriam', 'Tim', 'Jing', 'Carlos', 'Ruben', 'Ashley', 'Pablo', 'Lise']\n"
     ]
    }
   ],
   "source": [
    "names = [\"Miriam\", \"Tim\", \"Jing\", \"Carlos\", \"Ruben\", \"Ashley\"]\n",
    "new_names = [\"Pablo\", \"Lise\"]\n",
    "names.extend(new_names)\n",
    "print(names) "
   ]
  },
  {
   "cell_type": "markdown",
   "id": "e4a626b1",
   "metadata": {},
   "source": [
    "**Ex 10** Print the second and second to last name of the newly created list. The output should be Tim and Pablo"
   ]
  },
  {
   "cell_type": "code",
   "execution_count": 96,
   "id": "5df4210a",
   "metadata": {},
   "outputs": [
    {
     "name": "stdout",
     "output_type": "stream",
     "text": [
      "Pablo\n",
      "Tim\n"
     ]
    }
   ],
   "source": [
    "print(names[len(names)-2])\n",
    "print(names[1])"
   ]
  },
  {
   "cell_type": "markdown",
   "id": "e1536273",
   "metadata": {},
   "source": [
    "**Ex 11** Calculate the sum and the average of the value in the following list"
   ]
  },
  {
   "cell_type": "code",
   "execution_count": 11,
   "id": "f86764f6",
   "metadata": {},
   "outputs": [
    {
     "name": "stdout",
     "output_type": "stream",
     "text": [
      "Average of the list = 31.17\n",
      "31.166666666666668\n"
     ]
    }
   ],
   "source": [
    "age = [11, 22, 33, 44, 22, 55]\n",
    "\n",
    "# Python program to get average of a list\n",
    "def Average(lst):\n",
    "    return sum(lst) / len(lst)\n",
    "  \n",
    "# Driver Code\n",
    "lst = [11, 22, 33, 44, 22, 55]\n",
    "average = Average(lst)\n",
    "  \n",
    "# Printing average of the list\n",
    "print(\"Average of the list =\", round(average, 2))\n",
    "\n",
    "\n",
    "print(sum(age)/len(age))"
   ]
  },
  {
   "cell_type": "markdown",
   "id": "281a7229",
   "metadata": {},
   "source": [
    "**Ex 12** Sort the age list in an ascending (increasing) order and get the count of the number 22 within the list (i.e; calculate how often the number 22 appears in the age list"
   ]
  },
  {
   "cell_type": "code",
   "execution_count": 99,
   "id": "ccff3e9f",
   "metadata": {},
   "outputs": [
    {
     "name": "stdout",
     "output_type": "stream",
     "text": [
      "[11, 22, 22, 33, 44, 55]\n",
      "2\n"
     ]
    }
   ],
   "source": [
    "age = [11, 22, 33, 44, 22, 55]\n",
    "age.sort()\n",
    "print(age)\n",
    "count = age.count(22)\n",
    "print(count)"
   ]
  },
  {
   "cell_type": "markdown",
   "id": "aa6357f7",
   "metadata": {},
   "source": [
    "**Ex 13** Write a function to calculate the sum of three given numbers, if the values are equal then return three times of their sum."
   ]
  },
  {
   "cell_type": "code",
   "execution_count": 14,
   "id": "669d8a97",
   "metadata": {},
   "outputs": [
    {
     "name": "stdout",
     "output_type": "stream",
     "text": [
      "The numbers are not equal\n"
     ]
    }
   ],
   "source": [
    "a=3\n",
    "b=4\n",
    "c=4\n",
    "\n",
    "sum=a+b+c\n",
    "if a==b==c:\n",
    "    print(sum * 3)\n",
    "else:\n",
    "    print('The numbers are not equal')"
   ]
  },
  {
   "cell_type": "markdown",
   "id": "083c56f2",
   "metadata": {},
   "source": [
    "**Ex 14** Write a function to check if a value is within the following list. The output should look like this:\\\n",
    "Miriam was found in the list\\\n",
    "Peter was not found in the list"
   ]
  },
  {
   "cell_type": "code",
   "execution_count": 26,
   "id": "0e255c64",
   "metadata": {},
   "outputs": [
    {
     "name": "stdout",
     "output_type": "stream",
     "text": [
      "John was not found in the list\n"
     ]
    }
   ],
   "source": [
    "names = [\"Miriam\", \"Tim\", \"Jing\", \"Carlos\", \"Ruben\", \"Ashley\"]\n",
    "value=\"John\"\n",
    "\n",
    "if value in names:\n",
    "    print(value + \" was found in the list\")\n",
    "else:\n",
    "    print(value + \" was not found in the list\")"
   ]
  },
  {
   "cell_type": "markdown",
   "id": "c298f0d6",
   "metadata": {},
   "source": [
    "**Ex 15** Write a function that will accept the base and height of a triangle and compute the area. The area of a triangle is calculate as Area= 0.5 * height * base"
   ]
  },
  {
   "cell_type": "code",
   "execution_count": 27,
   "id": "0d4f6303",
   "metadata": {},
   "outputs": [
    {
     "name": "stdout",
     "output_type": "stream",
     "text": [
      "1.0\n"
     ]
    }
   ],
   "source": [
    "def compute_area(base,height):\n",
    "    return 0.5*height*base\n",
    "\n",
    "print(compute_area(1,2))"
   ]
  },
  {
   "cell_type": "code",
   "execution_count": 31,
   "id": "70ead929",
   "metadata": {},
   "outputs": [
    {
     "name": "stdout",
     "output_type": "stream",
     "text": [
      "Editwa, your name is too long\n"
     ]
    }
   ],
   "source": [
    "def name(names):\n",
    "    if len(names) > 5:\n",
    "        print(names + \", your name is too long\")\n",
    "    else:\n",
    "        print(\"Hello \" + names + \"!\")\n",
    "        \n",
    "name(\"Editwa\")"
   ]
  },
  {
   "cell_type": "markdown",
   "id": "8bf072f4",
   "metadata": {},
   "source": [
    "## Intermediate exercises"
   ]
  },
  {
   "cell_type": "markdown",
   "id": "380790fa",
   "metadata": {},
   "source": [
    "**Ex1** Print **only** the strings within the following list. Use the isinstance function to compare the type of a variable against its expected type"
   ]
  },
  {
   "cell_type": "code",
   "execution_count": 3,
   "id": "0f3ccb26",
   "metadata": {},
   "outputs": [
    {
     "name": "stdout",
     "output_type": "stream",
     "text": [
      "Miriam\n",
      "Tim\n",
      "Jing\n",
      "Carlos\n"
     ]
    }
   ],
   "source": [
    "students = [\"Miriam\", 22, \"Tim\", 25, \"Jing\", 28, \"Carlos\"]\n",
    "for item in students:\n",
    "    if isinstance(item, str):\n",
    "        print(item)\n"
   ]
  },
  {
   "cell_type": "markdown",
   "id": "4b99d2ed",
   "metadata": {},
   "source": [
    "**Ex 2** For the following two lists, print the student name followed by their age. HINT: use the zip function"
   ]
  },
  {
   "cell_type": "code",
   "execution_count": 14,
   "id": "e5fd5bd4",
   "metadata": {},
   "outputs": [
    {
     "name": "stdout",
     "output_type": "stream",
     "text": [
      "(('Miriam', 25), ('Tim', 22), ('Jing', 24), ('Carlos', 33), ('Ruben', 22), ('Ashley', 21))\n"
     ]
    }
   ],
   "source": [
    "names = [\"Miriam\", \"Tim\", \"Jing\", \"Carlos\", \"Ruben\", \"Ashley\"]\n",
    "ages =  [25, 22, 24, 33, 22, 21, 20]\n",
    "\n",
    "names_ages= zip(names, ages)\n",
    "\n",
    "print(tuple(names_ages))"
   ]
  },
  {
   "cell_type": "markdown",
   "id": "fcdb19c6",
   "metadata": {},
   "source": [
    "**Ex 3** Create a dictionary which keys are the names of the students and the corresponding values are their age. The dictionary should look like this \\\n",
    "{'Miriam': 25, 'Tim': 22, 'Jing': 24, 'Carlos': 33, 'Ruben': 22, 'Ashley': 21}"
   ]
  },
  {
   "cell_type": "code",
   "execution_count": 18,
   "id": "2ecdd8d4",
   "metadata": {},
   "outputs": [
    {
     "name": "stdout",
     "output_type": "stream",
     "text": [
      "{'Miriam': 25, 'Tim': 22, 'Jing': 24, 'Carlos': 33, 'Ruben': 22, 'Ashley': 21}\n"
     ]
    }
   ],
   "source": [
    "students = {\n",
    "  \"Miriam\": 25,\n",
    "  \"Tim\": 22,\n",
    "  \"Jing\": 24,\n",
    "  \"Carlos\": 33,\n",
    "  \"Ruben\": 22,\n",
    "  \"Ashley\": 21\n",
    "}\n",
    "print(students)\n",
    "\n",
    "# You need to do this programmatically. What if you had to make 1000 entries?"
   ]
  },
  {
   "cell_type": "markdown",
   "id": "dc5c34eb",
   "metadata": {},
   "source": [
    "**Ex 4** Create a nested dictionary to assign to each student their age and grade. The output should look like this \\\n",
    "{'Miriam': {'age': 25, 'grade': 12},\n",
    " 'Tim': {'age': 22, 'grade': 12},\n",
    " 'Jing': {'age': 24, 'grade': 12},\n",
    " 'Carlos': {'age': 33, 'grade': 10},\n",
    " 'Ruben': {'age': 22, 'grade': 7},\n",
    " 'Ashley': {'age': 21, 'grade': 10}}"
   ]
  },
  {
   "cell_type": "code",
   "execution_count": 3,
   "id": "04dd84ca",
   "metadata": {},
   "outputs": [
    {
     "name": "stdout",
     "output_type": "stream",
     "text": [
      "{'Miriam': {'age': 25, 'grade': 12}, 'Tim': {'age': 22, 'grade': 12}, 'Jing': {'age': 24, 'grade': 12}, 'Carlos': {'age': 33, 'grade': 10}, 'Ruben': {'age': 22, 'grade': 7}, 'Ashley': {'age': 21, 'grade': 10}}\n"
     ]
    }
   ],
   "source": [
    "grades = [12, 12, 12, 10, 7, 10]\n",
    "students = {\n",
    "  \"Miriam\" : {\n",
    "    \"age\" : 25,\n",
    "    \"grade\" : 12 \n",
    "  },\n",
    "  \"Tim\" : {\n",
    "    \"age\" : 22,\n",
    "    \"grade\" : 12\n",
    "  },\n",
    "  \"Jing\" : {\n",
    "    \"age\" : 24,\n",
    "    \"grade\" : 12\n",
    "  },\n",
    "  \"Carlos\" : {\n",
    "    \"age\" : 33,\n",
    "    \"grade\" : 10\n",
    "  },\n",
    "  \"Ruben\" : {\n",
    "    \"age\" : 22,\n",
    "    \"grade\" : 7\n",
    "  },\n",
    "  \"Ashley\" : {\n",
    "    \"age\" : 21,\n",
    "    \"grade\" : 10\n",
    "  }\n",
    "}\n",
    "\n",
    "print(students)\n",
    "\n",
    "\n",
    "# You need to do this programmatically. What if you had to make 1000 entries?"
   ]
  },
  {
   "cell_type": "markdown",
   "id": "aef2fb86",
   "metadata": {},
   "source": [
    "**Ex 5** Miriam decided to drop out of the class. Remove her entry in the students dictionary."
   ]
  },
  {
   "cell_type": "code",
   "execution_count": 4,
   "id": "25357fc5",
   "metadata": {},
   "outputs": [
    {
     "name": "stdout",
     "output_type": "stream",
     "text": [
      "{'Tim': {'age': 22, 'grade': 12}, 'Jing': {'age': 24, 'grade': 12}, 'Carlos': {'age': 33, 'grade': 10}, 'Ruben': {'age': 22, 'grade': 7}, 'Ashley': {'age': 21, 'grade': 10}}\n"
     ]
    }
   ],
   "source": [
    "students.pop(\"Miriam\")\n",
    "print(students)"
   ]
  },
  {
   "cell_type": "markdown",
   "id": "706b1cea",
   "metadata": {},
   "source": [
    "**Ex 6** First, generate a sequence of numbers from 1 to 20. Then print **only** the numbers for which the remainder is 0 when being divided by 6. E.g. 12 because 12/6 = 2. The output should be 6, 12 and 18"
   ]
  },
  {
   "cell_type": "code",
   "execution_count": 21,
   "id": "3b95bbe3",
   "metadata": {},
   "outputs": [
    {
     "name": "stdout",
     "output_type": "stream",
     "text": [
      "6 12 18\n"
     ]
    }
   ],
   "source": [
    "numbers = range(1, 20)\n",
    "\n",
    "result = []\n",
    "for number in numbers:\n",
    "   if number % 6 == 0: # red font means indentation error here\n",
    "      result.append(number)\n",
    "\n",
    "print(*result)"
   ]
  },
  {
   "cell_type": "markdown",
   "id": "e1a52ec7",
   "metadata": {},
   "source": [
    "**Ex 7** Generate  \\\n",
    "\"The holidays will begin on: 25/11/1992\"  \\\n",
    "from the following tuple "
   ]
  },
  {
   "cell_type": "code",
   "execution_count": 32,
   "id": "a5d00a14",
   "metadata": {},
   "outputs": [],
   "source": [
    "date = (25, 11, 1992)\n"
   ]
  },
  {
   "cell_type": "markdown",
   "id": "6ed8e31c",
   "metadata": {},
   "source": [
    "**Ex 8** Write a function to find whether a given number is even or odd, print out an appropriate message."
   ]
  },
  {
   "cell_type": "code",
   "execution_count": 34,
   "id": "f899c23b",
   "metadata": {},
   "outputs": [
    {
     "name": "stdout",
     "output_type": "stream",
     "text": [
      "Enter a number: 2\n",
      "2 is an even number\n"
     ]
    }
   ],
   "source": [
    "num = int(input(\"Enter a number: \"))\n",
    "if (num % 2) == 0:\n",
    "   print(\"{0} is an even number\".format(num)) # red font means indentation error here\n",
    "else:\n",
    "   print(\"{0} is an odd\".format(num))"
   ]
  },
  {
   "cell_type": "markdown",
   "id": "550ffd8c",
   "metadata": {},
   "source": [
    "**Ex 9** Make a program ask for a name, and then write a greeting using that name.\\\n",
    "HINT: use the input function to get the user input (e.g. name=input(\"Write your username\"))\n",
    "\n",
    "\\\n",
    "The output should look similar to this:\\\n",
    "Please type your username Adrian\\\n",
    "Hello Adrian."
   ]
  },
  {
   "cell_type": "code",
   "execution_count": 3,
   "id": "01f6eaf1",
   "metadata": {},
   "outputs": [
    {
     "name": "stdout",
     "output_type": "stream",
     "text": [
      "Please write your username edit\n",
      "Hello edit\n"
     ]
    }
   ],
   "source": [
    "name=input(\"Please write your username \")\n",
    "print(\"Hello \" + name)\n",
    "\n",
    "# Make a program means you should probably use functions!"
   ]
  },
  {
   "cell_type": "markdown",
   "id": "f2432417",
   "metadata": {},
   "source": [
    "**Ex 10** Ask for two numbers and ask what operation to perform on them (+, - , *, /) and display the numbers and the result. Again, use the input function.\\\n",
    "The output should look like this\n",
    "\n",
    "\\\n",
    "Please type two numbers and a mathematical operator to perform on them. All 3 inputs must be separated by a whitespace 1 1.5 +\\\n",
    "The result is: 2.5\n",
    "\n",
    "\n",
    "Please type two numbers and a mathematical operator to perform on them. All 3 inputs must be separated by a whitespace 2 2 *\\\n",
    "The result is: 4.0"
   ]
  },
  {
   "cell_type": "code",
   "execution_count": 11,
   "id": "85472cd4",
   "metadata": {},
   "outputs": [
    {
     "name": "stdout",
     "output_type": "stream",
     "text": [
      "Please type two numbers and a mathematical operator to perform on them. All 3 inputs must be separated by a whitespace 4 12 +\n",
      "16\n"
     ]
    }
   ],
   "source": [
    "numbers_mathematical_operator=input(\"Please type two numbers and a mathematical operator to perform on them. All 3 inputs must be separated by a whitespace \").split()\n",
    "number1=int(numbers_mathematical_operator[0])\n",
    "number2=int(numbers_mathematical_operator[1])\n",
    "operator=numbers_mathematical_operator[2]\n",
    "if operator == \"+\":\n",
    "    print(number1+number2)\n",
    "elif operator == \"-\":\n",
    "    print(number1-number2)\n",
    "elif operator == \"/\":\n",
    "    print(number1/number2)\n",
    "elif operator == \"*\":\n",
    "    print(number1*number2)\n"
   ]
  },
  {
   "cell_type": "markdown",
   "id": "2b26ca0e",
   "metadata": {},
   "source": [
    "**Ex 11** Write a function to calculate the factorial (n!) (e.g. 4! = 4 * 3 * 2 * 1. Perform input control. For example, the input must be a positive integer. Thus, if the input is negative, the function should return an error message. The same applies for inputs with type float or str.\\\n",
    "\n",
    "The output should look like:\\\n",
    "1 = factorial(0)\\\n",
    "1 = factorial(1)\\\n",
    "6 = factorial(3)\\\n",
    "24 = factorial(4)"
   ]
  },
  {
   "cell_type": "code",
   "execution_count": 1,
   "id": "b9d92360",
   "metadata": {},
   "outputs": [
    {
     "name": "stdout",
     "output_type": "stream",
     "text": [
      "Please write a number 5\n",
      "The factorial of 5 is 120\n"
     ]
    }
   ],
   "source": [
    "def factorial_number():\n",
    "    number_input=input(\"Please write a number \")\n",
    "    try:\n",
    "        numb=int(number_input)\n",
    "        if numb < 0:\n",
    "            print(\"Sorry, factorial does not exist for negative numbers\")\n",
    "        elif numb == 0:\n",
    "            print(\"The factorial of 0 is 1\")\n",
    "        else:\n",
    "            factorial=1\n",
    "            for i in range(1,numb + 1):\n",
    "                factorial = factorial*i\n",
    "            print(\"The factorial of\",numb,\"is\",factorial)\n",
    "    except ValueError:\n",
    "        print(\"The input is not an int \")    \n",
    "factorial_number()"
   ]
  },
  {
   "cell_type": "markdown",
   "id": "bc9c0ed2",
   "metadata": {},
   "source": [
    "**Ex 12** Write a program (using functions!) that asks the user for a long string containing multiple words. Print back to the user the same string, except with the words in backwards order. For example, say I type the string:\n",
    "\n",
    "  My name is Michele\\\n",
    "Then I would see the string:\n",
    "\n",
    "  Michele is name My\\\n",
    "shown back to me."
   ]
  },
  {
   "cell_type": "code",
   "execution_count": null,
   "id": "7b60fded",
   "metadata": {},
   "outputs": [],
   "source": []
  },
  {
   "cell_type": "markdown",
   "id": "406d0415",
   "metadata": {},
   "source": [
    "**Ex 13** Write a small function to check if a string is a Palindrome (https://en.wikipedia.org/wiki/Palindrome)\n",
    "\n",
    "The output could look like this:\n",
    "\n",
    "Tenet is a Palindrome\\\n",
    "China is not Palindrome"
   ]
  },
  {
   "cell_type": "code",
   "execution_count": null,
   "id": "d5276e91",
   "metadata": {},
   "outputs": [],
   "source": []
  }
 ],
 "metadata": {
  "kernelspec": {
   "display_name": "Python 3 (ipykernel)",
   "language": "python",
   "name": "python3"
  },
  "language_info": {
   "codemirror_mode": {
    "name": "ipython",
    "version": 3
   },
   "file_extension": ".py",
   "mimetype": "text/x-python",
   "name": "python",
   "nbconvert_exporter": "python",
   "pygments_lexer": "ipython3",
   "version": "3.8.8"
  }
 },
 "nbformat": 4,
 "nbformat_minor": 5
}
