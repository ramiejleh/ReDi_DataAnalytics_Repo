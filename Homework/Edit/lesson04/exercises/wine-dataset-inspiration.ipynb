{
 "cells": [
  {
   "cell_type": "markdown",
   "metadata": {},
   "source": [
    "#### Time for an exercise session on the Data Manipulation. We will continue working with the wine dataset.\n",
    "\n",
    "Columns in the dataset:\n",
    "- \"country\": Country of which the wine was produced\n",
    "- \"description\": Description of the taste (qualitative)\n",
    "- \"designation\": Amount of points a profesisonal wine taster rated the wine\n",
    "- \"points\": Points rated by the wine taster (quantitative)\n",
    "- \"price\": Selling price of the wine\n",
    "- \"province\": Province of the country which the wine originates from\n",
    "- \"region_1\": One entry of which region the wine originates from\n",
    "- \"region_2\": Another entry of which region the wine originates from\n",
    "- \"taster_name\": Name of the professional wine taster who rated the wine\n",
    "- \"taster_twitter_handle\": Twitter username of the professional wine taster\n",
    "- \"title\": Competition of which the wine taster tasted the wine\n",
    "- \"variety\": Category of wine"
   ]
  },
  {
   "cell_type": "markdown",
   "metadata": {},
   "source": [
    "#### Start with loading the dataset from the data subfolder"
   ]
  },
  {
   "cell_type": "code",
   "execution_count": 2,
   "metadata": {},
   "outputs": [
    {
     "data": {
      "text/html": [
       "<div>\n",
       "<style scoped>\n",
       "    .dataframe tbody tr th:only-of-type {\n",
       "        vertical-align: middle;\n",
       "    }\n",
       "\n",
       "    .dataframe tbody tr th {\n",
       "        vertical-align: top;\n",
       "    }\n",
       "\n",
       "    .dataframe thead th {\n",
       "        text-align: right;\n",
       "    }\n",
       "</style>\n",
       "<table border=\"1\" class=\"dataframe\">\n",
       "  <thead>\n",
       "    <tr style=\"text-align: right;\">\n",
       "      <th></th>\n",
       "      <th>country</th>\n",
       "      <th>description</th>\n",
       "      <th>designation</th>\n",
       "      <th>points</th>\n",
       "      <th>price</th>\n",
       "      <th>province</th>\n",
       "      <th>region_1</th>\n",
       "      <th>region_2</th>\n",
       "      <th>taster_name</th>\n",
       "      <th>taster_twitter_handle</th>\n",
       "      <th>title</th>\n",
       "      <th>variety</th>\n",
       "      <th>winery</th>\n",
       "    </tr>\n",
       "  </thead>\n",
       "  <tbody>\n",
       "    <tr>\n",
       "      <th>0</th>\n",
       "      <td>Italy</td>\n",
       "      <td>Aromas include tropical fruit, broom, brimston...</td>\n",
       "      <td>Vulkà Bianco</td>\n",
       "      <td>87</td>\n",
       "      <td>NaN</td>\n",
       "      <td>Sicily &amp; Sardinia</td>\n",
       "      <td>Etna</td>\n",
       "      <td>NaN</td>\n",
       "      <td>Kerin O’Keefe</td>\n",
       "      <td>@kerinokeefe</td>\n",
       "      <td>Nicosia 2013 Vulkà Bianco  (Etna)</td>\n",
       "      <td>White Blend</td>\n",
       "      <td>Nicosia</td>\n",
       "    </tr>\n",
       "    <tr>\n",
       "      <th>1</th>\n",
       "      <td>Portugal</td>\n",
       "      <td>This is ripe and fruity, a wine that is smooth...</td>\n",
       "      <td>Avidagos</td>\n",
       "      <td>87</td>\n",
       "      <td>15.0</td>\n",
       "      <td>Douro</td>\n",
       "      <td>NaN</td>\n",
       "      <td>NaN</td>\n",
       "      <td>Roger Voss</td>\n",
       "      <td>@vossroger</td>\n",
       "      <td>Quinta dos Avidagos 2011 Avidagos Red (Douro)</td>\n",
       "      <td>Portuguese Red</td>\n",
       "      <td>Quinta dos Avidagos</td>\n",
       "    </tr>\n",
       "    <tr>\n",
       "      <th>2</th>\n",
       "      <td>US</td>\n",
       "      <td>Tart and snappy, the flavors of lime flesh and...</td>\n",
       "      <td>NaN</td>\n",
       "      <td>87</td>\n",
       "      <td>14.0</td>\n",
       "      <td>Oregon</td>\n",
       "      <td>Willamette Valley</td>\n",
       "      <td>Willamette Valley</td>\n",
       "      <td>Paul Gregutt</td>\n",
       "      <td>@paulgwine</td>\n",
       "      <td>Rainstorm 2013 Pinot Gris (Willamette Valley)</td>\n",
       "      <td>Pinot Gris</td>\n",
       "      <td>Rainstorm</td>\n",
       "    </tr>\n",
       "    <tr>\n",
       "      <th>3</th>\n",
       "      <td>US</td>\n",
       "      <td>Pineapple rind, lemon pith and orange blossom ...</td>\n",
       "      <td>Reserve Late Harvest</td>\n",
       "      <td>87</td>\n",
       "      <td>13.0</td>\n",
       "      <td>Michigan</td>\n",
       "      <td>Lake Michigan Shore</td>\n",
       "      <td>NaN</td>\n",
       "      <td>Alexander Peartree</td>\n",
       "      <td>NaN</td>\n",
       "      <td>St. Julian 2013 Reserve Late Harvest Riesling ...</td>\n",
       "      <td>Riesling</td>\n",
       "      <td>St. Julian</td>\n",
       "    </tr>\n",
       "    <tr>\n",
       "      <th>4</th>\n",
       "      <td>US</td>\n",
       "      <td>Much like the regular bottling from 2012, this...</td>\n",
       "      <td>Vintner's Reserve Wild Child Block</td>\n",
       "      <td>87</td>\n",
       "      <td>65.0</td>\n",
       "      <td>Oregon</td>\n",
       "      <td>Willamette Valley</td>\n",
       "      <td>Willamette Valley</td>\n",
       "      <td>Paul Gregutt</td>\n",
       "      <td>@paulgwine</td>\n",
       "      <td>Sweet Cheeks 2012 Vintner's Reserve Wild Child...</td>\n",
       "      <td>Pinot Noir</td>\n",
       "      <td>Sweet Cheeks</td>\n",
       "    </tr>\n",
       "  </tbody>\n",
       "</table>\n",
       "</div>"
      ],
      "text/plain": [
       "    country                                        description  \\\n",
       "0     Italy  Aromas include tropical fruit, broom, brimston...   \n",
       "1  Portugal  This is ripe and fruity, a wine that is smooth...   \n",
       "2        US  Tart and snappy, the flavors of lime flesh and...   \n",
       "3        US  Pineapple rind, lemon pith and orange blossom ...   \n",
       "4        US  Much like the regular bottling from 2012, this...   \n",
       "\n",
       "                          designation  points  price           province  \\\n",
       "0                        Vulkà Bianco      87    NaN  Sicily & Sardinia   \n",
       "1                            Avidagos      87   15.0              Douro   \n",
       "2                                 NaN      87   14.0             Oregon   \n",
       "3                Reserve Late Harvest      87   13.0           Michigan   \n",
       "4  Vintner's Reserve Wild Child Block      87   65.0             Oregon   \n",
       "\n",
       "              region_1           region_2         taster_name  \\\n",
       "0                 Etna                NaN       Kerin O’Keefe   \n",
       "1                  NaN                NaN          Roger Voss   \n",
       "2    Willamette Valley  Willamette Valley        Paul Gregutt   \n",
       "3  Lake Michigan Shore                NaN  Alexander Peartree   \n",
       "4    Willamette Valley  Willamette Valley        Paul Gregutt   \n",
       "\n",
       "  taster_twitter_handle                                              title  \\\n",
       "0          @kerinokeefe                  Nicosia 2013 Vulkà Bianco  (Etna)   \n",
       "1            @vossroger      Quinta dos Avidagos 2011 Avidagos Red (Douro)   \n",
       "2           @paulgwine       Rainstorm 2013 Pinot Gris (Willamette Valley)   \n",
       "3                   NaN  St. Julian 2013 Reserve Late Harvest Riesling ...   \n",
       "4           @paulgwine   Sweet Cheeks 2012 Vintner's Reserve Wild Child...   \n",
       "\n",
       "          variety               winery  \n",
       "0     White Blend              Nicosia  \n",
       "1  Portuguese Red  Quinta dos Avidagos  \n",
       "2      Pinot Gris            Rainstorm  \n",
       "3        Riesling           St. Julian  \n",
       "4      Pinot Noir         Sweet Cheeks  "
      ]
     },
     "execution_count": 2,
     "metadata": {},
     "output_type": "execute_result"
    }
   ],
   "source": [
    "import pandas as pd\n",
    "import numpy as np\n",
    "import matplotlib.pyplot as plt\n",
    "\n",
    "df = pd.read_csv(\"data/wine.csv\", index_col=0)\n",
    "df.head()"
   ]
  },
  {
   "cell_type": "code",
   "execution_count": 3,
   "metadata": {},
   "outputs": [
    {
     "data": {
      "text/plain": [
       "(array([ 1089.,  4861., 16010., 29533., 29433., 26769., 16102.,  5293.,\n",
       "          752.,   129.]),\n",
       " array([ 80.,  82.,  84.,  86.,  88.,  90.,  92.,  94.,  96.,  98., 100.]),\n",
       " <BarContainer object of 10 artists>)"
      ]
     },
     "execution_count": 3,
     "metadata": {},
     "output_type": "execute_result"
    },
    {
     "data": {
      "image/png": "[encoded data removed]",
      "text/plain": [
       "<Figure size 432x288 with 1 Axes>"
      ]
     },
     "metadata": {
      "needs_background": "light"
     },
     "output_type": "display_data"
    }
   ],
   "source": [
    "# plotting a histogram to show the distribution of data\n",
    "fig, ax = plt.subplots()\n",
    "ax.hist(df[\"points\"])"
   ]
  },
  {
   "cell_type": "code",
   "execution_count": 4,
   "metadata": {},
   "outputs": [
    {
     "data": {
      "text/plain": [
       "<BarContainer object of 43 artists>"
      ]
     },
     "execution_count": 4,
     "metadata": {},
     "output_type": "execute_result"
    },
    {
     "data": {
      "image/png": "[encoded data removed]",
      "text/plain": [
       "<Figure size 1296x576 with 1 Axes>"
      ]
     },
     "metadata": {
      "needs_background": "light"
     },
     "output_type": "display_data"
    }
   ],
   "source": [
    "# using a \"groupby\" to summarize results on country level\n",
    "temp = df[[\"points\", \"country\"]].copy()\n",
    "\n",
    "temp = temp.groupby(by=[\"country\"]).mean() # variations: .max() .min() .mean() .median() .count()\n",
    "temp = temp.sort_values(by=[\"points\"])\n",
    "\n",
    "fig, ax = plt.subplots(figsize=(18,8))\n",
    "ax.barh(temp.index, temp[\"points\"])"
   ]
  },
  {
   "cell_type": "code",
   "execution_count": 7,
   "metadata": {
    "scrolled": true
   },
   "outputs": [
    {
     "name": "stdout",
     "output_type": "stream",
     "text": [
      "Mean absolute error: 2.24\n",
      "This metric means that we predict only 2.24 points incorrect on average. It might seem as a good result, but in reality, its not.\n"
     ]
    },
    {
     "data": {
      "image/png": "[encoded data removed]",
      "text/plain": [
       "<Figure size 432x288 with 1 Axes>"
      ]
     },
     "metadata": {
      "needs_background": "light"
     },
     "output_type": "display_data"
    }
   ],
   "source": [
    "# a generic setup to predict something using Machine Learning in Python\n",
    "from sklearn.preprocessing import LabelEncoder\n",
    "from sklearn.ensemble import RandomForestRegressor\n",
    "from sklearn.model_selection import train_test_split\n",
    "from sklearn.metrics import mean_absolute_error\n",
    "\n",
    "# in this example, we want to predict the rating of points of a wine\n",
    "# given that we know which country it is from, and what variety of wine it is\n",
    "temp = df[[\"points\", \"country\", \"variety\"]].copy()\n",
    "\n",
    "# here, we encode the columns \"country\" and \"variety\" because it is string (text). We need to encode (encode = transform)\n",
    "# to make this into numbers which represents the data\n",
    "scaler = LabelEncoder()\n",
    "temp[\"country\"] = scaler.fit_transform(temp[\"country\"])\n",
    "temp[\"variety\"] = scaler.fit_transform(temp[\"variety\"])\n",
    "\n",
    "# we split the data into x variables and y variables (we use x to predict y)\n",
    "x = temp[[\"country\", \"variety\"]]\n",
    "y = temp[\"points\"]\n",
    "\n",
    "# we split the data into \"training data\" and \"testing data\"\n",
    "# we use the relationships estimated in the training data to predict what is located in the testing data\n",
    "x_train, x_test, y_train, y_test = train_test_split(x, y, test_size=.25, random_state=0)\n",
    "\n",
    "# we train our model to fit the data\n",
    "model = RandomForestRegressor()\n",
    "model.fit(x_train, y_train)\n",
    "\n",
    "# we use the fitted model to predict our testing data\n",
    "y_pred = model.predict(x_test)\n",
    "\n",
    "predictions = pd.DataFrame({'prediction': np.array(y_pred),\n",
    "                            'actual': np.array(y_test.reset_index(drop=True))}).sort_values(by=[\"actual\"]).reset_index()\n",
    "\n",
    "\n",
    "# plotting the predictions\n",
    "fig, ax = plt.subplots()\n",
    "ax.plot(predictions[\"prediction\"], label=\"predicted\")\n",
    "ax.plot(predictions[\"actual\"], label=\"actual\")\n",
    "ax.legend()\n",
    "\n",
    "print(\"Mean absolute error:\", round(mean_absolute_error(predictions[\"prediction\"], predictions[\"actual\"]), 2))\n",
    "print(\"This metric means that we predict only 2.24 points incorrect on average. It might seem as a good result, but in reality, its not.\")\n",
    "print(\"(The bad predictions are visualized in the plot below)\")"
   ]
  },
  {
   "cell_type": "markdown",
   "metadata": {},
   "source": [
    "## What could be interesting for companies and projects?\n",
    "- Prediction the sales of the company in the next period\n",
    "    - Examples:\n",
    "        - Relationship between ice cream and temperature\n",
    "        - Prediction when to do the next maintenance in the production facility\n",
    "        - What product is sold most in each month\n",
    "    - Methods:\n",
    "        - Regression analysis\n",
    "        - Correlation analysis\n",
    "- Figure out when is the optimal time to buy stock (inventory)\n",
    "- Figure out which items is most frequently bought together (recommendation systems)\n",
    "    - Methods:\n",
    "        - Frequent Itemset\n",
    "- Sentiment analysis of customer reviews\n",
    "- Anything related to being green\n",
    "    - Examples:\n",
    "        - Reducing waste (Waste Managment)\n",
    "        - Reducting electrical consumption \n",
    "- Web Scraping (for data)\n",
    "    - Python package: beautifulsoup4"
   ]
  }
 ],
 "metadata": {
  "kernelspec": {
   "display_name": "Python 3 (ipykernel)",
   "language": "python",
   "name": "python3"
  },
  "language_info": {
   "codemirror_mode": {
    "name": "ipython",
    "version": 3
   },
   "file_extension": ".py",
   "mimetype": "text/x-python",
   "name": "python",
   "nbconvert_exporter": "python",
   "pygments_lexer": "ipython3",
   "version": "3.9.7"
  }
 },
 "nbformat": 4,
 "nbformat_minor": 4
}
