{
 "cells": [
  {
   "cell_type": "markdown",
   "metadata": {},
   "source": [
    "#### Hi! Today you will play with NaN values and another Data Manipulation methods. Let us know if you need help and also if you need more challenges on that :)"
   ]
  },
  {
   "cell_type": "markdown",
   "metadata": {},
   "source": [
    "#### The dataset that you will use is again recipes.csv. You can either use your own or the one in the subfolder \"data\". Do not forget to import the necessary libraries!"
   ]
  },
  {
   "cell_type": "code",
   "execution_count": 1,
   "metadata": {
    "scrolled": true
   },
   "outputs": [
    {
     "data": {
      "text/html": [
       "<div>\n",
       "<style scoped>\n",
       "    .dataframe tbody tr th:only-of-type {\n",
       "        vertical-align: middle;\n",
       "    }\n",
       "\n",
       "    .dataframe tbody tr th {\n",
       "        vertical-align: top;\n",
       "    }\n",
       "\n",
       "    .dataframe thead th {\n",
       "        text-align: right;\n",
       "    }\n",
       "</style>\n",
       "<table border=\"1\" class=\"dataframe\">\n",
       "  <thead>\n",
       "    <tr style=\"text-align: right;\">\n",
       "      <th></th>\n",
       "      <th>vegetarian</th>\n",
       "      <th>glutenFree</th>\n",
       "      <th>dairyFree</th>\n",
       "      <th>veryHealthy</th>\n",
       "      <th>healthScore</th>\n",
       "      <th>aggregateLikes</th>\n",
       "      <th>id</th>\n",
       "      <th>title</th>\n",
       "      <th>pricePerServing</th>\n",
       "      <th>readyInMinutes</th>\n",
       "      <th>...</th>\n",
       "      <th>VitaminB3Amount</th>\n",
       "      <th>VitaminB3percentOfDailyNeed</th>\n",
       "      <th>VitaminB1Amount</th>\n",
       "      <th>VitaminB1percentOfDailyNeed</th>\n",
       "      <th>CalciumAmount</th>\n",
       "      <th>CalciumpercentOfDailyNeed</th>\n",
       "      <th>AlcoholAmount</th>\n",
       "      <th>AlcoholpercentOfDailyNeed</th>\n",
       "      <th>CaffeineAmount</th>\n",
       "      <th>CaffeinepercentOfDailyNeed</th>\n",
       "    </tr>\n",
       "  </thead>\n",
       "  <tbody>\n",
       "    <tr>\n",
       "      <th>0</th>\n",
       "      <td>True</td>\n",
       "      <td>True</td>\n",
       "      <td>True</td>\n",
       "      <td>False</td>\n",
       "      <td>1.0</td>\n",
       "      <td>3</td>\n",
       "      <td>633998</td>\n",
       "      <td>Banana Blueberry Pancakes</td>\n",
       "      <td>55.79</td>\n",
       "      <td>45</td>\n",
       "      <td>...</td>\n",
       "      <td>0.49</td>\n",
       "      <td>2.44</td>\n",
       "      <td>0.03</td>\n",
       "      <td>2.26</td>\n",
       "      <td>18.11</td>\n",
       "      <td>1.81</td>\n",
       "      <td>NaN</td>\n",
       "      <td>NaN</td>\n",
       "      <td>NaN</td>\n",
       "      <td>NaN</td>\n",
       "    </tr>\n",
       "    <tr>\n",
       "      <th>1</th>\n",
       "      <td>True</td>\n",
       "      <td>True</td>\n",
       "      <td>False</td>\n",
       "      <td>False</td>\n",
       "      <td>0.0</td>\n",
       "      <td>1</td>\n",
       "      <td>634426</td>\n",
       "      <td>Basil and Orange Confit Compound Butter</td>\n",
       "      <td>15.07</td>\n",
       "      <td>45</td>\n",
       "      <td>...</td>\n",
       "      <td>NaN</td>\n",
       "      <td>NaN</td>\n",
       "      <td>NaN</td>\n",
       "      <td>NaN</td>\n",
       "      <td>NaN</td>\n",
       "      <td>NaN</td>\n",
       "      <td>NaN</td>\n",
       "      <td>NaN</td>\n",
       "      <td>NaN</td>\n",
       "      <td>NaN</td>\n",
       "    </tr>\n",
       "    <tr>\n",
       "      <th>2</th>\n",
       "      <td>False</td>\n",
       "      <td>False</td>\n",
       "      <td>False</td>\n",
       "      <td>False</td>\n",
       "      <td>3.0</td>\n",
       "      <td>1</td>\n",
       "      <td>635085</td>\n",
       "      <td>Black Bottom Banana Bars</td>\n",
       "      <td>78.85</td>\n",
       "      <td>45</td>\n",
       "      <td>...</td>\n",
       "      <td>2.63</td>\n",
       "      <td>13.13</td>\n",
       "      <td>0.32</td>\n",
       "      <td>21.09</td>\n",
       "      <td>100.80</td>\n",
       "      <td>10.08</td>\n",
       "      <td>0.28</td>\n",
       "      <td>1.53</td>\n",
       "      <td>9.89</td>\n",
       "      <td>3.30</td>\n",
       "    </tr>\n",
       "    <tr>\n",
       "      <th>3</th>\n",
       "      <td>True</td>\n",
       "      <td>False</td>\n",
       "      <td>True</td>\n",
       "      <td>False</td>\n",
       "      <td>2.0</td>\n",
       "      <td>1</td>\n",
       "      <td>663229</td>\n",
       "      <td>The Best Raw Chocolate Chip Cookies</td>\n",
       "      <td>54.64</td>\n",
       "      <td>45</td>\n",
       "      <td>...</td>\n",
       "      <td>0.65</td>\n",
       "      <td>3.26</td>\n",
       "      <td>0.10</td>\n",
       "      <td>6.47</td>\n",
       "      <td>26.79</td>\n",
       "      <td>2.68</td>\n",
       "      <td>NaN</td>\n",
       "      <td>NaN</td>\n",
       "      <td>NaN</td>\n",
       "      <td>NaN</td>\n",
       "    </tr>\n",
       "    <tr>\n",
       "      <th>4</th>\n",
       "      <td>False</td>\n",
       "      <td>True</td>\n",
       "      <td>False</td>\n",
       "      <td>False</td>\n",
       "      <td>31.0</td>\n",
       "      <td>3</td>\n",
       "      <td>651437</td>\n",
       "      <td>Mediterranean Spinach Artichoke Dip</td>\n",
       "      <td>115.26</td>\n",
       "      <td>45</td>\n",
       "      <td>...</td>\n",
       "      <td>0.66</td>\n",
       "      <td>3.29</td>\n",
       "      <td>0.07</td>\n",
       "      <td>4.64</td>\n",
       "      <td>162.84</td>\n",
       "      <td>16.28</td>\n",
       "      <td>NaN</td>\n",
       "      <td>NaN</td>\n",
       "      <td>NaN</td>\n",
       "      <td>NaN</td>\n",
       "    </tr>\n",
       "    <tr>\n",
       "      <th>...</th>\n",
       "      <td>...</td>\n",
       "      <td>...</td>\n",
       "      <td>...</td>\n",
       "      <td>...</td>\n",
       "      <td>...</td>\n",
       "      <td>...</td>\n",
       "      <td>...</td>\n",
       "      <td>...</td>\n",
       "      <td>...</td>\n",
       "      <td>...</td>\n",
       "      <td>...</td>\n",
       "      <td>...</td>\n",
       "      <td>...</td>\n",
       "      <td>...</td>\n",
       "      <td>...</td>\n",
       "      <td>...</td>\n",
       "      <td>...</td>\n",
       "      <td>...</td>\n",
       "      <td>...</td>\n",
       "      <td>...</td>\n",
       "      <td>...</td>\n",
       "    </tr>\n",
       "    <tr>\n",
       "      <th>145</th>\n",
       "      <td>False</td>\n",
       "      <td>True</td>\n",
       "      <td>True</td>\n",
       "      <td>False</td>\n",
       "      <td>18.0</td>\n",
       "      <td>13</td>\n",
       "      <td>638315</td>\n",
       "      <td>Chicken Sausage, White Bean and Cabbage Soup</td>\n",
       "      <td>196.23</td>\n",
       "      <td>45</td>\n",
       "      <td>...</td>\n",
       "      <td>0.53</td>\n",
       "      <td>2.67</td>\n",
       "      <td>0.15</td>\n",
       "      <td>10.23</td>\n",
       "      <td>102.67</td>\n",
       "      <td>10.27</td>\n",
       "      <td>NaN</td>\n",
       "      <td>NaN</td>\n",
       "      <td>NaN</td>\n",
       "      <td>NaN</td>\n",
       "    </tr>\n",
       "    <tr>\n",
       "      <th>146</th>\n",
       "      <td>True</td>\n",
       "      <td>False</td>\n",
       "      <td>False</td>\n",
       "      <td>False</td>\n",
       "      <td>1.0</td>\n",
       "      <td>2</td>\n",
       "      <td>656248</td>\n",
       "      <td>Pinot Noir Brownies</td>\n",
       "      <td>65.76</td>\n",
       "      <td>45</td>\n",
       "      <td>...</td>\n",
       "      <td>0.21</td>\n",
       "      <td>1.07</td>\n",
       "      <td>0.03</td>\n",
       "      <td>1.68</td>\n",
       "      <td>19.82</td>\n",
       "      <td>1.98</td>\n",
       "      <td>2.48</td>\n",
       "      <td>13.76</td>\n",
       "      <td>10.69</td>\n",
       "      <td>3.56</td>\n",
       "    </tr>\n",
       "    <tr>\n",
       "      <th>147</th>\n",
       "      <td>True</td>\n",
       "      <td>True</td>\n",
       "      <td>True</td>\n",
       "      <td>True</td>\n",
       "      <td>93.0</td>\n",
       "      <td>2</td>\n",
       "      <td>637297</td>\n",
       "      <td>Cauliflower Chickpea Stew</td>\n",
       "      <td>139.28</td>\n",
       "      <td>45</td>\n",
       "      <td>...</td>\n",
       "      <td>4.77</td>\n",
       "      <td>23.83</td>\n",
       "      <td>0.45</td>\n",
       "      <td>29.70</td>\n",
       "      <td>141.16</td>\n",
       "      <td>14.12</td>\n",
       "      <td>NaN</td>\n",
       "      <td>NaN</td>\n",
       "      <td>NaN</td>\n",
       "      <td>NaN</td>\n",
       "    </tr>\n",
       "    <tr>\n",
       "      <th>148</th>\n",
       "      <td>True</td>\n",
       "      <td>True</td>\n",
       "      <td>False</td>\n",
       "      <td>False</td>\n",
       "      <td>5.0</td>\n",
       "      <td>1</td>\n",
       "      <td>659412</td>\n",
       "      <td>Sautéed Balsamic Green Beans With Cherry Tomatoes</td>\n",
       "      <td>101.81</td>\n",
       "      <td>45</td>\n",
       "      <td>...</td>\n",
       "      <td>1.15</td>\n",
       "      <td>5.73</td>\n",
       "      <td>0.12</td>\n",
       "      <td>7.85</td>\n",
       "      <td>55.64</td>\n",
       "      <td>5.56</td>\n",
       "      <td>NaN</td>\n",
       "      <td>NaN</td>\n",
       "      <td>NaN</td>\n",
       "      <td>NaN</td>\n",
       "    </tr>\n",
       "    <tr>\n",
       "      <th>149</th>\n",
       "      <td>True</td>\n",
       "      <td>True</td>\n",
       "      <td>True</td>\n",
       "      <td>True</td>\n",
       "      <td>100.0</td>\n",
       "      <td>4</td>\n",
       "      <td>647875</td>\n",
       "      <td>Indian-Style Dill and Turmeric Potato Salad</td>\n",
       "      <td>117.24</td>\n",
       "      <td>30</td>\n",
       "      <td>...</td>\n",
       "      <td>0.21</td>\n",
       "      <td>1.05</td>\n",
       "      <td>NaN</td>\n",
       "      <td>NaN</td>\n",
       "      <td>27.96</td>\n",
       "      <td>2.80</td>\n",
       "      <td>NaN</td>\n",
       "      <td>NaN</td>\n",
       "      <td>NaN</td>\n",
       "      <td>NaN</td>\n",
       "    </tr>\n",
       "  </tbody>\n",
       "</table>\n",
       "<p>150 rows × 78 columns</p>\n",
       "</div>"
      ],
      "text/plain": [
       "     vegetarian  glutenFree  dairyFree  veryHealthy  healthScore  \\\n",
       "0          True        True       True        False          1.0   \n",
       "1          True        True      False        False          0.0   \n",
       "2         False       False      False        False          3.0   \n",
       "3          True       False       True        False          2.0   \n",
       "4         False        True      False        False         31.0   \n",
       "..          ...         ...        ...          ...          ...   \n",
       "145       False        True       True        False         18.0   \n",
       "146        True       False      False        False          1.0   \n",
       "147        True        True       True         True         93.0   \n",
       "148        True        True      False        False          5.0   \n",
       "149        True        True       True         True        100.0   \n",
       "\n",
       "     aggregateLikes      id  \\\n",
       "0                 3  633998   \n",
       "1                 1  634426   \n",
       "2                 1  635085   \n",
       "3                 1  663229   \n",
       "4                 3  651437   \n",
       "..              ...     ...   \n",
       "145              13  638315   \n",
       "146               2  656248   \n",
       "147               2  637297   \n",
       "148               1  659412   \n",
       "149               4  647875   \n",
       "\n",
       "                                                 title  pricePerServing  \\\n",
       "0                            Banana Blueberry Pancakes            55.79   \n",
       "1              Basil and Orange Confit Compound Butter            15.07   \n",
       "2                             Black Bottom Banana Bars            78.85   \n",
       "3                  The Best Raw Chocolate Chip Cookies            54.64   \n",
       "4                  Mediterranean Spinach Artichoke Dip           115.26   \n",
       "..                                                 ...              ...   \n",
       "145       Chicken Sausage, White Bean and Cabbage Soup           196.23   \n",
       "146                                Pinot Noir Brownies            65.76   \n",
       "147                          Cauliflower Chickpea Stew           139.28   \n",
       "148  Sautéed Balsamic Green Beans With Cherry Tomatoes           101.81   \n",
       "149        Indian-Style Dill and Turmeric Potato Salad           117.24   \n",
       "\n",
       "     readyInMinutes  ...  VitaminB3Amount VitaminB3percentOfDailyNeed  \\\n",
       "0                45  ...             0.49                        2.44   \n",
       "1                45  ...              NaN                         NaN   \n",
       "2                45  ...             2.63                       13.13   \n",
       "3                45  ...             0.65                        3.26   \n",
       "4                45  ...             0.66                        3.29   \n",
       "..              ...  ...              ...                         ...   \n",
       "145              45  ...             0.53                        2.67   \n",
       "146              45  ...             0.21                        1.07   \n",
       "147              45  ...             4.77                       23.83   \n",
       "148              45  ...             1.15                        5.73   \n",
       "149              30  ...             0.21                        1.05   \n",
       "\n",
       "     VitaminB1Amount  VitaminB1percentOfDailyNeed  CalciumAmount  \\\n",
       "0               0.03                         2.26          18.11   \n",
       "1                NaN                          NaN            NaN   \n",
       "2               0.32                        21.09         100.80   \n",
       "3               0.10                         6.47          26.79   \n",
       "4               0.07                         4.64         162.84   \n",
       "..               ...                          ...            ...   \n",
       "145             0.15                        10.23         102.67   \n",
       "146             0.03                         1.68          19.82   \n",
       "147             0.45                        29.70         141.16   \n",
       "148             0.12                         7.85          55.64   \n",
       "149              NaN                          NaN          27.96   \n",
       "\n",
       "     CalciumpercentOfDailyNeed  AlcoholAmount  AlcoholpercentOfDailyNeed  \\\n",
       "0                         1.81            NaN                        NaN   \n",
       "1                          NaN            NaN                        NaN   \n",
       "2                        10.08           0.28                       1.53   \n",
       "3                         2.68            NaN                        NaN   \n",
       "4                        16.28            NaN                        NaN   \n",
       "..                         ...            ...                        ...   \n",
       "145                      10.27            NaN                        NaN   \n",
       "146                       1.98           2.48                      13.76   \n",
       "147                      14.12            NaN                        NaN   \n",
       "148                       5.56            NaN                        NaN   \n",
       "149                       2.80            NaN                        NaN   \n",
       "\n",
       "     CaffeineAmount  CaffeinepercentOfDailyNeed  \n",
       "0               NaN                         NaN  \n",
       "1               NaN                         NaN  \n",
       "2              9.89                        3.30  \n",
       "3               NaN                         NaN  \n",
       "4               NaN                         NaN  \n",
       "..              ...                         ...  \n",
       "145             NaN                         NaN  \n",
       "146           10.69                        3.56  \n",
       "147             NaN                         NaN  \n",
       "148             NaN                         NaN  \n",
       "149             NaN                         NaN  \n",
       "\n",
       "[150 rows x 78 columns]"
      ]
     },
     "execution_count": 1,
     "metadata": {},
     "output_type": "execute_result"
    }
   ],
   "source": [
    "import pandas as pd\n",
    "import numpy as np\n",
    "\n",
    "df = pd.read_csv(\"data/recipes.csv\", index_col = 0)\n",
    "df"
   ]
  },
  {
   "cell_type": "markdown",
   "metadata": {},
   "source": [
    "#### Print the names of Columns that have null values"
   ]
  },
  {
   "cell_type": "code",
   "execution_count": 2,
   "metadata": {
    "scrolled": true
   },
   "outputs": [
    {
     "data": {
      "text/plain": [
       "Index(['FiberAmount', 'FiberpercentOfDailyNeed', 'VitaminB6Amount',\n",
       "       'VitaminB6percentOfDailyNeed', 'ManganeseAmount',\n",
       "       'ManganesepercentOfDailyNeed', 'SeleniumAmount',\n",
       "       'SeleniumpercentOfDailyNeed', 'PotassiumAmount',\n",
       "       'PotassiumpercentOfDailyNeed', 'VitaminB2Amount',\n",
       "       'VitaminB2percentOfDailyNeed', 'VitaminCAmount',\n",
       "       'VitaminCpercentOfDailyNeed', 'PhosphorusAmount',\n",
       "       'PhosphoruspercentOfDailyNeed', 'FolateAmount',\n",
       "       'FolatepercentOfDailyNeed', 'VitaminB5Amount',\n",
       "       'VitaminB5percentOfDailyNeed', 'MagnesiumAmount',\n",
       "       'MagnesiumpercentOfDailyNeed', 'IronAmount', 'IronpercentOfDailyNeed',\n",
       "       'VitaminKAmount', 'VitaminKpercentOfDailyNeed', 'CopperAmount',\n",
       "       'CopperpercentOfDailyNeed', 'VitaminAAmount',\n",
       "       'VitaminApercentOfDailyNeed', 'VitaminB12Amount',\n",
       "       'VitaminB12percentOfDailyNeed', 'VitaminDAmount',\n",
       "       'VitaminDpercentOfDailyNeed', 'ZincAmount', 'ZincpercentOfDailyNeed',\n",
       "       'VitaminEAmount', 'VitaminEpercentOfDailyNeed', 'VitaminB3Amount',\n",
       "       'VitaminB3percentOfDailyNeed', 'VitaminB1Amount',\n",
       "       'VitaminB1percentOfDailyNeed', 'CalciumAmount',\n",
       "       'CalciumpercentOfDailyNeed', 'AlcoholAmount',\n",
       "       'AlcoholpercentOfDailyNeed', 'CaffeineAmount',\n",
       "       'CaffeinepercentOfDailyNeed'],\n",
       "      dtype='object')"
      ]
     },
     "execution_count": 2,
     "metadata": {},
     "output_type": "execute_result"
    }
   ],
   "source": [
    "df.columns[df.isnull().any()]"
   ]
  },
  {
   "cell_type": "markdown",
   "metadata": {},
   "source": [
    "#### Print the recipes with the highest number of aggregateLikes"
   ]
  },
  {
   "cell_type": "code",
   "execution_count": 3,
   "metadata": {},
   "outputs": [
    {
     "data": {
      "text/plain": [
       "50    Slow Cooker Spicy Hot Wings\n",
       "Name: title, dtype: object"
      ]
     },
     "execution_count": 3,
     "metadata": {},
     "output_type": "execute_result"
    }
   ],
   "source": [
    "df.loc[df.aggregateLikes == df.aggregateLikes.max(), \"title\"]"
   ]
  },
  {
   "cell_type": "markdown",
   "metadata": {},
   "source": [
    "#### Handle the missing values of “calcium percent of Daily need”. Sort the resulting DataFrame by id column."
   ]
  },
  {
   "cell_type": "code",
   "execution_count": 4,
   "metadata": {},
   "outputs": [
    {
     "data": {
      "text/plain": [
       "1       634426\n",
       "25      654516\n",
       "66      663885\n",
       "68      658823\n",
       "71      640351\n",
       "74      634816\n",
       "102    1095713\n",
       "138     662315\n",
       "Name: id, dtype: int64"
      ]
     },
     "execution_count": 4,
     "metadata": {},
     "output_type": "execute_result"
    }
   ],
   "source": [
    "NaN_CalciumpercentOfDailyNeed_id = df.loc[df.CalciumpercentOfDailyNeed.isnull(), \"id\"]\n",
    "NaN_CalciumpercentOfDailyNeed_id"
   ]
  },
  {
   "cell_type": "markdown",
   "metadata": {},
   "source": [
    "#### Delete the columns that have null values == 141"
   ]
  },
  {
   "cell_type": "code",
   "execution_count": null,
   "metadata": {
    "scrolled": true
   },
   "outputs": [],
   "source": [
    "#I don't get this 141 "
   ]
  },
  {
   "cell_type": "markdown",
   "metadata": {},
   "source": [
    "#### Print the title of the recipes that are vegetarian == TRUE and glutenFree == True"
   ]
  },
  {
   "cell_type": "code",
   "execution_count": 9,
   "metadata": {
    "scrolled": true
   },
   "outputs": [
    {
     "data": {
      "text/plain": [
       "0                              Banana Blueberry Pancakes\n",
       "1                Basil and Orange Confit Compound Butter\n",
       "14                            Spicy Carrot Amaranth Soup\n",
       "15                                            Nutty Rice\n",
       "20                           Fire Roasted Tomato Chutney\n",
       "22                                 Butternut Squash Soup\n",
       "24                         Green Beans with Garlic Chips\n",
       "27                                Easy Eggplant Parmesan\n",
       "29                                            Kappa Maki\n",
       "30                              Vegan Chana Masala Curry\n",
       "31     Grilled Peach Melba with Vanilla Bean Frozen Y...\n",
       "33                             Detox Orange Carrot Juice\n",
       "37                      Roasted Asparagus with Egg Salad\n",
       "39                   Three Ingredient Frozen Pina Colada\n",
       "42                               Peach Coconut Ice Cream\n",
       "57     Sautéed Balsamic Green Beans With Cherry Tomatoes\n",
       "61                              Ginger Melon Side Salad \n",
       "69                      Chicken with Avocado Peach Salsa\n",
       "72                             EASY, CUMIN-LENTIL SPREAD\n",
       "80                                 Luscious Palak Paneer\n",
       "85                                             Beet Slaw\n",
       "93             Roasted Strawberry Coconut Milk Ice Cream\n",
       "96                                    Breakfast Porridge\n",
       "97     Peanut Butter Cookies with Flax Seeds and Choc...\n",
       "100                                  Blender Carrot Soup\n",
       "101                                      Dandelion pesto\n",
       "102                                Coconut Flour Muffins\n",
       "106                              Japanese Cucumber Salad\n",
       "107                           Blueberry Mojito Popsicles\n",
       "119                                     Fried Brown Rice\n",
       "123                                 Seasonal Autumn Stew\n",
       "126    Slow Cooker Healthy Sweet Potato Soup with Coc...\n",
       "129    Blueberry, Persimmon Smoothie with Banana and ...\n",
       "131                              Mango Cranberry Sherbet\n",
       "132                          Cherries and Yogurt Parfait\n",
       "133                              The Pearhattan Cocktail\n",
       "134            Garlic-Roasted Brussels Sprouts Side Dish\n",
       "139                                  Layered Greek Salad\n",
       "143                      Stir Fried Cabbage and Tomatoes\n",
       "147                            Cauliflower Chickpea Stew\n",
       "148    Sautéed Balsamic Green Beans With Cherry Tomatoes\n",
       "149          Indian-Style Dill and Turmeric Potato Salad\n",
       "Name: title, dtype: object"
      ]
     },
     "execution_count": 9,
     "metadata": {},
     "output_type": "execute_result"
    }
   ],
   "source": [
    "# I don't know why when I put True between \"\" it didn't work!!!!\n",
    "#veg_and_glutenfree_recipes = df.loc[(df.vegetarian == \"True\") & (df.glutenFree == \"True\"), \"title\"]\n",
    "#veg_and_glutenfree_recipes\n",
    "veg_and_glutenfree_recipes = df.loc[(df.vegetarian == True) & (df.glutenFree == True), \"title\"]\n",
    "veg_and_glutenfree_recipes"
   ]
  },
  {
   "cell_type": "markdown",
   "metadata": {},
   "source": [
    "#### How many vegan recipes are there (Vegan = Vegetarian and dairy free)?"
   ]
  },
  {
   "cell_type": "code",
   "execution_count": 18,
   "metadata": {},
   "outputs": [
    {
     "data": {
      "text/plain": [
       "29"
      ]
     },
     "execution_count": 18,
     "metadata": {},
     "output_type": "execute_result"
    }
   ],
   "source": [
    "vegan_recipes = df.loc[(df.vegetarian == True) & (df.dairyFree == True)]\n",
    "len(vegan_recipes)"
   ]
  },
  {
   "cell_type": "markdown",
   "metadata": {},
   "source": [
    "#### Compare the average amount of Vitamin B12 for the vegan and non-vegan recipes. How reliable are the results?"
   ]
  },
  {
   "cell_type": "code",
   "execution_count": 38,
   "metadata": {},
   "outputs": [
    {
     "data": {
      "text/plain": [
       "array('Vitamin B12 amount in non vegan recipes are more than in vegan recipes',\n",
       "      dtype='<U70')"
      ]
     },
     "execution_count": 38,
     "metadata": {},
     "output_type": "execute_result"
    }
   ],
   "source": [
    "vegan_recipes = df.loc[(df.vegetarian == True) & (df.dairyFree == True)]\n",
    "non_vegan_recipes = df.loc[(df.vegetarian == False) & (df.dairyFree == False)]\n",
    "\n",
    "#average of b12 in vegan recipes\n",
    "b12_vegan_recipes = vegan_recipes[\"VitaminB12Amount\"].mean()\n",
    "b12_non_vegan_recipes = non_vegan_recipes[\"VitaminB12Amount\"].mean()\n",
    "\n",
    "VitaminB12_comparison = np.where(b12_vegan_recipes >= b12_non_vegan_recipes,\"Vitamin B12 amount in vegan recipes are more than in non vegan recipes\", \"Vitamin B12 amount in non vegan recipes are more than in vegan recipes\")\n",
    "VitaminB12_comparison\n"
   ]
  },
  {
   "cell_type": "markdown",
   "metadata": {},
   "source": [
    "#### Compare the average health Score for both types of recipes (vegan vs non-vegan)."
   ]
  },
  {
   "cell_type": "code",
   "execution_count": null,
   "metadata": {},
   "outputs": [],
   "source": []
  },
  {
   "cell_type": "markdown",
   "metadata": {},
   "source": [
    "#### Create a new column: \"VeganWeek\" where you decrease the price of vegan products by 10%, but only if they already cost more than 100."
   ]
  },
  {
   "cell_type": "code",
   "execution_count": null,
   "metadata": {},
   "outputs": [],
   "source": []
  },
  {
   "cell_type": "markdown",
   "metadata": {},
   "source": [
    "#### Among the non-vegan recipes, find the one requiring most time to prepare. How is it called?"
   ]
  },
  {
   "cell_type": "code",
   "execution_count": null,
   "metadata": {},
   "outputs": [],
   "source": []
  }
 ],
 "metadata": {
  "kernelspec": {
   "display_name": "Python 3 (ipykernel)",
   "language": "python",
   "name": "python3"
  },
  "language_info": {
   "codemirror_mode": {
    "name": "ipython",
    "version": 3
   },
   "file_extension": ".py",
   "mimetype": "text/x-python",
   "name": "python",
   "nbconvert_exporter": "python",
   "pygments_lexer": "ipython3",
   "version": "3.9.7"
  }
 },
 "nbformat": 4,
 "nbformat_minor": 4
}
