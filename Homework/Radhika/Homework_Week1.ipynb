{
 "cells": [
  {
   "cell_type": "markdown",
   "id": "69c64af8",
   "metadata": {},
   "source": [
    "# Exercises week 1"
   ]
  },
  {
   "cell_type": "markdown",
   "id": "434322ff",
   "metadata": {},
   "source": [
    "## Beginner exercises"
   ]
  },
  {
   "cell_type": "markdown",
   "id": "f6f6a5e8",
   "metadata": {},
   "source": [
    "**Ex 1**: In the cell below, write a short text that demonstrates that you can\n",
    "* Create a section with a heading\n",
    "* Write words in bold and italics\n",
    "* Establish a [hyperlink](https://en.wikipedia.org/wiki/Hyperlink)\n"
   ]
  },
  {
   "cell_type": "markdown",
   "id": "3680c9fb",
   "metadata": {},
   "source": [
    "# Basic Programing in Python\n",
    "  Write words in bold and italics"
   ]
  },
  {
   "cell_type": "markdown",
   "id": "1426e03a",
   "metadata": {},
   "source": [
    "**Ex 2** Calculate the remainder of the division of 18 by 7. "
   ]
  },
  {
   "cell_type": "code",
   "execution_count": 1,
   "id": "12ec37fe",
   "metadata": {},
   "outputs": [
    {
     "data": {
      "text/plain": [
       "4"
      ]
     },
     "execution_count": 1,
     "metadata": {},
     "output_type": "execute_result"
    }
   ],
   "source": [
    "18%7"
   ]
  },
  {
   "cell_type": "markdown",
   "id": "94020ba4",
   "metadata": {},
   "source": [
    "**Ex 3** Calcuate 3 to the power of 4; i.e. $3^4$"
   ]
  },
  {
   "cell_type": "code",
   "execution_count": 2,
   "id": "cb429ca8",
   "metadata": {},
   "outputs": [
    {
     "data": {
      "text/plain": [
       "81"
      ]
     },
     "execution_count": 2,
     "metadata": {},
     "output_type": "execute_result"
    }
   ],
   "source": [
    "pow(3,4)"
   ]
  },
  {
   "cell_type": "markdown",
   "id": "05d8cadd",
   "metadata": {},
   "source": [
    "**Ex 4** Calculate the square root of 49"
   ]
  },
  {
   "cell_type": "code",
   "execution_count": 11,
   "id": "4a8808df",
   "metadata": {},
   "outputs": [
    {
     "name": "stdout",
     "output_type": "stream",
     "text": [
      "7.0\n"
     ]
    }
   ],
   "source": [
    "import math;\n",
    "print(math.sqrt(49));\n"
   ]
  },
  {
   "cell_type": "markdown",
   "id": "d4c53dd3",
   "metadata": {},
   "source": [
    "**Ex 5** Convert the following string to a float and round it to the nearest 3 digits after the decimal"
   ]
  },
  {
   "cell_type": "code",
   "execution_count": 15,
   "id": "47103886",
   "metadata": {},
   "outputs": [
    {
     "name": "stdout",
     "output_type": "stream",
     "text": [
      "3.142\n"
     ]
    }
   ],
   "source": [
    "pi = \"3.14159265\"\n",
    "print(round(float(pi), 3));"
   ]
  },
  {
   "cell_type": "markdown",
   "id": "f23f216b",
   "metadata": {},
   "source": [
    "**Ex 6** **Convert** the variable number=4.9 to an integer"
   ]
  },
  {
   "cell_type": "code",
   "execution_count": 16,
   "id": "07113240",
   "metadata": {},
   "outputs": [
    {
     "name": "stdout",
     "output_type": "stream",
     "text": [
      "4\n"
     ]
    }
   ],
   "source": [
    "n = 4.9\n",
    "print(int(n));"
   ]
  },
  {
   "cell_type": "markdown",
   "id": "66d36c99",
   "metadata": {},
   "source": [
    "**Ex 7** Now round number=4.9 to the **nearest** integer. What is the difference between the converted number of the previous exercise and this exercise?"
   ]
  },
  {
   "cell_type": "code",
   "execution_count": 17,
   "id": "e71df786",
   "metadata": {},
   "outputs": [
    {
     "data": {
      "text/plain": [
       "5"
      ]
     },
     "execution_count": 17,
     "metadata": {},
     "output_type": "execute_result"
    }
   ],
   "source": [
    "##Rounding will gives the nearest integer value ex; 4.9 gives 5, 4.6 gives 5 like that.\n",
    "##Connvert : It will provide direct integer value Ex: 4.9 = 4 , 5.6 = 5 like that \n",
    "round(4.9)"
   ]
  },
  {
   "cell_type": "markdown",
   "id": "55d975cc",
   "metadata": {},
   "source": [
    "**Ex 8** Calculate the length of the following list (i.e. how many names are in the list) and print each of its values separated by a newline. The output of the print statement(s) should look like this: \\\n",
    "\\\n",
    "Miriam \\\n",
    "Tim \\\n",
    "Jing \\\n",
    "..."
   ]
  },
  {
   "cell_type": "code",
   "execution_count": 24,
   "id": "aa562069",
   "metadata": {},
   "outputs": [
    {
     "name": "stdout",
     "output_type": "stream",
     "text": [
      "List of lenth is 6\n",
      "Miriam\n",
      "Tim\n",
      "Jing\n",
      "Carlos\n",
      "Ruben\n",
      "Ashley\n"
     ]
    }
   ],
   "source": [
    "names = [\"Miriam\", \"Tim\", \"Jing\", \"Carlos\", \"Ruben\", \"Ashley\"]\n",
    "print(\"List of lenth is\",len(names))\n",
    "print(*names, sep='\\n')"
   ]
  },
  {
   "cell_type": "markdown",
   "id": "ce119980",
   "metadata": {},
   "source": [
    "**Ex 9** Add a list with the following new names to the previous list \\\n",
    "new_names = [\"Pablo\", \"Lise\"]"
   ]
  },
  {
   "cell_type": "code",
   "execution_count": 26,
   "id": "6b078643",
   "metadata": {},
   "outputs": [
    {
     "name": "stdout",
     "output_type": "stream",
     "text": [
      "['Miriam', 'Tim', 'Jing', 'Carlos', 'Ruben', 'Ashley', 'Pablo', 'Lise']\n"
     ]
    }
   ],
   "source": [
    "names = [\"Miriam\", \"Tim\", \"Jing\", \"Carlos\", \"Ruben\", \"Ashley\"]\n",
    "new_names = [\"Pablo\", \"Lise\"]\n",
    "A_list = names + new_names\n",
    "print(A_list)"
   ]
  },
  {
   "cell_type": "markdown",
   "id": "44f022f7",
   "metadata": {},
   "source": [
    "**Ex 10** Print the second and second to last name of the newly created list. The output should be Tim and Pablo"
   ]
  },
  {
   "cell_type": "code",
   "execution_count": 9,
   "id": "f6f33fac",
   "metadata": {},
   "outputs": [
    {
     "name": "stdout",
     "output_type": "stream",
     "text": [
      "Tim \n",
      " Pablo\n"
     ]
    }
   ],
   "source": [
    "print(A_list[1],'\\n',A_list[-2])"
   ]
  },
  {
   "cell_type": "markdown",
   "id": "a367109b",
   "metadata": {},
   "source": [
    "**Ex 11** Calculate the sum and the average of the value in the following list"
   ]
  },
  {
   "cell_type": "code",
   "execution_count": 2,
   "id": "14dea060",
   "metadata": {
    "scrolled": false
   },
   "outputs": [
    {
     "name": "stdout",
     "output_type": "stream",
     "text": [
      "sum =  187\n",
      "average =  31.166666666666668\n"
     ]
    }
   ],
   "source": [
    "# the list\n",
    "age = [11, 22, 33, 44, 22, 55]\n",
    "  \n",
    "# Finding the sum using sum() method\n",
    "count = sum(age)\n",
    "      \n",
    "# divide the total elements by\n",
    "# number of elements\n",
    "avg = count/len(age)\n",
    "  \n",
    "print(\"sum = \", count)\n",
    "print(\"average = \", avg)"
   ]
  },
  {
   "cell_type": "markdown",
   "id": "f081757c",
   "metadata": {},
   "source": [
    "**Ex 12** Sort the age list in an ascending (increasing) order and get the count of the number 22 within the list (i.e; calculate how often the number 22 appears in the age list"
   ]
  },
  {
   "cell_type": "code",
   "execution_count": 15,
   "id": "5c813e31",
   "metadata": {},
   "outputs": [
    {
     "name": "stdout",
     "output_type": "stream",
     "text": [
      "List in an ascending order [11, 22, 22, 33, 44, 55]\n"
     ]
    },
    {
     "data": {
      "text/plain": [
       "2"
      ]
     },
     "execution_count": 15,
     "metadata": {},
     "output_type": "execute_result"
    }
   ],
   "source": [
    "age = [11, 22, 33, 44, 22, 55]\n",
    "age.sort(reverse=False)\n",
    "print(\"List in an ascending order\",age)\n",
    "age.count(22)"
   ]
  },
  {
   "cell_type": "markdown",
   "id": "91f66781",
   "metadata": {},
   "source": [
    "**Ex 13** Write a function to calculate the sum of three given numbers, if the values are equal then return three times of their sum."
   ]
  },
  {
   "cell_type": "code",
   "execution_count": 17,
   "id": "f976f2f3",
   "metadata": {},
   "outputs": [
    {
     "name": "stdout",
     "output_type": "stream",
     "text": [
      "18\n",
      "72\n"
     ]
    }
   ],
   "source": [
    "def sum_of_numbers(x, y, z):  #def keyword indicates to user defined a function\n",
    "\n",
    "     sum = x + y + z\n",
    "  \n",
    "     if x == y == z:\n",
    "      sum = sum * 3\n",
    "     return sum\n",
    "\n",
    "print(sum_of_numbers(5, 6, 7))\n",
    "print(sum_of_numbers(8, 8, 8))"
   ]
  },
  {
   "cell_type": "markdown",
   "id": "4614ef6f",
   "metadata": {},
   "source": [
    "**Ex 14** Write a function to check if a value is within the following list. The output should look like this:\\\n",
    "Miriam was found in the list\\\n",
    "Peter was not found in the list"
   ]
  },
  {
   "cell_type": "code",
   "execution_count": 18,
   "id": "93ccc507",
   "metadata": {
    "scrolled": true
   },
   "outputs": [
    {
     "name": "stdout",
     "output_type": "stream",
     "text": [
      "Miriam was found in the list\n",
      "Peter was not found in the list\n"
     ]
    }
   ],
   "source": [
    "names = [\"Miriam\", \"Tim\", \"Jing\", \"Carlos\", \"Ruben\", \"Ashley\"]\n",
    "    \n",
    "def check_value(Uname):\n",
    " \n",
    "    if Uname in names: \n",
    "        print(Uname + \" \" + \"was found in the list\")\n",
    "        \n",
    "    else: \n",
    "        print(Uname + \" \" + \"was not found in the list\")\n",
    "\n",
    "check_value(\"Miriam\")\n",
    "check_value(\"Peter\")\n",
    "\n",
    " "
   ]
  },
  {
   "cell_type": "markdown",
   "id": "692e4ba8",
   "metadata": {},
   "source": [
    "**Ex 15** Write a function that will accept the base and height of a triangle and compute the area. The area of a triangle is calculate as Area= 0.5 * height * base"
   ]
  },
  {
   "cell_type": "code",
   "execution_count": 23,
   "id": "8fc01a01",
   "metadata": {},
   "outputs": [
    {
     "name": "stdout",
     "output_type": "stream",
     "text": [
      "Input the base : 4\n",
      "Input the height : 6\n",
      "area =  12.0\n"
     ]
    }
   ],
   "source": [
    "\n",
    "base = int(input(\"Input the base : \")) # input function allows user input\n",
    "height = int(input(\"Input the height : \"))\n",
    "\n",
    "area = base*height/2\n",
    "\n",
    "print(\"area = \", area)"
   ]
  },
  {
   "cell_type": "markdown",
   "id": "7d26b6c0",
   "metadata": {},
   "source": [
    "## Intermediate exercises"
   ]
  },
  {
   "cell_type": "markdown",
   "id": "c0ab0759",
   "metadata": {},
   "source": [
    "**Ex1** Print **only** the strings within the following list. Use the isinstance function to compare the type of a variable against its expected type"
   ]
  },
  {
   "cell_type": "code",
   "execution_count": 28,
   "id": "069ac6ae",
   "metadata": {},
   "outputs": [
    {
     "name": "stdout",
     "output_type": "stream",
     "text": [
      "Miriam\n",
      "Tim\n",
      "Jing\n",
      "Carlos\n"
     ]
    },
    {
     "data": {
      "text/plain": [
       "'type() that helps you find the class type of the variable given as input.\\nFor example, if the input is a string, you will get the output as <class ‘str’>, \\nfor the list, it will be <class ‘list’>, etc.\\nPython isinstance is part of python built-in functions. Python isinstance() takes in two arguments, \\nand it returns true if the first argument is an instance of the classinfo given as the second argument.'"
      ]
     },
     "execution_count": 28,
     "metadata": {},
     "output_type": "execute_result"
    }
   ],
   "source": [
    "students = [\"Miriam\", 22, \"Tim\", 25, \"Jing\", 28, \"Carlos\"]\n",
    "for s_Name in students:\n",
    "    if isinstance(s_Name,str):\n",
    "        print(s_Name)\n",
    "\n",
    "\"\"\"type() that helps you find the class type of the variable given as input.\n",
    "For example, if the input is a string, you will get the output as <class ‘str’>, \n",
    "for the list, it will be <class ‘list’>, etc.\n",
    "Python isinstance is part of python built-in functions. Python isinstance() takes in two arguments, \n",
    "and it returns true if the first argument is an instance of the classinfo given as the second argument.\"\"\""
   ]
  },
  {
   "cell_type": "markdown",
   "id": "02aa7a63",
   "metadata": {},
   "source": [
    "**Ex 2** For the following two lists, print the student name followed by their age. HINT: use the zip function"
   ]
  },
  {
   "cell_type": "code",
   "execution_count": 32,
   "id": "911d46bf",
   "metadata": {},
   "outputs": [
    {
     "name": "stdout",
     "output_type": "stream",
     "text": [
      "{('Jing', 24), ('Carlos', 33), ('Tim', 22), ('Ashley', 21), ('Ruben', 22), ('Miriam', 25)}\n"
     ]
    }
   ],
   "source": [
    "names = [\"Miriam\", \"Tim\", \"Jing\", \"Carlos\", \"Ruben\", \"Ashley\"]\n",
    "ages =  [25, 22, 24, 33, 22, 21, 20]\n",
    "#using zip() method to map values\n",
    "mapped =zip(names, ages)\n",
    "print(set(mapped)) # set() convert any of the iterable to sequence of iterable elements with distinct elements"
   ]
  },
  {
   "cell_type": "markdown",
   "id": "50bf69e0",
   "metadata": {},
   "source": [
    "**Ex 3** Create a dictionary which keys are the names of the students and the corresponding values are their age. The dictionary should look like this \\\n",
    "{'Miriam': 25, 'Tim': 22, 'Jing': 24, 'Carlos': 33, 'Ruben': 22, 'Ashley': 21}"
   ]
  },
  {
   "cell_type": "code",
   "execution_count": 33,
   "id": "0d83548e",
   "metadata": {},
   "outputs": [
    {
     "name": "stdout",
     "output_type": "stream",
     "text": [
      "{'Miriam': 25, 'Tim': 22, 'Jing': 24, 'Carlos': 33, 'Ruben': 22, 'Ashley': 21}\n"
     ]
    }
   ],
   "source": [
    "names = [\"Miriam\", \"Tim\", \"Jing\", \"Carlos\", \"Ruben\", \"Ashley\"]\n",
    "ages =  [25, 22, 24, 33, 22, 21, 20]\n",
    "D_values = dict(zip(names,ages))\n",
    "print(D_values)"
   ]
  },
  {
   "cell_type": "markdown",
   "id": "3e3b70d2",
   "metadata": {},
   "source": [
    "**Ex 4** Create a nested dictionary to assign to each student their age and grade. The output should look like this \\\n",
    "{'Miriam': {'age': 25, 'grade': 12},\n",
    " 'Tim': {'age': 22, 'grade': 12},\n",
    " 'Jing': {'age': 24, 'grade': 12},\n",
    " 'Carlos': {'age': 33, 'grade': 10},\n",
    " 'Ruben': {'age': 22, 'grade': 7},\n",
    " 'Ashley': {'age': 21, 'grade': 10}}"
   ]
  },
  {
   "cell_type": "code",
   "execution_count": 63,
   "id": "524f157b",
   "metadata": {},
   "outputs": [
    {
     "name": "stdout",
     "output_type": "stream",
     "text": [
      "{'Miriam': {'age': 25, 'grade': 12}, 'Tim': {'age': 22, 'grade': 12}, 'Jing': {'age': 24, 'grade': 12}, 'Carlos': {'age': 33, 'grade': 10}, 'Ruben': {'age': 22, 'grade': 7}, 'Ashley': {'age': 21, 'grade': 10}}\n"
     ]
    }
   ],
   "source": [
    "\n",
    "name = [\"Miriam\", \"Tim\", \"Jing\", \"Carlos\", \"Ruben\", \"Ashley\"]\n",
    "age =  [25, 22, 24, 33, 22, 21, 20]\n",
    "grade = [12, 12, 12, 10, 7, 10]\n",
    "nested_dict = {}\n",
    "\n",
    "# Check out enumerate() instead of using range(len())\n",
    "for i in range(len(name)):  #using only one list to loop and using the same index on all lists require all lists to be the same length. Remember that\n",
    "    nested_dict[name[i]] = {} # {age: age[i], grade: grade[i] } \n",
    "    nested_dict[name[i]][\"age\"] = age[i] # Unnecessary step\n",
    "    nested_dict[name[i]][\"grade\"] = grade[i] # Unnecessary step\n",
    "    \n",
    "print(nested_dict)              "
   ]
  },
  {
   "cell_type": "markdown",
   "id": "913b8674",
   "metadata": {},
   "source": [
    "**Ex 5** Miriam decided to drop out of the class. Remove her entry in the students dictionary."
   ]
  },
  {
   "cell_type": "code",
   "execution_count": 68,
   "id": "aa9e9b1e",
   "metadata": {},
   "outputs": [
    {
     "name": "stdout",
     "output_type": "stream",
     "text": [
      "['Jing', 'Carlos', 'Ruben', 'Ashley']\n"
     ]
    }
   ],
   "source": [
    "name.pop(0) # POP() method is using for delete the value by index based\n",
    "print(name)"
   ]
  },
  {
   "cell_type": "markdown",
   "id": "db3844e9",
   "metadata": {},
   "source": [
    "**Ex 6** First, generate a sequence of numbers from 1 to 20. Then print **only** the numbers for which the remainder is 0 when being divided by 6. E.g. 12 because 12/6 = 2. The output should be 6, 12 and 18"
   ]
  },
  {
   "cell_type": "code",
   "execution_count": 99,
   "id": "f362574c",
   "metadata": {},
   "outputs": [
    {
     "name": "stdout",
     "output_type": "stream",
     "text": [
      "6\n",
      "12\n",
      "18\n"
     ]
    }
   ],
   "source": [
    "\n",
    "for x in range(1,20):\n",
    "    if x%6 == 0:\n",
    "        print(x)\n",
    "             \n"
   ]
  },
  {
   "cell_type": "markdown",
   "id": "7ce52831",
   "metadata": {},
   "source": [
    "**Ex 7** Generate  \\\n",
    "\"The holidays will begin on: 25/11/1992\"  \\\n",
    "from the following tuple "
   ]
  },
  {
   "cell_type": "code",
   "execution_count": 105,
   "id": "79e86293",
   "metadata": {},
   "outputs": [],
   "source": [
    "date = (25, 11, 1992)"
   ]
  },
  {
   "cell_type": "code",
   "execution_count": 111,
   "id": "eaf52287",
   "metadata": {},
   "outputs": [
    {
     "name": "stdout",
     "output_type": "stream",
     "text": [
      "The holidays will begin on: 25/11/1992\n"
     ]
    }
   ],
   "source": [
    "d =date[0]\n",
    "m = date[1]\n",
    "y = date[2]\n",
    "\n",
    "print('The holidays will begin on: %s/%s/%s' % (d, m, y))"
   ]
  },
  {
   "cell_type": "markdown",
   "id": "fbda506a",
   "metadata": {},
   "source": [
    "**Ex 8** Write a function to find whether a given number is even or odd, print out an appropriate message."
   ]
  },
  {
   "cell_type": "code",
   "execution_count": 125,
   "id": "2c95865a",
   "metadata": {},
   "outputs": [
    {
     "name": "stdout",
     "output_type": "stream",
     "text": [
      "Enter a number: 8\n",
      "8  is EVEN\n"
     ]
    }
   ],
   "source": [
    "num =int (input(\"Enter a number: \"))\n",
    "def CheckEvenOdd(num): \n",
    "  if (num % 2 == 0): # red font means the indentation is wrong\n",
    "    print(num,\" is EVEN\")\n",
    "  else: \n",
    "    print(num,\" is ODD\")\n",
    "\n",
    "CheckEvenOdd(num)"
   ]
  },
  {
   "cell_type": "markdown",
   "id": "98f44eb8",
   "metadata": {},
   "source": [
    "**Ex 9** Make a program ask for a name, and then write a greeting using that name.\\\n",
    "HINT: use the input function to get the user input (e.g. name=input(\"Write your username\"))\n",
    "\n",
    "\\\n",
    "The output should look similar to this:\\\n",
    "Please type your username Adrian\\\n",
    "Hello Adrian."
   ]
  },
  {
   "cell_type": "code",
   "execution_count": 14,
   "id": "a2fd2737",
   "metadata": {},
   "outputs": [
    {
     "name": "stdout",
     "output_type": "stream",
     "text": [
      "Please type your username:  Radhi\n",
      "Hello Radhi\n"
     ]
    }
   ],
   "source": [
    "name = input(\"Please type your username: \" \" \")\n",
    "print(\"Hello\", name)\n",
    "\n",
    "## Make a program means you should use functions!"
   ]
  },
  {
   "cell_type": "markdown",
   "id": "637e45a2",
   "metadata": {},
   "source": [
    "**Ex 10** Ask for two numbers and ask what operation to perform on them (+, - , *, /) and display the numbers and the result. Again, use the input function.\\\n",
    "The output should look like this\n",
    "\n",
    "\\\n",
    "Please type two numbers and a mathematical operator to perform on them. All 3 inputs must be separated by a whitespace 1 1.5 +\\\n",
    "The result is: 2.5\n",
    "\n",
    "\n",
    "Please type two numbers and a mathematical operator to perform on them. All 3 inputs must be separated by a whitespace 2 2 *\\\n",
    "The result is: 4.0"
   ]
  },
  {
   "cell_type": "code",
   "execution_count": 9,
   "id": "6f594c09",
   "metadata": {},
   "outputs": [
    {
     "name": "stdout",
     "output_type": "stream",
     "text": [
      "Enter a value6\n",
      "Enter b value2.3\n",
      "Addition: 8.3\n",
      "Substraction 3.7\n",
      "Multiplication: 13.799999999999999\n",
      "division: 2.608695652173913\n"
     ]
    }
   ],
   "source": [
    "#.split(' ')\n",
    "\n",
    "a = float(input(\"Enter a value\"))\n",
    "b = float(input(\"Enter b value\"))   \n",
    "print('Addition:', a+b)\n",
    "print('Substraction', a-b)\n",
    "print('Multiplication:', a*b)\n",
    "print('division:', a/b)\n",
    "\n",
    "\n",
    "## The task says you need to ask for the operation too, not do all of them."
   ]
  },
  {
   "cell_type": "markdown",
   "id": "3cff47c6",
   "metadata": {},
   "source": [
    "**Ex 11** Write a function to calculate the factorial (n!) (e.g. 4! = 4 * 3 * 2 * 1. Perform input control. For example, the input must be a positive integer. Thus, if the input is negative, the function should return an error message. The same applies for inputs with type float or str.\\\n",
    "\n",
    "The output should look like:\\\n",
    "1 = factorial(0)\\\n",
    "1 = factorial(1)\\\n",
    "6 = factorial(3)\\\n",
    "24 = factorial(4)"
   ]
  },
  {
   "cell_type": "code",
   "execution_count": 3,
   "id": "f3e2bcc9",
   "metadata": {},
   "outputs": [
    {
     "name": "stdout",
     "output_type": "stream",
     "text": [
      "Enter a number: 0\n",
      "1 = factorial(0)\n"
     ]
    }
   ],
   "source": [
    "import math\n",
    "\n",
    "n = int(input(\"Enter a number: \") )\n",
    "#Python isinstance() function returns True if the object is specified types, and it will not match then return False. \n",
    "\n",
    "if isinstance(n,int) and n >= 0:\n",
    "    print( str(math.factorial(n)) + \" = factorial\"+ \"(\" + str(n) +\")\")\n",
    "#elif str(isinstance(n,float)):\n",
    " #   print('enter the integer')\n",
    "else:\n",
    "    print('Its not an Integer')\n"
   ]
  },
  {
   "cell_type": "markdown",
   "id": "d0c5aa73",
   "metadata": {},
   "source": [
    "**Ex 12** Write a program (using functions!) that asks the user for a long string containing multiple words. Print back to the user the same string, except with the words in backwards order. For example, say I type the string:\n",
    "\n",
    "  My name is Michele\\\n",
    "Then I would see the string:\n",
    "\n",
    "  Michele is name My\\\n",
    "shown back to me."
   ]
  },
  {
   "cell_type": "code",
   "execution_count": 8,
   "id": "8d6be8d5",
   "metadata": {},
   "outputs": [
    {
     "name": "stdout",
     "output_type": "stream",
     "text": [
      "Enter the textThis is python\n",
      "The original string  is : This is python\n",
      "The reversed string(using stack) is : nohtyp si sihT\n",
      "------------\n"
     ]
    },
    {
     "data": {
      "text/plain": [
       "'nohtyp si sihT'"
      ]
     },
     "execution_count": 8,
     "metadata": {},
     "output_type": "execute_result"
    }
   ],
   "source": [
    "# using stack\n",
    "  \n",
    "# Function to create an empty stack. It \n",
    "# initializes size of stack as 0\n",
    "def createStack():\n",
    "    stack=[]\n",
    "    return stack\n",
    "   \n",
    "# Function to determine the size of the stack\n",
    "def size(stack):\n",
    "    return len(stack)\n",
    "   \n",
    "# Stack is empty if the size is 0\n",
    "def isEmpty(stack):\n",
    "    if size(stack) == 0:\n",
    "        return true\n",
    "   \n",
    "# Function to add an item to stack . It\n",
    "# increases size by 1    \n",
    "def push(stack,item):\n",
    "    stack.append(item)\n",
    "   \n",
    "# Function to remove an item from stack. \n",
    "# It decreases size by 1\n",
    "def pop(stack):\n",
    "    if isEmpty(stack): return\n",
    "    return stack.pop()\n",
    "   \n",
    "# A stack based function to reverse a string\n",
    "def reverse(string):\n",
    "    n = len(string)\n",
    "       \n",
    "    # Create a empty stack\n",
    "    stack = createStack()\n",
    "   \n",
    "    # Push all characters of string to stack\n",
    "    for i in range(0,n,1):\n",
    "        push(stack,string[i])\n",
    "   \n",
    "    # Making the string empty since all\n",
    "    # characters are saved in stack    \n",
    "    string=\"\"\n",
    "   \n",
    "    # Pop all characters of string and put\n",
    "    # them back to string\n",
    "    for i in range(0,n,1):\n",
    "        string+=pop(stack)\n",
    "           \n",
    "    return string\n",
    "# Driver code\n",
    "s = str(input(\"Enter the text\"))\n",
    "print (\"The original string  is : \",end=\"\")\n",
    "print (s)\n",
    "print (\"The reversed string(using stack) is : \",end=\"\")\n",
    "print (reverse(s))\n",
    "\n",
    "\n",
    "\n",
    "## Way too complicated. And the task only asked to reverser the words, not the letters. Pay attention to the requirement before you start writing your program.\n",
    "\n",
    "## Also, just so you know. Although this below doesn't solve the task (since it reverses the letters and not the words) ,but it achieves exactly as your result but using only one line of code.\n",
    "\n",
    "\n",
    "print(\"------------\")\n",
    "def reverse_letters(x):\n",
    "    return x[::-1]\n",
    "\n",
    "string_test = \"This is python\"\n",
    "reverse_letters(string_test)\n",
    "\n",
    "## Don't overcomplicate things :) \n"
   ]
  },
  {
   "cell_type": "markdown",
   "id": "4c2cf189",
   "metadata": {},
   "source": [
    "**Ex 13** Write a small function to check if a string is a Palindrome (https://en.wikipedia.org/wiki/Palindrome)\n",
    "\n",
    "The output could look like this:\n",
    "\n",
    "Tenet is a Palindrome\\\n",
    "China is not Palindrome"
   ]
  },
  {
   "cell_type": "code",
   "execution_count": 6,
   "id": "02e9f65f",
   "metadata": {},
   "outputs": [
    {
     "name": "stdout",
     "output_type": "stream",
     "text": [
      "Enter the text Tenet\n",
      "Tenet is not a Polindrome\n"
     ]
    }
   ],
   "source": [
    "# function to check string is\n",
    "# palindrome or not\n",
    "def isPalindrome(str):\n",
    " \n",
    "    # Run loop from 0 to len/2\n",
    "    for i in range(0, int(len(str)/2)):\n",
    "        if str[i] != str[len(str)-i-1]:\n",
    "            return False\n",
    "    return True\n",
    " \n",
    "# main function\n",
    "s = str(input(\"Enter the text \"))\n",
    "ans = isPalindrome(s)\n",
    " \n",
    "if (ans):\n",
    "    print(s, \"is a Polindrome\")\n",
    "else:\n",
    "    print(s,\"is not a Polindrome\")\n",
    "    \n",
    "    \n",
    "## While you did solve it with a correct algorithm, you forgot to set everything to lowercase, which is why Tenet won't be a palindrome in your program.\n",
    "## Also python provides helper functions to make this easier like reversed() and .lower()"
   ]
  },
  {
   "cell_type": "code",
   "execution_count": null,
   "id": "719223e9",
   "metadata": {},
   "outputs": [],
   "source": []
  }
 ],
 "metadata": {
  "kernelspec": {
   "display_name": "Python 3 (ipykernel)",
   "language": "python",
   "name": "python3"
  },
  "language_info": {
   "codemirror_mode": {
    "name": "ipython",
    "version": 3
   },
   "file_extension": ".py",
   "mimetype": "text/x-python",
   "name": "python",
   "nbconvert_exporter": "python",
   "pygments_lexer": "ipython3",
   "version": "3.8.8"
  }
 },
 "nbformat": 4,
 "nbformat_minor": 5
}
