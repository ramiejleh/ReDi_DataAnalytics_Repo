{
 "cells": [
  {
   "cell_type": "markdown",
   "metadata": {},
   "source": [
    "# Clean the pension fund dataset!\n",
    "\n",
    "The dataset you're about to work with contains an excerpt of a much larger dataset with all the Danish pension funds' investments. It is provided as a CSV file with the following columns: name of the pension fund, name of the company, invested amount. The separator of the CSV file is the semicolon (;).\n",
    "\n",
    "Your task is to clean and format the data according to the guidelines below and then write it to a new (!) CSV file.\n",
    "\n",
    "Please note that the only module you will have to import is Python's built-in CSV module. Some of the tasks can be solved using other modules, but this is totally optional, and you will most probably be able to solve the tasks faster by implementing your own function instead of searching for a corresponding one (be aware that this only counts for this exercise - in other circumstances it may be much better to use existing modules!).\n",
    "\n",
    "In this exercise, you should focus on breaking the code into several helper functions. Work on making each of the helper functions return the desired output, which in turn involves looking at what exactly you provide as input to the function.\n",
    "\n",
    "Complete the following tasks - but think about the order in which you do them first!\n",
    "\n",
    "- Remove any wrong or odd row entries.\n",
    "- Read the file into memory.\n",
    "- All the columns with the company names begin with 'company_name:'. Remove this, so that the entry only contains the company's name. \n",
    "- Write the nice and clean data to another CSV file.\n",
    "- In the raw file, the invested sums are formatted in different ways. AkademikerPension is formatted as decimal numbers, and Industriens Pension is in million DKK (e. g. 130 means 130000000). Only PenSam and Velliv are already formatted correctly. All of the sums have to be formatted as non-decimal numbers and as a complete number, e.g. if the investment is 5.9 million DKK, the entry should be 5900000 and nothing else.\n",
    "\n",
    "For the tasks involving string manipulation, you can find help here: https://github.com/jakevdp/WhirlwindTourOfPython/blob/master/14-Strings-and-Regular-Expressions.ipynb\n",
    "\n",
    "If you are done with the tasks above, please do the following:\n",
    "- Create a dictionary with the name of the pension fund as the key, and a list of lists as the value of each fund. The list should contain the largest invested sum in a single company and the median investment. It should be in the following format: [[company name (str), invested sum (int)], [company name (str), invested sum (int)]] with the entry at index 0 being the company where the corresponding pension fund has invested the largest amount of money.\n",
    "- Make sure all your helper functions contain docstrings according to PEP8."
   ]
  }
 ],
 "metadata": {
  "kernelspec": {
   "display_name": "Python 3",
   "language": "python",
   "name": "python3"
  },
  "language_info": {
   "codemirror_mode": {
    "name": "ipython",
    "version": 3
   },
   "file_extension": ".py",
   "mimetype": "text/x-python",
   "name": "python",
   "nbconvert_exporter": "python",
   "pygments_lexer": "ipython3",
   "version": "3.8.10"
  }
 },
 "nbformat": 4,
 "nbformat_minor": 4
}
