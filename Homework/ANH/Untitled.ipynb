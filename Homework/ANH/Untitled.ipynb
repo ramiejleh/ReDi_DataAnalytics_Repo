{
 "cells": [
  {
   "cell_type": "code",
   "execution_count": 12,
   "id": "ffd8e1cf",
   "metadata": {},
   "outputs": [
    {
     "name": "stdout",
     "output_type": "stream",
     "text": [
      "Key responsibilities and tasks include:\n",
      "â€¢ Process developer on usage and integration of current and new processes and systems\n",
      "â€¢ Lead in setting up new processes or systems\n",
      "â€¢ Map current user requirements with current and potentially new systems\n",
      "â€¢ Identify the right solutions that match other systems and required time/costs\n",
      " Specify projects including business case\n",
      "â€¢ Set up and monitor progress against project plans\n",
      " Run transition process to super users\n",
      "â€¢ Follow up to secure that agreed progress are delivered.\n",
      "â€¢ Manage the overall project portfolio\n",
      "â€¢ Run prioritisation process of new projects into the portfolio\n",
      "â€¢ Keep track on open projects to secure progress according to plans\n",
      "\n",
      "I am a Vietnamese student who graduated master's in logistics and supply chain management in Sep 2020 in Denmark. So far I haven't got a job. A lot of jobs require relevant experience, which I couldn't have as a fresh graduate, some other jobs require fluent danish speaking, which is challenging for an international job seeker in denmark. While keep applying for a job, I realise I should follow courses to enrich my knowledge in the supply chain and procurement industry, so my profile could still be as strong as the others graduating recently. \n",
      "As being unemployed, it is struggling for me to afford my life in Denmark and to follow a course to learn more professional skills for getting a job. This is the reason I am applying for Financial Aid.\n",
      "\n",
      "I have joined various purchasing projects in Vietnam, which motivate me to grow my career in procurement. However, it is challenging to get a purchasing job in Denmark.  A lot of junior positions of the purchaser or buying assistant prefer candidates having experience in a similar role or having an education in purchasing. Since I only have a moderate understanding of purchasing from my volunteer jobs, I would love to take this course to prove to recruiters that I have an insight into procurement and the core skills in procurement to perform the job.  \n",
      "Coursera is a great self-learning platform for me, where I can study up to my pace to develop myself gain more skills for my CV and simultaneously search for a job. The course's syllabus is very attentive learner-centric and very interactive to students. Furthermore, the course helps me gain professional skills to get a job in the procurement area.\n",
      "\n",
      "SUPPLY CHAIN ANALYTICS - COURSERA FINANCIAL AID \n",
      "I am a Vietnamese student who graduated master's in logistics and supply chain management in Sep 2020 in Denmark. So far I haven't got a job. A lot of jobs require relevant experience, which I couldn't have as a fresh graduate, some other jobs require fluent Danish speaking, which is challenging for an international job seeker in Denmark. While keep applying for a job, I realise I should follow courses to enrich my knowledge in the supply chain and procurement industry, so my profile could still be as strong as the others graduating recently. \n",
      "As being unemployed, it is struggling for me to afford my life in Denmark and to follow a course to learn more professional skills for getting a job. This is the reason I am applying for Financial Aid.\n",
      "Currently, I've been pursuing the first course of the Supply Chain Analytics specialization - Supply Chain Analytics Essential at week 2. Since Financial aid takes 2 weeks for application approval, I would like to submit my application for the second course of this specialisation from now. So when I finish the first course, I can start the second course immediately. While I am still applying for jobs, I wish to finish the specialisation as fast as possible to be employed sooner. \n",
      "\n",
      "How will taking this course help you achieve your career goals?\n",
      "I have joined various sourcing projects in Vietnam, which motivate me to grow my career in supply chain areas after my master's in logistics and supply chain management. However, it is challenging to get a job in Denmark with respect to entry-level or assistant positions. A lot of junior positions in supply chain areas prefer candidates having experience in a similar role or having a proven record of analysis skills or proven experiences in demand management and forecast or Lean and Sixma principles. For those criteria, I have very limited practical experiences from my study. I feel unconfident with my computing skills to forecast demand and manage inventory levels. Since I only have moderate competencies in data analytics, especially in the combined context of the supply chain, I would love to take this course to prove to recruiters that I have an insight into analysing supply chain performance and the core skills in working with data to perform the job.  \n",
      "Coursera is a great self-learning platform for me, where I can study up to my pace to develop myself gain more skills for my CV and simultaneously search for a job. \n",
      "The course's syllabus is very attentive learner-centric and very interactive to students. Given the provision of skills gained from the specialisation, demand and supply planning, demand planning and forecasting or data visualisation are my missing competencies and management consulting and business intelligence would be the differentiation to help my CV outweigh other competitors'. I acknowledge they appear some of the key skills required to land a job in supply chain analytics, which motivates me strongly to pursue this course and I believe it will strongly help me get a dream job in supply chain areas. \n",
      "\n",
      "opportunities: \n",
      "new working method, products and markets (e-commerce) \n",
      "\n",
      "challenges\n",
      "working cuet ltures\n",
      "\n",
      "Germany: easy to relocate, almost similar culture, food, met german colleagues and classmates -> understand german culture\n",
      "\n",
      "Hongkong: far from where I live, harder to relocate, close to my home country, same asian -> share some values  \n",
      "\n",
      "hongkong: languages -> intergrate, open-minded: distance\n",
      "germany: closer to denmark, similarity to the culture of denmark, \n",
      "\n",
      "international exp, open-minded, adapt with cultural diversity, love experiencing and discovering new cultures. \n",
      "\n",
      "\n",
      "sourcing and supply chain mgt: improve sourcing process \n",
      "\n",
      "\n",
      "\n",
      "\n",
      "\n",
      "\n",
      "\n",
      "\n",
      "UNIFEEDER\n",
      "\n",
      "\n",
      "\n",
      "redi SCHOOL INTERVIEW\n",
      "\n",
      "Tell us about your current financial situation. Why do you need assistance? \n",
      "\n",
      "I am a Vietnamese student who graduated master's in logistics and supply chain management in Sep 2020 in Denmark. \n",
      "I have been unemployed since September 2020. A lot of jobs require relevant experience, which I couldn't have as a fresh graduate, some other jobs require fluent Danish speaking, which is challenging for an international job seeker in Denmark. While keep applying for a job, I realise I should follow courses to enrich my knowledge in the supply chain and procurement industry, so my profile could still be as strong as the others graduating recently. \n",
      "As being unemployed, it is struggling for me to afford my life in Denmark and to follow a course to learn more professional skills for getting a job. This is the reason I am applying for Financial Aid.I am still looking for a job and I realise I need to cover my career gap by learning extra skills to keep my profile competitive compared to my peers and other fresher graduates. \n",
      "\n",
      "I am living in Denmark by myself and I am not allowed to get any unemployment benefits, else my visa terminates immediately. I am renting a cheap apartment and share with my friends to save money. Currently, I am using my saving to survive longer in Denmark. If I cannot get a job by October, I have to leave Denmark. \n",
      "The building I am living in now is being down for building a new neighbourhood, which is more costly to rent in the future. To save money, I only bike instead of taking a bus or driving a car. Additionally, I always hunt discount prices for grocery items, buy products that expire soon in the same day and freeze them in the freezer to save cost. \n",
      "\n",
      "Tell us about your learning or professional goals. How will a Verified Certificate in this course help you achieve these goals?\n",
      "\n",
      "If I were to get a Verified Certificate in this course, I set my goals to have a deep understanding of supply chain management and how data analytics can give data-based insight to improve the supply chain process.\n",
      "Speaking of technical skills, I would like to practice data analytics with real examples and cases within Excel or any analytics add-in tools from the course. A lot of jobs require data analytics skills to analyse the supply performance and build KPI reports. I believe exercises and assignments from this course would help me fulfil that professional requirement. \n",
      "Besides, optimisation methods and forecasting in the course would be very critical to help me get a job as a Demand Planner or Demand Manager. \n",
      "\n",
      "Speaking of professional goals, I don't mind starting from an assistant position to learn from doing and contribute my capabilities and in return gain more experiences. I am interested in working in three areas: Buying/ Procurement, Supply Chain Planning/Analyst. If I were to get a job, I still keep learning this course and then pursue other courses within the ERP systems and SAP to improve my skills. I notice a lot of jobs require or prefer candidates having experience with SAP or ERP systems. \n",
      "\n",
      "I have joined various sourcing projects in Vietnam, which motivate me to grow my career in supply chain areas after my master's in logistics and supply chain management. However, it is challenging to get a job in Denmark with respect to entry-level or assistant positions. A lot of junior positions in supply chain areas prefer candidates having experience in a similar role or having a proven record of analysis skills or proven experiences in demand management and forecast or Lean and Sixma principles. For those criteria, I have very limited practical experiences from my study. I feel unconfident with my computing skills to forecast demand and manage inventory levels.\n",
      "\n",
      "edX is a great self-learning platform for me, where I can study up to my pace to develop myself gain more skills for my CV and simultaneously search for a job. The course's syllabus is very attentive learner-centric and very interactive to students. I did audit this course before, I can see this course focuses strongly on practical skills and working with data, which is what I wish to improve and feel more confident when applying for a job within the supply chain area. \n",
      "\n",
      "Tell us about your plans for this course. What steps will you take to help you complete the course work and receive a certificate?\n",
      "My plans for this course is firstly setting a learning schedule, I would spend 1 hour per day for the course, 5 days a week. At the moment, I have been actively applying for jobs and have participated in a part-time evening school to learn data analytics with Python. So I could have 7.5 hours per week to ensure I finish the exercises and graded assignment by deadlines. \n",
      "\n",
      "In my opinion, the knowledge in lessons needed to complete Assignment is mostly found in video lectures. Apart from that, I need to do all the required assignments to get the certificate. Of course, since this is an online course, video lectures are very important. If I don't watch the video, there is no point in enrolling on this course. \n",
      "\n",
      "I can imagine I may encounter many confusing problems in the video lectures as well as problems when doing assignments. It is likely because I don't understand the lecture or it could be my linguistic issue. I think those problems could be addressed by going to the Discussions Forum. Just by reading, I may see there are many learners facing the same problem or have the same question as me, I think Discussion forums is such a powerful tool like StackOverflow or ''Google'' edX.\n",
      "\n",
      "Step 1: I must ensure I learn all the lectures and do exercises by deadlines. \n",
      "Step 2: Take notes to summarize the knowledge for theoretical lessons. \n",
      "Step 3: With data-based or mathematical exercises, I gotta take notes to self-verify some points that I don't understand. \n",
      "\n",
      "In general, doing exercises and practising are very important to understand the lesson and pass the exam. \n",
      "\n",
      "\n"
     ]
    }
   ],
   "source": [
    "path = 'C:/Users/Const/Desktop/NOTE - FINANCIAL AID - COURSERA.txt'\n",
    "file = open(path,'r')\n",
    "\n",
    "line = file.read()\n",
    "print(line)\n",
    "\n",
    "file.close()\n"
   ]
  },
  {
   "cell_type": "code",
   "execution_count": 15,
   "id": "ad57c7bb",
   "metadata": {},
   "outputs": [
    {
     "name": "stdout",
     "output_type": "stream",
     "text": [
      "Key responsibilities and tasks\n"
     ]
    },
    {
     "data": {
      "text/plain": [
       "<function TextIOWrapper.close()>"
      ]
     },
     "execution_count": 15,
     "metadata": {},
     "output_type": "execute_result"
    }
   ],
   "source": [
    "file = open(path,'r')\n",
    "\n",
    "content = file.read(30)\n",
    "\n",
    "print(content)\n",
    "\n",
    "file.close"
   ]
  },
  {
   "cell_type": "code",
   "execution_count": 20,
   "id": "14a01dc3",
   "metadata": {},
   "outputs": [
    {
     "name": "stdout",
     "output_type": "stream",
     "text": [
      " Run transition process to super users\n",
      "\n"
     ]
    },
    {
     "data": {
      "text/plain": [
       "<function TextIOWrapper.close()>"
      ]
     },
     "execution_count": 20,
     "metadata": {},
     "output_type": "execute_result"
    }
   ],
   "source": [
    "file = open(path,'r')\n",
    "\n",
    "content = file.readlines()\n",
    "print(content[7])\n",
    "\n",
    "file.close"
   ]
  },
  {
   "cell_type": "code",
   "execution_count": 21,
   "id": "bd59558a",
   "metadata": {},
   "outputs": [
    {
     "name": "stdout",
     "output_type": "stream",
     "text": [
      "['Key responsibilities and tasks include:\\n', 'â€¢ Process developer on usage and integration of current and new processes and systems\\n', 'â€¢ Lead in setting up new processes or systems\\n', 'â€¢ Map current user requirements with current and potentially new systems\\n', 'â€¢ Identify the right solutions that match other systems and required time/costs\\n', ' Specify projects including business case\\n', 'â€¢ Set up and monitor progress against project plans\\n', ' Run transition process to super users\\n', 'â€¢ Follow up to secure that agreed progress are delivered.\\n', 'â€¢ Manage the overall project portfolio\\n', 'â€¢ Run prioritisation process of new projects into the portfolio\\n', 'â€¢ Keep track on open projects to secure progress according to plans\\n', '\\n', \"I am a Vietnamese student who graduated master's in logistics and supply chain management in Sep 2020 in Denmark. So far I haven't got a job. A lot of jobs require relevant experience, which I couldn't have as a fresh graduate, some other jobs require fluent danish speaking, which is challenging for an international job seeker in denmark. While keep applying for a job, I realise I should follow courses to enrich my knowledge in the supply chain and procurement industry, so my profile could still be as strong as the others graduating recently. \\n\", 'As being unemployed, it is struggling for me to afford my life in Denmark and to follow a course to learn more professional skills for getting a job. This is the reason I am applying for Financial Aid.\\n', '\\n', 'I have joined various purchasing projects in Vietnam, which motivate me to grow my career in procurement. However, it is challenging to get a purchasing job in Denmark.  A lot of junior positions of the purchaser or buying assistant prefer candidates having experience in a similar role or having an education in purchasing. Since I only have a moderate understanding of purchasing from my volunteer jobs, I would love to take this course to prove to recruiters that I have an insight into procurement and the core skills in procurement to perform the job.  \\n', \"Coursera is a great self-learning platform for me, where I can study up to my pace to develop myself gain more skills for my CV and simultaneously search for a job. The course's syllabus is very attentive learner-centric and very interactive to students. Furthermore, the course helps me gain professional skills to get a job in the procurement area.\\n\", '\\n', 'SUPPLY CHAIN ANALYTICS - COURSERA FINANCIAL AID \\n', \"I am a Vietnamese student who graduated master's in logistics and supply chain management in Sep 2020 in Denmark. So far I haven't got a job. A lot of jobs require relevant experience, which I couldn't have as a fresh graduate, some other jobs require fluent Danish speaking, which is challenging for an international job seeker in Denmark. While keep applying for a job, I realise I should follow courses to enrich my knowledge in the supply chain and procurement industry, so my profile could still be as strong as the others graduating recently. \\n\", 'As being unemployed, it is struggling for me to afford my life in Denmark and to follow a course to learn more professional skills for getting a job. This is the reason I am applying for Financial Aid.\\n', \"Currently, I've been pursuing the first course of the Supply Chain Analytics specialization - Supply Chain Analytics Essential at week 2. Since Financial aid takes 2 weeks for application approval, I would like to submit my application for the second course of this specialisation from now. So when I finish the first course, I can start the second course immediately. While I am still applying for jobs, I wish to finish the specialisation as fast as possible to be employed sooner. \\n\", '\\n', 'How will taking this course help you achieve your career goals?\\n', \"I have joined various sourcing projects in Vietnam, which motivate me to grow my career in supply chain areas after my master's in logistics and supply chain management. However, it is challenging to get a job in Denmark with respect to entry-level or assistant positions. A lot of junior positions in supply chain areas prefer candidates having experience in a similar role or having a proven record of analysis skills or proven experiences in demand management and forecast or Lean and Sixma principles. For those criteria, I have very limited practical experiences from my study. I feel unconfident with my computing skills to forecast demand and manage inventory levels. Since I only have moderate competencies in data analytics, especially in the combined context of the supply chain, I would love to take this course to prove to recruiters that I have an insight into analysing supply chain performance and the core skills in working with data to perform the job.  \\n\", 'Coursera is a great self-learning platform for me, where I can study up to my pace to develop myself gain more skills for my CV and simultaneously search for a job. \\n', \"The course's syllabus is very attentive learner-centric and very interactive to students. Given the provision of skills gained from the specialisation, demand and supply planning, demand planning and forecasting or data visualisation are my missing competencies and management consulting and business intelligence would be the differentiation to help my CV outweigh other competitors'. I acknowledge they appear some of the key skills required to land a job in supply chain analytics, which motivates me strongly to pursue this course and I believe it will strongly help me get a dream job in supply chain areas. \\n\", '\\n', 'opportunities: \\n', 'new working method, products and markets (e-commerce) \\n', '\\n', 'challenges\\n', 'working cuet ltures\\n', '\\n', 'Germany: easy to relocate, almost similar culture, food, met german colleagues and classmates -> understand german culture\\n', '\\n', 'Hongkong: far from where I live, harder to relocate, close to my home country, same asian -> share some values  \\n', '\\n', 'hongkong: languages -> intergrate, open-minded: distance\\n', 'germany: closer to denmark, similarity to the culture of denmark, \\n', '\\n', 'international exp, open-minded, adapt with cultural diversity, love experiencing and discovering new cultures. \\n', '\\n', '\\n', 'sourcing and supply chain mgt: improve sourcing process \\n', '\\n', '\\n', '\\n', '\\n', '\\n', '\\n', '\\n', '\\n', 'UNIFEEDER\\n', '\\n', '\\n', '\\n', 'redi SCHOOL INTERVIEW\\n', '\\n', 'Tell us about your current financial situation. Why do you need assistance? \\n', '\\n', \"I am a Vietnamese student who graduated master's in logistics and supply chain management in Sep 2020 in Denmark. \\n\", \"I have been unemployed since September 2020. A lot of jobs require relevant experience, which I couldn't have as a fresh graduate, some other jobs require fluent Danish speaking, which is challenging for an international job seeker in Denmark. While keep applying for a job, I realise I should follow courses to enrich my knowledge in the supply chain and procurement industry, so my profile could still be as strong as the others graduating recently. \\n\", 'As being unemployed, it is struggling for me to afford my life in Denmark and to follow a course to learn more professional skills for getting a job. This is the reason I am applying for Financial Aid.I am still looking for a job and I realise I need to cover my career gap by learning extra skills to keep my profile competitive compared to my peers and other fresher graduates. \\n', '\\n', 'I am living in Denmark by myself and I am not allowed to get any unemployment benefits, else my visa terminates immediately. I am renting a cheap apartment and share with my friends to save money. Currently, I am using my saving to survive longer in Denmark. If I cannot get a job by October, I have to leave Denmark. \\n', 'The building I am living in now is being down for building a new neighbourhood, which is more costly to rent in the future. To save money, I only bike instead of taking a bus or driving a car. Additionally, I always hunt discount prices for grocery items, buy products that expire soon in the same day and freeze them in the freezer to save cost. \\n', '\\n', 'Tell us about your learning or professional goals. How will a Verified Certificate in this course help you achieve these goals?\\n', '\\n', 'If I were to get a Verified Certificate in this course, I set my goals to have a deep understanding of supply chain management and how data analytics can give data-based insight to improve the supply chain process.\\n', 'Speaking of technical skills, I would like to practice data analytics with real examples and cases within Excel or any analytics add-in tools from the course. A lot of jobs require data analytics skills to analyse the supply performance and build KPI reports. I believe exercises and assignments from this course would help me fulfil that professional requirement. \\n', 'Besides, optimisation methods and forecasting in the course would be very critical to help me get a job as a Demand Planner or Demand Manager. \\n', '\\n', \"Speaking of professional goals, I don't mind starting from an assistant position to learn from doing and contribute my capabilities and in return gain more experiences. I am interested in working in three areas: Buying/ Procurement, Supply Chain Planning/Analyst. If I were to get a job, I still keep learning this course and then pursue other courses within the ERP systems and SAP to improve my skills. I notice a lot of jobs require or prefer candidates having experience with SAP or ERP systems. \\n\", '\\n', \"I have joined various sourcing projects in Vietnam, which motivate me to grow my career in supply chain areas after my master's in logistics and supply chain management. However, it is challenging to get a job in Denmark with respect to entry-level or assistant positions. A lot of junior positions in supply chain areas prefer candidates having experience in a similar role or having a proven record of analysis skills or proven experiences in demand management and forecast or Lean and Sixma principles. For those criteria, I have very limited practical experiences from my study. I feel unconfident with my computing skills to forecast demand and manage inventory levels.\\n\", '\\n', \"edX is a great self-learning platform for me, where I can study up to my pace to develop myself gain more skills for my CV and simultaneously search for a job. The course's syllabus is very attentive learner-centric and very interactive to students. I did audit this course before, I can see this course focuses strongly on practical skills and working with data, which is what I wish to improve and feel more confident when applying for a job within the supply chain area. \\n\", '\\n', 'Tell us about your plans for this course. What steps will you take to help you complete the course work and receive a certificate?\\n', 'My plans for this course is firstly setting a learning schedule, I would spend 1 hour per day for the course, 5 days a week. At the moment, I have been actively applying for jobs and have participated in a part-time evening school to learn data analytics with Python. So I could have 7.5 hours per week to ensure I finish the exercises and graded assignment by deadlines. \\n', '\\n', \"In my opinion, the knowledge in lessons needed to complete Assignment is mostly found in video lectures. Apart from that, I need to do all the required assignments to get the certificate. Of course, since this is an online course, video lectures are very important. If I don't watch the video, there is no point in enrolling on this course. \\n\", '\\n', \"I can imagine I may encounter many confusing problems in the video lectures as well as problems when doing assignments. It is likely because I don't understand the lecture or it could be my linguistic issue. I think those problems could be addressed by going to the Discussions Forum. Just by reading, I may see there are many learners facing the same problem or have the same question as me, I think Discussion forums is such a powerful tool like StackOverflow or ''Google'' edX.\\n\", '\\n', 'Step 1: I must ensure I learn all the lectures and do exercises by deadlines. \\n', 'Step 2: Take notes to summarize the knowledge for theoretical lessons. \\n', \"Step 3: With data-based or mathematical exercises, I gotta take notes to self-verify some points that I don't understand. \\n\", '\\n', 'In general, doing exercises and practising are very important to understand the lesson and pass the exam. \\n', '\\n']\n"
     ]
    }
   ],
   "source": [
    "file = open(path,'r')\n",
    "\n",
    "content = file.readlines()\n",
    "print(content)\n"
   ]
  },
  {
   "cell_type": "code",
   "execution_count": 22,
   "id": "65ef8a30",
   "metadata": {},
   "outputs": [
    {
     "name": "stdout",
     "output_type": "stream",
     "text": [
      "12074\n"
     ]
    }
   ],
   "source": [
    "print(len(line))"
   ]
  },
  {
   "cell_type": "code",
   "execution_count": 23,
   "id": "320c6e8a",
   "metadata": {},
   "outputs": [
    {
     "name": "stdout",
     "output_type": "stream",
     "text": [
      "C:/Users/Const/Desktop/NOTE - FINANCIAL AID - COURSERA.txt\n"
     ]
    }
   ],
   "source": [
    "print(file.name)"
   ]
  },
  {
   "cell_type": "code",
   "execution_count": 24,
   "id": "5224d35c",
   "metadata": {},
   "outputs": [
    {
     "name": "stdout",
     "output_type": "stream",
     "text": [
      "cursor position-12168\n"
     ]
    }
   ],
   "source": [
    "print(f'cursor position-{file.tell()}')"
   ]
  },
  {
   "cell_type": "code",
   "execution_count": 25,
   "id": "3ece9151",
   "metadata": {},
   "outputs": [
    {
     "data": {
      "text/plain": [
       "0"
      ]
     },
     "execution_count": 25,
     "metadata": {},
     "output_type": "execute_result"
    }
   ],
   "source": [
    "file.seek(0)"
   ]
  },
  {
   "cell_type": "code",
   "execution_count": 26,
   "id": "274cc486",
   "metadata": {},
   "outputs": [
    {
     "name": "stdout",
     "output_type": "stream",
     "text": [
      "False\n"
     ]
    }
   ],
   "source": [
    "print(file.closed)"
   ]
  },
  {
   "cell_type": "code",
   "execution_count": 29,
   "id": "7c617a64",
   "metadata": {},
   "outputs": [
    {
     "name": "stdout",
     "output_type": "stream",
     "text": [
      "Key responsibilities and tasks include:\n",
      "\n",
      "â€¢ Process developer on usage and integration of current and new processes and systems\n",
      "\n",
      "â€¢ Lead in setting up new processes or systems\n",
      "\n",
      "â€¢ Map current user requirements with current and potentially new systems\n",
      "\n",
      "â€¢ Identify the right solutions that match other systems and required time/costs\n",
      "\n",
      " Specify projects including business case\n",
      "\n",
      "â€¢ Set up and monitor progress against project plans\n",
      "\n",
      " Run transition process to super users\n",
      "\n",
      "â€¢ Follow up to secure that agreed progress are delivered.\n",
      "\n",
      "â€¢ Manage the overall project portfolio\n",
      "\n",
      "â€¢ Run prioritisation process of new projects into the portfolio\n",
      "\n",
      "â€¢ Keep track on open projects to secure progress according to plans\n",
      "\n",
      "\n",
      "\n",
      "I am a Vietnamese student who graduated master's in logistics and supply chain management in Sep 2020 in Denmark. So far I haven't got a job. A lot of jobs require relevant experience, which I couldn't have as a fresh graduate, some other jobs require fluent danish speaking, which is challenging for an international job seeker in denmark. While keep applying for a job, I realise I should follow courses to enrich my knowledge in the supply chain and procurement industry, so my profile could still be as strong as the others graduating recently. \n",
      "\n",
      "As being unemployed, it is struggling for me to afford my life in Denmark and to follow a course to learn more professional skills for getting a job. This is the reason I am applying for Financial Aid.\n",
      "\n",
      "\n",
      "\n",
      "I have joined various purchasing projects in Vietnam, which motivate me to grow my career in procurement. However, it is challenging to get a purchasing job in Denmark.  A lot of junior positions of the purchaser or buying assistant prefer candidates having experience in a similar role or having an education in purchasing. Since I only have a moderate understanding of purchasing from my volunteer jobs, I would love to take this course to prove to recruiters that I have an insight into procurement and the core skills in procurement to perform the job.  \n",
      "\n",
      "Coursera is a great self-learning platform for me, where I can study up to my pace to develop myself gain more skills for my CV and simultaneously search for a job. The course's syllabus is very attentive learner-centric and very interactive to students. Furthermore, the course helps me gain professional skills to get a job in the procurement area.\n",
      "\n",
      "\n",
      "\n",
      "SUPPLY CHAIN ANALYTICS - COURSERA FINANCIAL AID \n",
      "\n",
      "I am a Vietnamese student who graduated master's in logistics and supply chain management in Sep 2020 in Denmark. So far I haven't got a job. A lot of jobs require relevant experience, which I couldn't have as a fresh graduate, some other jobs require fluent Danish speaking, which is challenging for an international job seeker in Denmark. While keep applying for a job, I realise I should follow courses to enrich my knowledge in the supply chain and procurement industry, so my profile could still be as strong as the others graduating recently. \n",
      "\n",
      "As being unemployed, it is struggling for me to afford my life in Denmark and to follow a course to learn more professional skills for getting a job. This is the reason I am applying for Financial Aid.\n",
      "\n",
      "Currently, I've been pursuing the first course of the Supply Chain Analytics specialization - Supply Chain Analytics Essential at week 2. Since Financial aid takes 2 weeks for application approval, I would like to submit my application for the second course of this specialisation from now. So when I finish the first course, I can start the second course immediately. While I am still applying for jobs, I wish to finish the specialisation as fast as possible to be employed sooner. \n",
      "\n",
      "\n",
      "\n",
      "How will taking this course help you achieve your career goals?\n",
      "\n",
      "I have joined various sourcing projects in Vietnam, which motivate me to grow my career in supply chain areas after my master's in logistics and supply chain management. However, it is challenging to get a job in Denmark with respect to entry-level or assistant positions. A lot of junior positions in supply chain areas prefer candidates having experience in a similar role or having a proven record of analysis skills or proven experiences in demand management and forecast or Lean and Sixma principles. For those criteria, I have very limited practical experiences from my study. I feel unconfident with my computing skills to forecast demand and manage inventory levels. Since I only have moderate competencies in data analytics, especially in the combined context of the supply chain, I would love to take this course to prove to recruiters that I have an insight into analysing supply chain performance and the core skills in working with data to perform the job.  \n",
      "\n",
      "Coursera is a great self-learning platform for me, where I can study up to my pace to develop myself gain more skills for my CV and simultaneously search for a job. \n",
      "\n",
      "The course's syllabus is very attentive learner-centric and very interactive to students. Given the provision of skills gained from the specialisation, demand and supply planning, demand planning and forecasting or data visualisation are my missing competencies and management consulting and business intelligence would be the differentiation to help my CV outweigh other competitors'. I acknowledge they appear some of the key skills required to land a job in supply chain analytics, which motivates me strongly to pursue this course and I believe it will strongly help me get a dream job in supply chain areas. \n",
      "\n",
      "\n",
      "\n",
      "opportunities: \n",
      "\n",
      "new working method, products and markets (e-commerce) \n",
      "\n",
      "\n",
      "\n",
      "challenges\n",
      "\n",
      "working cuet ltures\n",
      "\n",
      "\n",
      "\n",
      "Germany: easy to relocate, almost similar culture, food, met german colleagues and classmates -> understand german culture\n",
      "\n",
      "\n",
      "\n",
      "Hongkong: far from where I live, harder to relocate, close to my home country, same asian -> share some values  \n",
      "\n",
      "\n",
      "\n",
      "hongkong: languages -> intergrate, open-minded: distance\n",
      "\n",
      "germany: closer to denmark, similarity to the culture of denmark, \n",
      "\n",
      "\n",
      "\n",
      "international exp, open-minded, adapt with cultural diversity, love experiencing and discovering new cultures. \n",
      "\n",
      "\n",
      "\n",
      "\n",
      "\n",
      "sourcing and supply chain mgt: improve sourcing process \n",
      "\n",
      "\n",
      "\n",
      "\n",
      "\n",
      "\n",
      "\n",
      "\n",
      "\n",
      "\n",
      "\n",
      "\n",
      "\n",
      "\n",
      "\n",
      "\n",
      "\n",
      "UNIFEEDER\n",
      "\n",
      "\n",
      "\n",
      "\n",
      "\n",
      "\n",
      "\n",
      "redi SCHOOL INTERVIEW\n",
      "\n",
      "\n",
      "\n",
      "Tell us about your current financial situation. Why do you need assistance? \n",
      "\n",
      "\n",
      "\n",
      "I am a Vietnamese student who graduated master's in logistics and supply chain management in Sep 2020 in Denmark. \n",
      "\n",
      "I have been unemployed since September 2020. A lot of jobs require relevant experience, which I couldn't have as a fresh graduate, some other jobs require fluent Danish speaking, which is challenging for an international job seeker in Denmark. While keep applying for a job, I realise I should follow courses to enrich my knowledge in the supply chain and procurement industry, so my profile could still be as strong as the others graduating recently. \n",
      "\n",
      "As being unemployed, it is struggling for me to afford my life in Denmark and to follow a course to learn more professional skills for getting a job. This is the reason I am applying for Financial Aid.I am still looking for a job and I realise I need to cover my career gap by learning extra skills to keep my profile competitive compared to my peers and other fresher graduates. \n",
      "\n",
      "\n",
      "\n",
      "I am living in Denmark by myself and I am not allowed to get any unemployment benefits, else my visa terminates immediately. I am renting a cheap apartment and share with my friends to save money. Currently, I am using my saving to survive longer in Denmark. If I cannot get a job by October, I have to leave Denmark. \n",
      "\n",
      "The building I am living in now is being down for building a new neighbourhood, which is more costly to rent in the future. To save money, I only bike instead of taking a bus or driving a car. Additionally, I always hunt discount prices for grocery items, buy products that expire soon in the same day and freeze them in the freezer to save cost. \n",
      "\n",
      "\n",
      "\n",
      "Tell us about your learning or professional goals. How will a Verified Certificate in this course help you achieve these goals?\n",
      "\n",
      "\n",
      "\n",
      "If I were to get a Verified Certificate in this course, I set my goals to have a deep understanding of supply chain management and how data analytics can give data-based insight to improve the supply chain process.\n",
      "\n",
      "Speaking of technical skills, I would like to practice data analytics with real examples and cases within Excel or any analytics add-in tools from the course. A lot of jobs require data analytics skills to analyse the supply performance and build KPI reports. I believe exercises and assignments from this course would help me fulfil that professional requirement. \n",
      "\n",
      "Besides, optimisation methods and forecasting in the course would be very critical to help me get a job as a Demand Planner or Demand Manager. \n",
      "\n",
      "\n",
      "\n",
      "Speaking of professional goals, I don't mind starting from an assistant position to learn from doing and contribute my capabilities and in return gain more experiences. I am interested in working in three areas: Buying/ Procurement, Supply Chain Planning/Analyst. If I were to get a job, I still keep learning this course and then pursue other courses within the ERP systems and SAP to improve my skills. I notice a lot of jobs require or prefer candidates having experience with SAP or ERP systems. \n",
      "\n",
      "\n",
      "\n",
      "I have joined various sourcing projects in Vietnam, which motivate me to grow my career in supply chain areas after my master's in logistics and supply chain management. However, it is challenging to get a job in Denmark with respect to entry-level or assistant positions. A lot of junior positions in supply chain areas prefer candidates having experience in a similar role or having a proven record of analysis skills or proven experiences in demand management and forecast or Lean and Sixma principles. For those criteria, I have very limited practical experiences from my study. I feel unconfident with my computing skills to forecast demand and manage inventory levels.\n",
      "\n",
      "\n",
      "\n",
      "edX is a great self-learning platform for me, where I can study up to my pace to develop myself gain more skills for my CV and simultaneously search for a job. The course's syllabus is very attentive learner-centric and very interactive to students. I did audit this course before, I can see this course focuses strongly on practical skills and working with data, which is what I wish to improve and feel more confident when applying for a job within the supply chain area. \n",
      "\n",
      "\n",
      "\n",
      "Tell us about your plans for this course. What steps will you take to help you complete the course work and receive a certificate?\n",
      "\n",
      "My plans for this course is firstly setting a learning schedule, I would spend 1 hour per day for the course, 5 days a week. At the moment, I have been actively applying for jobs and have participated in a part-time evening school to learn data analytics with Python. So I could have 7.5 hours per week to ensure I finish the exercises and graded assignment by deadlines. \n",
      "\n",
      "\n",
      "\n",
      "In my opinion, the knowledge in lessons needed to complete Assignment is mostly found in video lectures. Apart from that, I need to do all the required assignments to get the certificate. Of course, since this is an online course, video lectures are very important. If I don't watch the video, there is no point in enrolling on this course. \n",
      "\n",
      "\n",
      "\n",
      "I can imagine I may encounter many confusing problems in the video lectures as well as problems when doing assignments. It is likely because I don't understand the lecture or it could be my linguistic issue. I think those problems could be addressed by going to the Discussions Forum. Just by reading, I may see there are many learners facing the same problem or have the same question as me, I think Discussion forums is such a powerful tool like StackOverflow or ''Google'' edX.\n",
      "\n",
      "\n",
      "\n",
      "Step 1: I must ensure I learn all the lectures and do exercises by deadlines. \n",
      "\n",
      "Step 2: Take notes to summarize the knowledge for theoretical lessons. \n",
      "\n",
      "Step 3: With data-based or mathematical exercises, I gotta take notes to self-verify some points that I don't understand. \n",
      "\n",
      "\n",
      "\n",
      "In general, doing exercises and practising are very important to understand the lesson and pass the exam. \n",
      "\n",
      "\n",
      "\n"
     ]
    },
    {
     "data": {
      "text/plain": [
       "<function TextIOWrapper.close()>"
      ]
     },
     "execution_count": 29,
     "metadata": {},
     "output_type": "execute_result"
    }
   ],
   "source": [
    "file = open(path,'r')\n",
    "\n",
    "for content in file:\n",
    "    print(content)\n",
    "file.close"
   ]
  },
  {
   "cell_type": "code",
   "execution_count": 30,
   "id": "510b9246",
   "metadata": {},
   "outputs": [
    {
     "name": "stdout",
     "output_type": "stream",
     "text": [
      "Key responsibilities and tasks include:\n",
      "â€¢ Process developer on usage and integration of current and new processes and systems\n",
      "â€¢ Lead in setting up new processes or systems\n",
      "â€¢ Map current user requirements with current and potentially new systems\n",
      "â€¢ Identify the right solutions that match other systems and required time/costs\n",
      " Specify projects including business case\n",
      "â€¢ Set up and monitor progress against project plans\n",
      " Run transition process to super users\n",
      "â€¢ Follow up to secure that agreed progress are delivered.\n",
      "â€¢ Manage the overall project portfolio\n",
      "â€¢ Run prioritisation process of new projects into the portfolio\n",
      "â€¢ Keep track on open projects to secure progress according to plans\n",
      "\n",
      "I am a Vietnamese student who graduated master's in logistics and supply chain management in Sep 2020 in Denmark. So far I haven't got a job. A lot of jobs require relevant experience, which I couldn't have as a fresh graduate, some other jobs require fluent danish speaking, which is challenging for an international job seeker in denmark. While keep applying for a job, I realise I should follow courses to enrich my knowledge in the supply chain and procurement industry, so my profile could still be as strong as the others graduating recently. \n",
      "As being unemployed, it is struggling for me to afford my life in Denmark and to follow a course to learn more professional skills for getting a job. This is the reason I am applying for Financial Aid.\n",
      "\n",
      "I have joined various purchasing projects in Vietnam, which motivate me to grow my career in procurement. However, it is challenging to get a purchasing job in Denmark.  A lot of junior positions of the purchaser or buying assistant prefer candidates having experience in a similar role or having an education in purchasing. Since I only have a moderate understanding of purchasing from my volunteer jobs, I would love to take this course to prove to recruiters that I have an insight into procurement and the core skills in procurement to perform the job.  \n",
      "Coursera is a great self-learning platform for me, where I can study up to my pace to develop myself gain more skills for my CV and simultaneously search for a job. The course's syllabus is very attentive learner-centric and very interactive to students. Furthermore, the course helps me gain professional skills to get a job in the procurement area.\n",
      "\n",
      "SUPPLY CHAIN ANALYTICS - COURSERA FINANCIAL AID \n",
      "I am a Vietnamese student who graduated master's in logistics and supply chain management in Sep 2020 in Denmark. So far I haven't got a job. A lot of jobs require relevant experience, which I couldn't have as a fresh graduate, some other jobs require fluent Danish speaking, which is challenging for an international job seeker in Denmark. While keep applying for a job, I realise I should follow courses to enrich my knowledge in the supply chain and procurement industry, so my profile could still be as strong as the others graduating recently. \n",
      "As being unemployed, it is struggling for me to afford my life in Denmark and to follow a course to learn more professional skills for getting a job. This is the reason I am applying for Financial Aid.\n",
      "Currently, I've been pursuing the first course of the Supply Chain Analytics specialization - Supply Chain Analytics Essential at week 2. Since Financial aid takes 2 weeks for application approval, I would like to submit my application for the second course of this specialisation from now. So when I finish the first course, I can start the second course immediately. While I am still applying for jobs, I wish to finish the specialisation as fast as possible to be employed sooner. \n",
      "\n",
      "How will taking this course help you achieve your career goals?\n",
      "I have joined various sourcing projects in Vietnam, which motivate me to grow my career in supply chain areas after my master's in logistics and supply chain management. However, it is challenging to get a job in Denmark with respect to entry-level or assistant positions. A lot of junior positions in supply chain areas prefer candidates having experience in a similar role or having a proven record of analysis skills or proven experiences in demand management and forecast or Lean and Sixma principles. For those criteria, I have very limited practical experiences from my study. I feel unconfident with my computing skills to forecast demand and manage inventory levels. Since I only have moderate competencies in data analytics, especially in the combined context of the supply chain, I would love to take this course to prove to recruiters that I have an insight into analysing supply chain performance and the core skills in working with data to perform the job.  \n",
      "Coursera is a great self-learning platform for me, where I can study up to my pace to develop myself gain more skills for my CV and simultaneously search for a job. \n",
      "The course's syllabus is very attentive learner-centric and very interactive to students. Given the provision of skills gained from the specialisation, demand and supply planning, demand planning and forecasting or data visualisation are my missing competencies and management consulting and business intelligence would be the differentiation to help my CV outweigh other competitors'. I acknowledge they appear some of the key skills required to land a job in supply chain analytics, which motivates me strongly to pursue this course and I believe it will strongly help me get a dream job in supply chain areas. \n",
      "\n",
      "opportunities: \n",
      "new working method, products and markets (e-commerce) \n",
      "\n",
      "challenges\n",
      "working cuet ltures\n",
      "\n",
      "Germany: easy to relocate, almost similar culture, food, met german colleagues and classmates -> understand german culture\n",
      "\n",
      "Hongkong: far from where I live, harder to relocate, close to my home country, same asian -> share some values  \n",
      "\n",
      "hongkong: languages -> intergrate, open-minded: distance\n",
      "germany: closer to denmark, similarity to the culture of denmark, \n",
      "\n",
      "international exp, open-minded, adapt with cultural diversity, love experiencing and discovering new cultures. \n",
      "\n",
      "\n",
      "sourcing and supply chain mgt: improve sourcing process \n",
      "\n",
      "\n",
      "\n",
      "\n",
      "\n",
      "\n",
      "\n",
      "\n",
      "UNIFEEDER\n",
      "\n",
      "\n",
      "\n",
      "redi SCHOOL INTERVIEW\n",
      "\n",
      "Tell us about your current financial situation. Why do you need assistance? \n",
      "\n",
      "I am a Vietnamese student who graduated master's in logistics and supply chain management in Sep 2020 in Denmark. \n",
      "I have been unemployed since September 2020. A lot of jobs require relevant experience, which I couldn't have as a fresh graduate, some other jobs require fluent Danish speaking, which is challenging for an international job seeker in Denmark. While keep applying for a job, I realise I should follow courses to enrich my knowledge in the supply chain and procurement industry, so my profile could still be as strong as the others graduating recently. \n",
      "As being unemployed, it is struggling for me to afford my life in Denmark and to follow a course to learn more professional skills for getting a job. This is the reason I am applying for Financial Aid.I am still looking for a job and I realise I need to cover my career gap by learning extra skills to keep my profile competitive compared to my peers and other fresher graduates. \n",
      "\n",
      "I am living in Denmark by myself and I am not allowed to get any unemployment benefits, else my visa terminates immediately. I am renting a cheap apartment and share with my friends to save money. Currently, I am using my saving to survive longer in Denmark. If I cannot get a job by October, I have to leave Denmark. \n",
      "The building I am living in now is being down for building a new neighbourhood, which is more costly to rent in the future. To save money, I only bike instead of taking a bus or driving a car. Additionally, I always hunt discount prices for grocery items, buy products that expire soon in the same day and freeze them in the freezer to save cost. \n",
      "\n",
      "Tell us about your learning or professional goals. How will a Verified Certificate in this course help you achieve these goals?\n",
      "\n",
      "If I were to get a Verified Certificate in this course, I set my goals to have a deep understanding of supply chain management and how data analytics can give data-based insight to improve the supply chain process.\n",
      "Speaking of technical skills, I would like to practice data analytics with real examples and cases within Excel or any analytics add-in tools from the course. A lot of jobs require data analytics skills to analyse the supply performance and build KPI reports. I believe exercises and assignments from this course would help me fulfil that professional requirement. \n",
      "Besides, optimisation methods and forecasting in the course would be very critical to help me get a job as a Demand Planner or Demand Manager. \n",
      "\n",
      "Speaking of professional goals, I don't mind starting from an assistant position to learn from doing and contribute my capabilities and in return gain more experiences. I am interested in working in three areas: Buying/ Procurement, Supply Chain Planning/Analyst. If I were to get a job, I still keep learning this course and then pursue other courses within the ERP systems and SAP to improve my skills. I notice a lot of jobs require or prefer candidates having experience with SAP or ERP systems. \n",
      "\n",
      "I have joined various sourcing projects in Vietnam, which motivate me to grow my career in supply chain areas after my master's in logistics and supply chain management. However, it is challenging to get a job in Denmark with respect to entry-level or assistant positions. A lot of junior positions in supply chain areas prefer candidates having experience in a similar role or having a proven record of analysis skills or proven experiences in demand management and forecast or Lean and Sixma principles. For those criteria, I have very limited practical experiences from my study. I feel unconfident with my computing skills to forecast demand and manage inventory levels.\n",
      "\n",
      "edX is a great self-learning platform for me, where I can study up to my pace to develop myself gain more skills for my CV and simultaneously search for a job. The course's syllabus is very attentive learner-centric and very interactive to students. I did audit this course before, I can see this course focuses strongly on practical skills and working with data, which is what I wish to improve and feel more confident when applying for a job within the supply chain area. \n",
      "\n",
      "Tell us about your plans for this course. What steps will you take to help you complete the course work and receive a certificate?\n",
      "My plans for this course is firstly setting a learning schedule, I would spend 1 hour per day for the course, 5 days a week. At the moment, I have been actively applying for jobs and have participated in a part-time evening school to learn data analytics with Python. So I could have 7.5 hours per week to ensure I finish the exercises and graded assignment by deadlines. \n",
      "\n",
      "In my opinion, the knowledge in lessons needed to complete Assignment is mostly found in video lectures. Apart from that, I need to do all the required assignments to get the certificate. Of course, since this is an online course, video lectures are very important. If I don't watch the video, there is no point in enrolling on this course. \n",
      "\n",
      "I can imagine I may encounter many confusing problems in the video lectures as well as problems when doing assignments. It is likely because I don't understand the lecture or it could be my linguistic issue. I think those problems could be addressed by going to the Discussions Forum. Just by reading, I may see there are many learners facing the same problem or have the same question as me, I think Discussion forums is such a powerful tool like StackOverflow or ''Google'' edX.\n",
      "\n",
      "Step 1: I must ensure I learn all the lectures and do exercises by deadlines. \n",
      "Step 2: Take notes to summarize the knowledge for theoretical lessons. \n",
      "Step 3: With data-based or mathematical exercises, I gotta take notes to self-verify some points that I don't understand. \n",
      "\n",
      "In general, doing exercises and practising are very important to understand the lesson and pass the exam. \n",
      "\n",
      "\n"
     ]
    }
   ],
   "source": [
    "with open(path) as file:\n",
    "    content = file.read()\n",
    "    print(content)"
   ]
  },
  {
   "cell_type": "code",
   "execution_count": 31,
   "id": "64901c7b",
   "metadata": {},
   "outputs": [
    {
     "name": "stdout",
     "output_type": "stream",
     "text": [
      "True\n"
     ]
    }
   ],
   "source": [
    "print(file.closed)"
   ]
  },
  {
   "cell_type": "code",
   "execution_count": 33,
   "id": "8367ff90",
   "metadata": {},
   "outputs": [],
   "source": [
    "file = open(path,'a')\n",
    "file.write('\\nThis is the content to be added!')\n",
    "file.close()"
   ]
  },
  {
   "cell_type": "code",
   "execution_count": 34,
   "id": "86d7b4d2",
   "metadata": {},
   "outputs": [
    {
     "name": "stdout",
     "output_type": "stream",
     "text": [
      "Key responsibilities and tasks include:\n",
      "â€¢ Process developer on usage and integration of current and new processes and systems\n",
      "â€¢ Lead in setting up new processes or systems\n",
      "â€¢ Map current user requirements with current and potentially new systems\n",
      "â€¢ Identify the right solutions that match other systems and required time/costs\n",
      " Specify projects including business case\n",
      "â€¢ Set up and monitor progress against project plans\n",
      " Run transition process to super users\n",
      "â€¢ Follow up to secure that agreed progress are delivered.\n",
      "â€¢ Manage the overall project portfolio\n",
      "â€¢ Run prioritisation process of new projects into the portfolio\n",
      "â€¢ Keep track on open projects to secure progress according to plans\n",
      "\n",
      "I am a Vietnamese student who graduated master's in logistics and supply chain management in Sep 2020 in Denmark. So far I haven't got a job. A lot of jobs require relevant experience, which I couldn't have as a fresh graduate, some other jobs require fluent danish speaking, which is challenging for an international job seeker in denmark. While keep applying for a job, I realise I should follow courses to enrich my knowledge in the supply chain and procurement industry, so my profile could still be as strong as the others graduating recently. \n",
      "As being unemployed, it is struggling for me to afford my life in Denmark and to follow a course to learn more professional skills for getting a job. This is the reason I am applying for Financial Aid.\n",
      "\n",
      "I have joined various purchasing projects in Vietnam, which motivate me to grow my career in procurement. However, it is challenging to get a purchasing job in Denmark.  A lot of junior positions of the purchaser or buying assistant prefer candidates having experience in a similar role or having an education in purchasing. Since I only have a moderate understanding of purchasing from my volunteer jobs, I would love to take this course to prove to recruiters that I have an insight into procurement and the core skills in procurement to perform the job.  \n",
      "Coursera is a great self-learning platform for me, where I can study up to my pace to develop myself gain more skills for my CV and simultaneously search for a job. The course's syllabus is very attentive learner-centric and very interactive to students. Furthermore, the course helps me gain professional skills to get a job in the procurement area.\n",
      "\n",
      "SUPPLY CHAIN ANALYTICS - COURSERA FINANCIAL AID \n",
      "I am a Vietnamese student who graduated master's in logistics and supply chain management in Sep 2020 in Denmark. So far I haven't got a job. A lot of jobs require relevant experience, which I couldn't have as a fresh graduate, some other jobs require fluent Danish speaking, which is challenging for an international job seeker in Denmark. While keep applying for a job, I realise I should follow courses to enrich my knowledge in the supply chain and procurement industry, so my profile could still be as strong as the others graduating recently. \n",
      "As being unemployed, it is struggling for me to afford my life in Denmark and to follow a course to learn more professional skills for getting a job. This is the reason I am applying for Financial Aid.\n",
      "Currently, I've been pursuing the first course of the Supply Chain Analytics specialization - Supply Chain Analytics Essential at week 2. Since Financial aid takes 2 weeks for application approval, I would like to submit my application for the second course of this specialisation from now. So when I finish the first course, I can start the second course immediately. While I am still applying for jobs, I wish to finish the specialisation as fast as possible to be employed sooner. \n",
      "\n",
      "How will taking this course help you achieve your career goals?\n",
      "I have joined various sourcing projects in Vietnam, which motivate me to grow my career in supply chain areas after my master's in logistics and supply chain management. However, it is challenging to get a job in Denmark with respect to entry-level or assistant positions. A lot of junior positions in supply chain areas prefer candidates having experience in a similar role or having a proven record of analysis skills or proven experiences in demand management and forecast or Lean and Sixma principles. For those criteria, I have very limited practical experiences from my study. I feel unconfident with my computing skills to forecast demand and manage inventory levels. Since I only have moderate competencies in data analytics, especially in the combined context of the supply chain, I would love to take this course to prove to recruiters that I have an insight into analysing supply chain performance and the core skills in working with data to perform the job.  \n",
      "Coursera is a great self-learning platform for me, where I can study up to my pace to develop myself gain more skills for my CV and simultaneously search for a job. \n",
      "The course's syllabus is very attentive learner-centric and very interactive to students. Given the provision of skills gained from the specialisation, demand and supply planning, demand planning and forecasting or data visualisation are my missing competencies and management consulting and business intelligence would be the differentiation to help my CV outweigh other competitors'. I acknowledge they appear some of the key skills required to land a job in supply chain analytics, which motivates me strongly to pursue this course and I believe it will strongly help me get a dream job in supply chain areas. \n",
      "\n",
      "opportunities: \n",
      "new working method, products and markets (e-commerce) \n",
      "\n",
      "challenges\n",
      "working cuet ltures\n",
      "\n",
      "Germany: easy to relocate, almost similar culture, food, met german colleagues and classmates -> understand german culture\n",
      "\n",
      "Hongkong: far from where I live, harder to relocate, close to my home country, same asian -> share some values  \n",
      "\n",
      "hongkong: languages -> intergrate, open-minded: distance\n",
      "germany: closer to denmark, similarity to the culture of denmark, \n",
      "\n",
      "international exp, open-minded, adapt with cultural diversity, love experiencing and discovering new cultures. \n",
      "\n",
      "\n",
      "sourcing and supply chain mgt: improve sourcing process \n",
      "\n",
      "\n",
      "\n",
      "\n",
      "\n",
      "\n",
      "\n",
      "\n",
      "UNIFEEDER\n",
      "\n",
      "\n",
      "\n",
      "redi SCHOOL INTERVIEW\n",
      "\n",
      "Tell us about your current financial situation. Why do you need assistance? \n",
      "\n",
      "I am a Vietnamese student who graduated master's in logistics and supply chain management in Sep 2020 in Denmark. \n",
      "I have been unemployed since September 2020. A lot of jobs require relevant experience, which I couldn't have as a fresh graduate, some other jobs require fluent Danish speaking, which is challenging for an international job seeker in Denmark. While keep applying for a job, I realise I should follow courses to enrich my knowledge in the supply chain and procurement industry, so my profile could still be as strong as the others graduating recently. \n",
      "As being unemployed, it is struggling for me to afford my life in Denmark and to follow a course to learn more professional skills for getting a job. This is the reason I am applying for Financial Aid.I am still looking for a job and I realise I need to cover my career gap by learning extra skills to keep my profile competitive compared to my peers and other fresher graduates. \n",
      "\n",
      "I am living in Denmark by myself and I am not allowed to get any unemployment benefits, else my visa terminates immediately. I am renting a cheap apartment and share with my friends to save money. Currently, I am using my saving to survive longer in Denmark. If I cannot get a job by October, I have to leave Denmark. \n",
      "The building I am living in now is being down for building a new neighbourhood, which is more costly to rent in the future. To save money, I only bike instead of taking a bus or driving a car. Additionally, I always hunt discount prices for grocery items, buy products that expire soon in the same day and freeze them in the freezer to save cost. \n",
      "\n",
      "Tell us about your learning or professional goals. How will a Verified Certificate in this course help you achieve these goals?\n",
      "\n",
      "If I were to get a Verified Certificate in this course, I set my goals to have a deep understanding of supply chain management and how data analytics can give data-based insight to improve the supply chain process.\n",
      "Speaking of technical skills, I would like to practice data analytics with real examples and cases within Excel or any analytics add-in tools from the course. A lot of jobs require data analytics skills to analyse the supply performance and build KPI reports. I believe exercises and assignments from this course would help me fulfil that professional requirement. \n",
      "Besides, optimisation methods and forecasting in the course would be very critical to help me get a job as a Demand Planner or Demand Manager. \n",
      "\n",
      "Speaking of professional goals, I don't mind starting from an assistant position to learn from doing and contribute my capabilities and in return gain more experiences. I am interested in working in three areas: Buying/ Procurement, Supply Chain Planning/Analyst. If I were to get a job, I still keep learning this course and then pursue other courses within the ERP systems and SAP to improve my skills. I notice a lot of jobs require or prefer candidates having experience with SAP or ERP systems. \n",
      "\n",
      "I have joined various sourcing projects in Vietnam, which motivate me to grow my career in supply chain areas after my master's in logistics and supply chain management. However, it is challenging to get a job in Denmark with respect to entry-level or assistant positions. A lot of junior positions in supply chain areas prefer candidates having experience in a similar role or having a proven record of analysis skills or proven experiences in demand management and forecast or Lean and Sixma principles. For those criteria, I have very limited practical experiences from my study. I feel unconfident with my computing skills to forecast demand and manage inventory levels.\n",
      "\n",
      "edX is a great self-learning platform for me, where I can study up to my pace to develop myself gain more skills for my CV and simultaneously search for a job. The course's syllabus is very attentive learner-centric and very interactive to students. I did audit this course before, I can see this course focuses strongly on practical skills and working with data, which is what I wish to improve and feel more confident when applying for a job within the supply chain area. \n",
      "\n",
      "Tell us about your plans for this course. What steps will you take to help you complete the course work and receive a certificate?\n",
      "My plans for this course is firstly setting a learning schedule, I would spend 1 hour per day for the course, 5 days a week. At the moment, I have been actively applying for jobs and have participated in a part-time evening school to learn data analytics with Python. So I could have 7.5 hours per week to ensure I finish the exercises and graded assignment by deadlines. \n",
      "\n",
      "In my opinion, the knowledge in lessons needed to complete Assignment is mostly found in video lectures. Apart from that, I need to do all the required assignments to get the certificate. Of course, since this is an online course, video lectures are very important. If I don't watch the video, there is no point in enrolling on this course. \n",
      "\n",
      "I can imagine I may encounter many confusing problems in the video lectures as well as problems when doing assignments. It is likely because I don't understand the lecture or it could be my linguistic issue. I think those problems could be addressed by going to the Discussions Forum. Just by reading, I may see there are many learners facing the same problem or have the same question as me, I think Discussion forums is such a powerful tool like StackOverflow or ''Google'' edX.\n",
      "\n",
      "Step 1: I must ensure I learn all the lectures and do exercises by deadlines. \n",
      "Step 2: Take notes to summarize the knowledge for theoretical lessons. \n",
      "Step 3: With data-based or mathematical exercises, I gotta take notes to self-verify some points that I don't understand. \n",
      "\n",
      "In general, doing exercises and practising are very important to understand the lesson and pass the exam. \n",
      "\n",
      "\n",
      "This is the content to be added!\n"
     ]
    }
   ],
   "source": [
    "with open(path) as file:\n",
    "    content=file.read()\n",
    "    print(content)"
   ]
  },
  {
   "cell_type": "code",
   "execution_count": 35,
   "id": "473f0bb6",
   "metadata": {},
   "outputs": [],
   "source": [
    "with open(path,'a') as file:\n",
    "    file.write('\\nAdd content the second time.')"
   ]
  },
  {
   "cell_type": "code",
   "execution_count": 37,
   "id": "21b37f9e",
   "metadata": {},
   "outputs": [
    {
     "name": "stdout",
     "output_type": "stream",
     "text": [
      "Key responsibilities and tasks include:\n",
      "â€¢ Process developer on usage and integration of current and new processes and systems\n",
      "â€¢ Lead in setting up new processes or systems\n",
      "â€¢ Map current user requirements with current and potentially new systems\n",
      "â€¢ Identify the right solutions that match other systems and required time/costs\n",
      " Specify projects including business case\n",
      "â€¢ Set up and monitor progress against project plans\n",
      " Run transition process to super users\n",
      "â€¢ Follow up to secure that agreed progress are delivered.\n",
      "â€¢ Manage the overall project portfolio\n",
      "â€¢ Run prioritisation process of new projects into the portfolio\n",
      "â€¢ Keep track on open projects to secure progress according to plans\n",
      "\n",
      "I am a Vietnamese student who graduated master's in logistics and supply chain management in Sep 2020 in Denmark. So far I haven't got a job. A lot of jobs require relevant experience, which I couldn't have as a fresh graduate, some other jobs require fluent danish speaking, which is challenging for an international job seeker in denmark. While keep applying for a job, I realise I should follow courses to enrich my knowledge in the supply chain and procurement industry, so my profile could still be as strong as the others graduating recently. \n",
      "As being unemployed, it is struggling for me to afford my life in Denmark and to follow a course to learn more professional skills for getting a job. This is the reason I am applying for Financial Aid.\n",
      "\n",
      "I have joined various purchasing projects in Vietnam, which motivate me to grow my career in procurement. However, it is challenging to get a purchasing job in Denmark.  A lot of junior positions of the purchaser or buying assistant prefer candidates having experience in a similar role or having an education in purchasing. Since I only have a moderate understanding of purchasing from my volunteer jobs, I would love to take this course to prove to recruiters that I have an insight into procurement and the core skills in procurement to perform the job.  \n",
      "Coursera is a great self-learning platform for me, where I can study up to my pace to develop myself gain more skills for my CV and simultaneously search for a job. The course's syllabus is very attentive learner-centric and very interactive to students. Furthermore, the course helps me gain professional skills to get a job in the procurement area.\n",
      "\n",
      "SUPPLY CHAIN ANALYTICS - COURSERA FINANCIAL AID \n",
      "I am a Vietnamese student who graduated master's in logistics and supply chain management in Sep 2020 in Denmark. So far I haven't got a job. A lot of jobs require relevant experience, which I couldn't have as a fresh graduate, some other jobs require fluent Danish speaking, which is challenging for an international job seeker in Denmark. While keep applying for a job, I realise I should follow courses to enrich my knowledge in the supply chain and procurement industry, so my profile could still be as strong as the others graduating recently. \n",
      "As being unemployed, it is struggling for me to afford my life in Denmark and to follow a course to learn more professional skills for getting a job. This is the reason I am applying for Financial Aid.\n",
      "Currently, I've been pursuing the first course of the Supply Chain Analytics specialization - Supply Chain Analytics Essential at week 2. Since Financial aid takes 2 weeks for application approval, I would like to submit my application for the second course of this specialisation from now. So when I finish the first course, I can start the second course immediately. While I am still applying for jobs, I wish to finish the specialisation as fast as possible to be employed sooner. \n",
      "\n",
      "How will taking this course help you achieve your career goals?\n",
      "I have joined various sourcing projects in Vietnam, which motivate me to grow my career in supply chain areas after my master's in logistics and supply chain management. However, it is challenging to get a job in Denmark with respect to entry-level or assistant positions. A lot of junior positions in supply chain areas prefer candidates having experience in a similar role or having a proven record of analysis skills or proven experiences in demand management and forecast or Lean and Sixma principles. For those criteria, I have very limited practical experiences from my study. I feel unconfident with my computing skills to forecast demand and manage inventory levels. Since I only have moderate competencies in data analytics, especially in the combined context of the supply chain, I would love to take this course to prove to recruiters that I have an insight into analysing supply chain performance and the core skills in working with data to perform the job.  \n",
      "Coursera is a great self-learning platform for me, where I can study up to my pace to develop myself gain more skills for my CV and simultaneously search for a job. \n",
      "The course's syllabus is very attentive learner-centric and very interactive to students. Given the provision of skills gained from the specialisation, demand and supply planning, demand planning and forecasting or data visualisation are my missing competencies and management consulting and business intelligence would be the differentiation to help my CV outweigh other competitors'. I acknowledge they appear some of the key skills required to land a job in supply chain analytics, which motivates me strongly to pursue this course and I believe it will strongly help me get a dream job in supply chain areas. \n",
      "\n",
      "opportunities: \n",
      "new working method, products and markets (e-commerce) \n",
      "\n",
      "challenges\n",
      "working cuet ltures\n",
      "\n",
      "Germany: easy to relocate, almost similar culture, food, met german colleagues and classmates -> understand german culture\n",
      "\n",
      "Hongkong: far from where I live, harder to relocate, close to my home country, same asian -> share some values  \n",
      "\n",
      "hongkong: languages -> intergrate, open-minded: distance\n",
      "germany: closer to denmark, similarity to the culture of denmark, \n",
      "\n",
      "international exp, open-minded, adapt with cultural diversity, love experiencing and discovering new cultures. \n",
      "\n",
      "\n",
      "sourcing and supply chain mgt: improve sourcing process \n",
      "\n",
      "\n",
      "\n",
      "\n",
      "\n",
      "\n",
      "\n",
      "\n",
      "UNIFEEDER\n",
      "\n",
      "\n",
      "\n",
      "redi SCHOOL INTERVIEW\n",
      "\n",
      "Tell us about your current financial situation. Why do you need assistance? \n",
      "\n",
      "I am a Vietnamese student who graduated master's in logistics and supply chain management in Sep 2020 in Denmark. \n",
      "I have been unemployed since September 2020. A lot of jobs require relevant experience, which I couldn't have as a fresh graduate, some other jobs require fluent Danish speaking, which is challenging for an international job seeker in Denmark. While keep applying for a job, I realise I should follow courses to enrich my knowledge in the supply chain and procurement industry, so my profile could still be as strong as the others graduating recently. \n",
      "As being unemployed, it is struggling for me to afford my life in Denmark and to follow a course to learn more professional skills for getting a job. This is the reason I am applying for Financial Aid.I am still looking for a job and I realise I need to cover my career gap by learning extra skills to keep my profile competitive compared to my peers and other fresher graduates. \n",
      "\n",
      "I am living in Denmark by myself and I am not allowed to get any unemployment benefits, else my visa terminates immediately. I am renting a cheap apartment and share with my friends to save money. Currently, I am using my saving to survive longer in Denmark. If I cannot get a job by October, I have to leave Denmark. \n",
      "The building I am living in now is being down for building a new neighbourhood, which is more costly to rent in the future. To save money, I only bike instead of taking a bus or driving a car. Additionally, I always hunt discount prices for grocery items, buy products that expire soon in the same day and freeze them in the freezer to save cost. \n",
      "\n",
      "Tell us about your learning or professional goals. How will a Verified Certificate in this course help you achieve these goals?\n",
      "\n",
      "If I were to get a Verified Certificate in this course, I set my goals to have a deep understanding of supply chain management and how data analytics can give data-based insight to improve the supply chain process.\n",
      "Speaking of technical skills, I would like to practice data analytics with real examples and cases within Excel or any analytics add-in tools from the course. A lot of jobs require data analytics skills to analyse the supply performance and build KPI reports. I believe exercises and assignments from this course would help me fulfil that professional requirement. \n",
      "Besides, optimisation methods and forecasting in the course would be very critical to help me get a job as a Demand Planner or Demand Manager. \n",
      "\n",
      "Speaking of professional goals, I don't mind starting from an assistant position to learn from doing and contribute my capabilities and in return gain more experiences. I am interested in working in three areas: Buying/ Procurement, Supply Chain Planning/Analyst. If I were to get a job, I still keep learning this course and then pursue other courses within the ERP systems and SAP to improve my skills. I notice a lot of jobs require or prefer candidates having experience with SAP or ERP systems. \n",
      "\n",
      "I have joined various sourcing projects in Vietnam, which motivate me to grow my career in supply chain areas after my master's in logistics and supply chain management. However, it is challenging to get a job in Denmark with respect to entry-level or assistant positions. A lot of junior positions in supply chain areas prefer candidates having experience in a similar role or having a proven record of analysis skills or proven experiences in demand management and forecast or Lean and Sixma principles. For those criteria, I have very limited practical experiences from my study. I feel unconfident with my computing skills to forecast demand and manage inventory levels.\n",
      "\n",
      "edX is a great self-learning platform for me, where I can study up to my pace to develop myself gain more skills for my CV and simultaneously search for a job. The course's syllabus is very attentive learner-centric and very interactive to students. I did audit this course before, I can see this course focuses strongly on practical skills and working with data, which is what I wish to improve and feel more confident when applying for a job within the supply chain area. \n",
      "\n",
      "Tell us about your plans for this course. What steps will you take to help you complete the course work and receive a certificate?\n",
      "My plans for this course is firstly setting a learning schedule, I would spend 1 hour per day for the course, 5 days a week. At the moment, I have been actively applying for jobs and have participated in a part-time evening school to learn data analytics with Python. So I could have 7.5 hours per week to ensure I finish the exercises and graded assignment by deadlines. \n",
      "\n",
      "In my opinion, the knowledge in lessons needed to complete Assignment is mostly found in video lectures. Apart from that, I need to do all the required assignments to get the certificate. Of course, since this is an online course, video lectures are very important. If I don't watch the video, there is no point in enrolling on this course. \n",
      "\n",
      "I can imagine I may encounter many confusing problems in the video lectures as well as problems when doing assignments. It is likely because I don't understand the lecture or it could be my linguistic issue. I think those problems could be addressed by going to the Discussions Forum. Just by reading, I may see there are many learners facing the same problem or have the same question as me, I think Discussion forums is such a powerful tool like StackOverflow or ''Google'' edX.\n",
      "\n",
      "Step 1: I must ensure I learn all the lectures and do exercises by deadlines. \n",
      "Step 2: Take notes to summarize the knowledge for theoretical lessons. \n",
      "Step 3: With data-based or mathematical exercises, I gotta take notes to self-verify some points that I don't understand. \n",
      "\n",
      "In general, doing exercises and practising are very important to understand the lesson and pass the exam. \n",
      "\n",
      "\n",
      "This is the content to be added!\n",
      "Add content the second time.\n"
     ]
    }
   ],
   "source": [
    "with open(path) as file:\n",
    "    print(file.read())"
   ]
  },
  {
   "cell_type": "code",
   "execution_count": 38,
   "id": "de09d0b6",
   "metadata": {},
   "outputs": [
    {
     "ename": "SyntaxError",
     "evalue": "(unicode error) 'unicodeescape' codec can't decode bytes in position 2-3: truncated \\UXXXXXXXX escape (Temp/ipykernel_18824/3861874062.py, line 1)",
     "output_type": "error",
     "traceback": [
      "\u001b[1;36m  File \u001b[1;32m\"C:\\Users\\Const\\AppData\\Local\\Temp/ipykernel_18824/3861874062.py\"\u001b[1;36m, line \u001b[1;32m1\u001b[0m\n\u001b[1;33m    path_file = 'C:\\Users\\Const\\Desktop\\demo.txt'\u001b[0m\n\u001b[1;37m                                                 ^\u001b[0m\n\u001b[1;31mSyntaxError\u001b[0m\u001b[1;31m:\u001b[0m (unicode error) 'unicodeescape' codec can't decode bytes in position 2-3: truncated \\UXXXXXXXX escape\n"
     ]
    }
   ],
   "source": [
    "path_file = 'C:\\Users\\Const\\Desktop\\demo.txt'\n",
    "with open(path_file,'w') as file:\n",
    "    file.write('Hello! Overwrite the content!\\nOld content should be replaced.')\n"
   ]
  }
 ],
 "metadata": {
  "kernelspec": {
   "display_name": "Python 3 (ipykernel)",
   "language": "python",
   "name": "python3"
  },
  "language_info": {
   "codemirror_mode": {
    "name": "ipython",
    "version": 3
   },
   "file_extension": ".py",
   "mimetype": "text/x-python",
   "name": "python",
   "nbconvert_exporter": "python",
   "pygments_lexer": "ipython3",
   "version": "3.9.7"
  }
 },
 "nbformat": 4,
 "nbformat_minor": 5
}
