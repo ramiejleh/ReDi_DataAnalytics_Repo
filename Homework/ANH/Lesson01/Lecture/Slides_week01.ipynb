{
 "cells": [
  {
   "cell_type": "markdown",
   "metadata": {
    "slideshow": {
     "slide_type": "notes"
    }
   },
   "source": [
    "**To open this notebook as a slideshow, run this command in the terminal:**\n",
    "```bash\n",
    "jupyter nbconvert Slides_week01.ipynb --to slides --post serve\n",
    "```\n"
   ]
  },
  {
   "cell_type": "markdown",
   "metadata": {
    "slideshow": {
     "slide_type": "slide"
    }
   },
   "source": [
    "# ReDi Data Analytics Spring 2022\n"
   ]
  },
  {
   "cell_type": "markdown",
   "metadata": {
    "slideshow": {
     "slide_type": "slide"
    }
   },
   "source": [
    "## TODAY:\n",
    "1. Getting to know each other - check\n",
    "2. The Learning Blocks\n",
    "3. How we work in class, the semester project & homework\n",
    "4. Some words on class culture\n",
    "5. Introduction to git and how we'll use it in this class\n",
    "6. Introduction to Jupyter Notebooks\n",
    "7. Your first exercise and introduction to your first homework"
   ]
  },
  {
   "cell_type": "markdown",
   "metadata": {
    "slideshow": {
     "slide_type": "slide"
    }
   },
   "source": [
    "## The Learning Blocks\n",
    "\n",
    "1. Block : Getting proficient in Python\n",
    "2. Block : Introduction to numpy and pandas\n",
    "3. Block : Exploratory Data Analysis\n",
    "4. Block : Data Visualization\n",
    "5. Block : Work on the semester end project\n",
    "\n",
    "Detailed curriculum will be provided on GitHub.\n"
   ]
  },
  {
   "cell_type": "markdown",
   "metadata": {
    "slideshow": {
     "slide_type": "slide"
    }
   },
   "source": [
    "## How we work\n",
    "* Weekly Lectures and exercises during class\n",
    "* we will divide you into groups of two for the first class, in which we encourage you to do exercises together\n",
    "* Lecture notes & slides are provided in the class repository after class\n",
    "* we try to provide a list of additional resources each week, which is optional and not required to follow the next classes\n",
    "* home work each week (duration varies & depends on your level)\n",
    "* You will work on a semester end project which you will present at the end of the class. Info will follow."
   ]
  },
  {
   "cell_type": "markdown",
   "metadata": {
    "slideshow": {
     "slide_type": "slide"
    }
   },
   "source": [
    "## Groups:\n",
    "* X & X"
   ]
  },
  {
   "cell_type": "markdown",
   "metadata": {
    "slideshow": {
     "slide_type": "slide"
    }
   },
   "source": [
    "## Homework\n",
    "* You will hand in assignments in class\n",
    "* You can (and we encourage you to) work together with your partner or classmates, but everyone should submit their own solution\n",
    "* We will try to give you feedback the day after you handed in your homework, at least generally, but no promises"
   ]
  },
  {
   "cell_type": "markdown",
   "metadata": {
    "slideshow": {
     "slide_type": "slide"
    }
   },
   "source": [
    "## Class Culture\n",
    "\n",
    "* No tech shaming. Different people have different preferences."
   ]
  },
  {
   "cell_type": "markdown",
   "metadata": {
    "slideshow": {
     "slide_type": "subslide"
    }
   },
   "source": [
    "* ALL questions are welcome"
   ]
  },
  {
   "cell_type": "markdown",
   "metadata": {
    "slideshow": {
     "slide_type": "subslide"
    }
   },
   "source": [
    "* We are all learning together. Give feedback to the teachers too.\n",
    "\n",
    "<img src=\"img/programmers_google.jpg\"  width= \"300\"/>"
   ]
  },
  {
   "cell_type": "markdown",
   "metadata": {
    "slideshow": {
     "slide_type": "subslide"
    }
   },
   "source": [
    "* We don't touch your keyboards, but rather help you find the answer."
   ]
  },
  {
   "cell_type": "markdown",
   "metadata": {
    "slideshow": {
     "slide_type": "subslide"
    }
   },
   "source": [
    "* You are responsible for your own learning."
   ]
  },
  {
   "cell_type": "markdown",
   "metadata": {
    "slideshow": {
     "slide_type": "subslide"
    }
   },
   "source": [
    "* Data Analysis is hard for everyone. You will fail and have bad days. \n",
    "**This takes time. Take. The. Time.**\n",
    "\n",
    "<img src=\"img/darwin.jpg\"  width= \"300\"/>"
   ]
  },
  {
   "cell_type": "markdown",
   "metadata": {
    "slideshow": {
     "slide_type": "subslide"
    }
   },
   "source": [
    "* This is a class with mixed previous experience in Computer Science. We will walk through each topic, from the beginning but will also give optional advanced exercises. Don't be discouraged if you can't solve them! "
   ]
  },
  {
   "cell_type": "markdown",
   "metadata": {
    "slideshow": {
     "slide_type": "slide"
    }
   },
   "source": [
    "## What is Data Analytics?\n",
    "The process of analyzing raw data to find trends and answer questions, the definition of data analytics captures its broad scope of the field. However, it includes many techniques with many different goals.\n",
    "\n",
    "Source: https://www.mastersindatascience.org/learning/what-is-data-analytics/"
   ]
  },
  {
   "cell_type": "markdown",
   "metadata": {
    "slideshow": {
     "slide_type": "slide"
    }
   },
   "source": [
    "## What can it be used for?\n",
    "The term Data Analytics refers to the analysis of the data collected to draw out certain conclusions required as per the company’s objective. It involves the structuring of a massive amount of irregular data and deriving the useful required information from them using statistical tools. It all involves the preparation of charts, graphs, etc. The application of Data analytics is not limited to manufacturing companies or any industrial areas, but it gets involves in almost every field of human living. "
   ]
  },
  {
   "cell_type": "markdown",
   "metadata": {
    "slideshow": {
     "slide_type": "subslide"
    }
   },
   "source": [
    "## Transportation\n",
    "\n",
    "For Example During the Wedding season or the Holiday season, the transport facilities are prepared to accommodate the heavy number of passengers traveling from one place to another using prediction tools and techniques.   "
   ]
  },
  {
   "cell_type": "markdown",
   "metadata": {
    "slideshow": {
     "slide_type": "subslide"
    }
   },
   "source": [
    "## Logistics and Delivery  \n",
    "\n",
    "When a shipment is dispatched from its origin, till it reaches its buyers, every position is tracked which leads to the minimizing of the loss of the goods. "
   ]
  },
  {
   "cell_type": "markdown",
   "metadata": {
    "slideshow": {
     "slide_type": "subslide"
    }
   },
   "source": [
    "## Manufacturing\n",
    "Data analytics helps the manufacturing industries maintain their overall working through certain tools like prediction analysis, regression analysis, budgeting, etc. The unit can figure out the number of products needed to be manufactured according to the data collected and analyzed from the demand samples and likewise in many other operations increasing the operating capacity as well as the profitability."
   ]
  },
  {
   "cell_type": "markdown",
   "metadata": {
    "slideshow": {
     "slide_type": "subslide"
    }
   },
   "source": [
    "## Healthcare\n",
    "\n",
    "Applications of data analytics in healthcare can be utilized to channel enormous measures of information in seconds to discover treatment choices or answers for various illnesses"
   ]
  },
  {
   "cell_type": "markdown",
   "metadata": {
    "slideshow": {
     "slide_type": "slide"
    }
   },
   "source": [
    "## Install Anaconda and Jupyter notebook"
   ]
  },
  {
   "cell_type": "code",
   "execution_count": null,
   "metadata": {},
   "outputs": [],
   "source": []
  }
 ],
 "metadata": {
  "celltoolbar": "Slideshow",
  "kernelspec": {
   "display_name": "Python 3 (ipykernel)",
   "language": "python",
   "name": "python3"
  },
  "language_info": {
   "codemirror_mode": {
    "name": "ipython",
    "version": 3
   },
   "file_extension": ".py",
   "mimetype": "text/x-python",
   "name": "python",
   "nbconvert_exporter": "python",
   "pygments_lexer": "ipython3",
   "version": "3.9.7"
  }
 },
 "nbformat": 4,
 "nbformat_minor": 4
}
