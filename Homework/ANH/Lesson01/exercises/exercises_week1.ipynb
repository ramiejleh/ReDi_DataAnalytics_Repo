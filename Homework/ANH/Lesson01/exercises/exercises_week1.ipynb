{
 "cells": [
  {
   "cell_type": "markdown",
   "id": "bac4466e",
   "metadata": {},
   "source": [
    "# Exercises week 1"
   ]
  },
  {
   "cell_type": "markdown",
   "id": "0bad8d3e",
   "metadata": {},
   "source": [
    "## Beginner exercises"
   ]
  },
  {
   "cell_type": "markdown",
   "id": "06a7005e",
   "metadata": {},
   "source": [
    "**Ex 1**: In the cell below, write a short text that demonstrates that you can\n",
    "* Create a section with a heading\n",
    "* Write words in bold and italics\n",
    "* Establish a [hyperlink](https://en.wikipedia.org/wiki/Hyperlink)"
   ]
  },
  {
   "cell_type": "markdown",
   "id": "8b6bad79",
   "metadata": {},
   "source": [
    "**Ex 2** Calculate the remainder of the division of 18 by 7. "
   ]
  },
  {
   "cell_type": "code",
   "execution_count": null,
   "id": "7f260c2b",
   "metadata": {},
   "outputs": [],
   "source": []
  },
  {
   "cell_type": "markdown",
   "id": "6ceeeb9c",
   "metadata": {},
   "source": [
    "**Ex 3** Calcuate 3 to the power of 4; i.e. $3^4$"
   ]
  },
  {
   "cell_type": "code",
   "execution_count": null,
   "id": "7e1a9337",
   "metadata": {},
   "outputs": [],
   "source": []
  },
  {
   "cell_type": "markdown",
   "id": "82cd90e3",
   "metadata": {},
   "source": [
    "**Ex 4** Calculate the square root of 49"
   ]
  },
  {
   "cell_type": "code",
   "execution_count": null,
   "id": "f53a4fb3",
   "metadata": {},
   "outputs": [],
   "source": []
  },
  {
   "cell_type": "markdown",
   "id": "ef52e5a7",
   "metadata": {},
   "source": [
    "**Ex 5** Convert the following string to a float and round it to the nearest 3 digits after the decimal"
   ]
  },
  {
   "cell_type": "code",
   "execution_count": 148,
   "id": "ad28ef28",
   "metadata": {},
   "outputs": [],
   "source": [
    "pi = \"3.14159265\""
   ]
  },
  {
   "cell_type": "markdown",
   "id": "431bf9c9",
   "metadata": {},
   "source": [
    "**Ex 6** **Convert** the variable number=4.9 to an integer"
   ]
  },
  {
   "cell_type": "code",
   "execution_count": null,
   "id": "994a58ba",
   "metadata": {},
   "outputs": [],
   "source": []
  },
  {
   "cell_type": "markdown",
   "id": "83bd2327",
   "metadata": {},
   "source": [
    "**Ex 7** Now round number=4.9 to the **nearest** integer. What is the difference between the converted number of the previous exercise and this exercise?"
   ]
  },
  {
   "cell_type": "code",
   "execution_count": null,
   "id": "b671247a",
   "metadata": {},
   "outputs": [],
   "source": []
  },
  {
   "cell_type": "markdown",
   "id": "38cd0101",
   "metadata": {},
   "source": [
    "**Ex 8** Calculate the length of the following list (i.e. how many names are in the list) and print each of its values separated by a newline. The output of the print statement(s) should look like this: \\\n",
    "\\\n",
    "Miriam \\\n",
    "Tim \\\n",
    "Jing \\\n",
    "..."
   ]
  },
  {
   "cell_type": "code",
   "execution_count": 149,
   "id": "8526f9fc",
   "metadata": {},
   "outputs": [],
   "source": [
    "names = [\"Miriam\", \"Tim\", \"Jing\", \"Carlos\", \"Ruben\", \"Ashley\"]"
   ]
  },
  {
   "cell_type": "markdown",
   "id": "2e29e21e",
   "metadata": {},
   "source": [
    "**Ex 9** Add a list with the following new names to the previous list \\\n",
    "new_names = [\"Pablo\", \"Lise\"]"
   ]
  },
  {
   "cell_type": "code",
   "execution_count": null,
   "id": "a4da3c60",
   "metadata": {},
   "outputs": [],
   "source": []
  },
  {
   "cell_type": "markdown",
   "id": "5083f966",
   "metadata": {},
   "source": [
    "**Ex 10** Print the second and second to last name of the newly created list. The output should be Tim and Pablo"
   ]
  },
  {
   "cell_type": "code",
   "execution_count": null,
   "id": "b5061b28",
   "metadata": {},
   "outputs": [],
   "source": []
  },
  {
   "cell_type": "markdown",
   "id": "6a91b134",
   "metadata": {},
   "source": [
    "**Ex 11** Calculate the sum and the average of the value in the following list"
   ]
  },
  {
   "cell_type": "code",
   "execution_count": 150,
   "id": "9d7f0c73",
   "metadata": {},
   "outputs": [],
   "source": [
    "age = [11, 22, 33, 44, 22, 55]"
   ]
  },
  {
   "cell_type": "markdown",
   "id": "c7bfd711",
   "metadata": {},
   "source": [
    "**Ex 12** Sort the age list in an ascending (increasing) order and get the count of the number 22 within the list (i.e; calculate how often the number 22 appears in the age list"
   ]
  },
  {
   "cell_type": "code",
   "execution_count": null,
   "id": "bfb274d1",
   "metadata": {},
   "outputs": [],
   "source": []
  },
  {
   "cell_type": "markdown",
   "id": "06a339c6",
   "metadata": {},
   "source": [
    "**Ex 13** Write a function to calculate the sum of three given numbers, if the values are equal then return three times of their sum."
   ]
  },
  {
   "cell_type": "code",
   "execution_count": null,
   "id": "fcaa39d9",
   "metadata": {},
   "outputs": [],
   "source": []
  },
  {
   "cell_type": "markdown",
   "id": "24ba8e8d",
   "metadata": {},
   "source": [
    "**Ex 14** Write a function to check if a value is within the following list. The output should look like this:\\\n",
    "Miriam was found in the list\\\n",
    "Peter was not found in the list"
   ]
  },
  {
   "cell_type": "code",
   "execution_count": 151,
   "id": "d28ab2f8",
   "metadata": {},
   "outputs": [],
   "source": [
    "names = [\"Miriam\", \"Tim\", \"Jing\", \"Carlos\", \"Ruben\", \"Ashley\"]"
   ]
  },
  {
   "cell_type": "markdown",
   "id": "2adcb7ec",
   "metadata": {},
   "source": [
    "**Ex 15** Write a function that will accept the base and height of a triangle and compute the area. The area of a triangle is calculate as Area= 0.5 * height * base"
   ]
  },
  {
   "cell_type": "code",
   "execution_count": null,
   "id": "43411095",
   "metadata": {},
   "outputs": [],
   "source": []
  },
  {
   "cell_type": "markdown",
   "id": "1f448729",
   "metadata": {},
   "source": [
    "## Intermediate exercises"
   ]
  },
  {
   "cell_type": "markdown",
   "id": "298a7095",
   "metadata": {},
   "source": [
    "**Ex1** Print **only** the strings within the following list. Use the isinstance function to compare the type of a variable against its expected type"
   ]
  },
  {
   "cell_type": "code",
   "execution_count": 152,
   "id": "1e7c7f9e",
   "metadata": {},
   "outputs": [],
   "source": [
    "students = [\"Miriam\", 22, \"Tim\", 25, \"Jing\", 28, \"Carlos\"]"
   ]
  },
  {
   "cell_type": "markdown",
   "id": "bd204463",
   "metadata": {},
   "source": [
    "**Ex 2** For the following two lists, print the student name followed by their age. HINT: use the zip function"
   ]
  },
  {
   "cell_type": "code",
   "execution_count": 153,
   "id": "26e1559d",
   "metadata": {},
   "outputs": [],
   "source": [
    "names = [\"Miriam\", \"Tim\", \"Jing\", \"Carlos\", \"Ruben\", \"Ashley\"]\n",
    "ages =  [25, 22, 24, 33, 22, 21, 20]"
   ]
  },
  {
   "cell_type": "markdown",
   "id": "77165c03",
   "metadata": {},
   "source": [
    "**Ex 3** Create a dictionary which keys are the names of the students and the corresponding values are their age. The dictionary should look like this \\\n",
    "{'Miriam': 25, 'Tim': 22, 'Jing': 24, 'Carlos': 33, 'Ruben': 22, 'Ashley': 21}"
   ]
  },
  {
   "cell_type": "code",
   "execution_count": null,
   "id": "57b574f9",
   "metadata": {},
   "outputs": [],
   "source": []
  },
  {
   "cell_type": "markdown",
   "id": "d710be4c",
   "metadata": {},
   "source": [
    "**Ex 4** Create a nested dictionary to assign to each student their age and grade. The output should look like this \\\n",
    "{'Miriam': {'age': 25, 'grade': 12},\n",
    " 'Tim': {'age': 22, 'grade': 12},\n",
    " 'Jing': {'age': 24, 'grade': 12},\n",
    " 'Carlos': {'age': 33, 'grade': 10},\n",
    " 'Ruben': {'age': 22, 'grade': 7},\n",
    " 'Ashley': {'age': 21, 'grade': 10}}"
   ]
  },
  {
   "cell_type": "code",
   "execution_count": 154,
   "id": "a3485ae8",
   "metadata": {},
   "outputs": [],
   "source": [
    "grades = [12, 12, 12, 10, 7, 10]"
   ]
  },
  {
   "cell_type": "markdown",
   "id": "b77ae8d6",
   "metadata": {},
   "source": [
    "**Ex 5** Miriam decided to drop out of the class. Remove her entry in the students dictionary."
   ]
  },
  {
   "cell_type": "code",
   "execution_count": null,
   "id": "7241a5ff",
   "metadata": {},
   "outputs": [],
   "source": []
  },
  {
   "cell_type": "markdown",
   "id": "e46e0e55",
   "metadata": {},
   "source": [
    "**Ex 6** First, generate a sequence of numbers from 1 to 20. Then print **only** the numbers for which the remainder is 0 when being divided by 6. E.g. 12 because 12/6 = 2. The output should be 6, 12 and 18"
   ]
  },
  {
   "cell_type": "code",
   "execution_count": null,
   "id": "733241bb",
   "metadata": {},
   "outputs": [],
   "source": []
  },
  {
   "cell_type": "markdown",
   "id": "56204a42",
   "metadata": {},
   "source": [
    "**Ex 7** Generate  \\\n",
    "\"The holidays will begin on: 25/11/1992\"  \\\n",
    "from the following tuple "
   ]
  },
  {
   "cell_type": "code",
   "execution_count": 155,
   "id": "0de76533",
   "metadata": {},
   "outputs": [],
   "source": [
    "date = (25, 11, 1992)"
   ]
  },
  {
   "cell_type": "code",
   "execution_count": null,
   "id": "bc51dccd",
   "metadata": {},
   "outputs": [],
   "source": []
  },
  {
   "cell_type": "markdown",
   "id": "8260f61e",
   "metadata": {},
   "source": [
    "**Ex 8** Write a function to find whether a given number is even or odd, print out an appropriate message."
   ]
  },
  {
   "cell_type": "code",
   "execution_count": null,
   "id": "a59373ab",
   "metadata": {},
   "outputs": [],
   "source": []
  },
  {
   "cell_type": "markdown",
   "id": "81056144",
   "metadata": {},
   "source": [
    "**Ex 9** Make a program ask for a name, and then write a greeting using that name.\\\n",
    "HINT: use the input function to get the user input (e.g. name=input(\"Write your username\"))\n",
    "\n",
    "\\\n",
    "The output should look similar to this:\\\n",
    "Please type your username Adrian\\\n",
    "Hello Adrian."
   ]
  },
  {
   "cell_type": "code",
   "execution_count": null,
   "id": "9da67bf2",
   "metadata": {},
   "outputs": [],
   "source": []
  },
  {
   "cell_type": "markdown",
   "id": "7acffdad",
   "metadata": {},
   "source": [
    "**Ex 10** Ask for two numbers and ask what operation to perform on them (+, - , *, /) and display the numbers and the result. Again, use the input function.\\\n",
    "The output should look like this\n",
    "\n",
    "\\\n",
    "Please type two numbers and a mathematical operator to perform on them. All 3 inputs must be separated by a whitespace 1 1.5 +\\\n",
    "The result is: 2.5\n",
    "\n",
    "\n",
    "Please type two numbers and a mathematical operator to perform on them. All 3 inputs must be separated by a whitespace 2 2 *\\\n",
    "The result is: 4.0"
   ]
  },
  {
   "cell_type": "code",
   "execution_count": null,
   "id": "91ae287e",
   "metadata": {},
   "outputs": [],
   "source": []
  },
  {
   "cell_type": "markdown",
   "id": "08a7d923",
   "metadata": {},
   "source": [
    "**Ex 11** Write a function to calculate the factorial (n!) (e.g. 4! = 4 * 3 * 2 * 1. Perform input control. For example, the input must be a positive integer. Thus, if the input is negative, the function should return an error message. The same applies for inputs with type float or str.\\\n",
    "\n",
    "The output should look like:\\\n",
    "1 = factorial(0)\\\n",
    "1 = factorial(1)\\\n",
    "6 = factorial(3)\\\n",
    "24 = factorial(4)"
   ]
  },
  {
   "cell_type": "code",
   "execution_count": null,
   "id": "a4911ce5",
   "metadata": {},
   "outputs": [],
   "source": []
  },
  {
   "cell_type": "markdown",
   "id": "7f09d731",
   "metadata": {},
   "source": [
    "**Ex 12** Write a program (using functions!) that asks the user for a long string containing multiple words. Print back to the user the same string, except with the words in backwards order. For example, say I type the string:\n",
    "\n",
    "  My name is Michele\\\n",
    "Then I would see the string:\n",
    "\n",
    "  Michele is name My\\\n",
    "shown back to me."
   ]
  },
  {
   "cell_type": "code",
   "execution_count": null,
   "id": "e73c8432",
   "metadata": {},
   "outputs": [],
   "source": []
  },
  {
   "cell_type": "markdown",
   "id": "ec9a8201",
   "metadata": {},
   "source": [
    "**Ex 13** Write a small function to check if a string is a Palindrome (https://en.wikipedia.org/wiki/Palindrome)\n",
    "\n",
    "The output could look like this:\n",
    "\n",
    "Tenet is a Palindrome\\\n",
    "China is not Palindrome"
   ]
  },
  {
   "cell_type": "code",
   "execution_count": null,
   "id": "4abd3afd",
   "metadata": {},
   "outputs": [],
   "source": []
  }
 ],
 "metadata": {
  "kernelspec": {
   "display_name": "Python 3 (ipykernel)",
   "language": "python",
   "name": "python3"
  },
  "language_info": {
   "codemirror_mode": {
    "name": "ipython",
    "version": 3
   },
   "file_extension": ".py",
   "mimetype": "text/x-python",
   "name": "python",
   "nbconvert_exporter": "python",
   "pygments_lexer": "ipython3",
   "version": "3.9.7"
  }
 },
 "nbformat": 4,
 "nbformat_minor": 5
}
