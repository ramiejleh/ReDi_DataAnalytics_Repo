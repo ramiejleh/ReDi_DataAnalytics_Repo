{
 "cells": [
  {
   "cell_type": "markdown",
   "id": "2fc5f91f",
   "metadata": {},
   "source": [
    "# Exercises week 1"
   ]
  },
  {
   "cell_type": "markdown",
   "id": "960b7a1b",
   "metadata": {},
   "source": [
    "## Beginner exercises"
   ]
  },
  {
   "cell_type": "markdown",
   "id": "122b9f1b",
   "metadata": {},
   "source": [
    "**Ex 1**: In the cell below, write a short text that demonstrates that you can\n",
    "* Create a section with a heading\n",
    "* Write words in bold and italics\n",
    "* Establish a [hyperlink](https://en.wikipedia.org/wiki/Hyperlink)"
   ]
  },
  {
   "cell_type": "markdown",
   "id": "29ed6b09",
   "metadata": {},
   "source": [
    "# Heading\n",
    "**bold words**\n",
    "*italics words*\n",
    "\n",
    "Here is the [hyperlink] (https://stackoverflow.com/)\n",
    "\n",
    "\n"
   ]
  },
  {
   "cell_type": "markdown",
   "id": "7017f1ed",
   "metadata": {},
   "source": [
    "**Ex 2** Calculate the remainder of the division of 18 by 7. "
   ]
  },
  {
   "cell_type": "code",
   "execution_count": 1,
   "id": "5044064f",
   "metadata": {},
   "outputs": [
    {
     "data": {
      "text/plain": [
       "4"
      ]
     },
     "execution_count": 1,
     "metadata": {},
     "output_type": "execute_result"
    }
   ],
   "source": [
    "18 % 7"
   ]
  },
  {
   "cell_type": "markdown",
   "id": "c2ae1df9",
   "metadata": {},
   "source": [
    "**Ex 3** Calcuate 3 to the power of 4; i.e. $3^4$"
   ]
  },
  {
   "cell_type": "code",
   "execution_count": 2,
   "id": "92767fb4",
   "metadata": {},
   "outputs": [
    {
     "data": {
      "text/plain": [
       "81"
      ]
     },
     "execution_count": 2,
     "metadata": {},
     "output_type": "execute_result"
    }
   ],
   "source": [
    "3**4"
   ]
  },
  {
   "cell_type": "markdown",
   "id": "55b838f6",
   "metadata": {},
   "source": [
    "**Ex 4** Calculate the square root of 49"
   ]
  },
  {
   "cell_type": "code",
   "execution_count": 8,
   "id": "c879a6c6",
   "metadata": {},
   "outputs": [
    {
     "data": {
      "text/plain": [
       "7.0"
      ]
     },
     "execution_count": 8,
     "metadata": {},
     "output_type": "execute_result"
    }
   ],
   "source": [
    "import math\n",
    "math.sqrt(49)"
   ]
  },
  {
   "cell_type": "markdown",
   "id": "be962c82",
   "metadata": {},
   "source": [
    "**Ex 5** Convert the following string to a float and round it to the nearest 3 digits after the decimal"
   ]
  },
  {
   "cell_type": "code",
   "execution_count": 15,
   "id": "32a7f250",
   "metadata": {},
   "outputs": [
    {
     "name": "stdout",
     "output_type": "stream",
     "text": [
      "3.142\n"
     ]
    }
   ],
   "source": [
    "pi = \"3.14159265\"\n",
    "pi = float(pi)\n",
    "print(round(pi,3))\n",
    "#dentro del parentesis se llama parameter"
   ]
  },
  {
   "cell_type": "markdown",
   "id": "9224dfa2",
   "metadata": {},
   "source": [
    "**Ex 6** **Convert** the variable number=4.9 to an integer"
   ]
  },
  {
   "cell_type": "code",
   "execution_count": 22,
   "id": "f4bc1cdd",
   "metadata": {
    "scrolled": true
   },
   "outputs": [
    {
     "name": "stdout",
     "output_type": "stream",
     "text": [
      "<class 'int'>\n"
     ]
    }
   ],
   "source": [
    "x = 4.9\n",
    "x = int(x)\n",
    "print(type(x))"
   ]
  },
  {
   "cell_type": "code",
   "execution_count": 21,
   "id": "2550725c",
   "metadata": {},
   "outputs": [
    {
     "data": {
      "text/plain": [
       "4"
      ]
     },
     "execution_count": 21,
     "metadata": {},
     "output_type": "execute_result"
    }
   ],
   "source": [
    "x = 4.9\n",
    "int(x)"
   ]
  },
  {
   "cell_type": "markdown",
   "id": "843aedac",
   "metadata": {},
   "source": [
    "**Ex 7** Now round number=4.9 to the **nearest** integer. What is the difference between the converted number of the previous exercise and this exercise?"
   ]
  },
  {
   "cell_type": "code",
   "execution_count": 19,
   "id": "e924cd5b",
   "metadata": {},
   "outputs": [
    {
     "name": "stdout",
     "output_type": "stream",
     "text": [
      "5\n"
     ]
    }
   ],
   "source": [
    "x = 4.9\n",
    "print(round(x))\n",
    "#the difference with Ex 5 is that this there we just deleted the decimal and here we rounded it."
   ]
  },
  {
   "cell_type": "markdown",
   "id": "1f149445",
   "metadata": {},
   "source": [
    "**Ex 8** Calculate the length of the following list (i.e. how many names are in the list) and print each of its values separated by a newline. The output of the print statement(s) should look like this: \\\n",
    "\\\n",
    "Miriam \\\n",
    "Tim \\\n",
    "Jing \\\n",
    "..."
   ]
  },
  {
   "cell_type": "code",
   "execution_count": 111,
   "id": "f4b06aa7",
   "metadata": {},
   "outputs": [
    {
     "name": "stdout",
     "output_type": "stream",
     "text": [
      "Miriam\n",
      "Tim\n",
      "Jing\n",
      "Carlos\n",
      "Ruben\n",
      "Ashley\n",
      "6\n"
     ]
    }
   ],
   "source": [
    "names = [\"Miriam\", \"Tim\", \"Jing\", \"Carlos\", \"Ruben\", \"Ashley\"]\n",
    "print(*names, sep = \"\\n\")\n",
    "print(len(names))\n",
    "#el * dice que imprimas lo que hay en la lista\n",
    "\n",
    "#for name in names:\n",
    " #   print(name)"
   ]
  },
  {
   "cell_type": "markdown",
   "id": "900bb4c7",
   "metadata": {},
   "source": [
    "**Ex 9** Add a list with the following new names to the previous list \\\n",
    "new_names = [\"Pablo\", \"Lise\"]"
   ]
  },
  {
   "cell_type": "code",
   "execution_count": 112,
   "id": "42f471d2",
   "metadata": {},
   "outputs": [
    {
     "name": "stdout",
     "output_type": "stream",
     "text": [
      "Miriam\n",
      "Tim\n",
      "Jing\n",
      "Carlos\n",
      "Ruben\n",
      "Ashley\n",
      "Pablo\n",
      "Lise\n"
     ]
    }
   ],
   "source": [
    "#names = [\"Miriam\", \"Tim\", \"Jing\", \"Carlos\", \"Ruben\", \"Ashley\"]\n",
    "new_names = [\"Pablo\", \"Lise\"]\n",
    "names.extend(new_names)\n",
    "print(*names, sep = \"\\n\")\n"
   ]
  },
  {
   "cell_type": "markdown",
   "id": "a153e23b",
   "metadata": {},
   "source": [
    "**Ex 10** Print the second and second to last name of the newly created list. The output should be Tim and Pablo"
   ]
  },
  {
   "cell_type": "code",
   "execution_count": 131,
   "id": "da0f671d",
   "metadata": {},
   "outputs": [
    {
     "name": "stdout",
     "output_type": "stream",
     "text": [
      "['Tim', 'Pablo']\n"
     ]
    }
   ],
   "source": [
    "print(names[1 : 7: 5])\n"
   ]
  },
  {
   "cell_type": "markdown",
   "id": "0bf64d8e",
   "metadata": {},
   "source": [
    "**Ex 11** Calculate the sum and the average of the value in the following list"
   ]
  },
  {
   "cell_type": "code",
   "execution_count": 143,
   "id": "a107e780",
   "metadata": {},
   "outputs": [
    {
     "name": "stdout",
     "output_type": "stream",
     "text": [
      "31.166666666666668\n"
     ]
    },
    {
     "data": {
      "text/plain": [
       "187"
      ]
     },
     "execution_count": 143,
     "metadata": {},
     "output_type": "execute_result"
    }
   ],
   "source": [
    "age = [11, 22, 33, 44, 22, 55]\n",
    "\n",
    "def average (age):\n",
    "    return sum(age) / len(age)\n",
    "average = average(age)\n",
    "print(average)\n",
    "sum(age)\n"
   ]
  },
  {
   "cell_type": "markdown",
   "id": "42f33614",
   "metadata": {},
   "source": [
    "**Ex 12** Sort the age list in an ascending (increasing) order and get the count of the number 22 within the list (i.e; calculate how often the number 22 appears in the age list"
   ]
  },
  {
   "cell_type": "code",
   "execution_count": 152,
   "id": "5900e1c2",
   "metadata": {},
   "outputs": [
    {
     "name": "stdout",
     "output_type": "stream",
     "text": [
      "[11, 22, 22, 33, 44, 55]\n"
     ]
    },
    {
     "data": {
      "text/plain": [
       "2"
      ]
     },
     "execution_count": 152,
     "metadata": {},
     "output_type": "execute_result"
    }
   ],
   "source": [
    "list.sort(age)\n",
    "print(age)\n",
    "age.count(22)"
   ]
  },
  {
   "cell_type": "markdown",
   "id": "64b17834",
   "metadata": {},
   "source": [
    "**Ex 13** Write a function to calculate the sum of three given numbers, if the values are equal then return three times of their sum."
   ]
  },
  {
   "cell_type": "code",
   "execution_count": 206,
   "id": "de0d6844",
   "metadata": {},
   "outputs": [
    {
     "name": "stdout",
     "output_type": "stream",
     "text": [
      "Number1: 2\n",
      "Number2: 4\n",
      "Number3: 5\n",
      "11\n"
     ]
    }
   ],
   "source": [
    "#no pude! :(\n",
    "#I don't understand the assignment\n",
    "\n",
    "num1 = int(input(\"Number1: \"))\n",
    "num2 = int(input(\"Number2: \"))\n",
    "num3 = int(input(\"Number3: \"))\n",
    "result = num1 + num2 + num3\n",
    "print(result)\n",
    " "
   ]
  },
  {
   "cell_type": "markdown",
   "id": "7628fce6",
   "metadata": {},
   "source": [
    "**Ex 14** Write a function to check if a value is within the following list. The output should look like this:\\\n",
    "Miriam was found in the list\\\n",
    "Peter was not found in the list"
   ]
  },
  {
   "cell_type": "code",
   "execution_count": 194,
   "id": "bf561a91",
   "metadata": {},
   "outputs": [
    {
     "name": "stdout",
     "output_type": "stream",
     "text": [
      "Write your name: Sil\n",
      "Sil was not found in the list\n"
     ]
    }
   ],
   "source": [
    "names = [\"Miriam\", \"Tim\", \"Jing\", \"Carlos\", \"Ruben\", \"Ashley\"]\n",
    "check_name = input(\"Write your name: \")\n",
    "\n",
    "\n",
    "if check_name in names:\n",
    "       print(f\"{check_name} was found in the list\")\n",
    "else: \n",
    "       print(f\"{check_name} was not found in the list\")"
   ]
  },
  {
   "cell_type": "markdown",
   "id": "c27eb1d9",
   "metadata": {},
   "source": [
    "**Ex 15** Write a function that will accept the base and height of a triangle and compute the area. The area of a triangle is calculate as Area= 0.5 * height * base"
   ]
  },
  {
   "cell_type": "code",
   "execution_count": 203,
   "id": "c0d18f5a",
   "metadata": {},
   "outputs": [
    {
     "name": "stdout",
     "output_type": "stream",
     "text": [
      "Height: 5\n",
      "Base: 8\n"
     ]
    },
    {
     "data": {
      "text/plain": [
       "20.0"
      ]
     },
     "execution_count": 203,
     "metadata": {},
     "output_type": "execute_result"
    }
   ],
   "source": [
    "height = float(input(\"Height: \"))\n",
    "base = float(input(\"Base: \"))\n",
    "area = 0.5 \n",
    "area * (height * base)\n"
   ]
  },
  {
   "cell_type": "markdown",
   "id": "3860bb77",
   "metadata": {},
   "source": [
    "## Intermediate exercises"
   ]
  },
  {
   "cell_type": "markdown",
   "id": "52fa03be",
   "metadata": {},
   "source": [
    "**Ex1** Print **only** the strings within the following list. Use the isinstance function to compare the type of a variable against its expected type"
   ]
  },
  {
   "cell_type": "code",
   "execution_count": 5,
   "id": "c016d673",
   "metadata": {},
   "outputs": [
    {
     "name": "stdout",
     "output_type": "stream",
     "text": [
      "Miriam\n",
      "Tim\n",
      "Jing\n",
      "Carlos\n",
      "False\n"
     ]
    }
   ],
   "source": [
    "#why if I \"comment\" on the for_statement prints \"Carlos\"? \n",
    "students = [\"Miriam\", 22, \"Tim\", 25, \"Jing\", 28, \"Carlos\"]\n",
    "for nombre in students:\n",
    "    if (type(nombre) == str): ## The task says you should use isinstance, but this solution is just as good and what I would use!\n",
    "     print(nombre)\n",
    "\n",
    "\n",
    "students = isinstance(22 , (str))\n",
    "print(students)\n",
    "\n",
    "## Haha I like the spanish variable names.\n",
    "# Do you notice the \"print\" is red again? Check your indentation. Only use tabs and not spaces before lines :)"
   ]
  },
  {
   "cell_type": "markdown",
   "id": "a1cf12bf",
   "metadata": {},
   "source": [
    "**Ex 2** For the following two lists, print the student name followed by their age. HINT: use the zip function"
   ]
  },
  {
   "cell_type": "code",
   "execution_count": 6,
   "id": "b427a22c",
   "metadata": {},
   "outputs": [
    {
     "name": "stdout",
     "output_type": "stream",
     "text": [
      "[('Miriam', 25), ('Tim', 22), ('Jing', 24), ('Carlos', 33), ('Ruben', 22), ('Ashley', 21)]\n"
     ]
    }
   ],
   "source": [
    "names = [\"Miriam\", \"Tim\", \"Jing\", \"Carlos\", \"Ruben\", \"Ashley\"]\n",
    "ages =  [25, 22, 24, 33, 22, 21, 20]\n",
    "students_info = zip(names, ages)\n",
    "print(list(students_info))\n",
    "\n",
    "## Good solution using zip. Try and use a loop to print instead of printing a list maybe?"
   ]
  },
  {
   "cell_type": "markdown",
   "id": "a0d7164d",
   "metadata": {},
   "source": [
    "**Ex 3** Create a dictionary which keys are the names of the students and the corresponding values are their age. The dictionary should look like this \\\n",
    "{'Miriam': 25, 'Tim': 22, 'Jing': 24, 'Carlos': 33, 'Ruben': 22, 'Ashley': 21}"
   ]
  },
  {
   "cell_type": "code",
   "execution_count": 8,
   "id": "ff3d0f7c",
   "metadata": {},
   "outputs": [
    {
     "name": "stdout",
     "output_type": "stream",
     "text": [
      "{'Miriam': 25, 'Tim': 22, 'Jing': 24, 'Carlos': 33, 'Ruben': 22, 'Ashley': 21}\n"
     ]
    }
   ],
   "source": [
    "dict = {'Miriam': 25, 'Tim': 22, 'Jing': 24, 'Carlos': 33, 'Ruben': 22, 'Ashley': 21}\n",
    "print(dict)\n",
    "\n",
    "## This technically solves the task but you did it manually. Can you try to do it programtically? Using loops and zip"
   ]
  },
  {
   "cell_type": "markdown",
   "id": "d019cf91",
   "metadata": {},
   "source": [
    "**Ex 4** Create a nested dictionary to assign to each student their age and grade. The output should look like this \\\n",
    "{'Miriam': {'age': 25, 'grade': 12},\n",
    " 'Tim': {'age': 22, 'grade': 12},\n",
    " 'Jing': {'age': 24, 'grade': 12},\n",
    " 'Carlos': {'age': 33, 'grade': 10},\n",
    " 'Ruben': {'age': 22, 'grade': 7},\n",
    " 'Ashley': {'age': 21, 'grade': 10}}"
   ]
  },
  {
   "cell_type": "code",
   "execution_count": 9,
   "id": "6bdba61d",
   "metadata": {},
   "outputs": [
    {
     "name": "stdout",
     "output_type": "stream",
     "text": [
      "{'Miriam': {'age': 25, 'grade': 12}, 'Tim': {'age': 22, 'grade': 12}, 'Jing': {'age': 24, 'grade': 12}, 'Carlos': {'age': 33, 'grade': 10}, 'Ruben': {'age': 22, 'grade': 7}, 'Ashley': {'age': 21, 'grade': 10}}\n"
     ]
    }
   ],
   "source": [
    "#no pude! :(\n",
    "#not happy about this\n",
    "#grade = [12, 12, 12, 10, 7, 10]\n",
    "#dict = {'Miriam': 25, 'Tim': 22, 'Jing': 24, 'Carlos': 33, 'Ruben': 22, 'Ashley': 21,\n",
    "        #grade:{12, 12, 12, 10, 7, 10}}\n",
    "#print(dict)\n",
    "\n",
    "dict = {'Miriam' : {'age': 25, 'grade': 12},\n",
    "        'Tim' : {'age': 22, 'grade': 12},\n",
    "        'Jing' : {'age': 24, 'grade': 12},\n",
    "        'Carlos' : {'age': 33, 'grade': 10},\n",
    "        'Ruben' : {'age': 22, 'grade': 7},\n",
    "        'Ashley' : {'age': 21, 'grade': 10}}\n",
    "\n",
    "print(dict)\n",
    "\n",
    "## As this technically solves the task but you did it manually. Can you try to do it programtically? Using loops and zip"
   ]
  },
  {
   "cell_type": "markdown",
   "id": "028b3dcb",
   "metadata": {},
   "source": [
    "**Ex 5** Miriam decided to drop out of the class. Remove her entry in the students dictionary."
   ]
  },
  {
   "cell_type": "code",
   "execution_count": null,
   "id": "7555fd60",
   "metadata": {},
   "outputs": [],
   "source": [
    "#no pude! :(\n",
    "\n",
    "## Check out \"del\" or \"pop()\" to solve this :) "
   ]
  },
  {
   "cell_type": "markdown",
   "id": "0b365e69",
   "metadata": {},
   "source": [
    "**Ex 6** First, generate a sequence of numbers from 1 to 20. Then print **only** the numbers for which the remainder is 0 when being divided by 6. E.g. 12 because 12/6 = 2. The output should be 6, 12 and 18"
   ]
  },
  {
   "cell_type": "code",
   "execution_count": 10,
   "id": "da791383",
   "metadata": {},
   "outputs": [
    {
     "name": "stdout",
     "output_type": "stream",
     "text": [
      "6\n",
      "12\n",
      "18\n"
     ]
    }
   ],
   "source": [
    "for num_1 in range(1,21):\n",
    " if num_1 % 6 == 0:\n",
    "   print(num_1)"
   ]
  },
  {
   "cell_type": "markdown",
   "id": "69ac0f1a",
   "metadata": {},
   "source": [
    "**Ex 7** Generate  \\\n",
    "\"The holidays will begin on: 25/11/1992\"  \\\n",
    "from the following tuple "
   ]
  },
  {
   "cell_type": "code",
   "execution_count": 11,
   "id": "74da457f",
   "metadata": {},
   "outputs": [
    {
     "name": "stdout",
     "output_type": "stream",
     "text": [
      "The holidays will begin on: (25, 11, 1992)\n"
     ]
    }
   ],
   "source": [
    "#no pude! :(\n",
    "date = (25, 11, 1992)\n",
    "print(\"The holidays will begin on: \" + str(date))\n",
    "\n",
    "## Check out https://www.geeksforgeeks.org/formatted-string-literals-f-strings-python/ "
   ]
  },
  {
   "cell_type": "markdown",
   "id": "4eda69ad",
   "metadata": {},
   "source": [
    "**Ex 8** Write a function to find whether a given number is even or odd, print out an appropriate message."
   ]
  },
  {
   "cell_type": "code",
   "execution_count": 13,
   "id": "85eb870e",
   "metadata": {},
   "outputs": [
    {
     "name": "stdout",
     "output_type": "stream",
     "text": [
      "Enter number: 6\n",
      "The number is even\n"
     ]
    }
   ],
   "source": [
    "num_ero = int(input(\"Enter number: \"))\n",
    "if num_ero % 2 == 0:\n",
    " print(\"The number is even\")\n",
    "else:\n",
    " print(\"The number is odd\")"
   ]
  },
  {
   "cell_type": "markdown",
   "id": "0dfdb5eb",
   "metadata": {},
   "source": [
    "**Ex 9** Make a program ask for a name, and then write a greeting using that name.\\\n",
    "HINT: use the input function to get the user input (e.g. name=input(\"Write your username\"))\n",
    "\n",
    "\\\n",
    "The output should look similar to this:\\\n",
    "Please type your username Adrian\\\n",
    "Hello Adrian."
   ]
  },
  {
   "cell_type": "code",
   "execution_count": 16,
   "id": "96c756b7",
   "metadata": {},
   "outputs": [
    {
     "name": "stdout",
     "output_type": "stream",
     "text": [
      "Please type your username: Rami\n",
      "Hello Rami\n"
     ]
    }
   ],
   "source": [
    "#it's not a program\n",
    "nom_bre = str(input(\"Please type your username: \"))\n",
    "print(\"Hello \" + nom_bre)\n",
    "\n",
    "# If you write it in a function, it will be :)"
   ]
  },
  {
   "cell_type": "markdown",
   "id": "1d0f55b4",
   "metadata": {},
   "source": [
    "**Ex 10** Ask for two numbers and ask what operation to perform on them (+, - , *, /) and display the numbers and the result. Again, use the input function.\\\n",
    "The output should look like this\n",
    "\n",
    "\\\n",
    "Please type two numbers and a mathematical operator to perform on them. All 3 inputs must be separated by a whitespace 1 1.5 +\\\n",
    "The result is: 2.5\n",
    "\n",
    "\n",
    "Please type two numbers and a mathematical operator to perform on them. All 3 inputs must be separated by a whitespace 2 2 *\\\n",
    "The result is: 4.0"
   ]
  },
  {
   "cell_type": "code",
   "execution_count": 20,
   "id": "d1b5dabb",
   "metadata": {},
   "outputs": [
    {
     "name": "stdout",
     "output_type": "stream",
     "text": [
      "Please type two numbers and a mathematical operator. All 3 inputs must be separated by a whitespace: 1 2 +\n",
      "1 2 +\n",
      "Please type two numbers and a mathematical operator. All 3 inputs must be separated by a whitespace: 1 2 +\n"
     ]
    }
   ],
   "source": [
    "#no pude! :(\n",
    "\n",
    "num_ero = input(\"Please type two numbers and a mathematical operator. All 3 inputs must be separated by a whitespace: \")\n",
    "num_ero = number1, number2, operator\n",
    "number1 = ''\n",
    "number2 = ''\n",
    "operator = ''\n",
    "\n",
    "if (operator == '+'):\n",
    " print(int(number1) + int(number2))\n",
    "elif (operator == '-'):\n",
    " print(int(number1) - int(number2))\n",
    "elif (operator == '*'):\n",
    " print(int(number1) * int(number2))\n",
    "elif (operator == '/'):\n",
    " print(int(number1) / int(number2))\n",
    "\n",
    "\n",
    "# You are really close! Input() will give you the exact string the user enters.\n",
    "# So if you enter 1 2 +, then the variable num_ero will equal \"1 2 +\" as a string.\n",
    "# Check the .split() method and you should be on your way!\n",
    "\n"
   ]
  },
  {
   "cell_type": "markdown",
   "id": "b8ad61c1",
   "metadata": {},
   "source": [
    "**Ex 11** Write a function to calculate the factorial (n!) (e.g. 4! = 4 * 3 * 2 * 1. Perform input control. For example, the input must be a positive integer. Thus, if the input is negative, the function should return an error message. The same applies for inputs with type float or str.\\\n",
    "\n",
    "The output should look like:\\\n",
    "1 = factorial(0)\\\n",
    "1 = factorial(1)\\\n",
    "6 = factorial(3)\\\n",
    "24 = factorial(4)"
   ]
  },
  {
   "cell_type": "code",
   "execution_count": 22,
   "id": "b2e29929",
   "metadata": {},
   "outputs": [
    {
     "name": "stdout",
     "output_type": "stream",
     "text": [
      "Please type a number: 6\n"
     ]
    }
   ],
   "source": [
    "num_ero = int(input(\"Please type a number: \"))\n",
    "if (num_ero < 0): \n",
    " print(\"pick a different number: \")"
   ]
  },
  {
   "cell_type": "markdown",
   "id": "bbc4e65f",
   "metadata": {},
   "source": [
    "**Ex 12** Write a program (using functions!) that asks the user for a long string containing multiple words. Print back to the user the same string, except with the words in backwards order. For example, say I type the string:\n",
    "\n",
    "  My name is Michele\\\n",
    "Then I would see the string:\n",
    "\n",
    "  Michele is name My\\\n",
    "shown back to me."
   ]
  },
  {
   "cell_type": "code",
   "execution_count": 23,
   "id": "89ea7d10",
   "metadata": {},
   "outputs": [
    {
     "name": "stdout",
     "output_type": "stream",
     "text": [
      "Pick a phrase: Rami was here\n",
      "here was Rami\n"
     ]
    }
   ],
   "source": [
    "#no program\n",
    "#def de_reversa(phrase):\n",
    "de_reversa = input(\"Pick a phrase: \")\n",
    "de_reversa = de_reversa.split(' ')\n",
    "reverse_sentence = ' '.join(reversed(de_reversa)) \n",
    "  # return reverse_sentence\n",
    " #  input = 'My name is Michele'\n",
    "print (reverse_sentence)\n",
    "    \n"
   ]
  },
  {
   "cell_type": "markdown",
   "id": "e45ee80e",
   "metadata": {},
   "source": [
    "**Ex 13** Write a small function to check if a string is a Palindrome (https://en.wikipedia.org/wiki/Palindrome)\n",
    "\n",
    "The output could look like this:\n",
    "\n",
    "Tenet is a Palindrome\\\n",
    "China is not Palindrome"
   ]
  },
  {
   "cell_type": "code",
   "execution_count": 26,
   "id": "d61dbb97",
   "metadata": {},
   "outputs": [
    {
     "name": "stdout",
     "output_type": "stream",
     "text": [
      "Pick a word: Tenet\n",
      "Tenet is not a Palindrome\n"
     ]
    }
   ],
   "source": [
    "pa_li = input(\"Pick a word: \")\n",
    "rev = ''.join(reversed(pa_li))\n",
    "if (pa_li == rev):\n",
    " print(pa_li + \" is a Palindrome\")\n",
    "else:\n",
    " print(pa_li + \" is not a Palindrome\")\n",
    "\n",
    "## Very close! Notice how if I write a capital letter, then it doesn't see that it's a palindrome? You need to take that into consideration\n"
   ]
  },
  {
   "cell_type": "code",
   "execution_count": null,
   "id": "acfbbaac",
   "metadata": {},
   "outputs": [],
   "source": []
  }
 ],
 "metadata": {
  "kernelspec": {
   "display_name": "Python 3 (ipykernel)",
   "language": "python",
   "name": "python3"
  },
  "language_info": {
   "codemirror_mode": {
    "name": "ipython",
    "version": 3
   },
   "file_extension": ".py",
   "mimetype": "text/x-python",
   "name": "python",
   "nbconvert_exporter": "python",
   "pygments_lexer": "ipython3",
   "version": "3.8.8"
  }
 },
 "nbformat": 4,
 "nbformat_minor": 5
}
