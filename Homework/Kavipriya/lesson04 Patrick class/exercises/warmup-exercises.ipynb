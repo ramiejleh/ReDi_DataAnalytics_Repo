{
 "cells": [
  {
   "cell_type": "markdown",
   "id": "2e57145e",
   "metadata": {},
   "source": [
    "1. Import the libraries and print the information about dataset i.e diabetes.csv"
   ]
  },
  {
   "cell_type": "code",
   "execution_count": null,
   "id": "8129dd6c",
   "metadata": {},
   "outputs": [],
   "source": []
  },
  {
   "cell_type": "markdown",
   "id": "f06181c2",
   "metadata": {},
   "source": [
    "2. Check for datatypes i.e categorical, integer and float in dataset"
   ]
  },
  {
   "cell_type": "code",
   "execution_count": null,
   "id": "396fd0c9",
   "metadata": {},
   "outputs": [],
   "source": []
  },
  {
   "cell_type": "markdown",
   "id": "06ed244c",
   "metadata": {},
   "source": [
    "3. check the columns that have null values"
   ]
  },
  {
   "cell_type": "code",
   "execution_count": null,
   "id": "637cfb93",
   "metadata": {},
   "outputs": [],
   "source": []
  },
  {
   "cell_type": "markdown",
   "id": "18e8dd90",
   "metadata": {},
   "source": [
    "4. Apply the sort on Age column in descending order"
   ]
  },
  {
   "cell_type": "code",
   "execution_count": null,
   "id": "fe62b5be",
   "metadata": {},
   "outputs": [],
   "source": []
  },
  {
   "cell_type": "markdown",
   "id": "3a9f18a4",
   "metadata": {},
   "source": [
    "5. Print the count values and rows that have \"Outcome\" == 1 "
   ]
  },
  {
   "cell_type": "code",
   "execution_count": null,
   "id": "3fdc485c",
   "metadata": {},
   "outputs": [],
   "source": []
  }
 ],
 "metadata": {
  "kernelspec": {
   "display_name": "Python 3",
   "language": "python",
   "name": "python3"
  },
  "language_info": {
   "codemirror_mode": {
    "name": "ipython",
    "version": 3
   },
   "file_extension": ".py",
   "mimetype": "text/x-python",
   "name": "python",
   "nbconvert_exporter": "python",
   "pygments_lexer": "ipython3",
   "version": "3.8.8"
  }
 },
 "nbformat": 4,
 "nbformat_minor": 5
}
