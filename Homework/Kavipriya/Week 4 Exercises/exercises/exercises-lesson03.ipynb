{
 "cells": [
  {
   "cell_type": "markdown",
   "metadata": {},
   "source": [
    "#### Import pandas library using alias pd."
   ]
  },
  {
   "cell_type": "code",
   "execution_count": 12,
   "metadata": {},
   "outputs": [],
   "source": [
    "import pandas as pd"
   ]
  },
  {
   "cell_type": "markdown",
   "metadata": {},
   "source": [
    "#### Load file recipes.csv from the data subfolder and store it in a variable df. Use the first column as index."
   ]
  },
  {
   "cell_type": "code",
   "execution_count": 25,
   "metadata": {},
   "outputs": [],
   "source": [
    "df = pd.read_csv(\"data/Recipes.csv\", index_col=0)"
   ]
  },
  {
   "cell_type": "markdown",
   "metadata": {},
   "source": [
    "#### Print the type of variable df."
   ]
  },
  {
   "cell_type": "code",
   "execution_count": 26,
   "metadata": {},
   "outputs": [
    {
     "data": {
      "text/html": [
       "<div>\n",
       "<style scoped>\n",
       "    .dataframe tbody tr th:only-of-type {\n",
       "        vertical-align: middle;\n",
       "    }\n",
       "\n",
       "    .dataframe tbody tr th {\n",
       "        vertical-align: top;\n",
       "    }\n",
       "\n",
       "    .dataframe thead th {\n",
       "        text-align: right;\n",
       "    }\n",
       "</style>\n",
       "<table border=\"1\" class=\"dataframe\">\n",
       "  <thead>\n",
       "    <tr style=\"text-align: right;\">\n",
       "      <th></th>\n",
       "      <th>vegetarian</th>\n",
       "      <th>glutenFree</th>\n",
       "      <th>dairyFree</th>\n",
       "      <th>veryHealthy</th>\n",
       "      <th>healthScore</th>\n",
       "      <th>aggregateLikes</th>\n",
       "      <th>id</th>\n",
       "      <th>title</th>\n",
       "      <th>pricePerServing</th>\n",
       "      <th>readyInMinutes</th>\n",
       "      <th>...</th>\n",
       "      <th>VitaminB3Amount</th>\n",
       "      <th>VitaminB3percentOfDailyNeed</th>\n",
       "      <th>VitaminB1Amount</th>\n",
       "      <th>VitaminB1percentOfDailyNeed</th>\n",
       "      <th>CalciumAmount</th>\n",
       "      <th>CalciumpercentOfDailyNeed</th>\n",
       "      <th>AlcoholAmount</th>\n",
       "      <th>AlcoholpercentOfDailyNeed</th>\n",
       "      <th>CaffeineAmount</th>\n",
       "      <th>CaffeinepercentOfDailyNeed</th>\n",
       "    </tr>\n",
       "  </thead>\n",
       "  <tbody>\n",
       "    <tr>\n",
       "      <th>0</th>\n",
       "      <td>True</td>\n",
       "      <td>True</td>\n",
       "      <td>True</td>\n",
       "      <td>False</td>\n",
       "      <td>1.0</td>\n",
       "      <td>3</td>\n",
       "      <td>633998</td>\n",
       "      <td>Banana Blueberry Pancakes</td>\n",
       "      <td>55.79</td>\n",
       "      <td>45</td>\n",
       "      <td>...</td>\n",
       "      <td>0.49</td>\n",
       "      <td>2.44</td>\n",
       "      <td>0.03</td>\n",
       "      <td>2.26</td>\n",
       "      <td>18.11</td>\n",
       "      <td>1.81</td>\n",
       "      <td>NaN</td>\n",
       "      <td>NaN</td>\n",
       "      <td>NaN</td>\n",
       "      <td>NaN</td>\n",
       "    </tr>\n",
       "    <tr>\n",
       "      <th>1</th>\n",
       "      <td>True</td>\n",
       "      <td>True</td>\n",
       "      <td>False</td>\n",
       "      <td>False</td>\n",
       "      <td>0.0</td>\n",
       "      <td>1</td>\n",
       "      <td>634426</td>\n",
       "      <td>Basil and Orange Confit Compound Butter</td>\n",
       "      <td>15.07</td>\n",
       "      <td>45</td>\n",
       "      <td>...</td>\n",
       "      <td>NaN</td>\n",
       "      <td>NaN</td>\n",
       "      <td>NaN</td>\n",
       "      <td>NaN</td>\n",
       "      <td>NaN</td>\n",
       "      <td>NaN</td>\n",
       "      <td>NaN</td>\n",
       "      <td>NaN</td>\n",
       "      <td>NaN</td>\n",
       "      <td>NaN</td>\n",
       "    </tr>\n",
       "    <tr>\n",
       "      <th>2</th>\n",
       "      <td>False</td>\n",
       "      <td>False</td>\n",
       "      <td>False</td>\n",
       "      <td>False</td>\n",
       "      <td>3.0</td>\n",
       "      <td>1</td>\n",
       "      <td>635085</td>\n",
       "      <td>Black Bottom Banana Bars</td>\n",
       "      <td>78.85</td>\n",
       "      <td>45</td>\n",
       "      <td>...</td>\n",
       "      <td>2.63</td>\n",
       "      <td>13.13</td>\n",
       "      <td>0.32</td>\n",
       "      <td>21.09</td>\n",
       "      <td>100.80</td>\n",
       "      <td>10.08</td>\n",
       "      <td>0.28</td>\n",
       "      <td>1.53</td>\n",
       "      <td>9.89</td>\n",
       "      <td>3.30</td>\n",
       "    </tr>\n",
       "    <tr>\n",
       "      <th>3</th>\n",
       "      <td>True</td>\n",
       "      <td>False</td>\n",
       "      <td>True</td>\n",
       "      <td>False</td>\n",
       "      <td>2.0</td>\n",
       "      <td>1</td>\n",
       "      <td>663229</td>\n",
       "      <td>The Best Raw Chocolate Chip Cookies</td>\n",
       "      <td>54.64</td>\n",
       "      <td>45</td>\n",
       "      <td>...</td>\n",
       "      <td>0.65</td>\n",
       "      <td>3.26</td>\n",
       "      <td>0.10</td>\n",
       "      <td>6.47</td>\n",
       "      <td>26.79</td>\n",
       "      <td>2.68</td>\n",
       "      <td>NaN</td>\n",
       "      <td>NaN</td>\n",
       "      <td>NaN</td>\n",
       "      <td>NaN</td>\n",
       "    </tr>\n",
       "    <tr>\n",
       "      <th>4</th>\n",
       "      <td>False</td>\n",
       "      <td>True</td>\n",
       "      <td>False</td>\n",
       "      <td>False</td>\n",
       "      <td>31.0</td>\n",
       "      <td>3</td>\n",
       "      <td>651437</td>\n",
       "      <td>Mediterranean Spinach Artichoke Dip</td>\n",
       "      <td>115.26</td>\n",
       "      <td>45</td>\n",
       "      <td>...</td>\n",
       "      <td>0.66</td>\n",
       "      <td>3.29</td>\n",
       "      <td>0.07</td>\n",
       "      <td>4.64</td>\n",
       "      <td>162.84</td>\n",
       "      <td>16.28</td>\n",
       "      <td>NaN</td>\n",
       "      <td>NaN</td>\n",
       "      <td>NaN</td>\n",
       "      <td>NaN</td>\n",
       "    </tr>\n",
       "    <tr>\n",
       "      <th>...</th>\n",
       "      <td>...</td>\n",
       "      <td>...</td>\n",
       "      <td>...</td>\n",
       "      <td>...</td>\n",
       "      <td>...</td>\n",
       "      <td>...</td>\n",
       "      <td>...</td>\n",
       "      <td>...</td>\n",
       "      <td>...</td>\n",
       "      <td>...</td>\n",
       "      <td>...</td>\n",
       "      <td>...</td>\n",
       "      <td>...</td>\n",
       "      <td>...</td>\n",
       "      <td>...</td>\n",
       "      <td>...</td>\n",
       "      <td>...</td>\n",
       "      <td>...</td>\n",
       "      <td>...</td>\n",
       "      <td>...</td>\n",
       "      <td>...</td>\n",
       "    </tr>\n",
       "    <tr>\n",
       "      <th>145</th>\n",
       "      <td>False</td>\n",
       "      <td>True</td>\n",
       "      <td>True</td>\n",
       "      <td>False</td>\n",
       "      <td>18.0</td>\n",
       "      <td>13</td>\n",
       "      <td>638315</td>\n",
       "      <td>Chicken Sausage, White Bean and Cabbage Soup</td>\n",
       "      <td>196.23</td>\n",
       "      <td>45</td>\n",
       "      <td>...</td>\n",
       "      <td>0.53</td>\n",
       "      <td>2.67</td>\n",
       "      <td>0.15</td>\n",
       "      <td>10.23</td>\n",
       "      <td>102.67</td>\n",
       "      <td>10.27</td>\n",
       "      <td>NaN</td>\n",
       "      <td>NaN</td>\n",
       "      <td>NaN</td>\n",
       "      <td>NaN</td>\n",
       "    </tr>\n",
       "    <tr>\n",
       "      <th>146</th>\n",
       "      <td>True</td>\n",
       "      <td>False</td>\n",
       "      <td>False</td>\n",
       "      <td>False</td>\n",
       "      <td>1.0</td>\n",
       "      <td>2</td>\n",
       "      <td>656248</td>\n",
       "      <td>Pinot Noir Brownies</td>\n",
       "      <td>65.76</td>\n",
       "      <td>45</td>\n",
       "      <td>...</td>\n",
       "      <td>0.21</td>\n",
       "      <td>1.07</td>\n",
       "      <td>0.03</td>\n",
       "      <td>1.68</td>\n",
       "      <td>19.82</td>\n",
       "      <td>1.98</td>\n",
       "      <td>2.48</td>\n",
       "      <td>13.76</td>\n",
       "      <td>10.69</td>\n",
       "      <td>3.56</td>\n",
       "    </tr>\n",
       "    <tr>\n",
       "      <th>147</th>\n",
       "      <td>True</td>\n",
       "      <td>True</td>\n",
       "      <td>True</td>\n",
       "      <td>True</td>\n",
       "      <td>93.0</td>\n",
       "      <td>2</td>\n",
       "      <td>637297</td>\n",
       "      <td>Cauliflower Chickpea Stew</td>\n",
       "      <td>139.28</td>\n",
       "      <td>45</td>\n",
       "      <td>...</td>\n",
       "      <td>4.77</td>\n",
       "      <td>23.83</td>\n",
       "      <td>0.45</td>\n",
       "      <td>29.70</td>\n",
       "      <td>141.16</td>\n",
       "      <td>14.12</td>\n",
       "      <td>NaN</td>\n",
       "      <td>NaN</td>\n",
       "      <td>NaN</td>\n",
       "      <td>NaN</td>\n",
       "    </tr>\n",
       "    <tr>\n",
       "      <th>148</th>\n",
       "      <td>True</td>\n",
       "      <td>True</td>\n",
       "      <td>False</td>\n",
       "      <td>False</td>\n",
       "      <td>5.0</td>\n",
       "      <td>1</td>\n",
       "      <td>659412</td>\n",
       "      <td>Sautéed Balsamic Green Beans With Cherry Tomatoes</td>\n",
       "      <td>101.81</td>\n",
       "      <td>45</td>\n",
       "      <td>...</td>\n",
       "      <td>1.15</td>\n",
       "      <td>5.73</td>\n",
       "      <td>0.12</td>\n",
       "      <td>7.85</td>\n",
       "      <td>55.64</td>\n",
       "      <td>5.56</td>\n",
       "      <td>NaN</td>\n",
       "      <td>NaN</td>\n",
       "      <td>NaN</td>\n",
       "      <td>NaN</td>\n",
       "    </tr>\n",
       "    <tr>\n",
       "      <th>149</th>\n",
       "      <td>True</td>\n",
       "      <td>True</td>\n",
       "      <td>True</td>\n",
       "      <td>True</td>\n",
       "      <td>100.0</td>\n",
       "      <td>4</td>\n",
       "      <td>647875</td>\n",
       "      <td>Indian-Style Dill and Turmeric Potato Salad</td>\n",
       "      <td>117.24</td>\n",
       "      <td>30</td>\n",
       "      <td>...</td>\n",
       "      <td>0.21</td>\n",
       "      <td>1.05</td>\n",
       "      <td>NaN</td>\n",
       "      <td>NaN</td>\n",
       "      <td>27.96</td>\n",
       "      <td>2.80</td>\n",
       "      <td>NaN</td>\n",
       "      <td>NaN</td>\n",
       "      <td>NaN</td>\n",
       "      <td>NaN</td>\n",
       "    </tr>\n",
       "  </tbody>\n",
       "</table>\n",
       "<p>150 rows × 78 columns</p>\n",
       "</div>"
      ],
      "text/plain": [
       "     vegetarian  glutenFree  dairyFree  veryHealthy  healthScore  \\\n",
       "0          True        True       True        False          1.0   \n",
       "1          True        True      False        False          0.0   \n",
       "2         False       False      False        False          3.0   \n",
       "3          True       False       True        False          2.0   \n",
       "4         False        True      False        False         31.0   \n",
       "..          ...         ...        ...          ...          ...   \n",
       "145       False        True       True        False         18.0   \n",
       "146        True       False      False        False          1.0   \n",
       "147        True        True       True         True         93.0   \n",
       "148        True        True      False        False          5.0   \n",
       "149        True        True       True         True        100.0   \n",
       "\n",
       "     aggregateLikes      id  \\\n",
       "0                 3  633998   \n",
       "1                 1  634426   \n",
       "2                 1  635085   \n",
       "3                 1  663229   \n",
       "4                 3  651437   \n",
       "..              ...     ...   \n",
       "145              13  638315   \n",
       "146               2  656248   \n",
       "147               2  637297   \n",
       "148               1  659412   \n",
       "149               4  647875   \n",
       "\n",
       "                                                 title  pricePerServing  \\\n",
       "0                            Banana Blueberry Pancakes            55.79   \n",
       "1              Basil and Orange Confit Compound Butter            15.07   \n",
       "2                             Black Bottom Banana Bars            78.85   \n",
       "3                  The Best Raw Chocolate Chip Cookies            54.64   \n",
       "4                  Mediterranean Spinach Artichoke Dip           115.26   \n",
       "..                                                 ...              ...   \n",
       "145       Chicken Sausage, White Bean and Cabbage Soup           196.23   \n",
       "146                                Pinot Noir Brownies            65.76   \n",
       "147                          Cauliflower Chickpea Stew           139.28   \n",
       "148  Sautéed Balsamic Green Beans With Cherry Tomatoes           101.81   \n",
       "149        Indian-Style Dill and Turmeric Potato Salad           117.24   \n",
       "\n",
       "     readyInMinutes  ...  VitaminB3Amount VitaminB3percentOfDailyNeed  \\\n",
       "0                45  ...             0.49                        2.44   \n",
       "1                45  ...              NaN                         NaN   \n",
       "2                45  ...             2.63                       13.13   \n",
       "3                45  ...             0.65                        3.26   \n",
       "4                45  ...             0.66                        3.29   \n",
       "..              ...  ...              ...                         ...   \n",
       "145              45  ...             0.53                        2.67   \n",
       "146              45  ...             0.21                        1.07   \n",
       "147              45  ...             4.77                       23.83   \n",
       "148              45  ...             1.15                        5.73   \n",
       "149              30  ...             0.21                        1.05   \n",
       "\n",
       "     VitaminB1Amount  VitaminB1percentOfDailyNeed  CalciumAmount  \\\n",
       "0               0.03                         2.26          18.11   \n",
       "1                NaN                          NaN            NaN   \n",
       "2               0.32                        21.09         100.80   \n",
       "3               0.10                         6.47          26.79   \n",
       "4               0.07                         4.64         162.84   \n",
       "..               ...                          ...            ...   \n",
       "145             0.15                        10.23         102.67   \n",
       "146             0.03                         1.68          19.82   \n",
       "147             0.45                        29.70         141.16   \n",
       "148             0.12                         7.85          55.64   \n",
       "149              NaN                          NaN          27.96   \n",
       "\n",
       "     CalciumpercentOfDailyNeed  AlcoholAmount  AlcoholpercentOfDailyNeed  \\\n",
       "0                         1.81            NaN                        NaN   \n",
       "1                          NaN            NaN                        NaN   \n",
       "2                        10.08           0.28                       1.53   \n",
       "3                         2.68            NaN                        NaN   \n",
       "4                        16.28            NaN                        NaN   \n",
       "..                         ...            ...                        ...   \n",
       "145                      10.27            NaN                        NaN   \n",
       "146                       1.98           2.48                      13.76   \n",
       "147                      14.12            NaN                        NaN   \n",
       "148                       5.56            NaN                        NaN   \n",
       "149                       2.80            NaN                        NaN   \n",
       "\n",
       "     CaffeineAmount  CaffeinepercentOfDailyNeed  \n",
       "0               NaN                         NaN  \n",
       "1               NaN                         NaN  \n",
       "2              9.89                        3.30  \n",
       "3               NaN                         NaN  \n",
       "4               NaN                         NaN  \n",
       "..              ...                         ...  \n",
       "145             NaN                         NaN  \n",
       "146           10.69                        3.56  \n",
       "147             NaN                         NaN  \n",
       "148             NaN                         NaN  \n",
       "149             NaN                         NaN  \n",
       "\n",
       "[150 rows x 78 columns]"
      ]
     },
     "execution_count": 26,
     "metadata": {},
     "output_type": "execute_result"
    }
   ],
   "source": [
    "df"
   ]
  },
  {
   "cell_type": "markdown",
   "metadata": {},
   "source": [
    "#### Print the number of columns and number of rows of the df DataFrame."
   ]
  },
  {
   "cell_type": "code",
   "execution_count": 20,
   "metadata": {},
   "outputs": [
    {
     "name": "stdout",
     "output_type": "stream",
     "text": [
      "<class 'pandas.core.frame.DataFrame'>\n",
      "Int64Index: 150 entries, 0 to 149\n",
      "Data columns (total 78 columns):\n",
      " #   Column                              Non-Null Count  Dtype  \n",
      "---  ------                              --------------  -----  \n",
      " 0   vegetarian                          150 non-null    bool   \n",
      " 1   glutenFree                          150 non-null    bool   \n",
      " 2   dairyFree                           150 non-null    bool   \n",
      " 3   veryHealthy                         150 non-null    bool   \n",
      " 4   healthScore                         150 non-null    float64\n",
      " 5   aggregateLikes                      150 non-null    int64  \n",
      " 6   id                                  150 non-null    int64  \n",
      " 7   title                               150 non-null    object \n",
      " 8   pricePerServing                     150 non-null    float64\n",
      " 9   readyInMinutes                      150 non-null    int64  \n",
      " 10  servings                            150 non-null    int64  \n",
      " 11  sourceUrl                           150 non-null    object \n",
      " 12  CaloriesAmount                      150 non-null    float64\n",
      " 13  CaloriespercentOfDailyNeed          150 non-null    float64\n",
      " 14  FatAmount                           150 non-null    float64\n",
      " 15  FatpercentOfDailyNeed               150 non-null    float64\n",
      " 16  SaturatedFatAmount                  150 non-null    float64\n",
      " 17  SaturatedFatpercentOfDailyNeed      150 non-null    float64\n",
      " 18  CarbohydratesAmount                 150 non-null    float64\n",
      " 19  CarbohydratespercentOfDailyNeed     150 non-null    float64\n",
      " 20  NetCarbohydratesAmount              150 non-null    float64\n",
      " 21  NetCarbohydratespercentOfDailyNeed  150 non-null    float64\n",
      " 22  SugarAmount                         150 non-null    float64\n",
      " 23  SugarpercentOfDailyNeed             150 non-null    float64\n",
      " 24  CholesterolAmount                   150 non-null    float64\n",
      " 25  CholesterolpercentOfDailyNeed       150 non-null    float64\n",
      " 26  SodiumAmount                        150 non-null    float64\n",
      " 27  SodiumpercentOfDailyNeed            150 non-null    float64\n",
      " 28  ProteinAmount                       150 non-null    float64\n",
      " 29  ProteinpercentOfDailyNeed           150 non-null    float64\n",
      " 30  FiberAmount                         142 non-null    float64\n",
      " 31  FiberpercentOfDailyNeed             142 non-null    float64\n",
      " 32  VitaminB6Amount                     140 non-null    float64\n",
      " 33  VitaminB6percentOfDailyNeed         140 non-null    float64\n",
      " 34  ManganeseAmount                     146 non-null    float64\n",
      " 35  ManganesepercentOfDailyNeed         146 non-null    float64\n",
      " 36  SeleniumAmount                      134 non-null    float64\n",
      " 37  SeleniumpercentOfDailyNeed          134 non-null    float64\n",
      " 38  PotassiumAmount                     143 non-null    float64\n",
      " 39  PotassiumpercentOfDailyNeed         143 non-null    float64\n",
      " 40  VitaminB2Amount                     146 non-null    float64\n",
      " 41  VitaminB2percentOfDailyNeed         146 non-null    float64\n",
      " 42  VitaminCAmount                      119 non-null    float64\n",
      " 43  VitaminCpercentOfDailyNeed          119 non-null    float64\n",
      " 44  PhosphorusAmount                    147 non-null    float64\n",
      " 45  PhosphoruspercentOfDailyNeed        147 non-null    float64\n",
      " 46  FolateAmount                        144 non-null    float64\n",
      " 47  FolatepercentOfDailyNeed            144 non-null    float64\n",
      " 48  VitaminB5Amount                     136 non-null    float64\n",
      " 49  VitaminB5percentOfDailyNeed         136 non-null    float64\n",
      " 50  MagnesiumAmount                     142 non-null    float64\n",
      " 51  MagnesiumpercentOfDailyNeed         142 non-null    float64\n",
      " 52  IronAmount                          147 non-null    float64\n",
      " 53  IronpercentOfDailyNeed              147 non-null    float64\n",
      " 54  VitaminKAmount                      138 non-null    float64\n",
      " 55  VitaminKpercentOfDailyNeed          138 non-null    float64\n",
      " 56  CopperAmount                        144 non-null    float64\n",
      " 57  CopperpercentOfDailyNeed            144 non-null    float64\n",
      " 58  VitaminAAmount                      137 non-null    float64\n",
      " 59  VitaminApercentOfDailyNeed          137 non-null    float64\n",
      " 60  VitaminB12Amount                    93 non-null     float64\n",
      " 61  VitaminB12percentOfDailyNeed        93 non-null     float64\n",
      " 62  VitaminDAmount                      75 non-null     float64\n",
      " 63  VitaminDpercentOfDailyNeed          75 non-null     float64\n",
      " 64  ZincAmount                          139 non-null    float64\n",
      " 65  ZincpercentOfDailyNeed              139 non-null    float64\n",
      " 66  VitaminEAmount                      138 non-null    float64\n",
      " 67  VitaminEpercentOfDailyNeed          138 non-null    float64\n",
      " 68  VitaminB3Amount                     139 non-null    float64\n",
      " 69  VitaminB3percentOfDailyNeed         139 non-null    float64\n",
      " 70  VitaminB1Amount                     143 non-null    float64\n",
      " 71  VitaminB1percentOfDailyNeed         143 non-null    float64\n",
      " 72  CalciumAmount                       142 non-null    float64\n",
      " 73  CalciumpercentOfDailyNeed           142 non-null    float64\n",
      " 74  AlcoholAmount                       21 non-null     float64\n",
      " 75  AlcoholpercentOfDailyNeed           21 non-null     float64\n",
      " 76  CaffeineAmount                      9 non-null      float64\n",
      " 77  CaffeinepercentOfDailyNeed          9 non-null      float64\n",
      "dtypes: bool(4), float64(68), int64(4), object(2)\n",
      "memory usage: 88.5+ KB\n"
     ]
    }
   ],
   "source": [
    "df.info()\n",
    "#len(df)\n",
    "#len(df.columns)"
   ]
  },
  {
   "cell_type": "markdown",
   "metadata": {},
   "source": [
    "#### What are the names of the columns in df?"
   ]
  },
  {
   "cell_type": "code",
   "execution_count": 21,
   "metadata": {},
   "outputs": [
    {
     "data": {
      "text/plain": [
       "Index(['vegetarian', 'glutenFree', 'dairyFree', 'veryHealthy', 'healthScore',\n",
       "       'aggregateLikes', 'id', 'title', 'pricePerServing', 'readyInMinutes',\n",
       "       'servings', 'sourceUrl', 'CaloriesAmount', 'CaloriespercentOfDailyNeed',\n",
       "       'FatAmount', 'FatpercentOfDailyNeed', 'SaturatedFatAmount',\n",
       "       'SaturatedFatpercentOfDailyNeed', 'CarbohydratesAmount',\n",
       "       'CarbohydratespercentOfDailyNeed', 'NetCarbohydratesAmount',\n",
       "       'NetCarbohydratespercentOfDailyNeed', 'SugarAmount',\n",
       "       'SugarpercentOfDailyNeed', 'CholesterolAmount',\n",
       "       'CholesterolpercentOfDailyNeed', 'SodiumAmount',\n",
       "       'SodiumpercentOfDailyNeed', 'ProteinAmount',\n",
       "       'ProteinpercentOfDailyNeed', 'FiberAmount', 'FiberpercentOfDailyNeed',\n",
       "       'VitaminB6Amount', 'VitaminB6percentOfDailyNeed', 'ManganeseAmount',\n",
       "       'ManganesepercentOfDailyNeed', 'SeleniumAmount',\n",
       "       'SeleniumpercentOfDailyNeed', 'PotassiumAmount',\n",
       "       'PotassiumpercentOfDailyNeed', 'VitaminB2Amount',\n",
       "       'VitaminB2percentOfDailyNeed', 'VitaminCAmount',\n",
       "       'VitaminCpercentOfDailyNeed', 'PhosphorusAmount',\n",
       "       'PhosphoruspercentOfDailyNeed', 'FolateAmount',\n",
       "       'FolatepercentOfDailyNeed', 'VitaminB5Amount',\n",
       "       'VitaminB5percentOfDailyNeed', 'MagnesiumAmount',\n",
       "       'MagnesiumpercentOfDailyNeed', 'IronAmount', 'IronpercentOfDailyNeed',\n",
       "       'VitaminKAmount', 'VitaminKpercentOfDailyNeed', 'CopperAmount',\n",
       "       'CopperpercentOfDailyNeed', 'VitaminAAmount',\n",
       "       'VitaminApercentOfDailyNeed', 'VitaminB12Amount',\n",
       "       'VitaminB12percentOfDailyNeed', 'VitaminDAmount',\n",
       "       'VitaminDpercentOfDailyNeed', 'ZincAmount', 'ZincpercentOfDailyNeed',\n",
       "       'VitaminEAmount', 'VitaminEpercentOfDailyNeed', 'VitaminB3Amount',\n",
       "       'VitaminB3percentOfDailyNeed', 'VitaminB1Amount',\n",
       "       'VitaminB1percentOfDailyNeed', 'CalciumAmount',\n",
       "       'CalciumpercentOfDailyNeed', 'AlcoholAmount',\n",
       "       'AlcoholpercentOfDailyNeed', 'CaffeineAmount',\n",
       "       'CaffeinepercentOfDailyNeed'],\n",
       "      dtype='object')"
      ]
     },
     "execution_count": 21,
     "metadata": {},
     "output_type": "execute_result"
    }
   ],
   "source": [
    "df.columns"
   ]
  },
  {
   "cell_type": "markdown",
   "metadata": {},
   "source": [
    "#### Rename column id to RecipeId. Drop column \"veryHealthy\"."
   ]
  },
  {
   "cell_type": "code",
   "execution_count": 27,
   "metadata": {},
   "outputs": [
    {
     "data": {
      "text/html": [
       "<div>\n",
       "<style scoped>\n",
       "    .dataframe tbody tr th:only-of-type {\n",
       "        vertical-align: middle;\n",
       "    }\n",
       "\n",
       "    .dataframe tbody tr th {\n",
       "        vertical-align: top;\n",
       "    }\n",
       "\n",
       "    .dataframe thead th {\n",
       "        text-align: right;\n",
       "    }\n",
       "</style>\n",
       "<table border=\"1\" class=\"dataframe\">\n",
       "  <thead>\n",
       "    <tr style=\"text-align: right;\">\n",
       "      <th></th>\n",
       "      <th>vegetarian</th>\n",
       "      <th>glutenFree</th>\n",
       "      <th>dairyFree</th>\n",
       "      <th>healthScore</th>\n",
       "      <th>aggregateLikes</th>\n",
       "      <th>RecipeId</th>\n",
       "      <th>title</th>\n",
       "      <th>pricePerServing</th>\n",
       "      <th>readyInMinutes</th>\n",
       "      <th>servings</th>\n",
       "      <th>...</th>\n",
       "      <th>VitaminB3Amount</th>\n",
       "      <th>VitaminB3percentOfDailyNeed</th>\n",
       "      <th>VitaminB1Amount</th>\n",
       "      <th>VitaminB1percentOfDailyNeed</th>\n",
       "      <th>CalciumAmount</th>\n",
       "      <th>CalciumpercentOfDailyNeed</th>\n",
       "      <th>AlcoholAmount</th>\n",
       "      <th>AlcoholpercentOfDailyNeed</th>\n",
       "      <th>CaffeineAmount</th>\n",
       "      <th>CaffeinepercentOfDailyNeed</th>\n",
       "    </tr>\n",
       "  </thead>\n",
       "  <tbody>\n",
       "    <tr>\n",
       "      <th>0</th>\n",
       "      <td>True</td>\n",
       "      <td>True</td>\n",
       "      <td>True</td>\n",
       "      <td>1.0</td>\n",
       "      <td>3</td>\n",
       "      <td>633998</td>\n",
       "      <td>Banana Blueberry Pancakes</td>\n",
       "      <td>55.79</td>\n",
       "      <td>45</td>\n",
       "      <td>8</td>\n",
       "      <td>...</td>\n",
       "      <td>0.49</td>\n",
       "      <td>2.44</td>\n",
       "      <td>0.03</td>\n",
       "      <td>2.26</td>\n",
       "      <td>18.11</td>\n",
       "      <td>1.81</td>\n",
       "      <td>NaN</td>\n",
       "      <td>NaN</td>\n",
       "      <td>NaN</td>\n",
       "      <td>NaN</td>\n",
       "    </tr>\n",
       "    <tr>\n",
       "      <th>1</th>\n",
       "      <td>True</td>\n",
       "      <td>True</td>\n",
       "      <td>False</td>\n",
       "      <td>0.0</td>\n",
       "      <td>1</td>\n",
       "      <td>634426</td>\n",
       "      <td>Basil and Orange Confit Compound Butter</td>\n",
       "      <td>15.07</td>\n",
       "      <td>45</td>\n",
       "      <td>10</td>\n",
       "      <td>...</td>\n",
       "      <td>NaN</td>\n",
       "      <td>NaN</td>\n",
       "      <td>NaN</td>\n",
       "      <td>NaN</td>\n",
       "      <td>NaN</td>\n",
       "      <td>NaN</td>\n",
       "      <td>NaN</td>\n",
       "      <td>NaN</td>\n",
       "      <td>NaN</td>\n",
       "      <td>NaN</td>\n",
       "    </tr>\n",
       "    <tr>\n",
       "      <th>2</th>\n",
       "      <td>False</td>\n",
       "      <td>False</td>\n",
       "      <td>False</td>\n",
       "      <td>3.0</td>\n",
       "      <td>1</td>\n",
       "      <td>635085</td>\n",
       "      <td>Black Bottom Banana Bars</td>\n",
       "      <td>78.85</td>\n",
       "      <td>45</td>\n",
       "      <td>5</td>\n",
       "      <td>...</td>\n",
       "      <td>2.63</td>\n",
       "      <td>13.13</td>\n",
       "      <td>0.32</td>\n",
       "      <td>21.09</td>\n",
       "      <td>100.80</td>\n",
       "      <td>10.08</td>\n",
       "      <td>0.28</td>\n",
       "      <td>1.53</td>\n",
       "      <td>9.89</td>\n",
       "      <td>3.30</td>\n",
       "    </tr>\n",
       "    <tr>\n",
       "      <th>3</th>\n",
       "      <td>True</td>\n",
       "      <td>False</td>\n",
       "      <td>True</td>\n",
       "      <td>2.0</td>\n",
       "      <td>1</td>\n",
       "      <td>663229</td>\n",
       "      <td>The Best Raw Chocolate Chip Cookies</td>\n",
       "      <td>54.64</td>\n",
       "      <td>45</td>\n",
       "      <td>12</td>\n",
       "      <td>...</td>\n",
       "      <td>0.65</td>\n",
       "      <td>3.26</td>\n",
       "      <td>0.10</td>\n",
       "      <td>6.47</td>\n",
       "      <td>26.79</td>\n",
       "      <td>2.68</td>\n",
       "      <td>NaN</td>\n",
       "      <td>NaN</td>\n",
       "      <td>NaN</td>\n",
       "      <td>NaN</td>\n",
       "    </tr>\n",
       "    <tr>\n",
       "      <th>4</th>\n",
       "      <td>False</td>\n",
       "      <td>True</td>\n",
       "      <td>False</td>\n",
       "      <td>31.0</td>\n",
       "      <td>3</td>\n",
       "      <td>651437</td>\n",
       "      <td>Mediterranean Spinach Artichoke Dip</td>\n",
       "      <td>115.26</td>\n",
       "      <td>45</td>\n",
       "      <td>8</td>\n",
       "      <td>...</td>\n",
       "      <td>0.66</td>\n",
       "      <td>3.29</td>\n",
       "      <td>0.07</td>\n",
       "      <td>4.64</td>\n",
       "      <td>162.84</td>\n",
       "      <td>16.28</td>\n",
       "      <td>NaN</td>\n",
       "      <td>NaN</td>\n",
       "      <td>NaN</td>\n",
       "      <td>NaN</td>\n",
       "    </tr>\n",
       "    <tr>\n",
       "      <th>...</th>\n",
       "      <td>...</td>\n",
       "      <td>...</td>\n",
       "      <td>...</td>\n",
       "      <td>...</td>\n",
       "      <td>...</td>\n",
       "      <td>...</td>\n",
       "      <td>...</td>\n",
       "      <td>...</td>\n",
       "      <td>...</td>\n",
       "      <td>...</td>\n",
       "      <td>...</td>\n",
       "      <td>...</td>\n",
       "      <td>...</td>\n",
       "      <td>...</td>\n",
       "      <td>...</td>\n",
       "      <td>...</td>\n",
       "      <td>...</td>\n",
       "      <td>...</td>\n",
       "      <td>...</td>\n",
       "      <td>...</td>\n",
       "      <td>...</td>\n",
       "    </tr>\n",
       "    <tr>\n",
       "      <th>145</th>\n",
       "      <td>False</td>\n",
       "      <td>True</td>\n",
       "      <td>True</td>\n",
       "      <td>18.0</td>\n",
       "      <td>13</td>\n",
       "      <td>638315</td>\n",
       "      <td>Chicken Sausage, White Bean and Cabbage Soup</td>\n",
       "      <td>196.23</td>\n",
       "      <td>45</td>\n",
       "      <td>6</td>\n",
       "      <td>...</td>\n",
       "      <td>0.53</td>\n",
       "      <td>2.67</td>\n",
       "      <td>0.15</td>\n",
       "      <td>10.23</td>\n",
       "      <td>102.67</td>\n",
       "      <td>10.27</td>\n",
       "      <td>NaN</td>\n",
       "      <td>NaN</td>\n",
       "      <td>NaN</td>\n",
       "      <td>NaN</td>\n",
       "    </tr>\n",
       "    <tr>\n",
       "      <th>146</th>\n",
       "      <td>True</td>\n",
       "      <td>False</td>\n",
       "      <td>False</td>\n",
       "      <td>1.0</td>\n",
       "      <td>2</td>\n",
       "      <td>656248</td>\n",
       "      <td>Pinot Noir Brownies</td>\n",
       "      <td>65.76</td>\n",
       "      <td>45</td>\n",
       "      <td>16</td>\n",
       "      <td>...</td>\n",
       "      <td>0.21</td>\n",
       "      <td>1.07</td>\n",
       "      <td>0.03</td>\n",
       "      <td>1.68</td>\n",
       "      <td>19.82</td>\n",
       "      <td>1.98</td>\n",
       "      <td>2.48</td>\n",
       "      <td>13.76</td>\n",
       "      <td>10.69</td>\n",
       "      <td>3.56</td>\n",
       "    </tr>\n",
       "    <tr>\n",
       "      <th>147</th>\n",
       "      <td>True</td>\n",
       "      <td>True</td>\n",
       "      <td>True</td>\n",
       "      <td>93.0</td>\n",
       "      <td>2</td>\n",
       "      <td>637297</td>\n",
       "      <td>Cauliflower Chickpea Stew</td>\n",
       "      <td>139.28</td>\n",
       "      <td>45</td>\n",
       "      <td>4</td>\n",
       "      <td>...</td>\n",
       "      <td>4.77</td>\n",
       "      <td>23.83</td>\n",
       "      <td>0.45</td>\n",
       "      <td>29.70</td>\n",
       "      <td>141.16</td>\n",
       "      <td>14.12</td>\n",
       "      <td>NaN</td>\n",
       "      <td>NaN</td>\n",
       "      <td>NaN</td>\n",
       "      <td>NaN</td>\n",
       "    </tr>\n",
       "    <tr>\n",
       "      <th>148</th>\n",
       "      <td>True</td>\n",
       "      <td>True</td>\n",
       "      <td>False</td>\n",
       "      <td>5.0</td>\n",
       "      <td>1</td>\n",
       "      <td>659412</td>\n",
       "      <td>Sautéed Balsamic Green Beans With Cherry Tomatoes</td>\n",
       "      <td>101.81</td>\n",
       "      <td>45</td>\n",
       "      <td>4</td>\n",
       "      <td>...</td>\n",
       "      <td>1.15</td>\n",
       "      <td>5.73</td>\n",
       "      <td>0.12</td>\n",
       "      <td>7.85</td>\n",
       "      <td>55.64</td>\n",
       "      <td>5.56</td>\n",
       "      <td>NaN</td>\n",
       "      <td>NaN</td>\n",
       "      <td>NaN</td>\n",
       "      <td>NaN</td>\n",
       "    </tr>\n",
       "    <tr>\n",
       "      <th>149</th>\n",
       "      <td>True</td>\n",
       "      <td>True</td>\n",
       "      <td>True</td>\n",
       "      <td>100.0</td>\n",
       "      <td>4</td>\n",
       "      <td>647875</td>\n",
       "      <td>Indian-Style Dill and Turmeric Potato Salad</td>\n",
       "      <td>117.24</td>\n",
       "      <td>30</td>\n",
       "      <td>4</td>\n",
       "      <td>...</td>\n",
       "      <td>0.21</td>\n",
       "      <td>1.05</td>\n",
       "      <td>NaN</td>\n",
       "      <td>NaN</td>\n",
       "      <td>27.96</td>\n",
       "      <td>2.80</td>\n",
       "      <td>NaN</td>\n",
       "      <td>NaN</td>\n",
       "      <td>NaN</td>\n",
       "      <td>NaN</td>\n",
       "    </tr>\n",
       "  </tbody>\n",
       "</table>\n",
       "<p>150 rows × 77 columns</p>\n",
       "</div>"
      ],
      "text/plain": [
       "     vegetarian  glutenFree  dairyFree  healthScore  aggregateLikes  RecipeId  \\\n",
       "0          True        True       True          1.0               3    633998   \n",
       "1          True        True      False          0.0               1    634426   \n",
       "2         False       False      False          3.0               1    635085   \n",
       "3          True       False       True          2.0               1    663229   \n",
       "4         False        True      False         31.0               3    651437   \n",
       "..          ...         ...        ...          ...             ...       ...   \n",
       "145       False        True       True         18.0              13    638315   \n",
       "146        True       False      False          1.0               2    656248   \n",
       "147        True        True       True         93.0               2    637297   \n",
       "148        True        True      False          5.0               1    659412   \n",
       "149        True        True       True        100.0               4    647875   \n",
       "\n",
       "                                                 title  pricePerServing  \\\n",
       "0                            Banana Blueberry Pancakes            55.79   \n",
       "1              Basil and Orange Confit Compound Butter            15.07   \n",
       "2                             Black Bottom Banana Bars            78.85   \n",
       "3                  The Best Raw Chocolate Chip Cookies            54.64   \n",
       "4                  Mediterranean Spinach Artichoke Dip           115.26   \n",
       "..                                                 ...              ...   \n",
       "145       Chicken Sausage, White Bean and Cabbage Soup           196.23   \n",
       "146                                Pinot Noir Brownies            65.76   \n",
       "147                          Cauliflower Chickpea Stew           139.28   \n",
       "148  Sautéed Balsamic Green Beans With Cherry Tomatoes           101.81   \n",
       "149        Indian-Style Dill and Turmeric Potato Salad           117.24   \n",
       "\n",
       "     readyInMinutes  servings  ... VitaminB3Amount  \\\n",
       "0                45         8  ...            0.49   \n",
       "1                45        10  ...             NaN   \n",
       "2                45         5  ...            2.63   \n",
       "3                45        12  ...            0.65   \n",
       "4                45         8  ...            0.66   \n",
       "..              ...       ...  ...             ...   \n",
       "145              45         6  ...            0.53   \n",
       "146              45        16  ...            0.21   \n",
       "147              45         4  ...            4.77   \n",
       "148              45         4  ...            1.15   \n",
       "149              30         4  ...            0.21   \n",
       "\n",
       "     VitaminB3percentOfDailyNeed  VitaminB1Amount  \\\n",
       "0                           2.44             0.03   \n",
       "1                            NaN              NaN   \n",
       "2                          13.13             0.32   \n",
       "3                           3.26             0.10   \n",
       "4                           3.29             0.07   \n",
       "..                           ...              ...   \n",
       "145                         2.67             0.15   \n",
       "146                         1.07             0.03   \n",
       "147                        23.83             0.45   \n",
       "148                         5.73             0.12   \n",
       "149                         1.05              NaN   \n",
       "\n",
       "     VitaminB1percentOfDailyNeed  CalciumAmount  CalciumpercentOfDailyNeed  \\\n",
       "0                           2.26          18.11                       1.81   \n",
       "1                            NaN            NaN                        NaN   \n",
       "2                          21.09         100.80                      10.08   \n",
       "3                           6.47          26.79                       2.68   \n",
       "4                           4.64         162.84                      16.28   \n",
       "..                           ...            ...                        ...   \n",
       "145                        10.23         102.67                      10.27   \n",
       "146                         1.68          19.82                       1.98   \n",
       "147                        29.70         141.16                      14.12   \n",
       "148                         7.85          55.64                       5.56   \n",
       "149                          NaN          27.96                       2.80   \n",
       "\n",
       "     AlcoholAmount  AlcoholpercentOfDailyNeed  CaffeineAmount  \\\n",
       "0              NaN                        NaN             NaN   \n",
       "1              NaN                        NaN             NaN   \n",
       "2             0.28                       1.53            9.89   \n",
       "3              NaN                        NaN             NaN   \n",
       "4              NaN                        NaN             NaN   \n",
       "..             ...                        ...             ...   \n",
       "145            NaN                        NaN             NaN   \n",
       "146           2.48                      13.76           10.69   \n",
       "147            NaN                        NaN             NaN   \n",
       "148            NaN                        NaN             NaN   \n",
       "149            NaN                        NaN             NaN   \n",
       "\n",
       "     CaffeinepercentOfDailyNeed  \n",
       "0                           NaN  \n",
       "1                           NaN  \n",
       "2                          3.30  \n",
       "3                           NaN  \n",
       "4                           NaN  \n",
       "..                          ...  \n",
       "145                         NaN  \n",
       "146                        3.56  \n",
       "147                         NaN  \n",
       "148                         NaN  \n",
       "149                         NaN  \n",
       "\n",
       "[150 rows x 77 columns]"
      ]
     },
     "execution_count": 27,
     "metadata": {},
     "output_type": "execute_result"
    }
   ],
   "source": [
    "df = df.rename(columns={\"id\":\"RecipeId\"})\n",
    "df.drop(\"veryHealthy\", axis=1,inplace=True)\n",
    "df"
   ]
  },
  {
   "cell_type": "markdown",
   "metadata": {},
   "source": [
    "#### Some questions to think of for yourself. Feel free to ask us if you are in doubt, we are open for a discussion! :)"
   ]
  },
  {
   "cell_type": "markdown",
   "metadata": {},
   "source": [
    "1. Are there any other columns in this dataset that you would consider a candidate for the index column? Why isn't is always a good idea to use a string as index?\n",
    "2. Take a closer look at arguments \"axis\" and \"inplace\" in functions drop(...) and rename(...). Maybe google for documentation if you are not sure what they mean.\n",
    "        What happens if you wanted to rename a column that is not there?\n",
    "        What happens if you set the argument inplace=True? "
   ]
  },
  {
   "cell_type": "code",
   "execution_count": null,
   "metadata": {},
   "outputs": [],
   "source": []
  },
  {
   "cell_type": "markdown",
   "metadata": {},
   "source": [
    "#### Import pandas library using alias pd."
   ]
  },
  {
   "cell_type": "code",
   "execution_count": 29,
   "metadata": {},
   "outputs": [],
   "source": [
    "import pandas as pd"
   ]
  },
  {
   "cell_type": "markdown",
   "metadata": {},
   "source": [
    "#### Load file recipes.csv from the data subfolder and store it in a variable df_ex1. Use the first column as index."
   ]
  },
  {
   "cell_type": "code",
   "execution_count": 31,
   "metadata": {},
   "outputs": [],
   "source": [
    "df_ex1 = pd.read_csv(\"data/Recipes.csv\", index_col=0)"
   ]
  },
  {
   "cell_type": "markdown",
   "metadata": {},
   "source": [
    "#### See if the 34th recipe on the list is vegetarian (remember the 0-based indexing!). Please do this in 4 different ways. Be careful with how .iloc and .loc handle things."
   ]
  },
  {
   "cell_type": "code",
   "execution_count": 32,
   "metadata": {},
   "outputs": [
    {
     "name": "stdout",
     "output_type": "stream",
     "text": [
      "vegetarian                     True\n",
      "glutenFree                     True\n",
      "dairyFree                      True\n",
      "veryHealthy                   False\n",
      "healthScore                    54.0\n",
      "                              ...  \n",
      "CalciumpercentOfDailyNeed     16.85\n",
      "AlcoholAmount                   NaN\n",
      "AlcoholpercentOfDailyNeed       NaN\n",
      "CaffeineAmount                  NaN\n",
      "CaffeinepercentOfDailyNeed      NaN\n",
      "Name: 33, Length: 78, dtype: object\n"
     ]
    }
   ],
   "source": [
    "print(df_ex1.iloc[33])"
   ]
  },
  {
   "cell_type": "code",
   "execution_count": 63,
   "metadata": {},
   "outputs": [
    {
     "data": {
      "text/plain": [
       "True"
      ]
     },
     "execution_count": 63,
     "metadata": {},
     "output_type": "execute_result"
    }
   ],
   "source": [
    "df_ex1.iloc[33,0]"
   ]
  },
  {
   "cell_type": "code",
   "execution_count": 48,
   "metadata": {},
   "outputs": [
    {
     "data": {
      "text/html": [
       "<div>\n",
       "<style scoped>\n",
       "    .dataframe tbody tr th:only-of-type {\n",
       "        vertical-align: middle;\n",
       "    }\n",
       "\n",
       "    .dataframe tbody tr th {\n",
       "        vertical-align: top;\n",
       "    }\n",
       "\n",
       "    .dataframe thead th {\n",
       "        text-align: right;\n",
       "    }\n",
       "</style>\n",
       "<table border=\"1\" class=\"dataframe\">\n",
       "  <thead>\n",
       "    <tr style=\"text-align: right;\">\n",
       "      <th></th>\n",
       "      <th>vegetarian</th>\n",
       "      <th>glutenFree</th>\n",
       "      <th>dairyFree</th>\n",
       "      <th>veryHealthy</th>\n",
       "      <th>healthScore</th>\n",
       "      <th>aggregateLikes</th>\n",
       "      <th>id</th>\n",
       "      <th>title</th>\n",
       "      <th>pricePerServing</th>\n",
       "      <th>readyInMinutes</th>\n",
       "      <th>...</th>\n",
       "      <th>VitaminB3Amount</th>\n",
       "      <th>VitaminB3percentOfDailyNeed</th>\n",
       "      <th>VitaminB1Amount</th>\n",
       "      <th>VitaminB1percentOfDailyNeed</th>\n",
       "      <th>CalciumAmount</th>\n",
       "      <th>CalciumpercentOfDailyNeed</th>\n",
       "      <th>AlcoholAmount</th>\n",
       "      <th>AlcoholpercentOfDailyNeed</th>\n",
       "      <th>CaffeineAmount</th>\n",
       "      <th>CaffeinepercentOfDailyNeed</th>\n",
       "    </tr>\n",
       "  </thead>\n",
       "  <tbody>\n",
       "    <tr>\n",
       "      <th>33</th>\n",
       "      <td>True</td>\n",
       "      <td>True</td>\n",
       "      <td>True</td>\n",
       "      <td>False</td>\n",
       "      <td>54.0</td>\n",
       "      <td>2</td>\n",
       "      <td>641443</td>\n",
       "      <td>Detox Orange Carrot Juice</td>\n",
       "      <td>104.27</td>\n",
       "      <td>45</td>\n",
       "      <td>...</td>\n",
       "      <td>2.65</td>\n",
       "      <td>13.26</td>\n",
       "      <td>0.35</td>\n",
       "      <td>23.48</td>\n",
       "      <td>168.53</td>\n",
       "      <td>16.85</td>\n",
       "      <td>NaN</td>\n",
       "      <td>NaN</td>\n",
       "      <td>NaN</td>\n",
       "      <td>NaN</td>\n",
       "    </tr>\n",
       "  </tbody>\n",
       "</table>\n",
       "<p>1 rows × 78 columns</p>\n",
       "</div>"
      ],
      "text/plain": [
       "    vegetarian  glutenFree  dairyFree  veryHealthy  healthScore  \\\n",
       "33        True        True       True        False         54.0   \n",
       "\n",
       "    aggregateLikes      id                      title  pricePerServing  \\\n",
       "33               2  641443  Detox Orange Carrot Juice           104.27   \n",
       "\n",
       "    readyInMinutes  ...  VitaminB3Amount VitaminB3percentOfDailyNeed  \\\n",
       "33              45  ...             2.65                       13.26   \n",
       "\n",
       "    VitaminB1Amount  VitaminB1percentOfDailyNeed  CalciumAmount  \\\n",
       "33             0.35                        23.48         168.53   \n",
       "\n",
       "    CalciumpercentOfDailyNeed  AlcoholAmount  AlcoholpercentOfDailyNeed  \\\n",
       "33                      16.85            NaN                        NaN   \n",
       "\n",
       "    CaffeineAmount  CaffeinepercentOfDailyNeed  \n",
       "33             NaN                         NaN  \n",
       "\n",
       "[1 rows x 78 columns]"
      ]
     },
     "execution_count": 48,
     "metadata": {},
     "output_type": "execute_result"
    }
   ],
   "source": [
    "df_ex1.iloc[33:34,:]"
   ]
  },
  {
   "cell_type": "code",
   "execution_count": 49,
   "metadata": {},
   "outputs": [
    {
     "data": {
      "text/plain": [
       "True"
      ]
     },
     "execution_count": 49,
     "metadata": {},
     "output_type": "execute_result"
    }
   ],
   "source": [
    "df_ex1.loc[33, \"vegetarian\"]"
   ]
  },
  {
   "cell_type": "code",
   "execution_count": 50,
   "metadata": {},
   "outputs": [
    {
     "data": {
      "text/plain": [
       "True"
      ]
     },
     "execution_count": 50,
     "metadata": {},
     "output_type": "execute_result"
    }
   ],
   "source": [
    "df_ex1.vegetarian[33]\n",
    "#df_ex1.title[33]"
   ]
  },
  {
   "cell_type": "markdown",
   "metadata": {
    "tags": []
   },
   "source": [
    "#### Choose columns with the following info and in the following order: title, price and if it is vegetarian"
   ]
  },
  {
   "cell_type": "code",
   "execution_count": 58,
   "metadata": {},
   "outputs": [
    {
     "data": {
      "text/html": [
       "<div>\n",
       "<style scoped>\n",
       "    .dataframe tbody tr th:only-of-type {\n",
       "        vertical-align: middle;\n",
       "    }\n",
       "\n",
       "    .dataframe tbody tr th {\n",
       "        vertical-align: top;\n",
       "    }\n",
       "\n",
       "    .dataframe thead th {\n",
       "        text-align: right;\n",
       "    }\n",
       "</style>\n",
       "<table border=\"1\" class=\"dataframe\">\n",
       "  <thead>\n",
       "    <tr style=\"text-align: right;\">\n",
       "      <th></th>\n",
       "      <th>title</th>\n",
       "      <th>pricePerServing</th>\n",
       "      <th>vegetarian</th>\n",
       "    </tr>\n",
       "  </thead>\n",
       "  <tbody>\n",
       "    <tr>\n",
       "      <th>0</th>\n",
       "      <td>Banana Blueberry Pancakes</td>\n",
       "      <td>55.79</td>\n",
       "      <td>True</td>\n",
       "    </tr>\n",
       "    <tr>\n",
       "      <th>1</th>\n",
       "      <td>Basil and Orange Confit Compound Butter</td>\n",
       "      <td>15.07</td>\n",
       "      <td>True</td>\n",
       "    </tr>\n",
       "    <tr>\n",
       "      <th>2</th>\n",
       "      <td>Black Bottom Banana Bars</td>\n",
       "      <td>78.85</td>\n",
       "      <td>False</td>\n",
       "    </tr>\n",
       "    <tr>\n",
       "      <th>3</th>\n",
       "      <td>The Best Raw Chocolate Chip Cookies</td>\n",
       "      <td>54.64</td>\n",
       "      <td>True</td>\n",
       "    </tr>\n",
       "    <tr>\n",
       "      <th>4</th>\n",
       "      <td>Mediterranean Spinach Artichoke Dip</td>\n",
       "      <td>115.26</td>\n",
       "      <td>False</td>\n",
       "    </tr>\n",
       "    <tr>\n",
       "      <th>...</th>\n",
       "      <td>...</td>\n",
       "      <td>...</td>\n",
       "      <td>...</td>\n",
       "    </tr>\n",
       "    <tr>\n",
       "      <th>145</th>\n",
       "      <td>Chicken Sausage, White Bean and Cabbage Soup</td>\n",
       "      <td>196.23</td>\n",
       "      <td>False</td>\n",
       "    </tr>\n",
       "    <tr>\n",
       "      <th>146</th>\n",
       "      <td>Pinot Noir Brownies</td>\n",
       "      <td>65.76</td>\n",
       "      <td>True</td>\n",
       "    </tr>\n",
       "    <tr>\n",
       "      <th>147</th>\n",
       "      <td>Cauliflower Chickpea Stew</td>\n",
       "      <td>139.28</td>\n",
       "      <td>True</td>\n",
       "    </tr>\n",
       "    <tr>\n",
       "      <th>148</th>\n",
       "      <td>Sautéed Balsamic Green Beans With Cherry Tomatoes</td>\n",
       "      <td>101.81</td>\n",
       "      <td>True</td>\n",
       "    </tr>\n",
       "    <tr>\n",
       "      <th>149</th>\n",
       "      <td>Indian-Style Dill and Turmeric Potato Salad</td>\n",
       "      <td>117.24</td>\n",
       "      <td>True</td>\n",
       "    </tr>\n",
       "  </tbody>\n",
       "</table>\n",
       "<p>150 rows × 3 columns</p>\n",
       "</div>"
      ],
      "text/plain": [
       "                                                 title  pricePerServing  \\\n",
       "0                            Banana Blueberry Pancakes            55.79   \n",
       "1              Basil and Orange Confit Compound Butter            15.07   \n",
       "2                             Black Bottom Banana Bars            78.85   \n",
       "3                  The Best Raw Chocolate Chip Cookies            54.64   \n",
       "4                  Mediterranean Spinach Artichoke Dip           115.26   \n",
       "..                                                 ...              ...   \n",
       "145       Chicken Sausage, White Bean and Cabbage Soup           196.23   \n",
       "146                                Pinot Noir Brownies            65.76   \n",
       "147                          Cauliflower Chickpea Stew           139.28   \n",
       "148  Sautéed Balsamic Green Beans With Cherry Tomatoes           101.81   \n",
       "149        Indian-Style Dill and Turmeric Potato Salad           117.24   \n",
       "\n",
       "     vegetarian  \n",
       "0          True  \n",
       "1          True  \n",
       "2         False  \n",
       "3          True  \n",
       "4         False  \n",
       "..          ...  \n",
       "145       False  \n",
       "146        True  \n",
       "147        True  \n",
       "148        True  \n",
       "149        True  \n",
       "\n",
       "[150 rows x 3 columns]"
      ]
     },
     "execution_count": 58,
     "metadata": {},
     "output_type": "execute_result"
    }
   ],
   "source": [
    "#df_ex1.columns\n",
    "df_ex1.loc[:, [\"title\", \"pricePerServing\", \"vegetarian\"]]"
   ]
  },
  {
   "cell_type": "markdown",
   "metadata": {
    "tags": []
   },
   "source": [
    "#### And now the same for recipes number from 24 to 29"
   ]
  },
  {
   "cell_type": "code",
   "execution_count": 59,
   "metadata": {},
   "outputs": [
    {
     "data": {
      "text/html": [
       "<div>\n",
       "<style scoped>\n",
       "    .dataframe tbody tr th:only-of-type {\n",
       "        vertical-align: middle;\n",
       "    }\n",
       "\n",
       "    .dataframe tbody tr th {\n",
       "        vertical-align: top;\n",
       "    }\n",
       "\n",
       "    .dataframe thead th {\n",
       "        text-align: right;\n",
       "    }\n",
       "</style>\n",
       "<table border=\"1\" class=\"dataframe\">\n",
       "  <thead>\n",
       "    <tr style=\"text-align: right;\">\n",
       "      <th></th>\n",
       "      <th>title</th>\n",
       "      <th>pricePerServing</th>\n",
       "      <th>vegetarian</th>\n",
       "    </tr>\n",
       "  </thead>\n",
       "  <tbody>\n",
       "    <tr>\n",
       "      <th>23</th>\n",
       "      <td>Blueberry Compote Bread Pudding With Soft Curd...</td>\n",
       "      <td>270.38</td>\n",
       "      <td>True</td>\n",
       "    </tr>\n",
       "    <tr>\n",
       "      <th>24</th>\n",
       "      <td>Green Beans with Garlic Chips</td>\n",
       "      <td>83.90</td>\n",
       "      <td>True</td>\n",
       "    </tr>\n",
       "    <tr>\n",
       "      <th>25</th>\n",
       "      <td>Pandan Thumbprint Biscuits</td>\n",
       "      <td>54.26</td>\n",
       "      <td>False</td>\n",
       "    </tr>\n",
       "    <tr>\n",
       "      <th>26</th>\n",
       "      <td>Lamb Moussaka</td>\n",
       "      <td>528.50</td>\n",
       "      <td>False</td>\n",
       "    </tr>\n",
       "    <tr>\n",
       "      <th>27</th>\n",
       "      <td>Easy Eggplant Parmesan</td>\n",
       "      <td>195.51</td>\n",
       "      <td>True</td>\n",
       "    </tr>\n",
       "    <tr>\n",
       "      <th>28</th>\n",
       "      <td>Peach Pie</td>\n",
       "      <td>173.52</td>\n",
       "      <td>True</td>\n",
       "    </tr>\n",
       "  </tbody>\n",
       "</table>\n",
       "</div>"
      ],
      "text/plain": [
       "                                                title  pricePerServing  \\\n",
       "23  Blueberry Compote Bread Pudding With Soft Curd...           270.38   \n",
       "24                      Green Beans with Garlic Chips            83.90   \n",
       "25                         Pandan Thumbprint Biscuits            54.26   \n",
       "26                                      Lamb Moussaka           528.50   \n",
       "27                             Easy Eggplant Parmesan           195.51   \n",
       "28                                          Peach Pie           173.52   \n",
       "\n",
       "    vegetarian  \n",
       "23        True  \n",
       "24        True  \n",
       "25       False  \n",
       "26       False  \n",
       "27        True  \n",
       "28        True  "
      ]
     },
     "execution_count": 59,
     "metadata": {},
     "output_type": "execute_result"
    }
   ],
   "source": [
    "df_ex1.loc[23:28, [\"title\", \"pricePerServing\", \"vegetarian\"]]"
   ]
  },
  {
   "cell_type": "markdown",
   "metadata": {},
   "source": [
    "#### Play with some slicing and accesing. Do you understand the result that you obtain from different trials? Please feel free to ask us about what you see! :)"
   ]
  },
  {
   "cell_type": "code",
   "execution_count": null,
   "metadata": {},
   "outputs": [],
   "source": []
  },
  {
   "cell_type": "markdown",
   "metadata": {},
   "source": [
    "#### Notice which slicing methods are inclusive and which of them are exclusive. Try to figure your favourite way of accesing / slicing and remember that sometimes some of them make more sense than the others. "
   ]
  },
  {
   "cell_type": "code",
   "execution_count": null,
   "metadata": {},
   "outputs": [],
   "source": []
  },
  {
   "cell_type": "markdown",
   "metadata": {},
   "source": [
    "### Class-exercise 2"
   ]
  },
  {
   "cell_type": "code",
   "execution_count": 65,
   "metadata": {},
   "outputs": [],
   "source": [
    "import numpy as np"
   ]
  },
  {
   "cell_type": "markdown",
   "metadata": {},
   "source": [
    "1. Create a 2-d and 3-d numpy integer array "
   ]
  },
  {
   "cell_type": "code",
   "execution_count": 60,
   "metadata": {},
   "outputs": [
    {
     "data": {
      "text/plain": [
       "numpy.ndarray"
      ]
     },
     "execution_count": 60,
     "metadata": {},
     "output_type": "execute_result"
    }
   ],
   "source": [
    "type(df_ex1.values)"
   ]
  },
  {
   "cell_type": "code",
   "execution_count": 10,
   "metadata": {},
   "outputs": [
    {
     "data": {
      "text/plain": [
       "array([[1, 2],\n",
       "       [3, 4],\n",
       "       [5, 6],\n",
       "       [7, 8]], dtype=int32)"
      ]
     },
     "execution_count": 10,
     "metadata": {},
     "output_type": "execute_result"
    }
   ],
   "source": [
    "new2D_list = np.array([[1, 2], \n",
    "                        [3, 4],\n",
    "                        [5,6],\n",
    "                       [7,8]], dtype=\"i\") \n",
    "#new2D_list.shape\n",
    "new2D_list\n",
    "#print(new2D_list.ndim)\n"
   ]
  },
  {
   "cell_type": "code",
   "execution_count": 11,
   "metadata": {},
   "outputs": [
    {
     "data": {
      "text/plain": [
       "3"
      ]
     },
     "execution_count": 11,
     "metadata": {},
     "output_type": "execute_result"
    }
   ],
   "source": [
    "new3D_list = np.array([[[ 0 , 1,  2],\n",
    "   [ 4 , 5,  6 ],\n",
    "   [ 8,  9, 10]],\n",
    "   [[12 ,13, 14],\n",
    "[16, 17, 18],\n",
    "   [20 ,21, 22 ]]],dtype=\"i\")\n",
    "#new3D_list.shape\n",
    "new3D_list.ndim"
   ]
  },
  {
   "cell_type": "markdown",
   "metadata": {},
   "source": [
    "2. Create a 2X2 integer array and show it's dimensions"
   ]
  },
  {
   "cell_type": "code",
   "execution_count": 13,
   "metadata": {},
   "outputs": [
    {
     "data": {
      "text/plain": [
       "(2, 2)"
      ]
     },
     "execution_count": 13,
     "metadata": {},
     "output_type": "execute_result"
    }
   ],
   "source": [
    "new2D = np.array([[1, 2], \n",
    "                        [3, 4]],dtype=\"i\")\n",
    "new2D.shape"
   ]
  },
  {
   "cell_type": "markdown",
   "metadata": {},
   "source": [
    "3. Create a numpy array and  print the sum of third and fourth elements from the array "
   ]
  },
  {
   "cell_type": "code",
   "execution_count": 27,
   "metadata": {},
   "outputs": [
    {
     "data": {
      "text/plain": [
       "30"
      ]
     },
     "execution_count": 27,
     "metadata": {},
     "output_type": "execute_result"
    }
   ],
   "source": [
    "b = np.array([10, 15, 13, 17, 5])\n",
    "#b[2:4]\n",
    "sumofno = np.sum(b[2:4])\n",
    "sumofno"
   ]
  },
  {
   "cell_type": "markdown",
   "metadata": {},
   "source": [
    "4. Slice the below array to get the the second item to the excluding fifth item\n",
    "\n",
    "arr = np.array([10, 15, 20, 25, 30, 35, 40])"
   ]
  },
  {
   "cell_type": "code",
   "execution_count": 16,
   "metadata": {},
   "outputs": [
    {
     "data": {
      "text/plain": [
       "array([15, 20, 25])"
      ]
     },
     "execution_count": 16,
     "metadata": {},
     "output_type": "execute_result"
    }
   ],
   "source": [
    "arr = np.array([10, 15, 20, 25, 30, 35, 40])\n",
    "arr[1:4]"
   ]
  },
  {
   "cell_type": "markdown",
   "metadata": {},
   "source": [
    "5. Try example 4. using STEP method"
   ]
  },
  {
   "cell_type": "code",
   "execution_count": null,
   "metadata": {},
   "outputs": [
    {
     "name": "stdout",
     "output_type": "stream",
     "text": [
      "[15 20 25]\n"
     ]
    }
   ],
   "source": [
    "print(arr[1:4:1])"
   ]
  },
  {
   "cell_type": "markdown",
   "metadata": {},
   "source": [
    "6. Create a integer array and change data type from integer to boolean\n",
    "\n"
   ]
  },
  {
   "cell_type": "code",
   "execution_count": 37,
   "metadata": {},
   "outputs": [
    {
     "data": {
      "text/plain": [
       "array([ True,  True,  True,  True,  True, False])"
      ]
     },
     "execution_count": 37,
     "metadata": {},
     "output_type": "execute_result"
    }
   ],
   "source": [
    "x=np.array([0,1,0,1,2,3],dtype=int)\n",
    "y = 2 >= x\n",
    "y\n",
    "#y.dtype\n",
    "#1*y                      # Method 1\n",
    "#y.astype(int)            # Method 2\n"
   ]
  },
  {
   "cell_type": "markdown",
   "metadata": {},
   "source": [
    "7. Use NumPy syntax to check the shape of an array.\n",
    "\n",
    "arr = np.array([1, 2, 3, 4, 5])"
   ]
  },
  {
   "cell_type": "code",
   "execution_count": 41,
   "metadata": {},
   "outputs": [
    {
     "data": {
      "text/plain": [
       "(5,)"
      ]
     },
     "execution_count": 41,
     "metadata": {},
     "output_type": "execute_result"
    }
   ],
   "source": [
    "arr = np.array([1, 2, 3, 4, 5])\n",
    "np.shape(arr)"
   ]
  },
  {
   "cell_type": "markdown",
   "metadata": {},
   "source": [
    "8. Find the indexes where the values are even:\n",
    "\n",
    "arr = [16, 8, 3, 7, 15, 24]"
   ]
  },
  {
   "cell_type": "code",
   "execution_count": 47,
   "metadata": {},
   "outputs": [
    {
     "name": "stdout",
     "output_type": "stream",
     "text": [
      "IndiXes of elements where the values are even\n"
     ]
    },
    {
     "data": {
      "text/plain": [
       "(array([0, 1, 5], dtype=int64),)"
      ]
     },
     "execution_count": 47,
     "metadata": {},
     "output_type": "execute_result"
    }
   ],
   "source": [
    "arr = [16, 8, 3, 7, 15, 24]\n",
    "b = np.array(arr)\n",
    "print ('IndiXes of elements where the values are even')\n",
    "np.where(b % 2 == 0)"
   ]
  },
  {
   "cell_type": "markdown",
   "metadata": {},
   "source": [
    "9. Create a numpy array of 5 person names and sort the values alpbabetically"
   ]
  },
  {
   "cell_type": "code",
   "execution_count": 55,
   "metadata": {},
   "outputs": [
    {
     "name": "stdout",
     "output_type": "stream",
     "text": [
      "['Halla' 'Kavi' 'Leo' 'Puja' 'Silvina']\n"
     ]
    }
   ],
   "source": [
    "names=[\"Kavi\",\"Halla\",\"Silvina\",\"Puja\",\"Leo\"]\n",
    "namearr= np.array(names)\n",
    "namearr\n",
    "print(np.sort(namearr))"
   ]
  },
  {
   "cell_type": "markdown",
   "metadata": {},
   "source": [
    "10. Use the correct NumPy method to return a sorted array.\n",
    "\n",
    "  arr = np.array([3, 2, 0, 1])"
   ]
  },
  {
   "cell_type": "code",
   "execution_count": 42,
   "metadata": {},
   "outputs": [
    {
     "name": "stdout",
     "output_type": "stream",
     "text": [
      "[0 1 2 3]\n"
     ]
    }
   ],
   "source": [
    "arr = np.array([3, 2, 0, 1])\n",
    "print(np.sort(arr))"
   ]
  }
 ],
 "metadata": {
  "kernelspec": {
   "display_name": "Python 3 (ipykernel)",
   "language": "python",
   "name": "python3"
  },
  "language_info": {
   "codemirror_mode": {
    "name": "ipython",
    "version": 3
   },
   "file_extension": ".py",
   "mimetype": "text/x-python",
   "name": "python",
   "nbconvert_exporter": "python",
   "pygments_lexer": "ipython3",
   "version": "3.9.7"
  }
 },
 "nbformat": 4,
 "nbformat_minor": 4
}
