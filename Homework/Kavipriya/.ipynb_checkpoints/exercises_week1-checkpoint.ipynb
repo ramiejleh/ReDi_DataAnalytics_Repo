{
 "cells": [
  {
   "cell_type": "markdown",
<<<<<<< Updated upstream:Homework/Kavipriya/exercises_week1.ipynb
   "id": "71d6b9c3",
=======
   "id": "aa682086",
>>>>>>> Stashed changes:Homework/Kavipriya/.ipynb_checkpoints/exercises_week1-checkpoint.ipynb
   "metadata": {},
   "source": [
    "# Exercises week 1"
   ]
  },
  {
   "cell_type": "markdown",
<<<<<<< Updated upstream:Homework/Kavipriya/exercises_week1.ipynb
   "id": "f71f3864",
=======
   "id": "2b42a05e",
>>>>>>> Stashed changes:Homework/Kavipriya/.ipynb_checkpoints/exercises_week1-checkpoint.ipynb
   "metadata": {},
   "source": [
    "## Beginner exercises"
   ]
  },
  {
   "cell_type": "markdown",
<<<<<<< Updated upstream:Homework/Kavipriya/exercises_week1.ipynb
   "id": "2cfac9dc",
=======
   "id": "f608af94",
>>>>>>> Stashed changes:Homework/Kavipriya/.ipynb_checkpoints/exercises_week1-checkpoint.ipynb
   "metadata": {},
   "source": [
    "**Ex 1**: In the cell below, write a short text that demonstrates that you can\n",
    "* Create a section with a heading\n",
    "* Write words in bold and italics\n",
    "* Establish a [hyperlink](https://en.wikipedia.org/wiki/Hyperlink)\n"
   ]
  },
  {
   "cell_type": "code",
   "execution_count": 12,
   "id": "b4545216-7d78-4339-a5d2-f5c2f7768d33",
   "metadata": {},
   "outputs": [
    {
     "name": "stdout",
     "output_type": "stream",
     "text": [
      "\u001b[3m\u001b[1mKavipriya\u001b[0m\n"
     ]
    },
    {
     "data": {
      "text/plain": [
       "'<a href=\"https://en.wikipedia.org/wiki/Hyperlink\">linky text</a>'"
      ]
     },
     "execution_count": 12,
     "metadata": {},
     "output_type": "execute_result"
    }
   ],
   "source": [
    "bold = '\\033[1m'\n",
    "italics = '\\033[3m'\n",
    "end = '\\033[0m'\n",
    "print (italics + bold + 'Kavipriya' + end)\n",
    "hyperlink_format = '<a href=\"{link}\">{text}</a>'\n",
    "hyperlink_format.format(link='https://en.wikipedia.org/wiki/Hyperlink', text='linky text')\n",
    "'<a href=\"https://en.wikipedia.org/wiki/Hyperlink\">linky text</a>'\n"
   ]
  },
  {
   "cell_type": "markdown",
<<<<<<< Updated upstream:Homework/Kavipriya/exercises_week1.ipynb
   "id": "eb2c6979",
=======
   "id": "ebd015d0",
>>>>>>> Stashed changes:Homework/Kavipriya/.ipynb_checkpoints/exercises_week1-checkpoint.ipynb
   "metadata": {},
   "source": [
    "**Ex 2** Calculate the remainder of the division of 18 by 7. "
   ]
  },
  {
   "cell_type": "code",
<<<<<<< Updated upstream:Homework/Kavipriya/exercises_week1.ipynb
   "execution_count": 2,
   "id": "8c5488a7",
=======
   "execution_count": null,
   "id": "edad625c",
>>>>>>> Stashed changes:Homework/Kavipriya/.ipynb_checkpoints/exercises_week1-checkpoint.ipynb
   "metadata": {},
   "outputs": [
    {
     "data": {
      "text/plain": [
       "4"
      ]
     },
     "execution_count": 2,
     "metadata": {},
     "output_type": "execute_result"
    }
   ],
   "source": [
    "18%7"
   ]
  },
  {
   "cell_type": "markdown",
<<<<<<< Updated upstream:Homework/Kavipriya/exercises_week1.ipynb
   "id": "a98ef63f",
=======
   "id": "329ba04d",
>>>>>>> Stashed changes:Homework/Kavipriya/.ipynb_checkpoints/exercises_week1-checkpoint.ipynb
   "metadata": {},
   "source": [
    "**Ex 3** Calcuate 3 to the power of 4; i.e. $3^4$"
   ]
  },
  {
   "cell_type": "code",
<<<<<<< Updated upstream:Homework/Kavipriya/exercises_week1.ipynb
   "execution_count": 3,
   "id": "14b077a0",
=======
   "execution_count": null,
   "id": "344484f1",
>>>>>>> Stashed changes:Homework/Kavipriya/.ipynb_checkpoints/exercises_week1-checkpoint.ipynb
   "metadata": {},
   "outputs": [
    {
     "data": {
      "text/plain": [
       "81"
      ]
     },
     "execution_count": 3,
     "metadata": {},
     "output_type": "execute_result"
    }
   ],
   "source": [
    "3**4"
   ]
  },
  {
   "cell_type": "markdown",
<<<<<<< Updated upstream:Homework/Kavipriya/exercises_week1.ipynb
   "id": "1fa144ce",
=======
   "id": "f80d7c61",
>>>>>>> Stashed changes:Homework/Kavipriya/.ipynb_checkpoints/exercises_week1-checkpoint.ipynb
   "metadata": {},
   "source": [
    "**Ex 4** Calculate the square root of 49"
   ]
  },
  {
   "cell_type": "code",
<<<<<<< Updated upstream:Homework/Kavipriya/exercises_week1.ipynb
   "execution_count": 1,
   "id": "6f90519e",
=======
   "execution_count": null,
   "id": "dce6ec09",
>>>>>>> Stashed changes:Homework/Kavipriya/.ipynb_checkpoints/exercises_week1-checkpoint.ipynb
   "metadata": {},
   "outputs": [
    {
     "data": {
      "text/plain": [
       "7.0"
      ]
     },
     "execution_count": 1,
     "metadata": {},
     "output_type": "execute_result"
    }
   ],
   "source": [
    "import math\n",
    "math.sqrt(49)"
   ]
  },
  {
   "cell_type": "markdown",
<<<<<<< Updated upstream:Homework/Kavipriya/exercises_week1.ipynb
   "id": "f9abb795",
=======
   "id": "98c90ab0",
>>>>>>> Stashed changes:Homework/Kavipriya/.ipynb_checkpoints/exercises_week1-checkpoint.ipynb
   "metadata": {},
   "source": [
    "**Ex 5** Convert the following string to a float and round it to the nearest 3 digits after the decimal"
   ]
  },
  {
   "cell_type": "code",
<<<<<<< Updated upstream:Homework/Kavipriya/exercises_week1.ipynb
   "execution_count": 5,
   "id": "014ec059",
=======
   "execution_count": 148,
   "id": "dc6b5f95",
>>>>>>> Stashed changes:Homework/Kavipriya/.ipynb_checkpoints/exercises_week1-checkpoint.ipynb
   "metadata": {},
   "outputs": [
    {
     "data": {
      "text/plain": [
       "3.142"
      ]
     },
     "execution_count": 5,
     "metadata": {},
     "output_type": "execute_result"
    }
   ],
   "source": [
    "pi = \"3.14159265\"\n",
    "f=float(pi)\n",
    "round(f,3)"
   ]
  },
  {
   "cell_type": "markdown",
<<<<<<< Updated upstream:Homework/Kavipriya/exercises_week1.ipynb
   "id": "53149198",
=======
   "id": "4ccf2f1f",
>>>>>>> Stashed changes:Homework/Kavipriya/.ipynb_checkpoints/exercises_week1-checkpoint.ipynb
   "metadata": {},
   "source": [
    "**Ex 6** **Convert** the variable number=4.9 to an integer"
   ]
  },
  {
   "cell_type": "code",
<<<<<<< Updated upstream:Homework/Kavipriya/exercises_week1.ipynb
   "execution_count": 6,
   "id": "be5e7b0f",
=======
   "execution_count": null,
   "id": "2eec0a54",
>>>>>>> Stashed changes:Homework/Kavipriya/.ipynb_checkpoints/exercises_week1-checkpoint.ipynb
   "metadata": {},
   "outputs": [
    {
     "data": {
      "text/plain": [
       "4"
      ]
     },
     "execution_count": 6,
     "metadata": {},
     "output_type": "execute_result"
    }
   ],
   "source": [
    "int(4.9)"
   ]
  },
  {
   "cell_type": "markdown",
<<<<<<< Updated upstream:Homework/Kavipriya/exercises_week1.ipynb
   "id": "71c2ac2c",
=======
   "id": "b21741f1",
>>>>>>> Stashed changes:Homework/Kavipriya/.ipynb_checkpoints/exercises_week1-checkpoint.ipynb
   "metadata": {},
   "source": [
    "**Ex 7** Now round number=4.9 to the **nearest** integer. What is the difference between the converted number of the previous exercise and this exercise?"
   ]
  },
  {
   "cell_type": "code",
<<<<<<< Updated upstream:Homework/Kavipriya/exercises_week1.ipynb
   "execution_count": 7,
   "id": "0c55f0eb",
=======
   "execution_count": null,
   "id": "54001c2d",
>>>>>>> Stashed changes:Homework/Kavipriya/.ipynb_checkpoints/exercises_week1-checkpoint.ipynb
   "metadata": {},
   "outputs": [
    {
     "data": {
      "text/plain": [
       "5.0"
      ]
     },
     "execution_count": 7,
     "metadata": {},
     "output_type": "execute_result"
    }
   ],
   "source": [
    "round(4.9,0)"
   ]
  },
  {
   "cell_type": "markdown",
<<<<<<< Updated upstream:Homework/Kavipriya/exercises_week1.ipynb
   "id": "3f5521d3",
=======
   "id": "3ec6b47e",
>>>>>>> Stashed changes:Homework/Kavipriya/.ipynb_checkpoints/exercises_week1-checkpoint.ipynb
   "metadata": {},
   "source": [
    "**Ex 8** Calculate the length of the following list (i.e. how many names are in the list) and print each of its values separated by a newline. The output of the print statement(s) should look like this: \\\n",
    "\n",
    "Miriam \n",
    "Tim\n",
    "Jing \n",
    "..."
   ]
  },
  {
   "cell_type": "code",
<<<<<<< Updated upstream:Homework/Kavipriya/exercises_week1.ipynb
   "execution_count": 8,
   "id": "38840b37",
=======
   "execution_count": 149,
   "id": "7d47ce58",
>>>>>>> Stashed changes:Homework/Kavipriya/.ipynb_checkpoints/exercises_week1-checkpoint.ipynb
   "metadata": {},
   "outputs": [
    {
     "name": "stdout",
     "output_type": "stream",
     "text": [
      "6\n",
      "Miriam\n",
      "Tim\n",
      "Jing\n",
      "Carlos\n",
      "Ruben\n",
      "Ashley\n"
     ]
    }
   ],
   "source": [
    "names = [\"Miriam\", \"Tim\", \"Jing\", \"Carlos\", \"Ruben\", \"Ashley\"]\n",
    "print(len(names))\n",
    "print(*names,sep='\\n')"
   ]
  },
  {
   "cell_type": "markdown",
<<<<<<< Updated upstream:Homework/Kavipriya/exercises_week1.ipynb
   "id": "5c6c9b1a",
=======
   "id": "50f670da",
>>>>>>> Stashed changes:Homework/Kavipriya/.ipynb_checkpoints/exercises_week1-checkpoint.ipynb
   "metadata": {},
   "source": [
    "**Ex 9** Add a list with the following new names to the previous list \\\n",
    "new_names = [\"Pablo\", \"Lise\"]"
   ]
  },
  {
   "cell_type": "code",
<<<<<<< Updated upstream:Homework/Kavipriya/exercises_week1.ipynb
   "execution_count": 9,
   "id": "51fa6a65",
=======
   "execution_count": null,
   "id": "6e3b2a4a",
>>>>>>> Stashed changes:Homework/Kavipriya/.ipynb_checkpoints/exercises_week1-checkpoint.ipynb
   "metadata": {},
   "outputs": [
    {
     "name": "stdout",
     "output_type": "stream",
     "text": [
      "['Miriam', 'Tim', 'Jing', 'Carlos', 'Ruben', 'Ashley', 'Pablo', 'Lise']\n"
     ]
    }
   ],
   "source": [
    "names = [\"Miriam\", \"Tim\", \"Jing\", \"Carlos\", \"Ruben\", \"Ashley\"]\n",
    "new_names = [\"Pablo\", \"Lise\"]\n",
    "names.extend(new_names)\n",
    "print(names)\n"
   ]
  },
  {
   "cell_type": "markdown",
<<<<<<< Updated upstream:Homework/Kavipriya/exercises_week1.ipynb
   "id": "a15af146",
=======
   "id": "58f7a687",
>>>>>>> Stashed changes:Homework/Kavipriya/.ipynb_checkpoints/exercises_week1-checkpoint.ipynb
   "metadata": {},
   "source": [
    "**Ex 10** Print the second and second to last name of the newly created list. The output should be Tim and Pablo"
   ]
  },
  {
   "cell_type": "code",
<<<<<<< Updated upstream:Homework/Kavipriya/exercises_week1.ipynb
   "execution_count": 12,
   "id": "33afe9a8",
=======
   "execution_count": null,
   "id": "c65ddb3f",
>>>>>>> Stashed changes:Homework/Kavipriya/.ipynb_checkpoints/exercises_week1-checkpoint.ipynb
   "metadata": {},
   "outputs": [
    {
     "name": "stdout",
     "output_type": "stream",
     "text": [
      "Tim\n",
      "Pablo\n"
     ]
    }
   ],
   "source": [
    "names = [\"Miriam\", \"Tim\", \"Jing\", \"Carlos\", \"Ruben\", \"Ashley\",\"Pablo\", \"Lise\"]\n",
    "print(names[1])\n",
    "print (names[-2])\n"
   ]
  },
  {
   "cell_type": "markdown",
<<<<<<< Updated upstream:Homework/Kavipriya/exercises_week1.ipynb
   "id": "c237f18d",
=======
   "id": "799761f1",
>>>>>>> Stashed changes:Homework/Kavipriya/.ipynb_checkpoints/exercises_week1-checkpoint.ipynb
   "metadata": {},
   "source": [
    "**Ex 11** Calculate the sum and the average of the value in the following list"
   ]
  },
  {
   "cell_type": "code",
<<<<<<< Updated upstream:Homework/Kavipriya/exercises_week1.ipynb
   "execution_count": 13,
   "id": "613fb0b9",
=======
   "execution_count": 150,
   "id": "d4edd1ae",
>>>>>>> Stashed changes:Homework/Kavipriya/.ipynb_checkpoints/exercises_week1-checkpoint.ipynb
   "metadata": {},
   "outputs": [
    {
     "name": "stdout",
     "output_type": "stream",
     "text": [
      "sum is:  187 Average is:  31.166666666666668\n"
     ]
    }
   ],
   "source": [
    "age = [11, 22, 33, 44, 22, 55]\n",
    "res = sum(age)\n",
    "avg = res / len(age)\n",
    "print(\"sum is: \", res, \"Average is: \", avg)"
   ]
  },
  {
   "cell_type": "markdown",
<<<<<<< Updated upstream:Homework/Kavipriya/exercises_week1.ipynb
   "id": "ac5ed349",
=======
   "id": "1e6067f1",
>>>>>>> Stashed changes:Homework/Kavipriya/.ipynb_checkpoints/exercises_week1-checkpoint.ipynb
   "metadata": {},
   "source": [
    "**Ex 12** Sort the age list in an ascending (increasing) order and get the count of the number 22 within the list (i.e; calculate how often the number 22 appears in the age list"
   ]
  },
  {
   "cell_type": "code",
<<<<<<< Updated upstream:Homework/Kavipriya/exercises_week1.ipynb
   "execution_count": 17,
   "id": "8bdef83d",
=======
   "execution_count": null,
   "id": "cc347988",
>>>>>>> Stashed changes:Homework/Kavipriya/.ipynb_checkpoints/exercises_week1-checkpoint.ipynb
   "metadata": {},
   "outputs": [
    {
     "name": "stdout",
     "output_type": "stream",
     "text": [
      "[11, 22, 22, 33, 44, 55]\n"
     ]
    },
    {
     "data": {
      "text/plain": [
       "2"
      ]
     },
     "execution_count": 17,
     "metadata": {},
     "output_type": "execute_result"
    }
   ],
   "source": [
    "age = [11, 22, 33, 44, 22, 55]\n",
    "age.sort()\n",
    "print(age)\n",
    "age.count(22)"
   ]
  },
  {
   "cell_type": "markdown",
<<<<<<< Updated upstream:Homework/Kavipriya/exercises_week1.ipynb
   "id": "ea333f92",
=======
   "id": "9c08aedd",
>>>>>>> Stashed changes:Homework/Kavipriya/.ipynb_checkpoints/exercises_week1-checkpoint.ipynb
   "metadata": {},
   "source": [
    "**Ex 13** Write a function to calculate the sum of three given numbers, if the values are equal then return three times of their sum."
   ]
  },
  {
   "cell_type": "code",
<<<<<<< Updated upstream:Homework/Kavipriya/exercises_week1.ipynb
   "execution_count": 20,
   "id": "c1b1b378",
=======
   "execution_count": null,
   "id": "006edee6",
>>>>>>> Stashed changes:Homework/Kavipriya/.ipynb_checkpoints/exercises_week1-checkpoint.ipynb
   "metadata": {},
   "outputs": [
    {
     "name": "stdout",
     "output_type": "stream",
     "text": [
      "6\n",
      "10\n",
      "45\n"
     ]
    }
   ],
   "source": [
    "def sum_thrice(x, y, z):\n",
    "\n",
    "     sum = x + y + z\n",
    "  \n",
    "     if x == y == z:\n",
    "      sum = sum * 3\n",
    "     return sum\n",
    "\n",
    "print(sum_thrice(1, 2, 3))\n",
    "print(sum_thrice(4, 3, 3))\n",
    "print(sum_thrice(5, 5, 5))"
   ]
  },
  {
   "cell_type": "markdown",
<<<<<<< Updated upstream:Homework/Kavipriya/exercises_week1.ipynb
   "id": "b11c313c",
=======
   "id": "340ac912",
>>>>>>> Stashed changes:Homework/Kavipriya/.ipynb_checkpoints/exercises_week1-checkpoint.ipynb
   "metadata": {},
   "source": [
    "**Ex 14** Write a function to check if a value is within the following list. The output should look like this:\\\n",
    "Miriam was found in the list\\\n",
    "Peter was not found in the list"
   ]
  },
  {
   "cell_type": "code",
<<<<<<< Updated upstream:Homework/Kavipriya/exercises_week1.ipynb
   "execution_count": 130,
   "id": "02bf18a2",
=======
   "execution_count": 151,
   "id": "f8e3b51a",
>>>>>>> Stashed changes:Homework/Kavipriya/.ipynb_checkpoints/exercises_week1-checkpoint.ipynb
   "metadata": {},
   "outputs": [
    {
     "name": "stdin",
     "output_type": "stream",
     "text": [
      "Please Enter the value  Peter\n"
     ]
    },
    {
     "name": "stdout",
     "output_type": "stream",
     "text": [
      "Check if Peter is in the ['Miriam', 'Tim', 'Jing', 'Carlos', 'Ruben', 'Ashley']\n",
      "Peter was not found in the list\n"
     ]
    }
   ],
   "source": [
    "\n",
    "\n",
    "#function\n",
    "def check(list,element):\n",
    "    #for i in list:\n",
    "        if (element in list):\n",
    "          print (element,\"was  found in the list\")\n",
    "        else:\n",
    "         print(element,\"was not found in the list\")\n",
    "        \n",
    "       # if i==element:\n",
    "           #print(element, \"was found in the list\")\n",
    "    #else:\n",
    "        # print(element,\"was not found in the list\")\n",
    "         \n",
    "#initialise list\n",
    "names = [\"Miriam\", \"Tim\", \"Jing\", \"Carlos\", \"Ruben\", \"Ashley\"]\n",
    "#element= \"Miriam\"\n",
    "element = input('Please Enter the value ')\n",
    "\n",
    "#element= \"Peter\"\n",
    "# checking if both values are works in runtime\n",
    "\n",
    "print(\"Check if\",element,\"is in the\",names)\n",
    "check(names,element)\n",
    "   "
   ]
  },
  {
   "cell_type": "markdown",
<<<<<<< Updated upstream:Homework/Kavipriya/exercises_week1.ipynb
   "id": "58fe3b95",
=======
   "id": "ae765a54",
>>>>>>> Stashed changes:Homework/Kavipriya/.ipynb_checkpoints/exercises_week1-checkpoint.ipynb
   "metadata": {},
   "source": [
    "**Ex 15** Write a function that will accept the base and height of a triangle and compute the area. The area of a triangle is calculate as Area= 0.5 * height * base"
   ]
  },
  {
   "cell_type": "code",
<<<<<<< Updated upstream:Homework/Kavipriya/exercises_week1.ipynb
   "execution_count": 100,
   "id": "4aaa08fd",
=======
   "execution_count": null,
   "id": "c8948d5f",
>>>>>>> Stashed changes:Homework/Kavipriya/.ipynb_checkpoints/exercises_week1-checkpoint.ipynb
   "metadata": {},
   "outputs": [
    {
     "name": "stdin",
     "output_type": "stream",
     "text": [
      "Please Enter the Base of a Triangle:  23\n",
      "Please Enter the Height of a Triangle:  45\n"
     ]
    },
    {
     "name": "stdout",
     "output_type": "stream",
     "text": [
      "The Area of a Triangle using 23 and 45  =  517.5\n"
     ]
    }
   ],
   "source": [
    "def aroftrigle(base, height):\n",
    "    return (0.5 * height * base)\n",
    "\n",
    "base = int(input('Please Enter the Base of a Triangle: '))\n",
    "height = int(input('Please Enter the Height of a Triangle: '))\n",
    "\n",
    "# calculate the area\n",
    "area = aroftrigle(base, height)\n",
    "print(\"The Area of a Triangle using\", base, \"and\", height, \" = \", area)"
   ]
  },
  {
   "cell_type": "markdown",
<<<<<<< Updated upstream:Homework/Kavipriya/exercises_week1.ipynb
   "id": "0b8110b6",
=======
   "id": "4ab05dbf",
>>>>>>> Stashed changes:Homework/Kavipriya/.ipynb_checkpoints/exercises_week1-checkpoint.ipynb
   "metadata": {},
   "source": [
    "## Intermediate exercises"
   ]
  },
  {
   "cell_type": "markdown",
<<<<<<< Updated upstream:Homework/Kavipriya/exercises_week1.ipynb
   "id": "a056db0d",
=======
   "id": "e5cc61fb",
>>>>>>> Stashed changes:Homework/Kavipriya/.ipynb_checkpoints/exercises_week1-checkpoint.ipynb
   "metadata": {},
   "source": [
    "**Ex1** Print **only** the strings within the following list. Use the isinstance function to compare the type of a variable against its expected type"
   ]
  },
  {
   "cell_type": "code",
<<<<<<< Updated upstream:Homework/Kavipriya/exercises_week1.ipynb
   "execution_count": 140,
   "id": "d7b30e21",
=======
   "execution_count": 152,
   "id": "37f89e3a",
>>>>>>> Stashed changes:Homework/Kavipriya/.ipynb_checkpoints/exercises_week1-checkpoint.ipynb
   "metadata": {},
   "outputs": [
    {
     "name": "stdout",
     "output_type": "stream",
     "text": [
      "Miriam is instance of string type\n",
      "22 is not instance of string type\n",
      "Tim is instance of string type\n",
      "25 is not instance of string type\n",
      "Jing is instance of string type\n",
      "28 is not instance of string type\n",
      "Carlos is instance of string type\n"
     ]
    }
   ],
   "source": [
    "students = [\"Miriam\", 22, \"Tim\", 25, \"Jing\", 28, \"Carlos\"]\n",
    "\n",
    "def check_number(var):\n",
    "    if isinstance(var, str):\n",
    "        print( var, 'is instance of string type')\n",
    "    else:\n",
    "        print( var, 'is not instance of string type')\n",
    "\n",
    "for i in students:\n",
    "  #print (i)\n",
    "  check_number(i)\n",
    "\n",
    "# check if numbers is instance of list\n",
    "#result = isinstance(students[0], str)\n",
    "#print(result)\n",
    "\n",
    "# Output: True"
   ]
  },
  {
   "cell_type": "markdown",
<<<<<<< Updated upstream:Homework/Kavipriya/exercises_week1.ipynb
   "id": "5c2a6839",
=======
   "id": "d39a0114",
>>>>>>> Stashed changes:Homework/Kavipriya/.ipynb_checkpoints/exercises_week1-checkpoint.ipynb
   "metadata": {},
   "source": [
    "**Ex 2** For the following two lists, print the student name followed by their age. HINT: use the zip function"
   ]
  },
  {
   "cell_type": "code",
<<<<<<< Updated upstream:Homework/Kavipriya/exercises_week1.ipynb
   "execution_count": 141,
   "id": "0a1af194",
=======
   "execution_count": 153,
   "id": "175b2f02",
>>>>>>> Stashed changes:Homework/Kavipriya/.ipynb_checkpoints/exercises_week1-checkpoint.ipynb
   "metadata": {},
   "outputs": [
    {
     "name": "stdout",
     "output_type": "stream",
     "text": [
      "(('Miriam', 25), ('Tim', 22), ('Jing', 24), ('Carlos', 33), ('Ruben', 22), ('Ashley', 21))\n"
     ]
    }
   ],
   "source": [
    "names = [\"Miriam\", \"Tim\", \"Jing\", \"Carlos\", \"Ruben\", \"Ashley\"]\n",
    "ages =  [25, 22, 24, 33, 22, 21, 20]\n",
    "x = zip(names, ages)\n",
    "print(tuple(x))"
   ]
  },
  {
   "cell_type": "markdown",
<<<<<<< Updated upstream:Homework/Kavipriya/exercises_week1.ipynb
   "id": "ed79107e",
=======
   "id": "1a608650",
>>>>>>> Stashed changes:Homework/Kavipriya/.ipynb_checkpoints/exercises_week1-checkpoint.ipynb
   "metadata": {},
   "source": [
    "**Ex 3** Create a dictionary which keys are the names of the students and the corresponding values are their age. The dictionary should look like this \\\n",
    "{'Miriam': 25, 'Tim': 22, 'Jing': 24, 'Carlos': 33, 'Ruben': 22, 'Ashley': 21}"
   ]
  },
  {
   "cell_type": "code",
<<<<<<< Updated upstream:Homework/Kavipriya/exercises_week1.ipynb
   "execution_count": 142,
   "id": "fe9eb7c6",
=======
   "execution_count": null,
   "id": "93a78cb8",
>>>>>>> Stashed changes:Homework/Kavipriya/.ipynb_checkpoints/exercises_week1-checkpoint.ipynb
   "metadata": {},
   "outputs": [
    {
     "name": "stdout",
     "output_type": "stream",
     "text": [
      "{'Miriam': 25, 'Tim': 22, 'Jing': 24, 'Carlos': 33, 'Ruben': 22, 'Ashley': 21}\n"
     ]
    }
   ],
   "source": [
    "students =\t{\n",
    "  \"Miriam\": 25,\n",
    "  \"Tim\": 22,\n",
    "  \"Jing\": 24,\n",
    "  \"Carlos\": 33,\n",
    "  \"Ruben\": 22,\n",
    "  \"Ashley\": 21\n",
    "}\n",
    "print(students)"
   ]
  },
  {
   "cell_type": "markdown",
<<<<<<< Updated upstream:Homework/Kavipriya/exercises_week1.ipynb
   "id": "611a1422",
=======
   "id": "bac256aa",
>>>>>>> Stashed changes:Homework/Kavipriya/.ipynb_checkpoints/exercises_week1-checkpoint.ipynb
   "metadata": {},
   "source": [
    "**Ex 4** Create a nested dictionary to assign to each student their age and grade. The output should look like this \\\n",
    "{'Miriam': {'age': 25, 'grade': 12},\n",
    " 'Tim': {'age': 22, 'grade': 12},\n",
    " 'Jing': {'age': 24, 'grade': 12},\n",
    " 'Carlos': {'age': 33, 'grade': 10},\n",
    " 'Ruben': {'age': 22, 'grade': 7},\n",
    " 'Ashley': {'age': 21, 'grade': 10}}"
   ]
  },
  {
   "cell_type": "code",
<<<<<<< Updated upstream:Homework/Kavipriya/exercises_week1.ipynb
   "execution_count": 153,
   "id": "be19a47f",
=======
   "execution_count": 154,
   "id": "59d3c2fa",
>>>>>>> Stashed changes:Homework/Kavipriya/.ipynb_checkpoints/exercises_week1-checkpoint.ipynb
   "metadata": {},
   "outputs": [
    {
     "name": "stdout",
     "output_type": "stream",
     "text": [
      "{'Miriam': {'age': 25, 'grade': 12}, 'Tim': {'age': 22, 'grade': 12}, 'Jing': {'age': 24, 'grade': 12}, 'Carlos': {'age': 33, 'grade': 10}, 'Ruben': {'age': 22, 'grade': 7}, 'Ashely': {'age': 21, 'grade': 10}}\n"
     ]
    }
   ],
   "source": [
    "grades = [12, 12, 12, 10, 7, 10]\n",
    "students = {\n",
    "  \"Miriam\" : {\n",
    "    \"age\" : 25,\n",
    "    \"grade\" : 12\n",
    "  },\n",
    "  \"Tim\" : {\n",
    "    \"age\" : 22,\n",
    "    \"grade\" : 12\n",
    "  },\n",
    "  \"Jing\" : {\n",
    "    \"age\" : 24,\n",
    "    \"grade\" : 12\n",
    "  },\n",
    "     \"Carlos\" : {\n",
    "    \"age\" : 33,\n",
    "    \"grade\" : 10\n",
    "  },\n",
    "  \"Ruben\" : {\n",
    "    \"age\" : 22,\n",
    "    \"grade\" : 7\n",
    "  },\n",
    "  \"Ashely\" : {\n",
    "    \"age\" : 21,\n",
    "    \"grade\" : 10\n",
    "  }\n",
    "}\n",
    "\n",
    "print(students)\n"
   ]
  },
  {
   "cell_type": "markdown",
<<<<<<< Updated upstream:Homework/Kavipriya/exercises_week1.ipynb
   "id": "6f834a66",
=======
   "id": "cb92c1ab",
>>>>>>> Stashed changes:Homework/Kavipriya/.ipynb_checkpoints/exercises_week1-checkpoint.ipynb
   "metadata": {},
   "source": [
    "**Ex 5** Miriam decided to drop out of the class. Remove her entry in the students dictionary."
   ]
  },
  {
   "cell_type": "code",
<<<<<<< Updated upstream:Homework/Kavipriya/exercises_week1.ipynb
   "execution_count": 154,
   "id": "d35126f1",
=======
   "execution_count": null,
   "id": "2976eaf8",
>>>>>>> Stashed changes:Homework/Kavipriya/.ipynb_checkpoints/exercises_week1-checkpoint.ipynb
   "metadata": {},
   "outputs": [
    {
     "name": "stdout",
     "output_type": "stream",
     "text": [
      "{'Tim': {'age': 22, 'grade': 12}, 'Jing': {'age': 24, 'grade': 12}, 'Carlos': {'age': 33, 'grade': 10}, 'Ruben': {'age': 22, 'grade': 7}, 'Ashely': {'age': 21, 'grade': 10}}\n"
     ]
    }
   ],
   "source": [
    "students.pop(\"Miriam\")\n",
    "print(students)"
   ]
  },
  {
   "cell_type": "markdown",
<<<<<<< Updated upstream:Homework/Kavipriya/exercises_week1.ipynb
   "id": "8b017b2d",
=======
   "id": "0645015f",
>>>>>>> Stashed changes:Homework/Kavipriya/.ipynb_checkpoints/exercises_week1-checkpoint.ipynb
   "metadata": {},
   "source": [
    "**Ex 6** First, generate a sequence of numbers from 1 to 20. Then print **only** the numbers for which the remainder is 0 when being divided by 6. E.g. 12 because 12/6 = 2. The output should be 6, 12 and 18"
   ]
  },
  {
   "cell_type": "code",
<<<<<<< Updated upstream:Homework/Kavipriya/exercises_week1.ipynb
   "execution_count": 161,
   "id": "09dbdbdc",
=======
   "execution_count": null,
   "id": "c49adbce",
>>>>>>> Stashed changes:Homework/Kavipriya/.ipynb_checkpoints/exercises_week1-checkpoint.ipynb
   "metadata": {},
   "outputs": [
    {
     "name": "stdout",
     "output_type": "stream",
     "text": [
      "[6, 12, 18]\n"
     ]
    }
   ],
   "source": [
    "numbers = range(1, 20)\n",
    "\n",
    "sequence_of_numbers = []\n",
    "for number in numbers:\n",
    "   if number % 6 == 0:\n",
    "      sequence_of_numbers.append(number)\n",
    "\n",
    "print(sequence_of_numbers)"
   ]
  },
  {
   "cell_type": "markdown",
<<<<<<< Updated upstream:Homework/Kavipriya/exercises_week1.ipynb
   "id": "71c2bb5d",
=======
   "id": "0afea929",
>>>>>>> Stashed changes:Homework/Kavipriya/.ipynb_checkpoints/exercises_week1-checkpoint.ipynb
   "metadata": {},
   "source": [
    "**Ex 7** Generate  \\\n",
    "\"The holidays will begin on: 25/11/1992\"  \\\n",
    "from the following tuple "
   ]
  },
  {
   "cell_type": "code",
   "execution_count": 155,
<<<<<<< Updated upstream:Homework/Kavipriya/exercises_week1.ipynb
   "id": "50ce6364",
=======
   "id": "7adc34d7",
>>>>>>> Stashed changes:Homework/Kavipriya/.ipynb_checkpoints/exercises_week1-checkpoint.ipynb
   "metadata": {},
   "outputs": [],
   "source": [
    "date = (25, 11, 1992)"
   ]
  },
  {
   "cell_type": "code",
   "execution_count": null,
<<<<<<< Updated upstream:Homework/Kavipriya/exercises_week1.ipynb
   "id": "675f3c5c",
=======
   "id": "ee76a0cf",
>>>>>>> Stashed changes:Homework/Kavipriya/.ipynb_checkpoints/exercises_week1-checkpoint.ipynb
   "metadata": {},
   "outputs": [],
   "source": []
  },
  {
   "cell_type": "markdown",
<<<<<<< Updated upstream:Homework/Kavipriya/exercises_week1.ipynb
   "id": "8e806b7c",
=======
   "id": "ed70d8c7",
>>>>>>> Stashed changes:Homework/Kavipriya/.ipynb_checkpoints/exercises_week1-checkpoint.ipynb
   "metadata": {},
   "source": [
    "**Ex 8** Write a function to find whether a given number is even or odd, print out an appropriate message."
   ]
  },
  {
   "cell_type": "code",
<<<<<<< Updated upstream:Homework/Kavipriya/exercises_week1.ipynb
   "execution_count": 168,
   "id": "54922558",
=======
   "execution_count": null,
   "id": "c98c8b0f",
>>>>>>> Stashed changes:Homework/Kavipriya/.ipynb_checkpoints/exercises_week1-checkpoint.ipynb
   "metadata": {},
   "outputs": [
    {
     "name": "stdin",
     "output_type": "stream",
     "text": [
      "Enter a number for check odd or even:  77\n"
     ]
    },
    {
     "name": "stdout",
     "output_type": "stream",
     "text": [
      "77  is an odd number\n"
     ]
    }
   ],
   "source": [
    "num=int(input(\"Enter a number for check odd or even: \"))\n",
    "def find_Evenodd(num):\n",
    "    \n",
    "    if(num%2==0):\n",
    "        print(num,\" Is an even number\")\n",
    "    else:\n",
    "        print(num,\" is an odd number\")\n",
    "\n",
    "find_Evenodd(num)"
   ]
  },
  {
   "cell_type": "markdown",
<<<<<<< Updated upstream:Homework/Kavipriya/exercises_week1.ipynb
   "id": "740ee8fe",
=======
   "id": "c893e2a8",
>>>>>>> Stashed changes:Homework/Kavipriya/.ipynb_checkpoints/exercises_week1-checkpoint.ipynb
   "metadata": {},
   "source": [
    "**Ex 9** Make a program ask for a name, and then write a greeting using that name.\\\n",
    "HINT: use the input function to get the user input (e.g. name=input(\"Write your username\"))\n",
    "\n",
    "\\\n",
    "The output should look similar to this:\\\n",
    "Please type your username Adrian\\\n",
    "Hello Adrian."
   ]
  },
  {
   "cell_type": "code",
<<<<<<< Updated upstream:Homework/Kavipriya/exercises_week1.ipynb
   "execution_count": 169,
   "id": "646d20a9",
=======
   "execution_count": null,
   "id": "00ec9f80",
>>>>>>> Stashed changes:Homework/Kavipriya/.ipynb_checkpoints/exercises_week1-checkpoint.ipynb
   "metadata": {},
   "outputs": [
    {
     "name": "stdin",
     "output_type": "stream",
     "text": [
      "Please type your username : kavi\n"
     ]
    },
    {
     "name": "stdout",
     "output_type": "stream",
     "text": [
      "Hello kavi\n"
     ]
    }
   ],
   "source": [
    "name=input(\"Please type your username :\")\n",
    "print(\"Hello\",name)"
   ]
  },
  {
   "cell_type": "markdown",
<<<<<<< Updated upstream:Homework/Kavipriya/exercises_week1.ipynb
   "id": "108247e3",
=======
   "id": "a63e8a2e",
>>>>>>> Stashed changes:Homework/Kavipriya/.ipynb_checkpoints/exercises_week1-checkpoint.ipynb
   "metadata": {},
   "source": [
    "**Ex 10** Ask for two numbers and ask what operation to perform on them (+, - , *, /) and display the numbers and the result. Again, use the input function.\\\n",
    "The output should look like this\n",
    "\n",
    "\\\n",
    "Please type two numbers and a mathematical operator to perform on them. All 3 inputs must be separated by a whitespace 1 1.5 +\\\n",
    "The result is: 2.5\n",
    "\n",
    "\n",
    "Please type two numbers and a mathematical operator to perform on them. All 3 inputs must be separated by a whitespace 2 2 *\\\n",
    "The result is: 4.0"
   ]
  },
  {
   "cell_type": "code",
<<<<<<< Updated upstream:Homework/Kavipriya/exercises_week1.ipynb
   "execution_count": 193,
   "id": "08022f62",
=======
   "execution_count": null,
   "id": "628ea85d",
>>>>>>> Stashed changes:Homework/Kavipriya/.ipynb_checkpoints/exercises_week1-checkpoint.ipynb
   "metadata": {},
   "outputs": [
    {
     "name": "stdin",
     "output_type": "stream",
     "text": [
      "Please input the first number 22\n"
     ]
    },
    {
     "name": "stdout",
     "output_type": "stream",
     "text": [
      "First number is recorded as 22\n"
     ]
    },
    {
     "name": "stdin",
     "output_type": "stream",
     "text": [
      "Please input the second number 2\n"
     ]
    },
    {
     "name": "stdout",
     "output_type": "stream",
     "text": [
      "Second number is recorded as 2\n"
     ]
    },
    {
     "name": "stdin",
     "output_type": "stream",
     "text": [
      "Please input your first operator /\n"
     ]
    },
    {
     "name": "stdout",
     "output_type": "stream",
     "text": [
      "Your operator is recorded as /\n",
      "11.0\n"
     ]
    }
   ],
   "source": [
    "\n",
    "x=int(input(\"Please input the first number\"))\n",
    "print(\"First number is recorded as\", x)\n",
    "y=int(input(\"Please input the second number\"))\n",
    "print(\"Second number is recorded as\", y)\n",
    "z=input(\"Please input your first operator\")\n",
    "print(\"Your operator is recorded as\", z)\n",
    "if (z == \"-\"):\n",
    "    result = x - y\n",
    "    print(result)\n",
    "elif (z == \"+\"):\n",
    "    result = x + y\n",
    "    print(result)\n",
    "elif (z == \"/\"):\n",
    "    result = x / y\n",
    "    print(result)\n",
    "elif (z == \"*\"):\n",
    "    result = x * y\n",
    "    print(result)\n",
    "else:\n",
    " print(\"Invalid operator entered.\")"
   ]
  },
  {
   "cell_type": "markdown",
<<<<<<< Updated upstream:Homework/Kavipriya/exercises_week1.ipynb
   "id": "7a6a7a8b",
=======
   "id": "2b87e11a",
>>>>>>> Stashed changes:Homework/Kavipriya/.ipynb_checkpoints/exercises_week1-checkpoint.ipynb
   "metadata": {},
   "source": [
    "**Ex 11** Write a function to calculate the factorial (n!) (e.g. 4! = 4 * 3 * 2 * 1. Perform input control. For example, the input must be a positive integer. Thus, if the input is negative, the function should return an error message. The same applies for inputs with type float or str.\\\n",
    "\n",
    "The output should look like:\\\n",
    "1 = factorial(0)\\\n",
    "1 = factorial(1)\\\n",
    "6 = factorial(3)\\\n",
    "24 = factorial(4)"
   ]
  },
  {
   "cell_type": "code",
<<<<<<< Updated upstream:Homework/Kavipriya/exercises_week1.ipynb
   "execution_count": 202,
   "id": "a214371d",
=======
   "execution_count": null,
   "id": "73d2010d",
>>>>>>> Stashed changes:Homework/Kavipriya/.ipynb_checkpoints/exercises_week1-checkpoint.ipynb
   "metadata": {},
   "outputs": [
    {
     "name": "stdin",
     "output_type": "stream",
     "text": [
      "Input a number to compute the factiorial :  4\n"
     ]
    },
    {
     "name": "stdout",
     "output_type": "stream",
     "text": [
      "24 = factorial ( 4 )\n"
     ]
    }
   ],
   "source": [
    "def factorial(n):\n",
    "  if not ((n >= 0) and (n % 1 == 0)):\n",
    "    return(\"Number can't be negative or floating point!\")\n",
    "  return 1 if n == 0 else n * factorial(n - 1)\n",
    "\n",
    "n=int(input(\"Input a number to compute the factiorial : \"))\n",
    "print(factorial(n),\"= factorial (\",n,\")\")\n"
   ]
  },
  {
   "cell_type": "markdown",
<<<<<<< Updated upstream:Homework/Kavipriya/exercises_week1.ipynb
   "id": "5fe57beb",
=======
   "id": "2a74fa44",
>>>>>>> Stashed changes:Homework/Kavipriya/.ipynb_checkpoints/exercises_week1-checkpoint.ipynb
   "metadata": {},
   "source": [
    "**Ex 12** Write a program (using functions!) that asks the user for a long string containing multiple words. Print back to the user the same string, except with the words in backwards order. For example, say I type the string:\n",
    "\n",
    "  My name is Michele\\\n",
    "Then I would see the string:\n",
    "\n",
    "  Michele is name My\\\n",
    "shown back to me."
   ]
  },
  {
   "cell_type": "code",
<<<<<<< Updated upstream:Homework/Kavipriya/exercises_week1.ipynb
   "execution_count": 203,
   "id": "b769bab7",
=======
   "execution_count": null,
   "id": "356ce7dd",
>>>>>>> Stashed changes:Homework/Kavipriya/.ipynb_checkpoints/exercises_week1-checkpoint.ipynb
   "metadata": {},
   "outputs": [
    {
     "name": "stdin",
     "output_type": "stream",
     "text": [
      "Enter the long string containing multiple words  I am Kavi Priya\n"
     ]
    },
    {
     "name": "stdout",
     "output_type": "stream",
     "text": [
      "Priya Kavi am I\n"
     ]
    }
   ],
   "source": [
    "str= input(\"Enter the long string containing multiple words \")\n",
    "words = str.split()\n",
    "words = list(reversed(words))\n",
    "print(\" \".join(words))"
   ]
  },
  {
   "cell_type": "markdown",
<<<<<<< Updated upstream:Homework/Kavipriya/exercises_week1.ipynb
   "id": "fa299179",
=======
   "id": "0949f756",
>>>>>>> Stashed changes:Homework/Kavipriya/.ipynb_checkpoints/exercises_week1-checkpoint.ipynb
   "metadata": {},
   "source": [
    "**Ex 13** Write a small function to check if a string is a Palindrome (https://en.wikipedia.org/wiki/Palindrome)\n",
    "\n",
    "The output could look like this:\n",
    "\n",
    "Tenet is a Palindrome\\\n",
    "China is not Palindrome"
   ]
  },
  {
   "cell_type": "code",
<<<<<<< Updated upstream:Homework/Kavipriya/exercises_week1.ipynb
   "execution_count": 4,
   "id": "3b840533",
=======
   "execution_count": null,
   "id": "b5ef41bf",
>>>>>>> Stashed changes:Homework/Kavipriya/.ipynb_checkpoints/exercises_week1-checkpoint.ipynb
   "metadata": {},
   "outputs": [
    {
     "name": "stdin",
     "output_type": "stream",
     "text": [
      "Enter the string to check the string is Palindrome or not  Tenet\n"
     ]
    },
    {
     "name": "stdout",
     "output_type": "stream",
     "text": [
      "tenet is a palindrome\n"
     ]
    }
   ],
   "source": [
    "string= input(\"Enter the string to check the string is Palindrome or not \")\n",
    "string=string.lower()\n",
    "if(string==string[::-1]):\n",
    "      print(string ,\"is a palindrome\")\n",
    "else:\n",
    "      print(string,\"not a palindrome\")"
   ]
  }
 ],
 "metadata": {
  "kernelspec": {
   "display_name": "Python 3 (ipykernel)",
   "language": "python",
   "name": "python3"
  },
  "language_info": {
   "codemirror_mode": {
    "name": "ipython",
    "version": 3
   },
   "file_extension": ".py",
   "mimetype": "text/x-python",
   "name": "python",
   "nbconvert_exporter": "python",
   "pygments_lexer": "ipython3",
   "version": "3.9.7"
  }
 },
 "nbformat": 4,
 "nbformat_minor": 5
}
