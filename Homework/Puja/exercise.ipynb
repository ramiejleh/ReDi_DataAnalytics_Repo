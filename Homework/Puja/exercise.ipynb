{
 "cells": [
  {
   "cell_type": "markdown",
   "metadata": {},
   "source": [
    "# Clean the pension fund dataset!\n",
    "\n",
    "The dataset you're about to work with contains an excerpt of a much larger dataset with all the Danish pension funds' investments. It is provided as a CSV file with the following columns: name of the pension fund, name of the company, invested amount. The separator of the CSV file is the semicolon (;).\n",
    "\n",
    "Your task is to clean and format the data according to the guidelines below and then write it to a new (!) CSV file.\n",
    "\n",
    "Please note that the only module you will have to import is Python's built-in CSV module. Some of the tasks can be solved using other modules, but this is totally optional, and you will most probably be able to solve the tasks faster by implementing your own function instead of searching for a corresponding one (be aware that this only counts for this exercise - in other circumstances it may be much better to use existing modules!).\n",
    "\n",
    "In this exercise, you should focus on breaking the code into several helper functions. Work on making each of the helper functions return the desired output, which in turn involves looking at what exactly you provide as input to the function.\n",
    "\n",
    "Complete the following tasks - but think about the order in which you do them first!\n",
    "\n",
    "- Remove any wrong or odd row entries.\n",
    "- Read the file into memory.\n",
    "- All the columns with the company names begin with 'company_name:'. Remove this, so that the entry only contains the company's name. \n",
    "- Write the nice and clean data to another CSV file.\n",
    "- In the raw file, the invested sums are formatted in different ways. AkademikerPension is formatted as decimal numbers, and Industriens Pension is in million DKK (e. g. 130 means 130000000). Only PenSam and Velliv are already formatted correctly. All of the sums have to be formatted as non-decimal numbers and as a complete number, e.g. if the investment is 5.9 million DKK, the entry should be 5900000 and nothing else.\n",
    "\n",
    "For the tasks involving string manipulation, you can find help here: https://github.com/jakevdp/WhirlwindTourOfPython/blob/master/14-Strings-and-Regular-Expressions.ipynb\n",
    "\n",
    "If you are done with the tasks above, please do the following:\n",
    "- Create a dictionary with the name of the pension fund as the key, and a list of lists as the value of each fund. The list should contain the largest invested sum in a single company and the median investment. It should be in the following format: [[company name (str), invested sum (int)], [company name (str), invested sum (int)]] with the entry at index 0 being the company where the corresponding pension fund has invested the largest amount of money.\n",
    "- Make sure all your helper functions contain docstrings according to PEP8."
   ]
  },
  {
   "cell_type": "code",
   "execution_count": 2,
   "metadata": {},
   "outputs": [
    {
     "ename": "FileNotFoundError",
     "evalue": "[Errno 2] No such file or directory: 'pension_fund_data.csv'",
     "output_type": "error",
     "traceback": [
      "\u001b[0;31m---------------------------------------------------------------------------\u001b[0m",
      "\u001b[0;31mFileNotFoundError\u001b[0m                         Traceback (most recent call last)",
      "\u001b[0;32m/var/folders/lw/nvvclwgj78n7ns07pq1cr33m0000gn/T/ipykernel_48467/3933680780.py\u001b[0m in \u001b[0;36m<module>\u001b[0;34m\u001b[0m\n\u001b[1;32m      6\u001b[0m \u001b[0mfilename\u001b[0m \u001b[0;34m=\u001b[0m \u001b[0;34m\"pension_fund_data.csv\"\u001b[0m\u001b[0;34m\u001b[0m\u001b[0;34m\u001b[0m\u001b[0m\n\u001b[1;32m      7\u001b[0m \u001b[0;34m\u001b[0m\u001b[0m\n\u001b[0;32m----> 8\u001b[0;31m \u001b[0;32mwith\u001b[0m \u001b[0mopen\u001b[0m\u001b[0;34m(\u001b[0m\u001b[0mfilename\u001b[0m\u001b[0;34m)\u001b[0m \u001b[0;32mas\u001b[0m \u001b[0mf\u001b[0m\u001b[0;34m:\u001b[0m\u001b[0;34m\u001b[0m\u001b[0;34m\u001b[0m\u001b[0m\n\u001b[0m\u001b[1;32m      9\u001b[0m     \u001b[0mreader\u001b[0m \u001b[0;34m=\u001b[0m \u001b[0mcsv\u001b[0m\u001b[0;34m.\u001b[0m\u001b[0mreader\u001b[0m\u001b[0;34m(\u001b[0m\u001b[0mf\u001b[0m\u001b[0;34m,\u001b[0m \u001b[0mdelimiter\u001b[0m\u001b[0;34m=\u001b[0m\u001b[0;34m';'\u001b[0m\u001b[0;34m)\u001b[0m\u001b[0;34m\u001b[0m\u001b[0;34m\u001b[0m\u001b[0m\n\u001b[1;32m     10\u001b[0m     \u001b[0mheader\u001b[0m \u001b[0;34m=\u001b[0m \u001b[0mnext\u001b[0m\u001b[0;34m(\u001b[0m\u001b[0mreader\u001b[0m\u001b[0;34m)\u001b[0m\u001b[0;34m\u001b[0m\u001b[0;34m\u001b[0m\u001b[0m\n",
      "\u001b[0;31mFileNotFoundError\u001b[0m: [Errno 2] No such file or directory: 'pension_fund_data.csv'"
     ]
    }
   ],
   "source": [
    "### File doesn't exist :) \n",
    "\n",
    "\n",
    "import csv\n",
    "import math\n",
    "filename = \"pension_fund_data.csv\"\n",
    "\n",
    "with open(filename) as f:\n",
    "    reader = csv.reader(f, delimiter=';')\n",
    "    header = next(reader)\n",
    "    fund_data = []\n",
    "    for row in reader:\n",
    "        fund_data.append(row)\n",
    "    print(fund_data)    \n"
   ]
  },
  {
   "cell_type": "code",
   "execution_count": 86,
   "metadata": {},
   "outputs": [],
   "source": [
    "pension = set()\n",
    "for row in fund_data:\n",
    "    pension.add(row[0])\n",
    "    nofund= \"Nofundfound\" ### How did you know the name of fund you need to remove? It's not called \"Nofundfound\" so you are not removing anything with this part of the code. You need to inspect first, find the faulty one then remove it.\n",
    "    if row[0] == nofund:\n",
    "        fund_data.remove(row)\n",
    "      \n",
    "    companyname= replceInpString(row[1])\n",
    "    row[1]=companyname\n",
    "    pensionValue= math.ceil(float(row[2])) ### It says only AkademikerPension needs to be stripped of decimals, but you are rounding all of them. That's a bit Inefficient but will also result in wrong data. One of the values for \"Industriens Pension\" that should be just converted to millions is 0.38 and that would become 380000 and when you round it up, it becomes 1 and which becomes 1000000 and that's  not right\n",
    "    row[2]=pensionValue\n",
    "    pensionName=\"Industriens Pension\"\n",
    "    if row[0] == pensionName: \n",
    "        millionValue = int(float(row[2]) * 1000000)\n",
    "        row[2]=millionValue   \n",
    "    \n",
    "      \n"
   ]
  },
  {
   "cell_type": "code",
   "execution_count": 82,
   "metadata": {},
   "outputs": [],
   "source": []
  },
  {
   "cell_type": "code",
   "execution_count": 85,
   "metadata": {},
   "outputs": [],
   "source": [
    "def replceInpString(string): ### The function needs to be defined before the code block that uses it. This cell needs to run before the previous cell.\n",
    "    return string.replace('company_name: ','')\n"
   ]
  },
  {
   "cell_type": "code",
   "execution_count": 87,
   "metadata": {},
   "outputs": [],
   "source": [
    "with open('PensionFund_Updated.csv', 'w', newline='') as output_file:\n",
    "    output_writer = csv.writer(output_file)\n",
    "    output_writer.writerow(header_row)\n",
    "    output_writer.writerows(fund_data)"
   ]
  },
  {
   "cell_type": "code",
   "execution_count": null,
   "metadata": {},
   "outputs": [],
   "source": []
  }
 ],
 "metadata": {
  "kernelspec": {
   "display_name": "Python 3 (ipykernel)",
   "language": "python",
   "name": "python3"
  },
  "language_info": {
   "codemirror_mode": {
    "name": "ipython",
    "version": 3
   },
   "file_extension": ".py",
   "mimetype": "text/x-python",
   "name": "python",
   "nbconvert_exporter": "python",
   "pygments_lexer": "ipython3",
   "version": "3.8.8"
  }
 },
 "nbformat": 4,
 "nbformat_minor": 4
}
