{
 "cells": [
  {
   "cell_type": "markdown",
   "id": "cea0001e",
   "metadata": {},
   "source": [
    "# Exercises week 1"
   ]
  },
  {
   "cell_type": "markdown",
   "id": "8de6fb7f",
   "metadata": {},
   "source": [
    "## Beginner exercises"
   ]
  },
  {
   "cell_type": "markdown",
   "id": "9c7a32b0",
   "metadata": {},
   "source": [
    "**Ex 1**: In the cell below, write a short text that demonstrates that you can\n",
    "* Create a section with a heading\n",
    "* Write words in bold and italics\n",
    "* Establish a [hyperlink](https://en.wikipedia.org/wiki/Hyperlink)"
   ]
  },
  {
   "cell_type": "markdown",
   "id": "06327b1f",
   "metadata": {},
   "source": [
    "**Ex 2** Calculate the remainder of the division of 18 by 7. "
   ]
  },
  {
   "cell_type": "code",
   "execution_count": 1,
   "id": "571a933a",
   "metadata": {},
   "outputs": [
    {
     "data": {
      "text/plain": [
       "4"
      ]
     },
     "execution_count": 1,
     "metadata": {},
     "output_type": "execute_result"
    }
   ],
   "source": [
    "18 % 7\n"
   ]
  },
  {
   "cell_type": "markdown",
   "id": "f35548ca",
   "metadata": {},
   "source": [
    "**Ex 3** Calcuate 3 to the power of 4; i.e. $3^4$"
   ]
  },
  {
   "cell_type": "code",
   "execution_count": 1,
   "id": "878b3dd7",
   "metadata": {},
   "outputs": [
    {
     "data": {
      "text/plain": [
       "81"
      ]
     },
     "execution_count": 1,
     "metadata": {},
     "output_type": "execute_result"
    }
   ],
   "source": [
    "3**4"
   ]
  },
  {
   "cell_type": "markdown",
   "id": "f214288c",
   "metadata": {},
   "source": [
    "**Ex 4** Calculate the square root of 49"
   ]
  },
  {
   "cell_type": "code",
   "execution_count": 38,
   "id": "7f9d4c58",
   "metadata": {},
   "outputs": [
    {
     "data": {
      "text/plain": [
       "7.0"
      ]
     },
     "execution_count": 38,
     "metadata": {},
     "output_type": "execute_result"
    }
   ],
   "source": [
    "import math\n",
    "math.sqrt(49)\n",
    "\n",
    "##sqrt() function is an inbuilt function in Python programming language that returns the square root of any number. \n",
    "##Syntax: math. sqrt(x) Parameter: x is any number such that x>=0 Returns: It returns the square root of the number passed in the parameter.\n"
   ]
  },
  {
   "cell_type": "markdown",
   "id": "f5ad4f33",
   "metadata": {},
   "source": [
    "**Ex 5** Convert the following string to a float and round it to the nearest 3 digits after the decimal"
   ]
  },
  {
   "cell_type": "code",
   "execution_count": 8,
   "id": "629d068a",
   "metadata": {},
   "outputs": [
    {
     "name": "stdout",
     "output_type": "stream",
     "text": [
      "3.14159265789\n"
     ]
    },
    {
     "data": {
      "text/plain": [
       "3.142"
      ]
     },
     "execution_count": 8,
     "metadata": {},
     "output_type": "execute_result"
    }
   ],
   "source": [
    "pi = \"3.14159265\"\n",
    "number_conversion = float(pi)\n",
    "rounded_number = round(number_conversion,3)\n",
    "round(float(pi),3)\n",
    "print(pi + \"789\")\n",
    "float(pi)\n",
    "round(float(pi),3)\n",
    "\n"
   ]
  },
  {
   "cell_type": "markdown",
   "id": "f044aec2",
   "metadata": {},
   "source": [
    "**Ex 6** **Convert** the variable number=4.9 to an integer"
   ]
  },
  {
   "cell_type": "code",
   "execution_count": 10,
   "id": "9d65e65d",
   "metadata": {},
   "outputs": [
    {
     "name": "stdout",
     "output_type": "stream",
     "text": [
      "4\n"
     ]
    }
   ],
   "source": [
    "result = int(4.9)\n",
    "print(result)"
   ]
  },
  {
   "cell_type": "markdown",
   "id": "46a181e0",
   "metadata": {},
   "source": [
    "**Ex 7** Now round number=4.9 to the **nearest** integer. What is the difference between the converted number of the previous exercise and this exercise?"
   ]
  },
  {
   "cell_type": "code",
   "execution_count": 11,
   "id": "d6897a03",
   "metadata": {},
   "outputs": [
    {
     "data": {
      "text/plain": [
       "5"
      ]
     },
     "execution_count": 11,
     "metadata": {},
     "output_type": "execute_result"
    }
   ],
   "source": [
    "int(round(4.9))\n",
    "\n",
    "## convert into integer removes decimal part "
   ]
  },
  {
   "cell_type": "markdown",
   "id": "b72332f6",
   "metadata": {},
   "source": [
    "**Ex 8** Calculate the length of the following list (i.e. how many names are in the list) and print each of its values separated by a newline. The output of the print statement(s) should look like this: \\\n",
    "\\\n",
    "Miriam \\\n",
    "Tim \\\n",
    "Jing \\\n",
    "..."
   ]
  },
  {
   "cell_type": "code",
   "execution_count": 18,
   "id": "b323da2f",
   "metadata": {},
   "outputs": [
    {
     "name": "stdout",
     "output_type": "stream",
     "text": [
      "Miriam\n",
      "Tim\n",
      "Jing\n",
      "Carlos\n",
      "Ruben\n",
      "Ashley\n",
      "Miriam\n",
      "Tim\n",
      "Jing\n",
      "Carlos\n",
      "Ruben\n",
      "Ashley\n"
     ]
    }
   ],
   "source": [
    "names = [\"Miriam\", \"Tim\", \"Jing\", \"Carlos\", \"Ruben\", \"Ashley\"]\n",
    "## range = [0,1,2,3,4,5]\n",
    "\n",
    "numofnames = len(names)\n",
    "print(*names, sep=\"\\n\")\n",
    "\n",
    "i = 0\n",
    "while i < numofnames:\n",
    "    print(names[i])\n",
    "    i = i +1"
   ]
  },
  {
   "cell_type": "code",
   "execution_count": 21,
   "id": "29e34a60",
   "metadata": {},
   "outputs": [
    {
     "name": "stdout",
     "output_type": "stream",
     "text": [
      "Miriam\n",
      "Tim\n",
      "Jing\n",
      "Carlos\n",
      "Ruben\n",
      "Ashley\n"
     ]
    }
   ],
   "source": [
    "#for name in names: \n",
    "    print(name)"
   ]
  },
  {
   "cell_type": "code",
   "execution_count": 30,
   "id": "b6e0e7b5",
   "metadata": {},
   "outputs": [
    {
     "data": {
      "text/plain": [
       "6"
      ]
     },
     "execution_count": 30,
     "metadata": {},
     "output_type": "execute_result"
    }
   ],
   "source": [
    "#for unit in names:\n",
    "   # print(unit)\n",
    "random_word = \"random\"\n",
    "len(random_word)"
   ]
  },
  {
   "cell_type": "markdown",
   "id": "f4dc0eba",
   "metadata": {},
   "source": [
    "**Ex 9** Add a list with the following new names to the previous list \\\n",
    "new_names = [\"Pablo\", \"Lise\"]"
   ]
  },
  {
   "cell_type": "code",
   "execution_count": 27,
   "id": "6a278348",
   "metadata": {},
   "outputs": [
    {
     "name": "stdout",
     "output_type": "stream",
     "text": [
      "['Miriam', 'Tim', 'Jing', 'Carlos', 'Ruben', 'Ashley', 'Pablo', 'Lise']\n"
     ]
    }
   ],
   "source": [
    "new_names = [\"Pablo\" , \"Lise\"]\n",
    "for name in new_names:\n",
    "    names.append(name)\n",
    "print(names)\n",
    "\n",
    "##The append() method in python adds a single item to the existing list. \n",
    "##It doesn't return a new list of items but will modify the original list by adding the item to the end of the list"
   ]
  },
  {
   "cell_type": "markdown",
   "id": "e4a626b1",
   "metadata": {},
   "source": [
    "**Ex 10** Print the second and second to last name of the newly created list. The output should be Tim and Pablo"
   ]
  },
  {
   "cell_type": "code",
   "execution_count": 31,
   "id": "5df4210a",
   "metadata": {},
   "outputs": [
    {
     "name": "stdout",
     "output_type": "stream",
     "text": [
      "Tim Pablo\n"
     ]
    }
   ],
   "source": [
    "print(names[1],names[-2])"
   ]
  },
  {
   "cell_type": "markdown",
   "id": "e1536273",
   "metadata": {},
   "source": [
    "**Ex 11** Calculate the sum and the average of the value in the following list"
   ]
  },
  {
   "cell_type": "code",
   "execution_count": 43,
   "id": "f86764f6",
   "metadata": {},
   "outputs": [
    {
     "name": "stdout",
     "output_type": "stream",
     "text": [
      "31.166666666666668\n"
     ]
    }
   ],
   "source": [
    "age = [11, 22, 33, 44, 22, 55]\n",
    "print(sum(age)/len(age))"
   ]
  },
  {
   "cell_type": "markdown",
   "id": "281a7229",
   "metadata": {},
   "source": [
    "**Ex 12** Sort the age list in an ascending (increasing) order and get the count of the number 22 within the list (i.e; calculate how often the number 22 appears in the age list"
   ]
  },
  {
   "cell_type": "code",
   "execution_count": 44,
   "id": "ccff3e9f",
   "metadata": {},
   "outputs": [
    {
     "name": "stdout",
     "output_type": "stream",
     "text": [
      "[11, 22, 22, 33, 44, 55]\n",
      "[11, 22, 33, 44, 22, 55]\n"
     ]
    }
   ],
   "source": [
    "age = [11, 22, 33, 44, 22, 55]\n",
    "sorted_number = sorted(age)\n",
    "print(sorted_number)\n",
    "\n",
    "age.count(22)\n",
    "print(age)\n",
    "\n",
    "\n",
    "##The sorted() function returns a sorted list of the specified iterable object. \n",
    "##You can specify ascending or descending order. Strings are sorted alphabetically, and numbers are sorted numerically."
   ]
  },
  {
   "cell_type": "markdown",
   "id": "aa6357f7",
   "metadata": {},
   "source": [
    "**Ex 13** Write a function to calculate the sum of three given numbers, if the values are equal then return three times of their sum."
   ]
  },
  {
   "cell_type": "code",
   "execution_count": 45,
   "id": "669d8a97",
   "metadata": {},
   "outputs": [
    {
     "name": "stdout",
     "output_type": "stream",
     "text": [
      "27\n"
     ]
    }
   ],
   "source": [
    "def sum_three(num1, num2, num3):\n",
    "    if num1 == num2 == num3:\n",
    "        return (num1 + num2+ num3) * 3\n",
    "    return num1 + num2 + num3\n",
    "result_sum = sum_three(3,3,3)\n",
    "print(result_sum)\n",
    "\n",
    "    "
   ]
  },
  {
   "cell_type": "markdown",
   "id": "083c56f2",
   "metadata": {},
   "source": [
    "**Ex 14** Write a function to check if a value is within the following list. The output should look like this:\\\n",
    "Miriam was found in the list\\\n",
    "Peter was not found in the list"
   ]
  },
  {
   "cell_type": "code",
   "execution_count": 54,
   "id": "90f94d20",
   "metadata": {
    "scrolled": true
   },
   "outputs": [
    {
     "name": "stdout",
     "output_type": "stream",
     "text": [
      "Miriam was found in the list\n",
      "Peter was not found in the list\n"
     ]
    }
   ],
   "source": [
    "names = [\"Miriam\", \"Tim\", \"Jing\", \"Carlos\", \"Ruben\", \"Ashley\"]\n",
    "\n",
    "def check_if_name_exists(single_name):\n",
    "    if single_name in names:\n",
    "        print(single_name + \"\" + \" was found in the list\")\n",
    "        \n",
    "      \n",
    "    else:\n",
    "        print(single_name + \"\" + \" was not found in the list\")\n",
    "\n",
    "check_if_name_exists(\"Miriam\")\n",
    "check_if_name_exists(\"Peter\")"
   ]
  },
  {
   "cell_type": "markdown",
   "id": "c298f0d6",
   "metadata": {},
   "source": [
    "**Ex 15** Write a function that will accept the base and height of a triangle and compute the area. The area of a triangle is calculate as Area= 0.5 * height * base"
   ]
  },
  {
   "cell_type": "code",
   "execution_count": 60,
   "id": "0d4f6303",
   "metadata": {},
   "outputs": [],
   "source": [
    "def calculate_triangle_area(base, height):\n",
    "    return 0.5 * height * base"
   ]
  },
  {
   "cell_type": "code",
   "execution_count": 57,
   "id": "f30114e9",
   "metadata": {},
   "outputs": [
    {
     "name": "stdout",
     "output_type": "stream",
     "text": [
      "100.0\n"
     ]
    }
   ],
   "source": [
    "print(calculate_triangle_area(10, 20))"
   ]
  },
  {
   "cell_type": "code",
   "execution_count": null,
   "id": "4d11863f",
   "metadata": {},
   "outputs": [],
   "source": [
    "**Ex 16 Write a function that takes a name and if the name is longer than 5 letters, it will print name + \"your names is too long\" otherwise print \"Hello\" + name + \"!\" "
   ]
  },
  {
   "cell_type": "markdown",
   "id": "8bf072f4",
   "metadata": {},
   "source": [
    "**Ex 16 Write a function that takes a name and if the name is longer than 5 letters, it will print name + \"your name is too long\" otherwise print \"Hello\" + name + \"!\"\n"
   ]
  },
  {
   "cell_type": "code",
   "execution_count": 70,
   "id": "1c4a2338",
   "metadata": {},
   "outputs": [
    {
     "name": "stdout",
     "output_type": "stream",
     "text": [
      "Sharon, your name is too long\n"
     ]
    }
   ],
   "source": [
    "def name_analyser(name):\n",
    "    if len(name) > 5:\n",
    "        print(name + \", your name is too long\")\n",
    "    \n",
    "    else: \n",
    "        print(\"Hello \" + name + \"!\")\n",
    "            \n",
    "result = name_analyser(\"Sharon\")\n"
   ]
  },
  {
   "cell_type": "markdown",
   "id": "380790fa",
   "metadata": {},
   "source": [
    "**Ex1** Print **only** the strings within the following list. Use the isinstance function to compare the type of a variable against its expected type"
   ]
  },
  {
   "cell_type": "code",
   "execution_count": 111,
   "id": "0f3ccb26",
   "metadata": {},
   "outputs": [
    {
     "name": "stdout",
     "output_type": "stream",
     "text": [
      "Miriam\n",
      "Tim\n",
      "Jing\n",
      "Carlos\n",
      "False\n"
     ]
    }
   ],
   "source": [
    "students = [\"Miriam\", 22, \"Tim\", 25, \"Jing\", 28, \"Carlos\"]\n",
    "for ele in students:\n",
    "    if(type(ele) == str):\n",
    "        print(ele)\n",
    "\n",
    "a = \"Miriam\"\n",
    "b = ['22','23','43']\n",
    "\n",
    "isinstance_result = isinstance(a,(float,tuple,int,list,tuple))\n",
    "print(isinstance_result)\n",
    "\n",
    "        "
   ]
  },
  {
   "cell_type": "code",
   "execution_count": 103,
   "id": "b37f1872",
   "metadata": {},
   "outputs": [
    {
     "name": "stdout",
     "output_type": "stream",
     "text": [
      "True\n"
     ]
    }
   ],
   "source": [
    "x = isinstance(5,int)\n",
    "print(x)\n"
   ]
  },
  {
   "cell_type": "code",
   "execution_count": 105,
   "id": "1272c201",
   "metadata": {},
   "outputs": [
    {
     "name": "stdout",
     "output_type": "stream",
     "text": [
      "False\n"
     ]
    }
   ],
   "source": [
    "x = isinstance(\"hello\",(float,int))\n",
    "print(x)"
   ]
  },
  {
   "cell_type": "code",
   "execution_count": 83,
   "id": "62d7bb07",
   "metadata": {
    "scrolled": true
   },
   "outputs": [
    {
     "name": "stdout",
     "output_type": "stream",
     "text": [
      "Miriam\n",
      "Tim\n",
      "Jing\n",
      "Carlos\n"
     ]
    }
   ],
   "source": []
  },
  {
   "cell_type": "markdown",
   "id": "4b99d2ed",
   "metadata": {},
   "source": [
    "**Ex 2** For the following two lists, print the student name followed by their age. HINT: use the zip function"
   ]
  },
  {
   "cell_type": "code",
   "execution_count": 24,
   "id": "e5fd5bd4",
   "metadata": {},
   "outputs": [
    {
     "name": "stdout",
     "output_type": "stream",
     "text": [
      "Miriam 25\n",
      "Tim 22\n",
      "Jing 24\n",
      "Carlos 33\n",
      "Ruben 22\n",
      "Ashley 21\n"
     ]
    }
   ],
   "source": [
    "names = [\"Miriam\", \"Tim\", \"Jing\", \"Carlos\", \"Ruben\", \"Ashley\"]\n",
    "ages =  [25, 22, 24, 33, 22, 21, 20]\n",
    "\n",
    "for names, ages in zip(names,ages):\n",
    "    print(names,ages)\n",
    "    \n",
    "##The zip() function returns a zip object, which is an iterator of tuples where the first item in each passed iterator is paired together, and then the second item in each passed iterator are paired together etc.\n"
   ]
  },
  {
   "cell_type": "markdown",
   "id": "fcdb19c6",
   "metadata": {},
   "source": [
    "**Ex 3** Create a dictionary which keys are the names of the students and the corresponding values are their age. The dictionary should look like this \\\n",
    "{'Miriam': 25, 'Tim': 22, 'Jing': 24, 'Carlos': 33, 'Ruben': 22, 'Ashley': 21}"
   ]
  },
  {
   "cell_type": "code",
   "execution_count": 113,
   "id": "2ecdd8d4",
   "metadata": {},
   "outputs": [
    {
     "name": "stdout",
     "output_type": "stream",
     "text": [
      "{22: 'Sharon', 5: 'Alejandro', 7: 'Olrando', 8: 'Oscar'}\n"
     ]
    }
   ],
   "source": [
    "my_dict = {22: 'Sharon',5:'Alejandro', 7:'Olrando', 8:'Oscar'}\n",
    "print(my_dict)"
   ]
  },
  {
   "cell_type": "markdown",
   "id": "dc5c34eb",
   "metadata": {},
   "source": [
    "**Ex 4** Create a nested dictionary to assign to each student their age and grade. The output should look like this \\\n",
    "{'Miriam': {'age': 25, 'grade': 12},\n",
    " 'Tim': {'age': 22, 'grade': 12},\n",
    " 'Jing': {'age': 24, 'grade': 12},\n",
    " 'Carlos': {'age': 33, 'grade': 10},\n",
    " 'Ruben': {'age': 22, 'grade': 7},\n",
    " 'Ashley': {'age': 21, 'grade': 10}}"
   ]
  },
  {
   "cell_type": "code",
   "execution_count": 130,
   "id": "04dd84ca",
   "metadata": {},
   "outputs": [
    {
     "name": "stdout",
     "output_type": "stream",
     "text": [
      "{'student1': {'name': 'Miriam', 'age': 25, 'grade': 12}, 'student2': {'name': 'Tim', 'age': 22, 'grade': 12}, 'student3': {'name': 'Jing', 'age': 24, 'grade': 12}, 'student4': {'name': 'Carlos', 'age': 33, 'grade': 10}}\n"
     ]
    }
   ],
   "source": [
    "grades = [12, 12, 12, 10, 7, 10]\n",
    "\n",
    "my_dict = {\n",
    "    \"student1\" : {\n",
    "        \"name\": \"Miriam\",\n",
    "         \"age\": 25, \n",
    "         \"grade\": 12\n",
    "    },\n",
    "    \n",
    "    \"student2\" : {\n",
    "        \"name\": \"Tim\",\n",
    "         \"age\": 22, \n",
    "         \"grade\": 12\n",
    "        \n",
    "    },\n",
    "    \n",
    "     \"student3\" : {\n",
    "        \"name\": \"Jing\",\n",
    "         \"age\": 24, \n",
    "         \"grade\": 12\n",
    "         \n",
    "     },\n",
    "    \n",
    "     \"student4\" : {\n",
    "        \"name\": \"Carlos\",\n",
    "         \"age\": 33, \n",
    "         \"grade\": 10\n",
    "         \n",
    "     }\n",
    "}\n",
    "print(my_dict)\n",
    "\n",
    "                       \n",
    "##\n"
   ]
  },
  {
   "cell_type": "markdown",
   "id": "aef2fb86",
   "metadata": {},
   "source": [
    "\n",
    "\n",
    "\n",
    "**Ex 5** Miriam decided to drop out of the class. Remove her entry in the students dictionary."
   ]
  },
  {
   "cell_type": "code",
   "execution_count": 132,
   "id": "25357fc5",
   "metadata": {},
   "outputs": [
    {
     "name": "stdout",
     "output_type": "stream",
     "text": [
      "{'student2': {'name': 'Tim', 'age': 22, 'grade': 12}, 'student3': {'name': 'Jing', 'age': 24, 'grade': 12}, 'student4': {'name': 'Carlos', 'age': 33, 'grade': 10}}\n"
     ]
    }
   ],
   "source": [
    "my_dict = {\n",
    "    \"student1\" : {\n",
    "        \"name\": \"Miriam\",\n",
    "         \"age\": 25, \n",
    "         \"grade\": 12\n",
    "    },\n",
    "    \n",
    "    \"student2\" : {\n",
    "        \"name\": \"Tim\",\n",
    "         \"age\": 22, \n",
    "         \"grade\": 12\n",
    "        \n",
    "    },\n",
    "    \n",
    "     \"student3\" : {\n",
    "        \"name\": \"Jing\",\n",
    "         \"age\": 24, \n",
    "         \"grade\": 12\n",
    "         \n",
    "     },\n",
    "    \n",
    "     \"student4\" : {\n",
    "        \"name\": \"Carlos\",\n",
    "         \"age\": 33, \n",
    "         \"grade\": 10\n",
    "         \n",
    "     }\n",
    "}\n",
    "\n",
    "\n",
    "my_dict.pop(\"student1\")\n",
    "print(my_dict)"
   ]
  },
  {
   "cell_type": "markdown",
   "id": "706b1cea",
   "metadata": {},
   "source": [
    "**Ex 6** First, generate a sequence of numbers from 1 to 20. Then print **only** the numbers for which the remainder is 0 when being divided by 6. E.g. 12 because 12/6 = 2. The output should be 6, 12 and 18"
   ]
  },
  {
   "cell_type": "code",
   "execution_count": 20,
   "id": "3b95bbe3",
   "metadata": {},
   "outputs": [
    {
     "name": "stdout",
     "output_type": "stream",
     "text": [
      "6\n",
      "12\n",
      "18\n"
     ]
    }
   ],
   "source": [
    "for value in range (1,21):\n",
    "    if value %6== 0: \n",
    "        print(value)\n",
    "        \n",
    "\n",
    "    \n",
    "\n",
    "\n",
    "            "
   ]
  },
  {
   "cell_type": "markdown",
   "id": "e1a52ec7",
   "metadata": {},
   "source": [
    "**Ex 7** Generate  \\\n",
    "\"The holidays will begin on: 25/11/1992\"  \\\n",
    "from the following tuple "
   ]
  },
  {
   "cell_type": "code",
   "execution_count": 3,
   "id": "a5d00a14",
   "metadata": {},
   "outputs": [
    {
     "name": "stdout",
     "output_type": "stream",
     "text": [
      "the holidays will begin on: 25/11/1992\n"
     ]
    }
   ],
   "source": [
    "date = (25, 11, 1992)\n",
    "#F-string in python to format the text\n",
    "# print(date[0])\n",
    "\n",
    "print(f\"the holidays will begin on: {date[0]}/{date[1]}/{date[2]}\")\n",
    "\n",
    "# a dot before the function is called method \n",
    "# a method works on what is before the line \n",
    "\n",
    " "
   ]
  },
  {
   "cell_type": "markdown",
   "id": "6ed8e31c",
   "metadata": {},
   "source": [
    "**Ex 8** Write a function to find whether a given number is even or odd, print out an appropriate message."
   ]
  },
  {
   "cell_type": "code",
   "execution_count": 4,
   "id": "f899c23b",
   "metadata": {},
   "outputs": [
    {
     "name": "stdout",
     "output_type": "stream",
     "text": [
      "supply a number:10\n",
      "10is Even\n"
     ]
    }
   ],
   "source": [
    "inputnumber = int(input(\"supply a number:\"))\n",
    "\n",
    "if (inputnumber % 2) == 0:\n",
    "    print(\"{0}is Even\".format(inputnumber))\n",
    "\n",
    "else:\n",
    "    print(\"{0}is Odd\".format(inputnumber))\n",
    "               \n"
   ]
  },
  {
   "cell_type": "markdown",
   "id": "550ffd8c",
   "metadata": {},
   "source": [
    "**Ex 9** Make a program ask for a name, and then write a greeting using that name.\\\n",
    "HINT: use the input function to get the user input (e.g. name=input(\"Write your username\"))\n",
    "\n",
    "\\\n",
    "The output should look similar to this:\\\n",
    "Please type your username Adrian\\\n",
    "Hello Adrian."
   ]
  },
  {
   "cell_type": "code",
   "execution_count": 1,
   "id": "01f6eaf1",
   "metadata": {},
   "outputs": [
    {
     "name": "stdout",
     "output_type": "stream",
     "text": [
      "what is your name:sharon\n",
      "hello sharon\n"
     ]
    }
   ],
   "source": [
    "inputname = str(input(\"what is your name:\"))\n",
    "\n",
    "\n",
    "print(\"hello\",(inputname))"
   ]
  },
  {
   "cell_type": "markdown",
   "id": "f2432417",
   "metadata": {},
   "source": [
    "**Ex 10** Ask for two numbers and ask what operation to perform on them (+, - , *, /) and display the numbers and the result. Again, use the input function.\\\n",
    "The output should look like this\n",
    "\n",
    "\\\n",
    "Please type two numbers and a mathematical operator to perform on them. All 3 inputs must be separated by a whitespace 1 1.5 +\\\n",
    "The result is: 2.5\n",
    "\n",
    "\n",
    "Please type two numbers and a mathematical operator to perform on them. All 3 inputs must be separated by a whitespace 2 2 *\\\n",
    "The result is: 4.0"
   ]
  },
  {
   "cell_type": "code",
   "execution_count": 5,
   "id": "85472cd4",
   "metadata": {},
   "outputs": [
    {
     "name": "stdout",
     "output_type": "stream",
     "text": [
      "enter first number10\n",
      "enter second number0\n",
      "enter operator\n",
      "+,/,-,*:/\n"
     ]
    },
    {
     "ename": "ZeroDivisionError",
     "evalue": "division by zero",
     "output_type": "error",
     "traceback": [
      "\u001b[0;31m---------------------------------------------------------------------------\u001b[0m",
      "\u001b[0;31mZeroDivisionError\u001b[0m                         Traceback (most recent call last)",
      "\u001b[0;32m/var/folders/ys/mrwsl5m54cn2389tgwx2895w0000gn/T/ipykernel_36878/3877339768.py\u001b[0m in \u001b[0;36m<module>\u001b[0;34m\u001b[0m\n\u001b[1;32m      6\u001b[0m \u001b[0;34m\u001b[0m\u001b[0m\n\u001b[1;32m      7\u001b[0m \u001b[0;32mif\u001b[0m \u001b[0mz\u001b[0m \u001b[0;34m==\u001b[0m \u001b[0;34m'/'\u001b[0m\u001b[0;34m:\u001b[0m\u001b[0;34m\u001b[0m\u001b[0;34m\u001b[0m\u001b[0m\n\u001b[0;32m----> 8\u001b[0;31m     \u001b[0mresult\u001b[0m \u001b[0;34m=\u001b[0m \u001b[0mx\u001b[0m \u001b[0;34m/\u001b[0m \u001b[0my\u001b[0m\u001b[0;34m\u001b[0m\u001b[0;34m\u001b[0m\u001b[0m\n\u001b[0m\u001b[1;32m      9\u001b[0m \u001b[0;32melif\u001b[0m \u001b[0mz\u001b[0m \u001b[0;34m==\u001b[0m \u001b[0;34m'*'\u001b[0m\u001b[0;34m:\u001b[0m\u001b[0;34m\u001b[0m\u001b[0;34m\u001b[0m\u001b[0m\n\u001b[1;32m     10\u001b[0m     \u001b[0mresult\u001b[0m \u001b[0;34m=\u001b[0m \u001b[0mx\u001b[0m \u001b[0;34m*\u001b[0m \u001b[0my\u001b[0m\u001b[0;34m\u001b[0m\u001b[0;34m\u001b[0m\u001b[0m\n",
      "\u001b[0;31mZeroDivisionError\u001b[0m: division by zero"
     ]
    }
   ],
   "source": [
    "x = int(input('enter first number'))\n",
    "y = int(input('enter second number'))\n",
    "\n",
    "print(\"enter operator\")\n",
    "z = input(\"+,/,-,*:\")\n",
    "\n",
    "if z == '/':\n",
    "    result = x / y\n",
    "elif z == '*':\n",
    "    result = x * y\n",
    "elif z == '+':\n",
    "    result = x + y\n",
    "elif z == '-':\n",
    "    result = x - y\n",
    "    \n",
    "print(x,z,y,\":\", result)\n",
    "\n",
    "\n",
    "\n"
   ]
  },
  {
   "cell_type": "markdown",
   "id": "2b26ca0e",
   "metadata": {},
   "source": [
    "**Ex 11** Write a function to calculate the factorial (n!) (e.g. 4! = 4 * 3 * 2 * 1. Perform input control. For example, the input must be a positive integer. Thus, if the input is negative, the function should return an error message. The same applies for inputs with type float or str.\\\n",
    "\n",
    "The output should look like:\\\n",
    "1 = factorial(0)\\\n",
    "1 = factorial(1)\\\n",
    "6 = factorial(3)\\\n",
    "24 = factorial(4)"
   ]
  },
  {
   "cell_type": "code",
   "execution_count": null,
   "id": "b9d92360",
   "metadata": {},
   "outputs": [],
   "source": []
  },
  {
   "cell_type": "markdown",
   "id": "bc9c0ed2",
   "metadata": {},
   "source": [
    "**Ex 12** Write a program (using functions!) that asks the user for a long string containing multiple words. Print back to the user the same string, except with the words in backwards order. For example, say I type the string:\n",
    "\n",
    "  My name is Michele\\\n",
    "Then I would see the string:\n",
    "\n",
    "  Michele is name My\\\n",
    "shown back to me."
   ]
  },
  {
   "cell_type": "code",
   "execution_count": 3,
   "id": "7b60fded",
   "metadata": {},
   "outputs": [
    {
     "name": "stdout",
     "output_type": "stream",
     "text": [
      "enter textfamily\n",
      "ylimaf\n"
     ]
    }
   ],
   "source": [
    "def my_function(x):\n",
    "    return x[::-1]\n",
    "\n",
    "mytxt = my_function(str(input(\"enter text\")))\n",
    "print(mytxt)"
   ]
  },
  {
   "cell_type": "markdown",
   "id": "406d0415",
   "metadata": {},
   "source": [
    "**Ex 13** Write a small function to check if a string is a Palindrome (https://en.wikipedia.org/wiki/Palindrome)\n",
    "\n",
    "The output could look like this:\n",
    "\n",
    "Tenet is a Palindrome\\\n",
    "China is not Palindrome"
   ]
  },
  {
   "cell_type": "code",
   "execution_count": 4,
   "id": "d5276e91",
   "metadata": {},
   "outputs": [
    {
     "name": "stdout",
     "output_type": "stream",
     "text": [
      "yes\n",
      "no\n"
     ]
    }
   ],
   "source": [
    "def isPalindrome(x):\n",
    "    return x == x[::-1]\n",
    "\n",
    "x = \"radar\"\n",
    "ans = isPalindrome(x)\n",
    "\n",
    "if ans:\n",
    "    print(\"yes\")\n",
    "    \n",
    "else:\n",
    "    print(\"no\")\n",
    "    \n",
    "    \n",
    "def isPalindrome(x):\n",
    "    return x == x[::-1]\n",
    "\n",
    "x = \"focus\"\n",
    "ans = isPalindrome(x)\n",
    "\n",
    "if ans:\n",
    "    print(\"yes\")\n",
    "    \n",
    "else:\n",
    "    print(\"no\")\n"
   ]
  }
 ],
 "metadata": {
  "kernelspec": {
   "display_name": "Python 3 (ipykernel)",
   "language": "python",
   "name": "python3"
  },
  "language_info": {
   "codemirror_mode": {
    "name": "ipython",
    "version": 3
   },
   "file_extension": ".py",
   "mimetype": "text/x-python",
   "name": "python",
   "nbconvert_exporter": "python",
   "pygments_lexer": "ipython3",
   "version": "3.9.7"
  }
 },
 "nbformat": 4,
 "nbformat_minor": 5
}
