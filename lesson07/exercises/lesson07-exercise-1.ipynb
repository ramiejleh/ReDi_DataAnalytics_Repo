{
 "cells": [
  {
   "cell_type": "code",
   "execution_count": 1,
   "metadata": {},
   "outputs": [],
   "source": [
    "import numpy as np\n",
    "import matplotlib.pyplot as plt\n",
    "\n",
    "plt.rcParams[\"figure.figsize\"] = (9,4)\n",
    "%matplotlib widget"
   ]
  },
  {
   "cell_type": "markdown",
   "metadata": {},
   "source": [
    "# 1) Usage of random seeds\n",
    "\n",
    "Try to understand the output of the following two cells. What happens if you assign a different integer value to the seed variable?\n"
   ]
  },
  {
   "cell_type": "code",
   "execution_count": 2,
   "metadata": {},
   "outputs": [
    {
     "name": "stdout",
     "output_type": "stream",
     "text": [
      "[0.49671415]\n"
     ]
    }
   ],
   "source": [
    "seed = 42\n",
    "np.random.seed(seed)\n",
    "print(np.random.standard_normal(1))"
   ]
  },
  {
   "cell_type": "code",
   "execution_count": 3,
   "metadata": {},
   "outputs": [
    {
     "name": "stdout",
     "output_type": "stream",
     "text": [
      "[-0.1382643]\n"
     ]
    }
   ],
   "source": [
    "print(np.random.standard_normal(1))"
   ]
  },
  {
   "cell_type": "markdown",
   "metadata": {},
   "source": [
    "# 2) Expectation and variance\n",
    "\n",
    "The following dictionary describes a (discrete) probability function. "
   ]
  },
  {
   "cell_type": "code",
   "execution_count": 4,
   "metadata": {},
   "outputs": [],
   "source": [
    "lottery_outcomes = {\n",
    "        1000:0.2,\n",
    "        500:0.4,\n",
    "        250:0.1,\n",
    "        150:0.05,\n",
    "        75:0.2,\n",
    "        -1000:0.05\n",
    "    }"
   ]
  },
  {
   "cell_type": "markdown",
   "metadata": {},
   "source": [
    "## a) Calculate the expectation and variance of the distribution"
   ]
  },
  {
   "cell_type": "code",
   "execution_count": 18,
   "metadata": {},
   "outputs": [
    {
     "name": "stdout",
     "output_type": "stream",
     "text": [
      "397.5 200493.75\n"
     ]
    }
   ],
   "source": [
    "expected_value = []\n",
    "for val, prob in lottery_outcomes.items():\n",
    "    expected_value.append(val * prob)\n",
    "expected_value = np.sum(expected_value)\n",
    "\n",
    "variance = []\n",
    "for val, prob in lottery_outcomes.items():\n",
    "    variance.append(prob * (val - expected_value) ** 2)\n",
    "variance = np.sum(variance)\n",
    "print(expected_value, variance)"
   ]
  },
  {
   "cell_type": "code",
   "execution_count": 5,
   "metadata": {},
   "outputs": [
    {
     "name": "stdout",
     "output_type": "stream",
     "text": [
      "200493.75 448 397.5\n"
     ]
    }
   ],
   "source": [
    "mu = np.sum([prob*val for val, prob in lottery_outcomes.items()])\n",
    "var = np.sum([prob*(val-mu)**2 for val, prob in lottery_outcomes.items()])\n",
    "\n",
    "print(round(var,2), round(var ** 0.5) ,mu )"
   ]
  },
  {
   "cell_type": "markdown",
   "metadata": {},
   "source": [
    "## b) Use the numpy.random.choice function to draw samples from this distribution"
   ]
  },
  {
   "cell_type": "code",
   "execution_count": 44,
   "metadata": {},
   "outputs": [
    {
     "name": "stdout",
     "output_type": "stream",
     "text": [
      "196575.6544 401.16\n"
     ]
    }
   ],
   "source": [
    "vals = np.array(list(lottery_outcomes.keys()))\n",
    "probs = np.array(list(lottery_outcomes.values()))\n",
    "\n",
    "\n",
    "np.random.seed(41)\n",
    "X = np.random.choice(vals, p=probs, size=10000)\n",
    "# print(X)\n",
    "print(np.var(X), np.mean(X))"
   ]
  },
  {
   "cell_type": "markdown",
   "metadata": {},
   "source": [
    "# 3) Correlation"
   ]
  },
  {
   "cell_type": "markdown",
   "metadata": {},
   "source": [
    "## a) Use the following function to simulate data as\n",
    "$$\n",
    "Y = X^k + \\epsilon,  \\quad \\epsilon \\sim N(0, 1),  X \\sim N(0, 100), \n",
    "$$\n",
    "where k is either 1, 2 or 3. Then calculate the linear correlation between Y and X with the numpy.corrcoef(). How does the correlation coefficient change with the choice of the parameter k"
   ]
  },
  {
   "cell_type": "code",
   "execution_count": 56,
   "metadata": {},
   "outputs": [
    {
     "data": {
      "application/vnd.jupyter.widget-view+json": {
       "model_id": "2a585b57965040408cd110e57f189002",
       "version_major": 2,
       "version_minor": 0
      },
      "text/plain": [
       "Canvas(toolbar=Toolbar(toolitems=[('Home', 'Reset original view', 'home', 'home'), ('Back', 'Back to previous …"
      ]
     },
     "metadata": {},
     "output_type": "display_data"
    },
    {
     "data": {
      "text/plain": [
       "(array([  18.,   79.,  468., 1481., 2630., 2820., 1710.,  631.,  147.,\n",
       "          16.]),\n",
       " array([-382.74976577, -307.82521157, -232.90065737, -157.97610317,\n",
       "         -83.05154897,   -8.12699477,   66.79755942,  141.72211362,\n",
       "         216.64666782,  291.57122202,  366.49577622]),\n",
       " <BarContainer object of 10 artists>)"
      ]
     },
     "execution_count": 56,
     "metadata": {},
     "output_type": "execute_result"
    }
   ],
   "source": [
    "fig, ax = plt.subplots(nrows=2)\n",
    "N = 10000\n",
    "ax[0].hist(np.random.normal(0, 1, N))\n",
    "ax[1].hist(np.random.normal(0, 100, N))"
   ]
  },
  {
   "cell_type": "code",
   "execution_count": 57,
   "metadata": {},
   "outputs": [
    {
     "name": "stdout",
     "output_type": "stream",
     "text": [
      "[0.8979706920270677, -0.0335509993267708, 0.7765282985584152]\n"
     ]
    }
   ],
   "source": [
    "def generate_data(k, size=10000):\n",
    "    X = 10 * np.random.standard_normal(size).reshape(1, -1)\n",
    "    Y =  X ** k + 5 * np.random.standard_normal(size).reshape(1, -1)\n",
    "    \n",
    "    return X, Y\n",
    "\n",
    "corrs = [np.corrcoef(*generate_data(k))[0, 1] for k in range(1, 4)]\n",
    "print(corrs)"
   ]
  },
  {
   "cell_type": "code",
   "execution_count": 58,
   "metadata": {},
   "outputs": [
    {
     "name": "stdout",
     "output_type": "stream",
     "text": [
      "1 0.8896115708443607\n",
      "2 0.006758437799195776\n",
      "3 0.7859932354502629\n"
     ]
    }
   ],
   "source": [
    "for k in [1, 2, 3]:\n",
    "    X, Y = generate_data(k)\n",
    "    corr = np.corrcoef(X, Y)[0, 1]\n",
    "    print(k, corr)"
   ]
  },
  {
   "cell_type": "markdown",
   "metadata": {},
   "source": [
    "## b) Visualise the input (X) and output (Y) of the previously defined equation for k=1, 2 and 3. Try to formulate in words what you see and link it to the calculated correlation coefficients."
   ]
  },
  {
   "cell_type": "code",
   "execution_count": 59,
   "metadata": {},
   "outputs": [
    {
     "data": {
      "application/vnd.jupyter.widget-view+json": {
       "model_id": "c5499a1f52b94cb685d56afbe501d168",
       "version_major": 2,
       "version_minor": 0
      },
      "text/plain": [
       "Canvas(toolbar=Toolbar(toolitems=[('Home', 'Reset original view', 'home', 'home'), ('Back', 'Back to previous …"
      ]
     },
     "metadata": {},
     "output_type": "display_data"
    }
   ],
   "source": [
    "k_range = list(range(1, 4))\n",
    "fig, ax = plt.subplots(nrows=len(k_range), sharex=True)\n",
    "_ = [ax[i].scatter(*generate_data(k)) for i,k in enumerate(k_range)]\n",
    "plt.tight_layout()"
   ]
  }
 ],
 "metadata": {
  "kernelspec": {
   "display_name": "Python 3",
   "language": "python",
   "name": "python3"
  },
  "language_info": {
   "codemirror_mode": {
    "name": "ipython",
    "version": 3
   },
   "file_extension": ".py",
   "mimetype": "text/x-python",
   "name": "python",
   "nbconvert_exporter": "python",
   "pygments_lexer": "ipython3",
   "version": "3.9.1"
  }
 },
 "nbformat": 4,
 "nbformat_minor": 4
}
