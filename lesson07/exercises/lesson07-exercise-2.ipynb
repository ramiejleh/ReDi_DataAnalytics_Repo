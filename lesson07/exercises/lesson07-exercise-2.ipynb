{
 "cells": [
  {
   "cell_type": "code",
   "execution_count": 57,
   "metadata": {},
   "outputs": [],
   "source": [
    "import numpy as np\n",
    "import pandas as pd"
   ]
  },
  {
   "cell_type": "markdown",
   "metadata": {},
   "source": [
    "# 1) Difference between marginal and conditional empirical densities\n",
    "\n",
    "## a) Plot the empirical density (histogram) of the size column and then the conditional densities. What do you see? "
   ]
  },
  {
   "cell_type": "code",
   "execution_count": 58,
   "metadata": {},
   "outputs": [],
   "source": [
    "def generate_data(size=1000, seed=10):\n",
    "    np.random.seed(seed)\n",
    "    group_prob = np.array([0.4, 0.1, 0.5])\n",
    "    group_mean = np.array([5, 10, 15])\n",
    "    \n",
    "    groups = np.random.choice(np.arange(1, len(group_prob) + 1), p=group_prob, size=[size, 1])\n",
    "    \n",
    "    X = group_mean[groups - 1] + np.random.standard_normal([size, 1])\n",
    "\n",
    "\n",
    "    df = pd.DataFrame(data=np.concatenate([groups, X], axis=1), columns=[\"group\", \"size\"])\n",
    "    \n",
    "    return df\n",
    "    \n",
    "    \n",
    "    \n",
    "data = generate_data()        "
   ]
  },
  {
   "cell_type": "markdown",
   "metadata": {},
   "source": [
    "## b) Are the size values correlated between different groups? Why or why not? "
   ]
  },
  {
   "cell_type": "markdown",
   "metadata": {},
   "source": [
    "## c) How would you replace the missing values in the following DataFrame? "
   ]
  },
  {
   "cell_type": "code",
   "execution_count": 59,
   "metadata": {},
   "outputs": [],
   "source": [
    "def generate_data_nas(size=1000, seed=10):\n",
    "    np.random.seed(seed)\n",
    "    group_prob = np.array([0.4, 0.1, 0.5])\n",
    "    group_mean = np.array([5, 10, 15])\n",
    "    \n",
    "    groups = np.random.choice(np.arange(1, len(group_prob) + 1), p=group_prob, size=[size, 1])\n",
    "    \n",
    "    X = group_mean[groups - 1] + np.random.standard_normal([size, 1])\n",
    "    X[np.random.binomial(1, 0.1, size=size).astype(bool), :] = np.nan\n",
    "    \n",
    "    df = pd.DataFrame(data=np.concatenate([groups, X], axis=1), columns=[\"group\", \"size\"])\n",
    "    \n",
    "    \n",
    "    return df\n",
    "    \n",
    "df = generate_data_nas()"
   ]
  },
  {
   "cell_type": "markdown",
   "metadata": {},
   "source": [
    "## 2) Biased vs unbiased estimates of variance (see https://en.wikipedia.org/wiki/Bias_of_an_estimator)\n",
    "\n",
    "Can you show through a simulation study that \n",
    "$$\n",
    "\\hat{\\sigma}^2_{biased} = \\frac{1}{N} \\sum_{i=1}^N (x_i - \\hat{\\mu}_x)^2, \n",
    "$$\n",
    "with $\\hat{\\mu}_x = \\frac{1}{N} \\sum_{i=1}^N x_i$ is a biased estimator of the population variance $\\sigma^2=1$ when \n",
    "$$\n",
    "X \\sim N(0, \\sigma^2)\n",
    "$$\n",
    "and $N = 1000$. Then show that \n",
    "$$\n",
    "\\hat{\\sigma}^2_{unbiased} = \\frac{1}{N - 1} \\sum_{i=1}^N (x_i - \\hat{\\mu}_x)^2\n",
    "$$\n",
    "is an unbiased estimator of $\\sigma^2$."
   ]
  },
  {
   "cell_type": "markdown",
   "metadata": {},
   "source": [
    "a) Start with "
   ]
  },
  {
   "cell_type": "code",
   "execution_count": 60,
   "metadata": {},
   "outputs": [],
   "source": [
    "N = 1000\n",
    "np.random.seed(42)\n",
    "X = np.random.standard_normal(size=N)"
   ]
  },
  {
   "cell_type": "markdown",
   "metadata": {},
   "source": [
    "and calculate the sample variance with the equation (formula) for the BIASED variance estimator "
   ]
  },
  {
   "cell_type": "markdown",
   "metadata": {},
   "source": [
    "b) Repeat the previous step a large number of times (say 10000) while changing the seed every time you generate a new X array. Save each of the calculcated variance estimates in a list (or array)"
   ]
  },
  {
   "cell_type": "markdown",
   "metadata": {},
   "source": [
    "c) Visualise the variance estimates in a histogram. Is the median of the empirical density around 1? "
   ]
  },
  {
   "cell_type": "markdown",
   "metadata": {},
   "source": [
    "d) Repeat the previous steps with the UNBIASED variance estimator"
   ]
  }
 ],
 "metadata": {
  "kernelspec": {
   "display_name": "Python 3",
   "language": "python",
   "name": "python3"
  },
  "language_info": {
   "codemirror_mode": {
    "name": "ipython",
    "version": 3
   },
   "file_extension": ".py",
   "mimetype": "text/x-python",
   "name": "python",
   "nbconvert_exporter": "python",
   "pygments_lexer": "ipython3",
   "version": "3.9.1"
  }
 },
 "nbformat": 4,
 "nbformat_minor": 4
}
