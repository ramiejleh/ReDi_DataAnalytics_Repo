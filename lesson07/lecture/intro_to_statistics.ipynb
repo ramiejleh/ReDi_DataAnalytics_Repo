{
 "cells": [
  {
   "cell_type": "code",
   "execution_count": null,
   "metadata": {},
   "outputs": [],
   "source": []
  },
  {
   "cell_type": "markdown",
   "metadata": {
    "slideshow": {
     "slide_type": "slide"
    }
   },
   "source": [
    "# Statistics\n",
    "\n",
    "- \"... a branch of mathematics dealing with the collection, analysis, interpretation, presentation and organization of data.\" (Wikipedia)\n",
    "- models the real world into mathematical objects (lines, curves, etc.)\n",
    "- reason new knowledge from existing evidence (inference) and state how confident we are about that reasoning (probability)"
   ]
  },
  {
   "cell_type": "markdown",
   "metadata": {
    "slideshow": {
     "slide_type": "fragment"
    }
   },
   "source": [
    "- **Descriptive Statistics**: Summarizing information of a population\n",
    "- **Inferential Statistics**: Predict behavior of population based on a sample. Uses probability to find out the confidence of the predictions"
   ]
  },
  {
   "cell_type": "markdown",
   "metadata": {
    "slideshow": {
     "slide_type": "slide"
    }
   },
   "source": [
    "# Descriptive Statistics - univariate"
   ]
  },
  {
   "cell_type": "markdown",
   "metadata": {
    "slideshow": {
     "slide_type": "slide"
    }
   },
   "source": [
    "## 1. Measures of central tendency\n",
    "- **Mean**: average, sum of observations divided by number of observations\n",
    "- **Median**: observation that falls in the middle of ordered sample, splits sample into 2 when ordered.\n",
    "- **Mode**: most frequent value"
   ]
  },
  {
   "cell_type": "markdown",
   "metadata": {
    "slideshow": {
     "slide_type": "skip"
    }
   },
   "source": [
    "## 2. Measure of position\n",
    "= point at which a given percentage of data fall below or above that point\n",
    "- **Percentile**: the p<sup>th</sup> percentile is the point such that p% of the observations fall below or at that point and (100-p%) fall above it. The median is the 50<sup>th</sup> percentile\n",
    "- **Lower (upper) quartile**: 25<sup>th</sup> (75<sup>th</sup>) percentile\n",
    "- **Outlier**: data point that differs significantly from other observations. Not all outliers are errors!"
   ]
  },
  {
   "cell_type": "markdown",
   "metadata": {
    "slideshow": {
     "slide_type": "slide"
    }
   },
   "source": [
    "## 3. Measures of variability (variation, spread)\n",
    "- **Range**: difference between largest and smallest observation\n",
    "- **Standard Deviation**: deviation of data from measure of center; typical distance of an observation from the mean\n",
    "- **Variance**: another measure of how far observations are spread out from their mean value, calculated as square of standard deviation"
   ]
  },
  {
   "cell_type": "markdown",
   "metadata": {
    "slideshow": {
     "slide_type": "slide"
    }
   },
   "source": [
    "## Standard Deviation - a measure of variability\n",
    "\n",
    "- The **deviation** of an observation $y_{i}$ from the sample mean $\\bar{y}$ is $(y_{i} - \\bar{y})$, the difference between them.\n",
    "\n",
    "- The **standard deviation** $s$ of $n$ observations is:\n",
    "\n",
    "$$s = \\sqrt{\\frac{\\sum (y_{i} - \\bar{y})^{2}}{n-1}}$$\n",
    "\n",
    "- $y_{i}$ = value of an observation\n",
    "- $\\bar{y}$ = sample mean"
   ]
  },
  {
   "cell_type": "markdown",
   "metadata": {
    "slideshow": {
     "slide_type": "slide"
    }
   },
   "source": [
    "## Standard Deviation & Variance - a measure of variability\n",
    "<img src=\"img/variance.png\"  width= \"500\"/>"
   ]
  },
  {
   "cell_type": "markdown",
   "metadata": {
    "slideshow": {
     "slide_type": "slide"
    }
   },
   "source": [
    "# An Example"
   ]
  },
  {
   "cell_type": "code",
   "execution_count": 30,
   "metadata": {
    "slideshow": {
     "slide_type": "subslide"
    }
   },
   "outputs": [
    {
     "data": {
      "text/html": [
       "<div>\n",
       "<style scoped>\n",
       "    .dataframe tbody tr th:only-of-type {\n",
       "        vertical-align: middle;\n",
       "    }\n",
       "\n",
       "    .dataframe tbody tr th {\n",
       "        vertical-align: top;\n",
       "    }\n",
       "\n",
       "    .dataframe thead th {\n",
       "        text-align: right;\n",
       "    }\n",
       "</style>\n",
       "<table border=\"1\" class=\"dataframe\">\n",
       "  <thead>\n",
       "    <tr style=\"text-align: right;\">\n",
       "      <th></th>\n",
       "      <th>state</th>\n",
       "      <th>county</th>\n",
       "      <th>Donald Trump %</th>\n",
       "      <th>Joe Biden %</th>\n",
       "    </tr>\n",
       "  </thead>\n",
       "  <tbody>\n",
       "    <tr>\n",
       "      <th>0</th>\n",
       "      <td>Alabama</td>\n",
       "      <td>Autauga County</td>\n",
       "      <td>72.557697</td>\n",
       "      <td>27.442303</td>\n",
       "    </tr>\n",
       "    <tr>\n",
       "      <th>1</th>\n",
       "      <td>Alabama</td>\n",
       "      <td>Baldwin County</td>\n",
       "      <td>77.268271</td>\n",
       "      <td>22.731729</td>\n",
       "    </tr>\n",
       "    <tr>\n",
       "      <th>2</th>\n",
       "      <td>Alabama</td>\n",
       "      <td>Barbour County</td>\n",
       "      <td>53.860893</td>\n",
       "      <td>46.139107</td>\n",
       "    </tr>\n",
       "    <tr>\n",
       "      <th>3</th>\n",
       "      <td>Alabama</td>\n",
       "      <td>Bibb County</td>\n",
       "      <td>79.118915</td>\n",
       "      <td>20.881085</td>\n",
       "    </tr>\n",
       "    <tr>\n",
       "      <th>4</th>\n",
       "      <td>Alabama</td>\n",
       "      <td>Blount County</td>\n",
       "      <td>90.347702</td>\n",
       "      <td>9.652298</td>\n",
       "    </tr>\n",
       "  </tbody>\n",
       "</table>\n",
       "</div>"
      ],
      "text/plain": [
       "     state          county  Donald Trump %  Joe Biden %\n",
       "0  Alabama  Autauga County       72.557697    27.442303\n",
       "1  Alabama  Baldwin County       77.268271    22.731729\n",
       "2  Alabama  Barbour County       53.860893    46.139107\n",
       "3  Alabama     Bibb County       79.118915    20.881085\n",
       "4  Alabama   Blount County       90.347702     9.652298"
      ]
     },
     "execution_count": 30,
     "metadata": {},
     "output_type": "execute_result"
    }
   ],
   "source": [
    "import pandas as pd\n",
    "df = pd.read_csv(\"data/us_election_2020_processed\")\n",
    "\n",
    "df.head()"
   ]
  },
  {
   "cell_type": "code",
   "execution_count": 31,
   "metadata": {
    "slideshow": {
     "slide_type": "slide"
    }
   },
   "outputs": [
    {
     "data": {
      "text/plain": [
       "count    4631.000000\n",
       "mean       40.464452\n",
       "std        18.566377\n",
       "min         0.000000\n",
       "25%        25.220761\n",
       "50%        38.541804\n",
       "75%        53.658537\n",
       "max       100.000000\n",
       "Name: Joe Biden %, dtype: float64"
      ]
     },
     "execution_count": 31,
     "metadata": {},
     "output_type": "execute_result"
    },
    {
     "data": {
      "image/png": "[encoded data removed]",
      "text/plain": [
       "<Figure size 432x288 with 1 Axes>"
      ]
     },
     "metadata": {
      "needs_background": "light"
     },
     "output_type": "display_data"
    }
   ],
   "source": [
    "df = df['Joe Biden %']\n",
    "df.plot.hist(bins=50)\n",
    "df.describe()"
   ]
  },
  {
   "cell_type": "markdown",
   "metadata": {
    "slideshow": {
     "slide_type": "slide"
    }
   },
   "source": [
    "# 4.  Population & Sample\n",
    "- **Population**: total set of subjects of interest in a study\n",
    "- **Sample**: subset of population on which data is collected"
   ]
  },
  {
   "cell_type": "markdown",
   "metadata": {
    "slideshow": {
     "slide_type": "slide"
    }
   },
   "source": [
    "##  Representative samples \n",
    "\n",
    "- Is the sample representative?\n",
    "- What is the probability that the sample is equal to the population\n",
    "\n",
    "- If x% of a sample of people have Y, it does **NOT** automatically mean that x% of people have Y\n",
    "\n",
    "<img src=\"img/repr_sample.png\"  width= \"600\"/>"
   ]
  },
  {
   "cell_type": "markdown",
   "metadata": {
    "slideshow": {
     "slide_type": "subslide"
    }
   },
   "source": [
    "- A sample is representative if the variation is the same in the sample as in the population\n",
    "- How do you measure variation?\n",
    "    - Mean\n",
    "    - Deviation from mean "
   ]
  },
  {
   "cell_type": "markdown",
   "metadata": {
    "slideshow": {
     "slide_type": "slide"
    }
   },
   "source": [
    "### Population & Sampling Exercise"
   ]
  },
  {
   "cell_type": "markdown",
   "metadata": {
    "slideshow": {
     "slide_type": "slide"
    }
   },
   "source": [
    "# 5. Random Variable\n",
    "\n",
    "- variable whose values depend on the outcomes of a random experiment e.g. coin flip, voting poll\n",
    "- random, because outcome/value is unclear until experiment is performed ($\\neq$ variable in algebra, where the value can be calculated and every time you will get the same result)\n",
    "- each possible value/outcome has a probability assigned to it\n",
    "- **Probability distribution**: shows possible outcomes/values a random variable can have and their probabilities\n",
    "\n",
    "- example: mean of your sample is a random variable. Every time you draw a different sample, the mean varies. If you draw a lot of samples, you can make an estimation about the mean of the population if you make assumptions about the form of the population e.g. the values in the population are **normally distributed**"
   ]
  },
  {
   "attachments": {
    "image-2.png": {
     "image/png": "[encoded data removed]"
    },
    "image.png": {
     "image/png": "[encoded data removed]"
    }
   },
   "cell_type": "markdown",
   "metadata": {},
   "source": [
    "### Example -- Expected value of discrete random variables\n",
    "\n",
    "\n",
    "![image.png](attachment:image.png)\n",
    "\n",
    "The expected value of this random variable, denoted by E[X],\n",
    "\n",
    "![image-2.png](attachment:image-2.png)\n",
    "\n",
    "Consider the broader scope. Let’s say we select 10 values from this random variable. The total expected value will be 16 (6 times 2 and 4 times 1).\n"
   ]
  },
  {
   "cell_type": "markdown",
   "metadata": {},
   "source": [
    "### Example -- Expected value of continuous random variables\n",
    "\n",
    "The expected value of a continuous random variable is calculated with the same logic but using different methods. Since continuous random variables can take uncountably infinitely many values, we cannot talk about a variable taking a specific value. We rather focus on value ranges.\n",
    "\n"
   ]
  },
  {
   "attachments": {
    "image-2.png": {
     "image/png": "[encoded data removed]"
    },
    "image-3.png": {
     "image/png": "[encoded data removed]"
    },
    "image-4.png": {
     "image/png": "[encoded data removed]"
    },
    "image-5.png": {
     "image/png": "[encoded data removed]"
    },
    "image-6.png": {
     "image/png": "[encoded data removed]"
    },
    "image-7.png": {
     "image/png": "[encoded data removed]"
    },
    "image-8.png": {
     "image/png": "[encoded data removed]"
    },
    "image-9.png": {
     "image/png": "[encoded data removed]"
    },
    "image.png": {
     "image/png": "[encoded data removed]"
    }
   },
   "cell_type": "markdown",
   "metadata": {},
   "source": [
    "### 6. Correlation, Covariance, Causality\n",
    "\n",
    "![image.png](attachment:image.png)\n",
    "\n",
    "The population correlation coefficient ![image-3.png](attachment:image-3.png) between two random variables ![image-4.png](attachment:image-4.png) and ![image-5.png](attachment:image-5.png) with expected values ![image-6.png](attachment:image-6.png) and ![image-7.png](attachment:image-7.png) and standard deviations ![image-8.png](attachment:image-8.png) and ![image-9.png](attachment:image-9.png) is defined as\n",
    "![image-2.png](attachment:image-2.png)"
   ]
  },
  {
   "cell_type": "markdown",
   "metadata": {
    "slideshow": {
     "slide_type": "slide"
    }
   },
   "source": [
    "# 7. Normal Distribution\n",
    "\n",
    "- type of continuous probability distribution for a random variable\n",
    "- often used in statistics when real distribution of variable is unknown because it proved to be a pretty accurate description of a lot of populations\n",
    "\n",
    "<img src=\"img/normal_distribution.png\"  width= \"600\"/>"
   ]
  },
  {
   "cell_type": "markdown",
   "metadata": {
    "slideshow": {
     "slide_type": "skip"
    }
   },
   "source": [
    "## Further Resources:\n",
    "- https://learn.datacamp.com/courses/statistical-thinking-in-python-part-1"
   ]
  }
 ],
 "metadata": {
  "celltoolbar": "Slideshow",
  "kernelspec": {
   "display_name": "Python 3",
   "language": "python",
   "name": "python3"
  },
  "language_info": {
   "codemirror_mode": {
    "name": "ipython",
    "version": 3
   },
   "file_extension": ".py",
   "mimetype": "text/x-python",
   "name": "python",
   "nbconvert_exporter": "python",
   "pygments_lexer": "ipython3",
   "version": "3.9.1"
  }
 },
 "nbformat": 4,
 "nbformat_minor": 4
}
