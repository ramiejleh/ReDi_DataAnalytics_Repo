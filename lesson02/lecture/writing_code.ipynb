{
 "cells": [
  {
   "cell_type": "markdown",
   "metadata": {},
   "source": [
    "# How to approach writing code\n",
    "\n",
    "Writing code involves - very broadly speaking - these steps:\n",
    "\n",
    "- Making an overview/blueprint/layout of your program/script\n",
    "- Breaking a larger problem into several smaller parts (and then making sure that each small part works as intended)\n",
    "- Implementing each of the small parts (which may involve changing the original blueprint)\n",
    "\n",
    "But don't forget: At the end of the day, you have to find your own way of doing things!"
   ]
  },
  {
   "cell_type": "markdown",
   "metadata": {},
   "source": [
    "### All in one loop:   \n",
    "(example taken from the pension fund scraping project)"
   ]
  },
  {
   "cell_type": "code",
   "execution_count": 2,
   "metadata": {},
   "outputs": [],
   "source": [
    "# Function to be called from the main script:\n",
    "def create_stock_list(stock_info_file) -> list:\n",
    "    final_list = []\n",
    "    with open(stock_info_file) as csv_file:\n",
    "        csv_reader = list(csv.reader(csv_file, delimiter=';'))\n",
    "        for row in csv_reader[1:]:\n",
    "            for character_index in range(len(row[0])):\n",
    "                if re.search('\\s\\s', element[character_index:character_index+2]):\n",
    "                    last_character = int(character_index)\n",
    "                    new_element = element[:last_character]\n",
    "            final_list.append([new_element, round(float(row[4]))])\n",
    "    return final_list"
   ]
  },
  {
   "cell_type": "markdown",
   "metadata": {},
   "source": [
    "### With helper functions:"
   ]
  },
  {
   "cell_type": "code",
   "execution_count": null,
   "metadata": {},
   "outputs": [],
   "source": [
    "# Helper functions:\n",
    "def _get_formatted_value(value: str) -> str:\n",
    "    value_as_float = float(value)\n",
    "    return round(value_as_float)\n",
    "\n",
    "\n",
    "def _get_company_name(element: str) -> str:\n",
    "    for character_index in range(len(element)):\n",
    "        if re.search('\\s\\s', element[character_index:character_index+2]):\n",
    "            last_character = int(character_index)\n",
    "            return element[:last_character]\n",
    "\n",
    "\n",
    "# Function to be called from the main script:\n",
    "def create_stock_list(stock_info_file) -> list:\n",
    "    final_list = []\n",
    "    with open(stock_info_file) as csv_file:\n",
    "        csv_reader = list(csv.reader(csv_file, delimiter=';'))\n",
    "        for row in csv_reader[1:]:\n",
    "            final_list.append(_get_company_name(row[1], _get_formatted_value(row[4])])\n",
    "    return final_list\n",
    "\n"
   ]
  },
  {
   "cell_type": "code",
   "execution_count": null,
   "metadata": {},
   "outputs": [],
   "source": []
  },
  {
   "cell_type": "code",
   "execution_count": null,
   "metadata": {},
   "outputs": [],
   "source": []
  },
  {
   "cell_type": "code",
   "execution_count": null,
   "metadata": {},
   "outputs": [],
   "source": []
  }
 ],
 "metadata": {
  "kernelspec": {
   "display_name": "Python 3",
   "language": "python",
   "name": "python3"
  },
  "language_info": {
   "codemirror_mode": {
    "name": "ipython",
    "version": 3
   },
   "file_extension": ".py",
   "mimetype": "text/x-python",
   "name": "python",
   "nbconvert_exporter": "python",
   "pygments_lexer": "ipython3",
   "version": "3.8.10"
  }
 },
 "nbformat": 4,
 "nbformat_minor": 4
}
