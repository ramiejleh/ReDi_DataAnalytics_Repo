{
 "cells": [
  {
   "cell_type": "markdown",
   "id": "daa84298",
   "metadata": {},
   "source": [
    "# Fun with Lego\n",
    "\n",
    "In this folder there is a CSV file with all Lego sets from 1950 to 2017. Your homework is to use this file to answer the questions below. Just as for the in-class exercise, you should be able to solve everything without any non-standard libraries (except for the optional matplotlib exercise), but you are more than welcome to use any other libraries.\n",
    "\n",
    "Answer the following questions and put your answer in a dictionary, with the first word of each line (e.g. 'all_pieces' or 'year_most') as the key and your answer as the value. Your homework must also include the code that you used to find the answers.\n",
    "\n",
    "- 'all_pieces': If you had one of each of the sets, how many pieces of Lego would you have then?\n",
    "- 'year_most': In which year was the highest number of sets released?\n",
    "- 'average_pieces': What is the average number of pieces in all sets, rounded to 1 decimal?\n",
    "- 'most_used_word': Which word is used most often in the names of the sets?\n",
    "\n",
    "You can find more information about the dataset here:\n",
    "https://www.kaggle.com/rtatman/lego-database\n",
    "\n",
    "Optional matplotlib exercise:\n",
    "- Plot the years from 1950-2017 on the x-axis and the median number of pieces of a set of the given year on the y-axis.\n",
    "\n",
    "Optional themes exercises (for these, you will also need the themes.csv file):\n",
    "Each set is part of a theme, and each theme is also part of one or more parent themes. For example, the set 60141-1 is part of theme 80 (Police), which in turn is part of theme 67 (Classic Town), which again in turn is part of theme 50 (Town). Theme 50, however, is a parent theme, and therefore there are no other themes 'above' it.\n",
    "- Create a dictionary with all parent themes as keys, and a list of all their sub-themes as values. Here, you should only discern between a parent theme and any subtheme. Thus, theme 50 would be a parent theme, and both theme 80 and 67 should be listed on the same level.\n",
    "- Create a dictionary with all parent themes as keys and the number of the sets that are part of it. Here, you have to make sure that each set is only counted once!\n",
    "\n",
    "\n",
    "\n"
   ]
  }
 ],
 "metadata": {
  "kernelspec": {
   "display_name": "Python 3 (ipykernel)",
   "language": "python",
   "name": "python3"
  },
  "language_info": {
   "codemirror_mode": {
    "name": "ipython",
    "version": 3
   },
   "file_extension": ".py",
   "mimetype": "text/x-python",
   "name": "python",
   "nbconvert_exporter": "python",
   "pygments_lexer": "ipython3",
   "version": "3.8.8"
  }
 },
 "nbformat": 4,
 "nbformat_minor": 5
}
