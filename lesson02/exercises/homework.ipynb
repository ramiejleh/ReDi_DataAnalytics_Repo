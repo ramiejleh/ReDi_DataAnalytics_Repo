{
 "cells": [
  {
   "cell_type": "markdown",
   "id": "daa84298",
   "metadata": {},
   "source": [
    "# Fun with Lego\n",
    "\n",
    "In this folder there is a CSV file with all Lego sets from 1950 to 2017. Your homework is to use this file to answer the questions below. Just as for the in-class exercise, you should be able to solve everything without any non-standard libraries (except for the optional matplotlib exercise), but you are more than welcome to use any other libraries.\n",
    "\n",
    "Answer the following questions and put your answer in a dictionary, with the first word of each line (e.g. 'all_pieces' or 'year_most') as the key and your answer as the value. Your homework must also include the code that you used to find the answers.\n",
    "\n",
    "- 'all_pieces': If you had one of each of the sets, how many pieces of Lego would you have then?\n",
    "- 'year_most': In which year was the highest number of sets released?\n",
    "- 'average_pieces': What is the average number of pieces in all sets, rounded to 1 decimal?\n",
    "- 'most_used_word': Which word is used most often in the names of the sets?\n",
    "\n",
    "You can find more information about the dataset here:\n",
    "https://www.kaggle.com/rtatman/lego-database\n",
    "\n",
    "Optional matplotlib exercise:\n",
    "- Plot the years from 1950-2017 on the x-axis and the median number of pieces of a set of the given year on the y-axis.\n",
    "\n",
    "Optional themes exercises (for these, you will also need the themes.csv file):\n",
    "Each set is part of a theme, and each theme is also part of one or more parent themes. For example, the set 60141-1 is part of theme 80 (Police), which in turn is part of theme 67 (Classic Town), which again in turn is part of theme 50 (Town). Theme 50, however, is a parent theme, and therefore there are no other themes 'above' it.\n",
    "- Create a dictionary with all parent themes as keys, and a list of all their sub-themes as values. Here, you should only discern between a parent theme and any subtheme. Thus, theme 50 would be a parent theme, and both theme 80 and 67 should be listed on the same level.\n",
    "- Create a dictionary with all parent themes as keys and the number of the sets that are part of it. Here, you have to make sure that each set is only counted once!\n",
    "\n",
    "\n",
    "\n"
   ]
  },
  {
   "cell_type": "code",
   "execution_count": null,
   "id": "f90cd608",
   "metadata": {},
   "outputs": [],
   "source": [
    "import csv\n",
    "\n",
    "file_path = 'legosets.csv'\n",
    "\n",
    "with open(file_path) as file:\n",
    "    reader = csv.reader(file)\n",
    "    print(reader) # Note what this prints!\n",
    "    header = next(reader)\n",
    "    legosets = [row for row in reader]"
   ]
  },
  {
   "cell_type": "code",
   "execution_count": null,
   "id": "71bad228",
   "metadata": {},
   "outputs": [],
   "source": [
    "header"
   ]
  },
  {
   "cell_type": "code",
   "execution_count": null,
   "id": "70a118cf",
   "metadata": {},
   "outputs": [],
   "source": [
    "# Create a dictionary for our solutions\n",
    "\n",
    "solutions = {}"
   ]
  },
  {
   "cell_type": "code",
   "execution_count": null,
   "id": "eef0b9fd",
   "metadata": {},
   "outputs": [],
   "source": [
    "# Get all pieces\n",
    "\n",
    "pieces = 0\n",
    "\n",
    "for row in legosets:\n",
    "    pieces += int(row[4])\n",
    "    \n",
    "solutions['all_pieces'] = pieces\n",
    "solutions['all_pieces']"
   ]
  },
  {
   "cell_type": "code",
   "execution_count": null,
   "id": "a04d66d8",
   "metadata": {},
   "outputs": [],
   "source": [
    "# Year with most releases\n",
    "# I show 2 ways of doing this\n",
    "\n",
    "# No imports:\n",
    "\n",
    "years_all_sets = []\n",
    "\n",
    "for row in legosets:\n",
    "    years_all_sets.append(row[2])\n",
    "    \n",
    "print(years_all_sets)\n",
    "print(max(years_all_sets)) # This just gives us the highest number, which is 2017!\n",
    "\n",
    "max_year = 0\n",
    "max_count = 0\n",
    "\n",
    "for year in set(years_all_sets):\n",
    "    this_year = years_all_sets.count(year)\n",
    "    if this_year > max_count:\n",
    "        max_count = this_year\n",
    "        max_year = year\n",
    "\n",
    "print(max_count)\n",
    "print(max_year)\n",
    "\n",
    "# (You could also iterate with a for-loop with range(1950, 2017+1), but then \n",
    "# what happens if we update the dataset with recent years?)"
   ]
  },
  {
   "cell_type": "code",
   "execution_count": null,
   "id": "a1f1e30b",
   "metadata": {},
   "outputs": [],
   "source": [
    "# with collections.Counter\n",
    "\n",
    "from collections import Counter\n",
    "\n",
    "set_counter = Counter(years_all_sets)\n",
    "\n",
    "print('All years:')\n",
    "print(set_counter)\n",
    "print('###')\n",
    "\n",
    "print(set_counter.most_common(1))\n",
    "\n",
    "solutions['year_most'] = int(set_counter.most_common(1)[0][0])\n",
    "\n",
    "\n",
    "print('###')\n",
    "print(f'Year with most releases: {solutions[\"year_most\"]}') \n"
   ]
  },
  {
   "cell_type": "code",
   "execution_count": null,
   "id": "f456fb7e",
   "metadata": {},
   "outputs": [],
   "source": [
    "solutions"
   ]
  },
  {
   "cell_type": "code",
   "execution_count": null,
   "id": "f5ded9b6",
   "metadata": {},
   "outputs": [],
   "source": [
    "# Average number of pieces\n",
    "\n",
    "avg_pieces = round(solutions['all_pieces'] / len(legosets), 1)\n",
    "\n",
    "solutions['average_pieces'] = avg_pieces\n",
    "\n",
    "avg_pieces"
   ]
  },
  {
   "cell_type": "code",
   "execution_count": null,
   "id": "b6954ad1",
   "metadata": {},
   "outputs": [],
   "source": [
    "# Most used word\n",
    "\n",
    "# One way of doing it\n",
    "\n",
    "all_words = ''\n",
    "\n",
    "for row in legosets:\n",
    "    all_words += row[1] + ' '\n",
    "    \n",
    "print(len(all_words))\n",
    "\n",
    "word_list = all_words.split()\n",
    "\n",
    "# Now we can use the same approach as before\n",
    "\n",
    "word_counter = Counter(word_list)\n",
    "\n",
    "print(word_counter.most_common(10))\n",
    "\n",
    "two_most_common = word_counter.most_common(2)\n",
    "\n",
    "solutions['most_used_word'] = two_most_common[1][0]\n",
    "\n",
    "solutions"
   ]
  },
  {
   "cell_type": "code",
   "execution_count": null,
   "id": "da77373a",
   "metadata": {},
   "outputs": [],
   "source": [
    "# matplotlib exercise:\n",
    "\n",
    "# Median of pieces/year:\n",
    "\n"
   ]
  },
  {
   "cell_type": "code",
   "execution_count": null,
   "id": "04a2af4b",
   "metadata": {},
   "outputs": [],
   "source": []
  },
  {
   "cell_type": "code",
   "execution_count": null,
   "id": "8fd35a0f",
   "metadata": {},
   "outputs": [],
   "source": []
  },
  {
   "cell_type": "code",
   "execution_count": null,
   "id": "a18e5578",
   "metadata": {},
   "outputs": [],
   "source": [
    "import statistics"
   ]
  },
  {
   "cell_type": "code",
   "execution_count": null,
   "id": "e3e251ab",
   "metadata": {},
   "outputs": [],
   "source": [
    "# Create year:number of pieces/set dictionary\n",
    "year_pieces_dict = {}\n",
    "for year in set(years_all_sets):\n",
    "    this_year = []\n",
    "    for row in legosets:\n",
    "        if row[2] == year:\n",
    "            this_year.append(int(row[4]))\n",
    "    year_pieces_dict[int(year)] = statistics.median(this_year)\n",
    "\n",
    "\n",
    "\n"
   ]
  },
  {
   "cell_type": "code",
   "execution_count": null,
   "id": "48dbfe3d",
   "metadata": {},
   "outputs": [],
   "source": [
    "for year in sorted(year_pieces_dict):\n",
    "    print(f'Year: {year}, pieces: {year_pieces_dict[year]}')"
   ]
  },
  {
   "cell_type": "code",
   "execution_count": null,
   "id": "3e5a7086",
   "metadata": {},
   "outputs": [],
   "source": [
    "import matplotlib.pyplot as plt\n",
    "\n",
    "xpoints = sorted(year_pieces_dict)\n",
    "ypoints = [year_pieces_dict[year] for year in sorted(year_pieces_dict)]\n",
    "\n",
    "\n",
    "plt.plot(xpoints, ypoints)\n",
    "plt.xlabel('Year')\n",
    "plt.ylabel('Median number of pieces')\n",
    "plt.yticks(range(0, 130, 10))\n",
    "plt.show()"
   ]
  },
  {
   "cell_type": "code",
   "execution_count": null,
   "id": "371ad512",
   "metadata": {},
   "outputs": [],
   "source": [
    "# Dict with parent themes:\n",
    "\n",
    "# Create a dictionary with all parent themes as keys, and a list of all their sub-themes as values. \n",
    "# Here, you should only discern between a parent theme and any subtheme. Thus, theme 50 would be a parent theme, \n",
    "# and both theme 80 and 67 should be listed on the same level.\n",
    "\n",
    "themes_file = 'themes.csv'\n",
    "\n",
    "with open(themes_file) as file:\n",
    "    reader = csv.reader(file)\n",
    "    header = next(reader)\n",
    "    themes = [row for row in reader]\n",
    "    \n",
    "header"
   ]
  },
  {
   "cell_type": "code",
   "execution_count": null,
   "id": "134116cc",
   "metadata": {},
   "outputs": [],
   "source": [
    "parent_themes = []\n",
    "\n",
    "for row in themes:\n",
    "    if not row[2]:\n",
    "        parent_themes.append([row[0], row[1]])\n",
    "        \n",
    "parent_themes"
   ]
  },
  {
   "cell_type": "code",
   "execution_count": null,
   "id": "d6223d0c",
   "metadata": {},
   "outputs": [],
   "source": [
    "def get_child_themes(parent_id):\n",
    "    child_themes = []\n",
    "    def get_subtheme(theme_id):\n",
    "        print(f'Function called with theme id {theme_id}')\n",
    "        for row in themes:\n",
    "            if row[2] == theme_id:\n",
    "                print(f'Theme id: {theme_id}, row with theme: {row[0]}, {row[1]}')\n",
    "                child_themes.append(row[1])\n",
    "                get_subtheme(row[0])\n",
    "                print('reached the end')\n",
    "    get_subtheme(parent_id)\n",
    "    return child_themes"
   ]
  },
  {
   "cell_type": "code",
   "execution_count": null,
   "id": "8f532494",
   "metadata": {},
   "outputs": [],
   "source": [
    "all_subthemes = {}"
   ]
  },
  {
   "cell_type": "code",
   "execution_count": null,
   "id": "5f55762b",
   "metadata": {},
   "outputs": [],
   "source": [
    "test_themes = [parent_themes[0]]\n",
    "for theme in parent_themes:\n",
    "    all_subthemes[theme[1]] = get_child_themes(theme[0])\n",
    "    \n",
    "    \n",
    "    "
   ]
  },
  {
   "cell_type": "code",
   "execution_count": null,
   "id": "b30e3200",
   "metadata": {},
   "outputs": [],
   "source": [
    "all_subthemes"
   ]
  },
  {
   "cell_type": "code",
   "execution_count": null,
   "id": "7e079eb3",
   "metadata": {},
   "outputs": [],
   "source": [
    "# Get number of sets of each main theme:\n",
    "\n",
    "# Helper functions:\n",
    "\n",
    "# Wrong solution - returns first instance of a word (take a look at 'Construction')\n",
    "def get_theme_ids(theme):\n",
    "    def get_id(subtheme):\n",
    "        for row in themes:\n",
    "            if row[1] == subtheme:\n",
    "                return row[0]\n",
    "    theme_ids = [get_id(theme)]\n",
    "    subthemes = all_subthemes[theme]\n",
    "    for subtheme in subthemes:\n",
    "        theme_ids.append([subtheme, get_id(subtheme)])\n",
    "    return theme_ids\n",
    "\n",
    "for theme in all_subthemes:\n",
    "    print(get_theme_ids(theme))\n",
    "    print('\\n\\n###')"
   ]
  },
  {
   "cell_type": "code",
   "execution_count": null,
   "id": "25ac7d8d",
   "metadata": {},
   "outputs": [],
   "source": [
    "# Modified implementation of the recursive function used above:\n",
    "def get_theme_ids(theme):\n",
    "    for parent_theme in parent_themes:\n",
    "        if theme == parent_theme[1]:\n",
    "            theme_id = parent_theme[0]\n",
    "            break\n",
    "    child_ids = [theme_id]\n",
    "    def get_subtheme(theme_id):\n",
    "        for row in themes:\n",
    "            if row[2] == theme_id:\n",
    "                child_ids.append(row[0])\n",
    "                get_subtheme(row[0])\n",
    "    get_subtheme(theme_id)\n",
    "    return child_ids"
   ]
  },
  {
   "cell_type": "code",
   "execution_count": null,
   "id": "45e58175",
   "metadata": {},
   "outputs": [],
   "source": [
    "for theme in all_subthemes:\n",
    "    print(theme, get_theme_ids(theme))\n",
    "    "
   ]
  },
  {
   "cell_type": "code",
   "execution_count": null,
   "id": "52c44cce",
   "metadata": {},
   "outputs": [],
   "source": []
  },
  {
   "cell_type": "code",
   "execution_count": null,
   "id": "ff84aa35",
   "metadata": {},
   "outputs": [],
   "source": []
  },
  {
   "cell_type": "code",
   "execution_count": null,
   "id": "6cf9960a",
   "metadata": {},
   "outputs": [],
   "source": []
  },
  {
   "cell_type": "code",
   "execution_count": null,
   "id": "74ddbe9b",
   "metadata": {},
   "outputs": [],
   "source": []
  },
  {
   "cell_type": "code",
   "execution_count": null,
   "id": "f976fb38",
   "metadata": {},
   "outputs": [],
   "source": []
  },
  {
   "cell_type": "code",
   "execution_count": null,
   "id": "f3e04b78",
   "metadata": {},
   "outputs": [],
   "source": [
    "# From here, the code is the same:"
   ]
  },
  {
   "cell_type": "code",
   "execution_count": null,
   "id": "f1e817de",
   "metadata": {},
   "outputs": [],
   "source": [
    "def set_is_in_subtheme(legoset, theme_ids):\n",
    "    for set_id in theme_ids:\n",
    "        if set_id == legoset[3]:\n",
    "            return True\n",
    "    return False\n",
    "        "
   ]
  },
  {
   "cell_type": "code",
   "execution_count": null,
   "id": "db99579c",
   "metadata": {},
   "outputs": [],
   "source": [
    "theme_nums = {}\n",
    "set_counter = 0\n",
    "\n",
    "for theme in all_subthemes:\n",
    "    theme_ids = get_theme_ids(theme)\n",
    "    num_sets = [legoset for legoset in legosets if set_is_in_subtheme(legoset, theme_ids)]\n",
    "    print(theme)\n",
    "    set_counter += len(num_sets)\n",
    "    print(f'Number of sets: {set_counter}')\n",
    "    print(num_sets)\n",
    "    print('\\n\\n\\n###')\n",
    "    "
   ]
  },
  {
   "cell_type": "code",
   "execution_count": null,
   "id": "973a6587",
   "metadata": {},
   "outputs": [],
   "source": []
  },
  {
   "cell_type": "code",
   "execution_count": null,
   "id": "5fcb2c17",
   "metadata": {},
   "outputs": [],
   "source": []
  },
  {
   "cell_type": "code",
   "execution_count": null,
   "id": "5c34655b",
   "metadata": {},
   "outputs": [],
   "source": []
  },
  {
   "cell_type": "code",
   "execution_count": null,
   "id": "51f1da4b",
   "metadata": {},
   "outputs": [],
   "source": []
  },
  {
   "cell_type": "code",
   "execution_count": null,
   "id": "86ced72b",
   "metadata": {},
   "outputs": [],
   "source": []
  }
 ],
 "metadata": {
  "kernelspec": {
   "display_name": "Python 3 (ipykernel)",
   "language": "python",
   "name": "python3"
  },
  "language_info": {
   "codemirror_mode": {
    "name": "ipython",
    "version": 3
   },
   "file_extension": ".py",
   "mimetype": "text/x-python",
   "name": "python",
   "nbconvert_exporter": "python",
   "pygments_lexer": "ipython3",
   "version": "3.8.8"
  }
 },
 "nbformat": 4,
 "nbformat_minor": 5
}
